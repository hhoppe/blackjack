{
 "cells": [
  {
   "cell_type": "markdown",
   "id": "027a5876",
   "metadata": {},
   "source": [
    "# Blackjack Notebook (bjnb)\n",
    "\n",
    "[Hugues Hoppe](https://hhoppe.com/)\n",
    "&nbsp;&nbsp;&mdash;&nbsp;\n",
    "&nbsp; [**[Open in Colab]**](https://colab.research.google.com/github/hhoppe/blackjack/blob/main/blackjack.ipynb)\n",
    "&nbsp; [**[in Kaggle]**](https://www.kaggle.com/notebooks/welcome?src=https://github.com/hhoppe/blackjack/blob/main/blackjack.ipynb)\n",
    "&nbsp; [**[in MyBinder]**](https://mybinder.org/v2/gh/hhoppe/blackjack/main?filepath=blackjack.ipynb)\n",
    "&nbsp; [**[in DeepNote]**](https://deepnote.com/launch?url=https%3A%2F%2Fgithub.com%2Fhhoppe%2Fblackjack%2Fblob%2Fmain%2Fblackjack.ipynb)\n",
    "&nbsp; [**[GitHub source]**](https://github.com/hhoppe/blackjack)\n",
    "\n",
    "Blackjack &mdash; _\"the most widely played casino banking game in the world\"_."
   ]
  },
  {
   "cell_type": "markdown",
   "id": "33010b71",
   "metadata": {},
   "source": [
    "**Goals**:\n",
    "\n",
    "- Solution methods for both:\n",
    "\n",
    "  1. [Probabilistic analysis](#Probabilistic-analysis)\n",
    "     of blackjack actions and outcomes under many strategies, and\n",
    "\n",
    "  2. [Monte Carlo simulation](#Monte-Carlo-simulation)\n",
    "     for cut-card effects and precise split-hand rewards.\n",
    "\n",
    "- Support for many [rule variations](#Define-Rules)\n",
    "  \\(12 parameters including #decks, dealer hit soft17, cut-card, ...).\n",
    "\n",
    "- Optimal [action tables](#Tables-for-basic-strategy) for\n",
    "  [basic strategy](#Define-Action-and-Strategy)\n",
    "  under any rules, reproducing\n",
    "  [Wikipedia](https://en.wikipedia.org/wiki/Blackjack#Basic_strategy) and\n",
    "  [WizardOfOdds](https://wizardofodds.com/games/blackjack/strategy/calculator/) results.\n",
    "\n",
    "- Six [composition-dependent strategies](#Define-Action-and-Strategy)\n",
    "  based on progressively greater levels of *attention*.\n",
    "  <!--(initial cards, all hand cards, cards in *prior split hands*, ...).-->\n",
    "\n",
    "- Computation of\n",
    "  [house edge](#House-edge-results)\n",
    "  under any rules, with either basic or composition-dependent strategies.\n",
    "\n",
    "- Comparisons with results from online\n",
    "  [hand calculators](#Hand-calculator-results) and\n",
    "  [house edge calculators](#House-edge-results).\n",
    "\n",
    "- Novel analysis and visualization of the\n",
    "  [*cut-card effect*](#Effect-of-using-a-cut-card)\n",
    "  and its [surprising oscillations](#cut-card-graph).\n",
    "\n",
    "- Open-source Python, sped up with jitting (\\~30x) and multiprocessing (\\~10x),\n",
    "  simulating ~$10^{8}$ hands/s.\n",
    "\n",
    "- GPU implementation using `numba.cuda`, simulating almost $10^{10}$ hands/s."
   ]
  },
  {
   "cell_type": "markdown",
   "id": "87298d7d",
   "metadata": {},
   "source": [
    "**Versions**:\n",
    "- 1.0 (March 2022): use probabilistic analysis for basic strategy tables and\n",
    "  approximate house edge.\n",
    "- 2.0 (July 2022): add Monte Carlo simulation, hand analysis,\n",
    "  and cut-card analysis.\n",
    "- 3.0 (January 2025): add CUDA implementation of simulation."
   ]
  },
  {
   "cell_type": "markdown",
   "id": "0ffd0c6c",
   "metadata": {},
   "source": [
    "**Running this Jupyter notebook**:\n",
    "- The notebook requires Python 3.10 or later.\n",
    "- We recommend starting a Jupyter server on a local machine with a fast multi-core CPU. <br/>\n",
    "  (The notebook can also be [executed on a Colab server](\n",
    "   https://colab.research.google.com/github/hhoppe/blackjack/blob/main/blackjack.ipynb),\n",
    "  but it runs ~20x slower due to the older, shared processor.)\n",
    "- Configure a Linux environment (e.g.,\n",
    "  [Windows Subsystem for Linux](https://docs.microsoft.com/en-us/windows/wsl/install)):\n",
    "\n",
    "```bash\n",
    "    sudo apt install python3-pip\n",
    "    python3 -m pip install --upgrade pip\n",
    "    pip install jupyterlab jupytext\n",
    "    jupyter lab --no-browser\n",
    "```\n",
    "\n",
    "- Open the URL (output by `jupyter lab`) using a web browser (e.g., Google Chrome on Windows).\n",
    "- Load the notebook (`blackjack.ipynb` file).\n",
    "- Evaluate all cells in `Code library` and then selectively evaluate `Results`.\n",
    "- Adjust the `EFFORT` global variable to trade off speed and accuracy."
   ]
  },
  {
   "cell_type": "code",
   "execution_count": 1,
   "id": "a391bd87",
   "metadata": {
    "execution": {
     "iopub.execute_input": "2025-01-18T05:57:34.371965Z",
     "iopub.status.busy": "2025-01-18T05:57:34.371385Z",
     "iopub.status.idle": "2025-01-18T05:57:34.374747Z",
     "shell.execute_reply": "2025-01-18T05:57:34.374169Z",
     "shell.execute_reply.started": "2025-01-18T05:57:34.371949Z"
    },
    "tags": []
   },
   "outputs": [],
   "source": [
    "# ** Future to-do?\n",
    "# For CUDA, make action_table.nbytes=144000 somehow fit into 64K constant memory.\n",
    "# Try numba.njit(nogil=True) and multithreading; https://stackoverflow.com/a/45612308.\n",
    "# Using prob or sim, compute house edge over many parameters and fit a function.\n",
    "# Shared lru_cache: https://stackoverflow.com/a/55816091 and https://stackoverflow.com/a/13694262."
   ]
  },
  {
   "cell_type": "markdown",
   "id": "671df8b6",
   "metadata": {},
   "source": [
    "# Code library"
   ]
  },
  {
   "cell_type": "markdown",
   "id": "bfc1ce4b",
   "metadata": {},
   "source": [
    "## Imports"
   ]
  },
  {
   "cell_type": "code",
   "execution_count": 2,
   "id": "229e751b",
   "metadata": {
    "execution": {
     "iopub.execute_input": "2025-01-18T05:57:34.375671Z",
     "iopub.status.busy": "2025-01-18T05:57:34.375527Z",
     "iopub.status.idle": "2025-01-18T05:57:35.674142Z",
     "shell.execute_reply": "2025-01-18T05:57:35.673324Z",
     "shell.execute_reply.started": "2025-01-18T05:57:34.375657Z"
    },
    "tags": []
   },
   "outputs": [],
   "source": [
    "!pip install -q hhoppe-tools matplotlib more-itertools numba numpy tqdm"
   ]
  },
  {
   "cell_type": "code",
   "execution_count": 3,
   "id": "3bd23b90-9471-497c-849c-8e12d6153e2d",
   "metadata": {
    "execution": {
     "iopub.execute_input": "2025-01-18T05:57:35.675018Z",
     "iopub.status.busy": "2025-01-18T05:57:35.674862Z",
     "iopub.status.idle": "2025-01-18T05:57:35.788532Z",
     "shell.execute_reply": "2025-01-18T05:57:35.787741Z",
     "shell.execute_reply.started": "2025-01-18T05:57:35.675004Z"
    }
   },
   "outputs": [],
   "source": [
    "!if [ ! -f random32.py ]; then wget https://github.com/hhoppe/blackjack/raw/main/random32.py; fi"
   ]
  },
  {
   "cell_type": "code",
   "execution_count": 4,
   "id": "aa33f7c5",
   "metadata": {
    "execution": {
     "iopub.execute_input": "2025-01-18T05:57:35.789821Z",
     "iopub.status.busy": "2025-01-18T05:57:35.789508Z",
     "iopub.status.idle": "2025-01-18T05:57:36.255480Z",
     "shell.execute_reply": "2025-01-18T05:57:36.254745Z",
     "shell.execute_reply.started": "2025-01-18T05:57:35.789804Z"
    },
    "tags": []
   },
   "outputs": [],
   "source": [
    "from __future__ import annotations\n",
    "\n",
    "import collections\n",
    "from collections.abc import Callable, Iterable, Iterator, Mapping\n",
    "import contextlib\n",
    "import dataclasses\n",
    "import enum\n",
    "import functools\n",
    "import itertools\n",
    "import logging\n",
    "import math\n",
    "import multiprocessing\n",
    "import os\n",
    "import pathlib\n",
    "import pickle\n",
    "import re\n",
    "import subprocess\n",
    "import sys\n",
    "import textwrap\n",
    "import time\n",
    "import typing\n",
    "from typing import Any, Literal, Union\n",
    "import unittest.mock\n",
    "import urllib.parse\n",
    "import urllib.request\n",
    "import warnings\n",
    "\n",
    "import hhoppe_tools as hh\n",
    "import matplotlib.pyplot as plt\n",
    "import more_itertools\n",
    "import numba\n",
    "from numba import cuda\n",
    "import numba.cuda.random\n",
    "import numpy as np\n",
    "import numpy.typing\n",
    "import tqdm\n",
    "import random32"
   ]
  },
  {
   "cell_type": "code",
   "execution_count": 5,
   "id": "02c7a998-a698-4b98-a911-c629740c5bde",
   "metadata": {
    "execution": {
     "iopub.execute_input": "2025-01-18T05:57:36.256724Z",
     "iopub.status.busy": "2025-01-18T05:57:36.256269Z",
     "iopub.status.idle": "2025-01-18T05:57:36.260015Z",
     "shell.execute_reply": "2025-01-18T05:57:36.259419Z",
     "shell.execute_reply.started": "2025-01-18T05:57:36.256705Z"
    }
   },
   "outputs": [],
   "source": [
    "def omit_cell_output() -> None:\n",
    "  \"\"\"Return None so that the cell does not output anything.\"\"\"\n",
    "  return None"
   ]
  },
  {
   "cell_type": "code",
   "execution_count": 6,
   "id": "6c0d8b9e-128d-4431-8ce8-a53f7c29e3d0",
   "metadata": {
    "execution": {
     "iopub.execute_input": "2025-01-18T05:57:36.261936Z",
     "iopub.status.busy": "2025-01-18T05:57:36.261655Z",
     "iopub.status.idle": "2025-01-18T05:57:36.270521Z",
     "shell.execute_reply": "2025-01-18T05:57:36.269796Z",
     "shell.execute_reply.started": "2025-01-18T05:57:36.261923Z"
    },
    "tags": []
   },
   "outputs": [],
   "source": [
    "# To archive the notebook, run with value 2.\n",
    "EFFORT = typing.cast(Literal[0, 1, 2, 3, 4], hh.get_env_int('EFFORT', 1))\n",
    "\"\"\"Controls the breadth and precision of the notebook experiments:\n",
    "- 0: Fast subset of experiments, at lowest precision (~50 s).\n",
    "- 1: Fast subset of experiments, at low precision (~80 s).\n",
    "- 2: Most experiments, at normal precision (~17 minutes).\n",
    "- 3: All experiments, at high precision (~?7 hours).\n",
    "- 4: Run at even higher precision (>40 hours), likely on isolated experiments.\"\"\"\n",
    "assert 0 <= EFFORT <= 4\n",
    "\n",
    "RECOMPUTE_CUT_CARD_ANALYSIS = False\n",
    "\"\"\"If True, perform expensive recomputation of cut-card analysis for results graphs.\"\"\"\n",
    "\n",
    "omit_cell_output()"
   ]
  },
  {
   "cell_type": "code",
   "execution_count": 7,
   "id": "5725b60c",
   "metadata": {
    "execution": {
     "iopub.execute_input": "2025-01-18T05:57:36.271966Z",
     "iopub.status.busy": "2025-01-18T05:57:36.271369Z",
     "iopub.status.idle": "2025-01-18T05:57:36.282648Z",
     "shell.execute_reply": "2025-01-18T05:57:36.281900Z",
     "shell.execute_reply.started": "2025-01-18T05:57:36.271949Z"
    }
   },
   "outputs": [],
   "source": [
    "_F = typing.TypeVar('_F', bound=Callable[..., Any])\n",
    "_T = typing.TypeVar('_T')"
   ]
  },
  {
   "cell_type": "code",
   "execution_count": 8,
   "id": "2e2fbe5b",
   "metadata": {
    "execution": {
     "iopub.execute_input": "2025-01-18T05:57:36.283827Z",
     "iopub.status.busy": "2025-01-18T05:57:36.283450Z",
     "iopub.status.idle": "2025-01-18T05:57:36.292121Z",
     "shell.execute_reply": "2025-01-18T05:57:36.291380Z",
     "shell.execute_reply.started": "2025-01-18T05:57:36.283809Z"
    }
   },
   "outputs": [],
   "source": [
    "_NDArray = numpy.typing.NDArray[Any]\n",
    "_CudaArray = Any  # cuda.cudadrv.devicearray.DeviceNDArray"
   ]
  },
  {
   "cell_type": "code",
   "execution_count": 9,
   "id": "a522dd79",
   "metadata": {
    "execution": {
     "iopub.execute_input": "2025-01-18T05:57:36.293501Z",
     "iopub.status.busy": "2025-01-18T05:57:36.293075Z",
     "iopub.status.idle": "2025-01-18T05:57:36.301897Z",
     "shell.execute_reply": "2025-01-18T05:57:36.301143Z",
     "shell.execute_reply.started": "2025-01-18T05:57:36.293485Z"
    }
   },
   "outputs": [],
   "source": [
    "check_eq = hh.check_eq\n",
    "_ORIGINAL_GLOBALS = list(globals())  # Store current set of variable names.\n",
    "_ = np.seterr(all='raise')  # Let all numpy warnings raise errors.\n",
    "hh.start_timing_notebook_cells()"
   ]
  },
  {
   "cell_type": "code",
   "execution_count": 10,
   "id": "47ae3cf0",
   "metadata": {
    "execution": {
     "iopub.execute_input": "2025-01-18T05:57:36.303007Z",
     "iopub.status.busy": "2025-01-18T05:57:36.302665Z",
     "iopub.status.idle": "2025-01-18T05:57:36.311032Z",
     "shell.execute_reply": "2025-01-18T05:57:36.310364Z",
     "shell.execute_reply.started": "2025-01-18T05:57:36.302989Z"
    }
   },
   "outputs": [],
   "source": [
    "if not hh.in_notebook():\n",
    "  # Disable graphics plot windows when running this notebook as a script.\n",
    "  plt.show = lambda *args, **kwargs: None"
   ]
  },
  {
   "cell_type": "code",
   "execution_count": 11,
   "id": "e1dcdd07-f480-486c-ac03-412b4f15cc93",
   "metadata": {
    "execution": {
     "iopub.execute_input": "2025-01-18T05:57:36.312084Z",
     "iopub.status.busy": "2025-01-18T05:57:36.311770Z",
     "iopub.status.idle": "2025-01-18T05:57:36.321042Z",
     "shell.execute_reply": "2025-01-18T05:57:36.320246Z",
     "shell.execute_reply.started": "2025-01-18T05:57:36.312071Z"
    }
   },
   "outputs": [],
   "source": [
    "Card = int\n",
    "\"\"\"Card value satisfying 1 <= card <= 10, where ace is 1.\"\"\"\n",
    "\n",
    "Cards = tuple[Card, ...]\n",
    "\"\"\"Sequence of cards, sometimes sorted in ascending order.\"\"\"\n",
    "\n",
    "Hand = tuple[Cards, Card]\n",
    "\"\"\"Tuple `(player_cards, dealer1)` where `player_cards[:2]` and `player_cards[2:]` are sorted.\"\"\"\n",
    "\n",
    "State = tuple[Cards, Card, Cards]  # (*hand, split_cards)\n",
    "\"\"\"Drawn cards `(player_cards, dealer1, split_cards) = (*hand, split_cards)` involved in a hand:\n",
    "- `player_cards = (card1, card2, *sorted_other_player_cards)`: with `card1 <= card2`.\n",
    "- `dealer1`: is the dealer upcard.\n",
    "- `split_cards = (a, ..., a, *sorted_other_split_cards)`: contains the cards drawn in earlier\n",
    "  split hands, where `a` is the card value in the original card pair `(a, a)` that was split.\"\"\"\n",
    "\n",
    "CARD_VALUES = 1, 2, 3, 4, 5, 6, 7, 8, 9, 10, 10, 10, 10  # (Ace has value 1 but can count as 11.)\n",
    "NUM_SUITS = 4\n",
    "DECK_SIZE = NUM_SUITS * len(CARD_VALUES)\n",
    "UNIFORM_CARD_PROB = {card: CARD_VALUES.count(card) / len(CARD_VALUES) for card in CARD_VALUES}\n",
    "DEFAULT_NUM_DECKS = 6\n",
    "SHOE_SIZE_FOR_INFINITE_DECKS_CPU = 6 * DECK_SIZE\n",
    "SHOE_SIZE_FOR_INFINITE_DECKS_CUDA = 2 * DECK_SIZE\n",
    "SHOE_SIZE_FOR_SINGLE_HAND_INFINITE_DECKS = 20\n",
    "SPLIT_SECOND_CARDS_SIZE = 12\n",
    "PLUS_MINUS_CHAR = '\\u00b1'  # Used to indicate precision in Monte Carlo simulation results.\n",
    "PLUS_MINUS_STANDARD_DEVIATIONS = 2.0  # Results precision bracket; 95% probability within 2 sdv.\n",
    "WARNING_STANDARD_DEVIATIONS = 3.0  # Warning '*' in results; 99.7% probability within 3 sdv.\n",
    "AVERAGE_CARDS_PER_HAND = 5.42  # Determined empirically (for one player against dealer).\n",
    "DISALLOWED = -1e10  # Large negative reward indicating an illegal action."
   ]
  },
  {
   "cell_type": "code",
   "execution_count": 12,
   "id": "97c66b72",
   "metadata": {
    "execution": {
     "iopub.execute_input": "2025-01-18T05:57:36.322386Z",
     "iopub.status.busy": "2025-01-18T05:57:36.321871Z",
     "iopub.status.idle": "2025-01-18T05:57:36.332809Z",
     "shell.execute_reply": "2025-01-18T05:57:36.332074Z",
     "shell.execute_reply.started": "2025-01-18T05:57:36.322370Z"
    }
   },
   "outputs": [],
   "source": [
    "def numba_njit(*args: Any, **kwargs: Any) -> Callable[[_F], _F]:\n",
    "  \"\"\"Typed replacement for non-bare `@numba.njit()` decorator.\"\"\"\n",
    "  assert kwargs or not (len(args) == 1 and callable(args[0]))\n",
    "\n",
    "  def decorator(func: _F) -> _F:\n",
    "    jitted_func: _F = numba.njit(*args, **kwargs)(func)\n",
    "    return jitted_func\n",
    "\n",
    "  return decorator"
   ]
  },
  {
   "cell_type": "code",
   "execution_count": 13,
   "id": "db33ccc8",
   "metadata": {
    "execution": {
     "iopub.execute_input": "2025-01-18T05:57:36.333774Z",
     "iopub.status.busy": "2025-01-18T05:57:36.333592Z",
     "iopub.status.idle": "2025-01-18T05:57:36.342068Z",
     "shell.execute_reply": "2025-01-18T05:57:36.341409Z",
     "shell.execute_reply.started": "2025-01-18T05:57:36.333759Z"
    }
   },
   "outputs": [],
   "source": [
    "def multiprocessing_is_available() -> bool:\n",
    "  \"\"\"Return True if multiprocessing may enable a performance improvement.\"\"\"\n",
    "  has_cpu_limit = os.environ.get('CPU_LIMIT') == '1.0'  # Kubernetes on mybinder.org\n",
    "  return (\n",
    "      'fork' in multiprocessing.get_all_start_methods()\n",
    "      and multiprocessing.cpu_count() > 2\n",
    "      and not has_cpu_limit\n",
    "  )"
   ]
  },
  {
   "cell_type": "code",
   "execution_count": 14,
   "id": "7ba2b183",
   "metadata": {
    "execution": {
     "iopub.execute_input": "2025-01-18T05:57:36.343195Z",
     "iopub.status.busy": "2025-01-18T05:57:36.342771Z",
     "iopub.status.idle": "2025-01-18T05:57:36.353780Z",
     "shell.execute_reply": "2025-01-18T05:57:36.353041Z",
     "shell.execute_reply.started": "2025-01-18T05:57:36.343180Z"
    }
   },
   "outputs": [],
   "source": [
    "@contextlib.contextmanager\n",
    "def temporary_effort(effort: int) -> Iterator[None]:\n",
    "  \"\"\"Temporarily set the global `EFFORT` to `effort` and clear all memoization caches.\"\"\"\n",
    "  assert 0 <= effort <= 4\n",
    "  hh.clear_functools_caches(globals())\n",
    "  try:\n",
    "    with hh.temporary_assignment(globals(), EFFORT=effort):\n",
    "      yield\n",
    "  finally:\n",
    "    hh.clear_functools_caches(globals())"
   ]
  },
  {
   "cell_type": "code",
   "execution_count": 15,
   "id": "a6ea7ca6",
   "metadata": {
    "execution": {
     "iopub.execute_input": "2025-01-18T05:57:36.354935Z",
     "iopub.status.busy": "2025-01-18T05:57:36.354591Z",
     "iopub.status.idle": "2025-01-18T05:57:36.363099Z",
     "shell.execute_reply": "2025-01-18T05:57:36.362446Z",
     "shell.execute_reply.started": "2025-01-18T05:57:36.354916Z"
    }
   },
   "outputs": [],
   "source": [
    "def show_kernel_memory_resident_set_size() -> None:\n",
    "  \"\"\"Print the memory size of the IPython kernel.\"\"\"\n",
    "  if sys.platform != 'linux':\n",
    "    warnings.warn('show_kernel_memory_resident_set_size is only implemented for linux.')\n",
    "    return\n",
    "  command = f'ps -p {os.getpid()} -o rss --no-headers'\n",
    "  output = subprocess.run(command, shell=True, check=True, capture_output=True, text=True).stdout\n",
    "  rss_kb = int(output)\n",
    "  print(f'{rss_kb*1024/1e9:.1f} GiB')"
   ]
  },
  {
   "cell_type": "code",
   "execution_count": 16,
   "id": "6b418de5-65b7-469b-afa9-c6150da7b3b1",
   "metadata": {
    "execution": {
     "iopub.execute_input": "2025-01-18T05:57:36.364310Z",
     "iopub.status.busy": "2025-01-18T05:57:36.363926Z",
     "iopub.status.idle": "2025-01-18T05:57:36.372717Z",
     "shell.execute_reply": "2025-01-18T05:57:36.372040Z",
     "shell.execute_reply.started": "2025-01-18T05:57:36.364295Z"
    }
   },
   "outputs": [],
   "source": [
    "def show_cuda_memory_usage() -> None:\n",
    "  \"\"\"Print the amount of GPU memory allocated by CUDA.\"\"\"\n",
    "  if cuda.is_available():\n",
    "    free, total = cuda.current_context().get_memory_info()\n",
    "    used = total - free\n",
    "    print(f'CUDA memory usage {used / 1024**3:.1f} GiB  ({free / 1024**3:.1f} GiB free)')\n",
    "  else:\n",
    "    print('CUDA is not available')"
   ]
  },
  {
   "cell_type": "code",
   "execution_count": 17,
   "id": "d4fa612c",
   "metadata": {
    "execution": {
     "iopub.execute_input": "2025-01-18T05:57:36.373889Z",
     "iopub.status.busy": "2025-01-18T05:57:36.373655Z",
     "iopub.status.idle": "2025-01-18T05:57:36.382338Z",
     "shell.execute_reply": "2025-01-18T05:57:36.381591Z",
     "shell.execute_reply.started": "2025-01-18T05:57:36.373870Z"
    }
   },
   "outputs": [],
   "source": [
    "def tqdm_stdout(*args: Any, **kwargs: Any) -> Any:\n",
    "  \"\"\"Progress bar customized to show a short ascii text line on stdout.\"\"\"\n",
    "  if not hh.in_notebook():\n",
    "    kwargs['disable'] = True\n",
    "  kwargs |= dict(leave=False)\n",
    "  return tqdm.tqdm(\n",
    "      *args,\n",
    "      file=sys.stdout,\n",
    "      ascii=True,\n",
    "      mininterval=0.2,\n",
    "      smoothing=0.1,\n",
    "      bar_format='{desc}:{percentage:3.0f}% [{elapsed}<{remaining}]',\n",
    "      **kwargs,\n",
    "  )\n",
    "\n",
    "\n",
    "# Notes: tqdm uses '\\r' and overwrites with spaces (annoying for copy-paste);\n",
    "# jupyterlab does not correctly handle more than two backspaces ('\\b');\n",
    "# `tqdm.notebook.tqdm()`, which displays HTML, does not work with multiprocessing and does not\n",
    "# erase completely; `progressbar2` is poorly documented; `rich` requires ipywidget.\n",
    "\n",
    "omit_cell_output()"
   ]
  },
  {
   "cell_type": "code",
   "execution_count": 18,
   "id": "bbe90845",
   "metadata": {
    "execution": {
     "iopub.execute_input": "2025-01-18T05:57:36.383415Z",
     "iopub.status.busy": "2025-01-18T05:57:36.383230Z",
     "iopub.status.idle": "2025-01-18T05:57:36.396936Z",
     "shell.execute_reply": "2025-01-18T05:57:36.396035Z",
     "shell.execute_reply.started": "2025-01-18T05:57:36.383399Z"
    },
    "lines_to_next_cell": 2
   },
   "outputs": [
    {
     "data": {
      "text/html": [
       "<style>.jp-Cell.jp-MarkdownCell, .jp-RenderedMarkdown, .jp-RenderedLatex {max-width: 1016px!important;}</style>"
      ],
      "text/plain": [
       "<IPython.core.display.HTML object>"
      ]
     },
     "metadata": {},
     "output_type": "display_data"
    }
   ],
   "source": [
    "hh.adjust_jupyterlab_markdown_width()"
   ]
  },
  {
   "cell_type": "markdown",
   "id": "ee8137fb",
   "metadata": {
    "lines_to_next_cell": 2
   },
   "source": [
    "## Define `Rules`\n",
    "<a name=\"Define-Rules\"></a>\n",
    "\n",
    "The `Rules` class below captures the many\n",
    "[variations in blackjack rules](https://en.wikipedia.org/wiki/Blackjack#Rule_variations_and_effects_on_house_edge).\n",
    "\n",
    "The class fields default to values used in\n",
    "the [Wikipedia page](https://en.wikipedia.org/wiki/Blackjack).\n",
    "\n",
    "Another useful reference is a\n",
    "[comparison of Las Vegas casinos](https://wizardofvegas.com/guides/blackjack-survey/)\n",
    "which uses the base rules:\n",
    "- BJ pays 3:2;\n",
    "- one bet lost to a dealer's BJ;\n",
    "- you may double down on any two cards but not after splitting;\n",
    "- you may split any pair;\n",
    "- you may resplit any pair except aces to make up to four hands;\n",
    "- split aces receive one card each;\n",
    "- insurance;\n",
    "- no surrender.\n",
    "\n",
    "For a 6-deck shoe, those base rules correspond to\n",
    "`Rules.make(double_after_split=False, late_surrender=False)`.\n",
    "\n",
    "Their table of casinos (171 rows) lists common rule variations:\n",
    "- \"ds\": (`double_after_split=True`): 148 out of 171 (frequent).\n",
    "- \"ls\": (`late_surrender=True`): 56 out of 171.\n",
    "- \"rsa\": (`resplit_aces=True`): 50 out of 171.\n",
    "- \"s17\": (`hit_soft17=False`): 28 out of 171 (opposite of \"h17\").\n",
    "\n",
    "The casino listed with the lowest house edge is:\n",
    "\"Caesars Palace; 0.26%; 6 decks; s17,ds,ls,rsa\". <br/>\n",
    "This corresponds to `Rules.make(hit_soft17=False, resplit_aces=True)`."
   ]
  },
  {
   "cell_type": "code",
   "execution_count": 19,
   "id": "2dd2ef0a",
   "metadata": {
    "execution": {
     "iopub.execute_input": "2025-01-18T05:57:36.398119Z",
     "iopub.status.busy": "2025-01-18T05:57:36.397902Z",
     "iopub.status.idle": "2025-01-18T05:57:36.404246Z",
     "shell.execute_reply": "2025-01-18T05:57:36.403530Z",
     "shell.execute_reply.started": "2025-01-18T05:57:36.398102Z"
    }
   },
   "outputs": [],
   "source": [
    "# \"In games involving a shoe, about 3/4 of the deck is used before the cut card is reached and\n",
    "# the deck is shuffled.\"\n",
    "# \"In Pitch Blackjack (i.e., single deck or double deck), the cut card is inserted closer to the\n",
    "# top of the deck, about 1/2 of the way down.  In most cases, the deck is shuffled after\n",
    "# each hand of play.\"\n",
    "def default_cut_card(num_decks: float) -> int:\n",
    "  \"\"\"Return the default number of cards in front of the cut-card for a shoe with `num_decks`.\"\"\"\n",
    "  match num_decks:\n",
    "    case math.inf:\n",
    "      return 0  # (The implementation plays a fixed number of hands per shoe.)\n",
    "    case 1:\n",
    "      return DECK_SIZE // 2  # The cut-card is at the middle of the deck.\n",
    "    case 2:\n",
    "      return 2 * DECK_SIZE - DECK_SIZE // 2  # The cut-card is 0.5 decks from the rear of the shoe.\n",
    "    case _:\n",
    "      assert num_decks > 2 and num_decks == int(num_decks)\n",
    "      return int(num_decks) * DECK_SIZE - 78  # The cut-card is 1.5 decks from the rear."
   ]
  },
  {
   "cell_type": "code",
   "execution_count": 20,
   "id": "cb77f7ba",
   "metadata": {
    "execution": {
     "iopub.execute_input": "2025-01-18T05:57:36.405410Z",
     "iopub.status.busy": "2025-01-18T05:57:36.405198Z",
     "iopub.status.idle": "2025-01-18T05:57:36.415264Z",
     "shell.execute_reply": "2025-01-18T05:57:36.414536Z",
     "shell.execute_reply.started": "2025-01-18T05:57:36.405392Z"
    }
   },
   "outputs": [],
   "source": [
    "@hh.terse_str\n",
    "@dataclasses.dataclass(frozen=True)\n",
    "class Rules:\n",
    "  \"\"\"Blackjack rules (many variations).\"\"\"\n",
    "\n",
    "  num_decks: float = DEFAULT_NUM_DECKS\n",
    "  \"\"\"Number of decks in the shoe, e.g., 1, 2, 4, 6, 8, or math.inf.\"\"\"\n",
    "\n",
    "  blackjack_payout: float = 1.5\n",
    "  \"\"\"Payout for player ace-ten; 6/5 or 1 greatly increase the house edge.\"\"\"\n",
    "\n",
    "  hit_soft17: bool = True\n",
    "  \"\"\"Whether the dealer hits (rather than stands) on a soft total of 17 (denoted \"s17\"/\"h17\").\n",
    "  False is favorable to the player.\"\"\"\n",
    "\n",
    "  obo: bool = True\n",
    "  \"\"\"On dealer blackjack, player loses Original Bet Only (i.e., not DOUBLE or SPLIT bets).\n",
    "  If True, when the dealer's upcard is 10 or ace, the dealer first peeks at their hole card\n",
    "  before any player action to detect a dealer bj, and if present, collects the bets from players\n",
    "  who do not themselves have bj.\"\"\"\n",
    "\n",
    "  late_surrender: bool = True\n",
    "  \"\"\"Allow the player to SURRENDER, i.e. forfeit 50% of the bet if the dealer does not have\n",
    "  blackjack (denoted \"ls\").  Should likely be False if obo=False.\"\"\"\n",
    "\n",
    "  double_min_total: Literal[0, 9, 10] = 0\n",
    "  \"\"\"If zero, the player may DOUBLE on any two cards.  Otherwise, the player must have a hard\n",
    "  total of at least this value (either 9 or 10); value 9 is the \"Reno rule\"; value 10 is the\n",
    "  \"European rule\".  Because the optimal strategy tables do not suggest \"DOUBLE\" for a hard\n",
    "  total > 11, value 9 is also equivalent to the \"DOUBLE on 9-11\" rule.\"\"\"\n",
    "\n",
    "  double_after_split: bool = True\n",
    "  \"\"\"Allow DOUBLE as the first action of splitting a pair (denoted \"ds\").\"\"\"\n",
    "\n",
    "  split_to_num_hands: float = 4\n",
    "  \"\"\"Total number of hands that can result from splitting pairs.  Can be 0 or any value >= 2.\n",
    "  Common values include 0 (no splitting), 2 (single split), 4, or math.inf.\"\"\"\n",
    "\n",
    "  resplit_aces: bool = False\n",
    "  \"\"\"Whether aces can be split more than once (denoted \"rsa\").\"\"\"\n",
    "\n",
    "  hit_split_aces: bool = False\n",
    "  \"\"\"Allow hitting after splitting aces.  If False (the default), a single card is added to each\n",
    "  split ace and the player must stand (which is unfavorable to the player).\"\"\"\n",
    "\n",
    "  double_split_aces: bool = False\n",
    "  \"\"\"Allow doubling after splitting aces.  Rare.\"\"\"\n",
    "\n",
    "  cut_card: int = -1\n",
    "  \"\"\"Number of shoe cards in front of the cut-card.  The shoe is reshuffled after completion of\n",
    "  the hand during which the cut-card is exposed.  The default is a positive value that depends\n",
    "  on `num_decks`.  The minimum value is 0, in which case the shoe is reshuffled after every hand,\n",
    "  as in a continuous shuffling machine; for improved efficiency, we simulate a fixed (>1) number\n",
    "  of hands and this is still equivalent to continuous shuffling.\"\"\"\n",
    "\n",
    "  num_players: int = 1\n",
    "  \"\"\"The number of players affects how quickly the cut-card is reached.  Not yet implemented.\"\"\"\n",
    "\n",
    "  def __post_init__(self) -> None:\n",
    "    \"\"\"Adjust cut_card and check validity of constructed rules.\"\"\"\n",
    "    num_decks = self.num_decks\n",
    "    assert num_decks == math.inf or (num_decks == int(num_decks) and num_decks >= 1)\n",
    "    if self.cut_card == -1:\n",
    "      object.__setattr__(self, 'cut_card', default_cut_card(num_decks))\n",
    "    assert self.blackjack_payout >= 1.0\n",
    "    assert self.double_min_total in (0, 9, 10)\n",
    "    splitn = self.split_to_num_hands\n",
    "    assert splitn in (0, math.inf) or (splitn == int(splitn) and splitn >= 2)\n",
    "    assert 0 <= self.cut_card <= (0 if num_decks == math.inf else num_decks * DECK_SIZE)\n",
    "    assert self.num_players == 1  # More than one player is not yet implemented.\n",
    "    # Note that with split_to_num_hands == 0, we ignore resplit_aces, hit_split_aces,\n",
    "    # and double_split_aces.  And with split_to_num_hands == 2, we ignore resplit_aces."
   ]
  },
  {
   "cell_type": "code",
   "execution_count": 21,
   "id": "3e49ff35",
   "metadata": {
    "execution": {
     "iopub.execute_input": "2025-01-18T05:57:36.418789Z",
     "iopub.status.busy": "2025-01-18T05:57:36.418479Z",
     "iopub.status.idle": "2025-01-18T05:57:36.427010Z",
     "shell.execute_reply": "2025-01-18T05:57:36.426303Z",
     "shell.execute_reply.started": "2025-01-18T05:57:36.418774Z"
    }
   },
   "outputs": [],
   "source": [
    "BEST_RULES = Rules(\n",
    "    num_decks=1,\n",
    "    split_to_num_hands=math.inf,\n",
    "    resplit_aces=True,\n",
    "    hit_split_aces=True,\n",
    "    double_split_aces=True,\n",
    "    cut_card=0,\n",
    ")\n",
    "\"\"\"Combination of rules with the lowest house edge (which is in fact negative).\"\"\"\n",
    "\n",
    "WORST_RULES = Rules(\n",
    "    num_decks=math.inf,\n",
    "    blackjack_payout=1,\n",
    "    hit_soft17=False,\n",
    "    obo=False,\n",
    "    late_surrender=False,\n",
    "    double_min_total=10,\n",
    "    double_after_split=False,\n",
    "    split_to_num_hands=2,\n",
    ")\n",
    "\"\"\"Combination of rules with the highest house edge.\"\"\"\n",
    "\n",
    "omit_cell_output()\n",
    "\n",
    "# (Although the ingenious `Rules(num_decks=1, ..., cut_card=5)` has a low house edge,\n",
    "# its edge is not as low as `Rules(num_decks=math.inf)`.)"
   ]
  },
  {
   "cell_type": "code",
   "execution_count": 22,
   "id": "eb03c948",
   "metadata": {
    "execution": {
     "iopub.execute_input": "2025-01-18T05:57:36.428131Z",
     "iopub.status.busy": "2025-01-18T05:57:36.427778Z",
     "iopub.status.idle": "2025-01-18T05:57:36.438653Z",
     "shell.execute_reply": "2025-01-18T05:57:36.437887Z",
     "shell.execute_reply.started": "2025-01-18T05:57:36.428113Z"
    }
   },
   "outputs": [],
   "source": [
    "# We do not distinguish between different cards with value 10, i.e., 10, jack, queen, and king.\n",
    "# A possible issue of whether the player is allowed to split any two cards with value 10,\n",
    "# e.g. (king, 10).  This is usually allowed.  If it were disallowed, it would affect the\n",
    "# probability of occurrence of splits and resplits.  However, the basic strategy tables show that\n",
    "# is always favorable to stand on (10, 10), so the issue is moot."
   ]
  },
  {
   "cell_type": "markdown",
   "id": "2ff17ed5",
   "metadata": {},
   "source": [
    "## Define `Action` and `Strategy`\n",
    "<a name=\"Define-Action-and-Strategy\"></a>"
   ]
  },
  {
   "cell_type": "code",
   "execution_count": 23,
   "id": "2fa1521a",
   "metadata": {
    "execution": {
     "iopub.execute_input": "2025-01-18T05:57:36.439773Z",
     "iopub.status.busy": "2025-01-18T05:57:36.439451Z",
     "iopub.status.idle": "2025-01-18T05:57:36.447796Z",
     "shell.execute_reply": "2025-01-18T05:57:36.447112Z",
     "shell.execute_reply.started": "2025-01-18T05:57:36.439758Z"
    }
   },
   "outputs": [],
   "source": [
    "# pytype fails on hh.OrderedEnum; it is ok with enum.Enum but then max((reward, action)) may fail.\n",
    "if typing.TYPE_CHECKING:\n",
    "  OrderedEnum = enum.Enum\n",
    "else:\n",
    "  OrderedEnum = hh.OrderedEnum"
   ]
  },
  {
   "cell_type": "code",
   "execution_count": 24,
   "id": "cf7a0a2a",
   "metadata": {
    "execution": {
     "iopub.execute_input": "2025-01-18T05:57:36.448863Z",
     "iopub.status.busy": "2025-01-18T05:57:36.448692Z",
     "iopub.status.idle": "2025-01-18T05:57:36.457449Z",
     "shell.execute_reply": "2025-01-18T05:57:36.456784Z",
     "shell.execute_reply.started": "2025-01-18T05:57:36.448849Z"
    }
   },
   "outputs": [],
   "source": [
    "class Action(OrderedEnum):\n",
    "  \"\"\"Player actions.\"\"\"\n",
    "\n",
    "  STAND = enum.auto()\n",
    "  HIT = enum.auto()\n",
    "  DOUBLE = enum.auto()\n",
    "  SPLIT = enum.auto()\n",
    "  SURRENDER = enum.auto()\n",
    "\n",
    "\n",
    "Actions = frozenset[Action]\n",
    "ACTIONS = frozenset(Action)\n",
    "IMPOSSIBLE_ACTION_VALUE = 0  # (action.value are numbered starting at 1 as in enum.auto().)\n",
    "\n",
    "# One-letter abbreviation used in strategy tables.\n",
    "CODE_FOR_ACTION = {\n",
    "    Action.STAND: 'S',\n",
    "    Action.HIT: 'H',\n",
    "    Action.DOUBLE: 'D',\n",
    "    Action.SPLIT: 'P',\n",
    "    Action.SURRENDER: 'U',\n",
    "}\n",
    "\n",
    "COLOR_FOR_CODE = {\n",
    "    'S': (1.0, 0.0, 0.0),  # Red.\n",
    "    'H': (0.0, 1.0, 0.0),  # Green.\n",
    "    'D': (0.0, 1.0, 1.0),  # Cyan.\n",
    "    'P': (1.0, 1.0, 0.0),  # Yellow.\n",
    "    'U': (1.0, 1.0, 1.0),  # White.\n",
    "}"
   ]
  },
  {
   "cell_type": "code",
   "execution_count": 25,
   "id": "43f1d837-90f9-4f28-be1e-da3bcae3deeb",
   "metadata": {
    "execution": {
     "iopub.execute_input": "2025-01-18T05:57:36.458583Z",
     "iopub.status.busy": "2025-01-18T05:57:36.458237Z",
     "iopub.status.idle": "2025-01-18T05:57:36.469175Z",
     "shell.execute_reply": "2025-01-18T05:57:36.468482Z",
     "shell.execute_reply.started": "2025-01-18T05:57:36.458567Z"
    }
   },
   "outputs": [],
   "source": [
    "def test_action() -> None:\n",
    "  \"\"\"Check string representations of Action.\"\"\"\n",
    "  check_eq(list(Action), [Action.STAND, Action.HIT, Action.DOUBLE, Action.SPLIT, Action.SURRENDER])\n",
    "  action = Action.STAND\n",
    "  check_eq(action.name, 'STAND')\n",
    "  check_eq(action.value, 1)\n",
    "  check_eq(action.name.lower(), 'stand')\n",
    "  check_eq(str(action), 'Action.STAND')\n",
    "  check_eq(repr(action), '<Action.STAND: 1>')\n",
    "  check_eq(CODE_FOR_ACTION[action], 'S')"
   ]
  },
  {
   "cell_type": "code",
   "execution_count": 26,
   "id": "e7a0fa37-7236-44e2-af24-457ad4f9fd93",
   "metadata": {
    "execution": {
     "iopub.execute_input": "2025-01-18T05:57:36.470282Z",
     "iopub.status.busy": "2025-01-18T05:57:36.469971Z",
     "iopub.status.idle": "2025-01-18T05:57:36.478463Z",
     "shell.execute_reply": "2025-01-18T05:57:36.477843Z",
     "shell.execute_reply.started": "2025-01-18T05:57:36.470269Z"
    }
   },
   "outputs": [],
   "source": [
    "test_action()"
   ]
  },
  {
   "cell_type": "code",
   "execution_count": 27,
   "id": "4a77b5e0",
   "metadata": {
    "execution": {
     "iopub.execute_input": "2025-01-18T05:57:36.479661Z",
     "iopub.status.busy": "2025-01-18T05:57:36.479247Z",
     "iopub.status.idle": "2025-01-18T05:57:36.488113Z",
     "shell.execute_reply": "2025-01-18T05:57:36.487488Z",
     "shell.execute_reply.started": "2025-01-18T05:57:36.479644Z"
    }
   },
   "outputs": [],
   "source": [
    "class Attention(enum.Enum):\n",
    "  \"\"\"Aspects of the player and dealer cards that condition the optimal action.\"\"\"\n",
    "\n",
    "  # Other ideas for class name: Scope, Inspect, Feature, Heed, Observe, Mull, Track.\n",
    "\n",
    "  TOTAL_OF_CARDS = enum.auto()\n",
    "  \"\"\"Consider `(card1, card1, dealer1)` for the first action on a paired hand,\n",
    "  or else `(player_total, player_soft, dealer1)`, i.e., \"total-dependent basic strategy\".\"\"\"\n",
    "\n",
    "  INITIAL_CARDS_OR_TOTAL = enum.auto()\n",
    "  \"\"\"Consider individual cards `(card1, card2)` for the first action, and then revert back to\n",
    "  TOTAL_OF_CARDS for later actions.  It is a limited form of \"composition-dependent\" strategy.\"\"\"\n",
    "\n",
    "  INITIAL_CARDS_AND_TOTAL = enum.auto()\n",
    "  \"\"\"Consider both the first two cards and the card total.  It is a limited form of\n",
    "  \"composition-dependent\" strategy.\"\"\"\n",
    "\n",
    "  HAND_CARDS_ONLY = enum.auto()\n",
    "  \"\"\"Consider all card values in the player's hand (and of course `dealer1`).  However,\n",
    "  after splitting, keep no memory of cards in the prior split hands.\"\"\"\n",
    "\n",
    "  HAND_AND_NUM_PRIOR_SPLITS = enum.auto()\n",
    "  \"\"\"Like `HAND_CARDS_ONLY` but also consider the number of split hands that have resulted so far.\n",
    "  For the third hand of the split hands `[(8, 4, 7), (8, 10), (8, 2, 1)]`, we know the current\n",
    "  hand `(8, 2, 1)` and the fact that the card `8` appeared twice in the prior split hands.\n",
    "  We use this as the default for `COMPOSITION_DEPENDENT_STRATEGY`.\"\"\"\n",
    "\n",
    "  HAND_AND_INITIAL_CARDS_IN_PRIOR_SPLITS = enum.auto()\n",
    "  \"\"\"Like `HAND_AND_NUM_PRIOR_SPLITS` but also consider the initial two cards of all prior split\n",
    "  hands.  For the third hand of the split hands `[(8, 4, 7), (8, 10), (8, 2, 1)]`, we know the\n",
    "  current hand `(8, 2, 1)` and the cards `8, 8, 4, 10` which appeared as initial cards in the\n",
    "  two prior split hands.\"\"\"\n",
    "\n",
    "  # HAND_AND_PRIOR_SPLIT_HANDS\n",
    "  # Not implemented: it would greatly increase the probabilistic state to track.\n",
    "\n",
    "  def __repr__(self) -> str:\n",
    "    \"\"\"Hide the integer `self.value` and show only the string name.\"\"\"\n",
    "    return f'{self.__class__.__name__}.{self.name}'"
   ]
  },
  {
   "cell_type": "code",
   "execution_count": 28,
   "id": "7c7606a1",
   "metadata": {
    "execution": {
     "iopub.execute_input": "2025-01-18T05:57:36.489296Z",
     "iopub.status.busy": "2025-01-18T05:57:36.489141Z",
     "iopub.status.idle": "2025-01-18T05:57:36.500660Z",
     "shell.execute_reply": "2025-01-18T05:57:36.499876Z",
     "shell.execute_reply.started": "2025-01-18T05:57:36.489282Z"
    }
   },
   "outputs": [],
   "source": [
    "@dataclasses.dataclass(frozen=True)\n",
    "class Strategy:\n",
    "  \"\"\"Player's strategy.\"\"\"\n",
    "\n",
    "  attention: Attention = Attention.TOTAL_OF_CARDS\n",
    "  \"\"\"Aspects of the player and dealer cards that contribute to deciding the best action.\n",
    "  The default (total-dependent basic strategy) considers the dealer upcard, the player total, and\n",
    "  whether this player total is hard or soft.\"\"\"\n",
    "\n",
    "  first_actions: Actions = ACTIONS\n",
    "  \"\"\"Subset of player first actions to consider; default is all actions.  The subsequent\n",
    "  candidate actions are always {Action.STAND, Action.HIT}.  If set to `frozenset({Action.SPLIT})`,\n",
    "  forces splitting of pairs but places no constraint on the first action of the resulting\n",
    "  completed split hands.\"\"\"\n",
    "\n",
    "  def __post_init__(self) -> None:\n",
    "    \"\"\"Check validity of strategy.\"\"\"\n",
    "    assert self.first_actions, 'Strategy must have at least one first action.'\n",
    "\n",
    "  def __str__(self) -> str:\n",
    "    \"\"\"Shorten the string description (omit \"Attention.\", \"Action.\", and \"frozenset(...)\").\"\"\"\n",
    "    fields_s = []\n",
    "    if self.attention is not Attention.TOTAL_OF_CARDS:\n",
    "      fields_s.append(f'attention={self.attention}')\n",
    "    if self.first_actions != ACTIONS:\n",
    "      fields_s.append(f'first_actions={{{\",\".join(action.name for action in self.first_actions)}}}')\n",
    "    return f'Strategy({\", \".join(fields_s)})'"
   ]
  },
  {
   "cell_type": "code",
   "execution_count": 29,
   "id": "915a4630",
   "metadata": {
    "execution": {
     "iopub.execute_input": "2025-01-18T05:57:36.501803Z",
     "iopub.status.busy": "2025-01-18T05:57:36.501487Z",
     "iopub.status.idle": "2025-01-18T05:57:36.512050Z",
     "shell.execute_reply": "2025-01-18T05:57:36.511395Z",
     "shell.execute_reply.started": "2025-01-18T05:57:36.501788Z"
    }
   },
   "outputs": [],
   "source": [
    "BASIC_STRATEGY = Strategy()  # (attention=Attention.TOTAL_OF_CARDS)\n",
    "\"\"\"The basic (or \"total-dependent\") strategy considers the player's total rather than the\n",
    "individual card values.\"\"\"\n",
    "\n",
    "INITIAL_DEPENDENT_STRATEGY = Strategy(attention=Attention.INITIAL_CARDS_AND_TOTAL)\n",
    "\"\"\"This strategy considers not just the player's total but also the values of the player's two\n",
    "initial cards.\"\"\"\n",
    "\n",
    "COMPOSITION_DEPENDENT_STRATEGY = Strategy(attention=Attention.HAND_AND_NUM_PRIOR_SPLITS)\n",
    "\"\"\"The composition-dependent strategy considers all the cards in the current hand plus the number\n",
    "of prior split hands.  It less powerful than HAND_AND_INITIAL_CARDS_IN_PRIOR_SPLITS but only\n",
    "very slightly.\"\"\"\n",
    "\n",
    "omit_cell_output()"
   ]
  },
  {
   "cell_type": "code",
   "execution_count": 30,
   "id": "84f840cd",
   "metadata": {
    "execution": {
     "iopub.execute_input": "2025-01-18T05:57:36.513094Z",
     "iopub.status.busy": "2025-01-18T05:57:36.512771Z",
     "iopub.status.idle": "2025-01-18T05:57:36.521493Z",
     "shell.execute_reply": "2025-01-18T05:57:36.520846Z",
     "shell.execute_reply.started": "2025-01-18T05:57:36.513080Z"
    }
   },
   "outputs": [],
   "source": [
    "BEST_STRATEGY = Strategy(attention=Attention.HAND_AND_INITIAL_CARDS_IN_PRIOR_SPLITS)\n",
    "\"\"\"Strategy that is most favorable to the player.\"\"\"\n",
    "\n",
    "WORST_STRATEGY = Strategy(first_actions=frozenset({Action.STAND, Action.HIT}))\n",
    "\"\"\"Strategy that is least favorable to the player.\"\"\"\n",
    "\n",
    "omit_cell_output()"
   ]
  },
  {
   "cell_type": "markdown",
   "id": "1f076928",
   "metadata": {
    "execution": {
     "iopub.execute_input": "2022-04-09T16:10:09.791450Z",
     "iopub.status.busy": "2022-04-09T16:10:09.791258Z",
     "iopub.status.idle": "2022-04-09T16:10:09.793808Z",
     "shell.execute_reply": "2022-04-09T16:10:09.793388Z",
     "shell.execute_reply.started": "2022-04-09T16:10:09.791436Z"
    }
   },
   "source": [
    "## Probabilistic analysis\n",
    "<a name=\"Probabilistic-analysis\"></a>"
   ]
  },
  {
   "cell_type": "markdown",
   "id": "0de9eb5f",
   "metadata": {},
   "source": [
    "**Graph representation**\n",
    "\n",
    "We form a graph where:\n",
    "1) the nodes are hand states, and\n",
    "2) the edges are player/dealer actions (`STAND`, `HIT`, `DOUBLE`, `SPLIT`, and `SURRENDER`).\n",
    "\n",
    "Ideally, the hand $\\text{state}$ captures the full sequence of player cards and dealer cards\n",
    "and the set of all cards seen in prior hands.\n",
    "(We use a few pruning heuristics (based on the global parameter `EFFORT`)\n",
    "to put finite bounds on this combinatorial state.)\n",
    "\n",
    "The probabilities $\\text{ProbCard}(\\text{state})$ of drawing card values from the shoe\n",
    "is computed based on the card counts in the current hand $\\text{state}$.\n",
    "(As an example, for a 1-deck shoe, if the player cards contain three 2's and\n",
    "the dealer upcard is a 2, the probability of drawing another 2 is zero.)\n",
    "\n",
    "We express the expected reward for an action at a given graph node\n",
    "as a weighted summation of expected rewards at other graph nodes.\n",
    "For example, the reward for a `HIT` action is:\n",
    "\n",
    "$$\\text{reward}(\\text{state}, \\text{HIT}) =\n",
    "  \\sum_{(\\text{prob}, \\text{card}) \\in \\text{ProbCard}(\\text{state})}\n",
    "    \\text{prob}\\cdot \\text{reward}\\big(\\text{combine}(\\text{state}, \\text{card})\\big),$$\n",
    "\n",
    "where $\\text{combine}(\\text{state}, \\text{card})$ returns a new state with the added card.\n",
    "The other actions have similar recurrence formulas based on the rewards of other states.\n",
    "\n",
    "The reward for a hand $\\text{state}$ is the reward for the optimal action at that state:\n",
    "\n",
    "$$\\text{reward}(\\text{state}) = \\max_{\\text{action}}\n",
    "    \\text{reward}\\big(\\text{state}, \\text{action}\\big).$$\n",
    "\n",
    "For an initial hand (i.e., a starting state),\n",
    "the expected reward is evaluated by recursively traversing the graph,\n",
    "computing the expected reward of each encountered hand state.\n",
    "Because the graph is a [DAG](https://en.wikipedia.org/wiki/Directed_acyclic_graph)\n",
    "rather than a tree, each hand state may be traversed more than once,\n",
    "so it is beneficial to\n",
    "[memoize](https://en.wikipedia.org/wiki/Memoization) the intermediate reward values."
   ]
  },
  {
   "cell_type": "markdown",
   "id": "6d931e79",
   "metadata": {},
   "source": [
    "**Player strategy/attention**\n",
    "\n",
    "The optimal action defined above is based on maximizing the reward for the *specific hand state*.\n",
    "This is a fully **composition-dependent strategy**.\n",
    "\n",
    "However, it is impractical for a human player to memorize the best action\n",
    "for every possible combination of player cards (including prior split hands).\n",
    "Practical strategies restrict the player **attention** to specific aspects of the hand,\n",
    "such as the player total and softness.\n",
    "We identify [*6 levels of attention*](#Define-Action-and-Strategy).\n",
    "The simplest one is `Attention.TOTAL_OF_CARDS`, which corresponds to\n",
    "[*basic strategy*](https://en.wikipedia.org/wiki/Blackjack#Basic_strategy).\n",
    "\n",
    "We generalize the prior formulas to include attention:\n",
    "\n",
    "$$\\text{reward}(\\text{state}, \\text{attention}, \\text{HIT}) =\n",
    "  \\sum_{(\\text{prob}, \\text{card}) \\in \\text{ProbCard}(\\text{state})}\n",
    "    \\text{prob}\\cdot \\text{reward}\\big(\n",
    "      \\text{combine}(\\text{state}, \\text{card}), \\text{attention}\\big),$$\n",
    "\n",
    "$$\\text{reward}(\\text{state}, \\text{attention}) =\n",
    "  \\text{reward}\\Big(\\text{state}, \\text{attention},\n",
    "    \\underset{\\text{action}}{\\operatorname{argmax}}\n",
    "      \\text{reward}\\big(\\text{Project}_{\\text{attention}}(\\text{state}),\n",
    "        \\text{attention}, \\text{action}\\big)\n",
    "    \\Big),$$\n",
    "\n",
    "where $\\text{state}' = \\text{Project}_{\\text{attention}}(\\text{state})$ maps $\\text{state}$\n",
    "onto a canonical $\\text{state}'$ which keeps only the attended aspects.\n",
    "\n",
    "As an example, `Attention.HAND_CARDS_ONLY` ignores the card values in any prior split hands,\n",
    "so if $\\text{state}$=`(player_cards, dealer1, split_cards)`,\n",
    "$\\text{Project}_{\\text{HAND\\_CARDS\\_ONLY}}(\\text{state})$ = `(player_cards, dealer1, ())`.\n",
    "\n",
    "Crucially, although we select the best action after projecting the state\n",
    "to a simpler canonical state,\n",
    "we then evaluate the reward for that best action using the original state."
   ]
  },
  {
   "cell_type": "markdown",
   "id": "23cbc009",
   "metadata": {
    "execution": {
     "iopub.execute_input": "2022-06-26T05:22:26.482846Z",
     "iopub.status.busy": "2022-06-26T05:22:26.482509Z",
     "iopub.status.idle": "2022-06-26T05:22:26.488790Z",
     "shell.execute_reply": "2022-06-26T05:22:26.488094Z",
     "shell.execute_reply.started": "2022-06-26T05:22:26.482832Z"
    }
   },
   "source": [
    "**Card probabilities**\n",
    "\n",
    "Before each card is drawn, we create a table of card counts from the original shoe,\n",
    "then subtract all of cards in the current hand state (both the player and dealer cards),\n",
    "and thus determine the probability of each card value.\n",
    "\n",
    "A tricky aspect is that with `rules.obo` (Original Bets Only, which is True by default),\n",
    "**when the dealer's upcard is 10 or ace**,\n",
    "the dealer peeks at their hole card to check if they have blackjack before any player action.\n",
    "\n",
    "Thereafter, the fact that the dealer does not have blackjack\n",
    "**conditions the value of the dealer hole card**, and indirectly,\n",
    "the probability of all subsequent cards drawn in the hand.\n",
    "\n",
    "We model this accurately using fractional counts during the card probability computations.\n",
    "For example, if the dealer's upcard is an ace, then it is known that the dealer hole card is\n",
    "not a 10, and for each of the card values (1, 2, 3, 4, 5, 6, 7, 8, 9), we reduce\n",
    "their count by the fraction $1/9$.\n",
    "See function `card_probabilities_helper` for details.\n",
    "\n",
    "Here is a summary of the ordering of the conditional card probabilities with `obo=True`:\n",
    "- We select the dealer upcard `dealer1` with uniform distribution.\n",
    "- We select player `card1` conditional on `[dealer1]`.\n",
    "- We select player `card2` conditional on `[dealer1, card1]`.\n",
    "- We determine `prob_dealer_bj` based on `[dealer1, card1, card2]`,\n",
    "- We select all subsequent player cards conditional on `recent_cards` (which contains\n",
    "   `dealer1, card1, card2, ...`) and on `dealer1` if it is 1 or 10 due to\n",
    "   constraints on `dealer2` that dealer has no blackjack.\n",
    "- We choose `dealer2` conditional on `recent_cards` and with a non-blackjack constraint.\n",
    "- We select the subsequent dealer cards conditional on `recent_cards`."
   ]
  },
  {
   "cell_type": "markdown",
   "id": "8d1a892c",
   "metadata": {},
   "source": [
    "**Evaluating reward for split hands**\n",
    "\n",
    "For a given hand state, we consider a SPLIT action to perform as many resplits as are allowed.\n",
    "(In other words, we do not try to identify states where a smaller (finite) number of splits\n",
    "gives a greater reward; from experiments it seems that this never arises.)\n",
    "\n",
    "For a SPLIT action on a pair, we initialize a list of two incomplete hands that need\n",
    "further cards.\n",
    "We probabilistically expand the drawing of successive cards (for a finite number of iterations);\n",
    "when the drawn card allows a resplit, we push an incomplete hand onto the list,\n",
    "else we add the card to an existing incomplete hand.\n",
    "See function `reward_for_split` for details."
   ]
  },
  {
   "cell_type": "markdown",
   "id": "f2c05016",
   "metadata": {},
   "source": [
    "**Sources of error in the probabilistic results**:\n",
    "\n",
    "- The current probabilistic analysis ignores any penetration in the shoe,\n",
    "  so it **does not account for a [*cut-card effect*](#Effect-of-using-a-cut-card)**.\n",
    "  This is valid if playing just the first hand of each shoe (i.e. \"continuous reshuffling\") or\n",
    "  playing any *fixed number* of hands from each shoe.\n",
    "  Hand calculators make this assumption.\n",
    "  If computing the house edge for a shoe with a cut card,\n",
    "  the probabilistic result underestimates the house edge;\n",
    "  the difference is greater for smaller shoes,\n",
    "  e.g. it is about 0.14% when the shoe has just one deck.\n",
    "\n",
    "- The **state for a split hand is incomplete**.\n",
    "  When splitting cards to form multiple hands,\n",
    "  we compute the reward for split hand $i$ based on `split_cards` which includes\n",
    "  the two initial cards `(card1, card2)` for split hands $1, \\ldots, i-1$\n",
    "  but does not include any subsequent drawn cards (by either the player or dealer) from\n",
    "  those earlier split hands."
   ]
  },
  {
   "cell_type": "markdown",
   "id": "44baac72",
   "metadata": {
    "lines_to_next_cell": 2
   },
   "source": [
    "### Hands and totals"
   ]
  },
  {
   "cell_type": "code",
   "execution_count": 31,
   "id": "666edbdc",
   "metadata": {
    "execution": {
     "iopub.execute_input": "2025-01-18T05:57:36.522733Z",
     "iopub.status.busy": "2025-01-18T05:57:36.522344Z",
     "iopub.status.idle": "2025-01-18T05:57:36.533163Z",
     "shell.execute_reply": "2025-01-18T05:57:36.532507Z",
     "shell.execute_reply.started": "2025-01-18T05:57:36.522718Z"
    }
   },
   "outputs": [],
   "source": [
    "def check_hand(hand: Hand) -> None:\n",
    "  \"\"\"Check validity of hand.\"\"\"\n",
    "  player_cards, dealer1 = hand\n",
    "  assert len(player_cards) >= 2 and all(1 <= card <= 10 for card in (*player_cards, dealer1)), hand\n",
    "  assert player_cards[0] <= player_cards[1], hand\n",
    "  assert player_cards[2:] == tuple(sorted(player_cards[2:])), hand"
   ]
  },
  {
   "cell_type": "code",
   "execution_count": 32,
   "id": "71091d52",
   "metadata": {
    "execution": {
     "iopub.execute_input": "2025-01-18T05:57:36.534281Z",
     "iopub.status.busy": "2025-01-18T05:57:36.534111Z",
     "iopub.status.idle": "2025-01-18T05:57:36.542949Z",
     "shell.execute_reply": "2025-01-18T05:57:36.542282Z",
     "shell.execute_reply.started": "2025-01-18T05:57:36.534267Z"
    }
   },
   "outputs": [],
   "source": [
    "def generate_hands_totaling(total: int, rules: Rules, _prefix: Cards = ()) -> Iterator[Cards]:\n",
    "  \"\"\"Yield all possible (non-busted) hands with specified `total`, given `rules.num_decks`.\"\"\"\n",
    "  prefix_total = sum(_prefix)\n",
    "  min_value = _prefix[-1] if _prefix else 2 if total < 12 else 1\n",
    "  for card in range(min_value, min(11, total - prefix_total + 1)):\n",
    "    if _prefix.count(card) < rules.num_decks * NUM_SUITS:\n",
    "      sequence = *_prefix, card\n",
    "      new_total = prefix_total + card\n",
    "      total_is_correct = new_total == total or (new_total + 10 == total and 1 in sequence)\n",
    "      if total_is_correct and len(sequence) >= 2:\n",
    "        yield sequence\n",
    "      if new_total < total:\n",
    "        yield from generate_hands_totaling(total, rules, sequence)\n",
    "\n",
    "\n",
    "def generate_all_hands(rules: Rules) -> Iterator[Cards]:\n",
    "  \"\"\"Yield all possible (non-busted) hands, given `rules.num_decks`.\"\"\"\n",
    "  for total in range(4, 22):\n",
    "    yield from generate_hands_totaling(total, rules)\n",
    "\n",
    "\n",
    "def number_of_unique_hands(rules: Rules) -> int:\n",
    "  \"\"\"Return the number of possible (non-busted) hands, given `rules.num_decks`.\"\"\"\n",
    "  return sum(1 for _ in generate_all_hands(rules))\n",
    "\n",
    "\n",
    "def generate_all_initial_cards() -> Iterator[Cards]:\n",
    "  \"\"\"Yield all possible initial two cards (such that card1 <= card2).\"\"\"\n",
    "  for card1 in range(1, 11):\n",
    "    for card2 in range(card1, 11):\n",
    "      yield card1, card2"
   ]
  },
  {
   "cell_type": "code",
   "execution_count": 33,
   "id": "7c1ca10d",
   "metadata": {
    "execution": {
     "iopub.execute_input": "2025-01-18T05:57:36.543956Z",
     "iopub.status.busy": "2025-01-18T05:57:36.543764Z",
     "iopub.status.idle": "2025-01-18T05:57:36.566328Z",
     "shell.execute_reply": "2025-01-18T05:57:36.565661Z",
     "shell.execute_reply.started": "2025-01-18T05:57:36.543940Z"
    }
   },
   "outputs": [],
   "source": [
    "check_eq(\n",
    "    list(generate_hands_totaling(8, Rules(num_decks=1))),\n",
    "    [(2, 2, 2, 2), (2, 2, 4), (2, 3, 3), (2, 6), (3, 5), (4, 4)],\n",
    ")\n",
    "\n",
    "check_eq(\n",
    "    list(generate_hands_totaling(21, Rules(num_decks=1)))[:2],\n",
    "    [(1, 1, 1, 1, 2, 2, 2, 2, 3, 3, 3), (1, 1, 1, 1, 2, 2, 2, 2, 3, 6)],\n",
    ")\n",
    "\n",
    "check_eq(\n",
    "    list(generate_hands_totaling(21, Rules(num_decks=1)))[-7:],\n",
    "    [(5, 5, 5, 6), (5, 6, 10), (5, 7, 9), (5, 8, 8), (6, 6, 9), (6, 7, 8), (7, 7, 7)],\n",
    ")\n",
    "\n",
    "check_eq(list(generate_hands_totaling(21, Rules(num_decks=8)))[:2], [(1,) * 11, (1,) * 21])\n",
    "\n",
    "check_eq(sum(1 for _ in generate_hands_totaling(21, Rules(num_decks=1))), 416)\n",
    "\n",
    "check_eq(\n",
    "    list(generate_all_hands(Rules(num_decks=1)))[:20],\n",
    "    [(2, 2), (2, 3), (2, 2, 2), (2, 4), (3, 3), (2, 2, 3), (2, 5), (3, 4), (2, 2, 2, 2)]\n",
    "    + [(2, 2, 4), (2, 3, 3), (2, 6), (3, 5), (4, 4), (2, 2, 2, 3), (2, 2, 5), (2, 3, 4), (2, 7)]\n",
    "    + [(3, 3, 3), (3, 6)],\n",
    ")\n",
    "\n",
    "check_eq(\n",
    "    list(generate_all_hands(Rules(num_decks=1)))[-20:],\n",
    "    [(3, 5, 5, 8), (3, 5, 6, 7), (3, 6, 6, 6), (3, 8, 10), (3, 9, 9), (4, 4, 4, 4, 5)]\n",
    "    + [(4, 4, 4, 9), (4, 4, 5, 8), (4, 4, 6, 7), (4, 5, 5, 7), (4, 5, 6, 6), (4, 7, 10), (4, 8, 9)]\n",
    "    + [(5, 5, 5, 6), (5, 6, 10), (5, 7, 9), (5, 8, 8), (6, 6, 9), (6, 7, 8), (7, 7, 7)],\n",
    ")"
   ]
  },
  {
   "cell_type": "code",
   "execution_count": 34,
   "id": "4c4603b1",
   "metadata": {
    "execution": {
     "iopub.execute_input": "2025-01-18T05:57:36.567248Z",
     "iopub.status.busy": "2025-01-18T05:57:36.567058Z",
     "iopub.status.idle": "2025-01-18T05:57:36.614371Z",
     "shell.execute_reply": "2025-01-18T05:57:36.613645Z",
     "shell.execute_reply.started": "2025-01-18T05:57:36.567232Z"
    },
    "lines_to_next_cell": 2
   },
   "outputs": [],
   "source": [
    "# Surprisingly, there are few unique hands in blackjack: 2008 for 1 deck, and 3072 maximum.\n",
    "check_eq(\n",
    "    {\n",
    "        num_decks: number_of_unique_hands(Rules(num_decks=num_decks))\n",
    "        for num_decks in [1, 2, 4, 6, 8, math.inf]\n",
    "    },\n",
    "    {1: 2008, 2: 2796, 4: 3060, 6: 3072, 8: 3072, math.inf: 3072},\n",
    ")\n",
    "\n",
    "# The C++ program at https://www.bjstrat.net/playerHands.html reports 3082 possible non-busted\n",
    "# hands.  It includes single-card hands, which we do not.  Because there are 10 single-card hands,\n",
    "# the numbers match exactly!"
   ]
  },
  {
   "cell_type": "code",
   "execution_count": 35,
   "id": "3f69d74b",
   "metadata": {
    "execution": {
     "iopub.execute_input": "2025-01-18T05:57:36.615688Z",
     "iopub.status.busy": "2025-01-18T05:57:36.615307Z",
     "iopub.status.idle": "2025-01-18T05:57:36.623630Z",
     "shell.execute_reply": "2025-01-18T05:57:36.622945Z",
     "shell.execute_reply.started": "2025-01-18T05:57:36.615669Z"
    }
   },
   "outputs": [],
   "source": [
    "def order_cards(card1: Card, card2: Card) -> tuple[Card, Card]:\n",
    "  \"\"\"Return the two cards in non-descending order.\"\"\"\n",
    "  # assert 1 <= card1 <= 10 and 1 <= card2 <= 10\n",
    "  return (card1, card2) if card1 <= card2 else (card2, card1)"
   ]
  },
  {
   "cell_type": "code",
   "execution_count": 36,
   "id": "97a4da79",
   "metadata": {
    "execution": {
     "iopub.execute_input": "2025-01-18T05:57:36.624868Z",
     "iopub.status.busy": "2025-01-18T05:57:36.624446Z",
     "iopub.status.idle": "2025-01-18T05:57:36.633925Z",
     "shell.execute_reply": "2025-01-18T05:57:36.633075Z",
     "shell.execute_reply.started": "2025-01-18T05:57:36.624852Z"
    }
   },
   "outputs": [],
   "source": [
    "def combine_two_cards(card1: Card, card2: Card) -> tuple[int, bool]:\n",
    "  \"\"\"Return `(total, soft)`; the total of the two cards and whether that total is soft.\"\"\"\n",
    "  # assert 1 <= card1 <= 10 and 1 <= card2 <= 10\n",
    "  if card1 == 1 or card2 == 1:\n",
    "    return card1 + card2 + 10, True\n",
    "  return card1 + card2, False\n",
    "\n",
    "\n",
    "numba_combine_two_cards = numba_njit(inline='always')(combine_two_cards)"
   ]
  },
  {
   "cell_type": "code",
   "execution_count": 37,
   "id": "e5877753",
   "metadata": {
    "execution": {
     "iopub.execute_input": "2025-01-18T05:57:36.635073Z",
     "iopub.status.busy": "2025-01-18T05:57:36.634722Z",
     "iopub.status.idle": "2025-01-18T05:57:36.645673Z",
     "shell.execute_reply": "2025-01-18T05:57:36.645000Z",
     "shell.execute_reply.started": "2025-01-18T05:57:36.635058Z"
    }
   },
   "outputs": [],
   "source": [
    "def combine_cards(cards: Cards) -> tuple[int, bool]:\n",
    "  \"\"\"Return `(total, soft)`: the total of `cards` and whether that total is soft.\"\"\"\n",
    "  # assert len(cards) >= 2 and all(1 <= card <= 10 for card in cards)\n",
    "  total = sum(cards)\n",
    "  if total < 12 and 1 in cards:\n",
    "    return total + 10, True\n",
    "  return total, False\n",
    "\n",
    "\n",
    "check_eq(combine_cards((2, 5)), (7, False))\n",
    "check_eq(combine_cards((1, 2)), (13, True))\n",
    "check_eq(combine_cards((1, 10)), (21, True))\n",
    "check_eq(combine_cards((2, 1, 6)), (19, True))\n",
    "check_eq(combine_cards((2, 1, 5, 2)), (20, True))\n",
    "check_eq(combine_cards((2, 1, 5, 4)), (12, False))\n",
    "check_eq(combine_cards((1, 1)), (12, True))\n",
    "check_eq(combine_cards((1, 1, 10)), (12, False))"
   ]
  },
  {
   "cell_type": "code",
   "execution_count": 38,
   "id": "6cf00dcb",
   "metadata": {
    "execution": {
     "iopub.execute_input": "2025-01-18T05:57:36.646549Z",
     "iopub.status.busy": "2025-01-18T05:57:36.646359Z",
     "iopub.status.idle": "2025-01-18T05:57:36.654976Z",
     "shell.execute_reply": "2025-01-18T05:57:36.654326Z",
     "shell.execute_reply.started": "2025-01-18T05:57:36.646535Z"
    }
   },
   "outputs": [],
   "source": [
    "def add_card(total: int, soft: bool, card: Card) -> tuple[int, bool]:\n",
    "  \"\"\"Return new card total and softness given an additional card.\"\"\"\n",
    "  # assert 4 <= total <= 21 and 1 <= card <= 10\n",
    "  total += card\n",
    "  if total > 21:\n",
    "    if soft:\n",
    "      total, soft = total - 10, False\n",
    "  elif total < 12 and card == 1:\n",
    "    total, soft = total + 10, True\n",
    "  return total, soft\n",
    "\n",
    "\n",
    "numba_add_card = numba_njit(inline='always')(add_card)"
   ]
  },
  {
   "cell_type": "code",
   "execution_count": 39,
   "id": "52e646f0",
   "metadata": {
    "execution": {
     "iopub.execute_input": "2025-01-18T05:57:36.656152Z",
     "iopub.status.busy": "2025-01-18T05:57:36.655978Z",
     "iopub.status.idle": "2025-01-18T05:57:36.664792Z",
     "shell.execute_reply": "2025-01-18T05:57:36.664072Z",
     "shell.execute_reply.started": "2025-01-18T05:57:36.656136Z"
    }
   },
   "outputs": [],
   "source": [
    "def two_cards_reproducing_total(total: int, soft: bool, dealer1: Card) -> tuple[Card, Card]:\n",
    "  \"\"\"Return two cards to satisfy assertions (not used for probabilities).\"\"\"\n",
    "  # assert (12 if soft else 4) <= total <= 21 and 1 <= dealer1 <= 10\n",
    "  if total == 21 and not soft:\n",
    "    soft = True\n",
    "\n",
    "  if soft:\n",
    "    card1, card2 = 1, total - 11\n",
    "\n",
    "  elif total >= 12:\n",
    "    # The mode of the distribution has at least one card being a 10.\n",
    "    card1, card2 = total - 10, 10\n",
    "\n",
    "  else:\n",
    "    # The mode of the distribution has both cards being distinct from dealer's,\n",
    "    # so we prefer finding such two cards.\n",
    "    for card1 in range(2, (total + 1) // 2):\n",
    "      card2 = total - card1\n",
    "      if dealer1 not in (card1, card2):\n",
    "        break\n",
    "    else:\n",
    "      card1, card2 = 2, total - 2  # None preferable, so pick any two.\n",
    "\n",
    "  # assert card1 <= card2 and combine_two_cards(card1, card2) == (total, soft), (card1, card2)\n",
    "  return card1, card2"
   ]
  },
  {
   "cell_type": "code",
   "execution_count": 40,
   "id": "16abce84",
   "metadata": {
    "execution": {
     "iopub.execute_input": "2025-01-18T05:57:36.665796Z",
     "iopub.status.busy": "2025-01-18T05:57:36.665600Z",
     "iopub.status.idle": "2025-01-18T05:57:36.676388Z",
     "shell.execute_reply": "2025-01-18T05:57:36.675656Z",
     "shell.execute_reply.started": "2025-01-18T05:57:36.665780Z"
    }
   },
   "outputs": [],
   "source": [
    "@functools.cache\n",
    "def get_canonical_hand_with_initial_cards_and_total(\n",
    "    initial_cards: tuple[Card, Card],\n",
    "    total: int,\n",
    "    soft: bool,\n",
    ") -> Cards:\n",
    "  \"\"\"Return cards with specified initial two cards, total, and softness.\"\"\"\n",
    "  assert len(initial_cards) == 2\n",
    "  total2, soft2 = combine_cards(initial_cards)\n",
    "  remainder = total - total2\n",
    "  if remainder < 1:\n",
    "    assert soft2\n",
    "    total2, soft2 = total2 - 10, False\n",
    "    remainder += 10\n",
    "\n",
    "  assert remainder >= 1\n",
    "  cards = initial_cards + (\n",
    "      (remainder, 10)\n",
    "      if remainder <= 10 and soft2 and not soft\n",
    "      else (remainder,)\n",
    "      if remainder <= 10\n",
    "      else (1,)\n",
    "      if remainder == 11 and soft\n",
    "      else (1, remainder - 11)\n",
    "      if soft\n",
    "      else (remainder - 10, 10)\n",
    "  )\n",
    "\n",
    "  if 0:\n",
    "    assert all(1 <= card <= 10 for card in cards), (initial_cards, total, soft)\n",
    "    assert combine_cards(cards) == (total, soft), (initial_cards, total, soft)\n",
    "\n",
    "  return cards"
   ]
  },
  {
   "cell_type": "code",
   "execution_count": 41,
   "id": "1560a47a",
   "metadata": {
    "execution": {
     "iopub.execute_input": "2025-01-18T05:57:36.677727Z",
     "iopub.status.busy": "2025-01-18T05:57:36.677539Z",
     "iopub.status.idle": "2025-01-18T05:57:36.686584Z",
     "shell.execute_reply": "2025-01-18T05:57:36.685898Z",
     "shell.execute_reply.started": "2025-01-18T05:57:36.677713Z"
    }
   },
   "outputs": [],
   "source": [
    "@functools.cache\n",
    "def get_canonical_hand_keeping_initial_cards_and_total(cards: Cards) -> Cards:\n",
    "  \"\"\"Return new cards with the same initial two cards and the same total and softness.\"\"\"\n",
    "  assert len(cards) > 3\n",
    "  total, soft = combine_cards(cards)\n",
    "  return get_canonical_hand_with_initial_cards_and_total(cards[:2], total, soft)\n",
    "\n",
    "\n",
    "check_eq(get_canonical_hand_keeping_initial_cards_and_total((1, 2, 1, 10)), (1, 2, 1, 10))\n",
    "check_eq(get_canonical_hand_keeping_initial_cards_and_total((2, 3, 2, 4)), (2, 3, 6))\n",
    "check_eq(get_canonical_hand_keeping_initial_cards_and_total((2, 3, 3, 5, 5)), (2, 3, 3, 10))\n",
    "check_eq(get_canonical_hand_keeping_initial_cards_and_total((2, 3, 2, 3, 4, 5)), (2, 3, 4, 10))"
   ]
  },
  {
   "cell_type": "code",
   "execution_count": 42,
   "id": "6712b137",
   "metadata": {
    "execution": {
     "iopub.execute_input": "2025-01-18T05:57:36.687490Z",
     "iopub.status.busy": "2025-01-18T05:57:36.687309Z",
     "iopub.status.idle": "2025-01-18T05:57:36.698290Z",
     "shell.execute_reply": "2025-01-18T05:57:36.697609Z",
     "shell.execute_reply.started": "2025-01-18T05:57:36.687474Z"
    }
   },
   "outputs": [],
   "source": [
    "def state_hit_card(state: State, card: Card) -> State:\n",
    "  \"\"\"Add a new card to the player's hand.\"\"\"\n",
    "  player_cards, dealer1, split_cards = state\n",
    "  MAX_NUM_PLAYER_CARDS_FOR_EFFORT = [3, 3, 5, 20, 20]\n",
    "\n",
    "  if len(player_cards) >= MAX_NUM_PLAYER_CARDS_FOR_EFFORT[EFFORT]:\n",
    "    player_cards = get_canonical_hand_keeping_initial_cards_and_total(player_cards + (card,))\n",
    "\n",
    "  else:\n",
    "    player_cards = *player_cards[:2], *sorted((*player_cards[2:], card))\n",
    "\n",
    "  return player_cards, dealer1, split_cards"
   ]
  },
  {
   "cell_type": "markdown",
   "id": "8aea6fde",
   "metadata": {},
   "source": [
    "### Card probabilities"
   ]
  },
  {
   "cell_type": "code",
   "execution_count": 43,
   "id": "a7b6496d",
   "metadata": {
    "execution": {
     "iopub.execute_input": "2025-01-18T05:57:36.699917Z",
     "iopub.status.busy": "2025-01-18T05:57:36.699281Z",
     "iopub.status.idle": "2025-01-18T05:57:36.708017Z",
     "shell.execute_reply": "2025-01-18T05:57:36.707321Z",
     "shell.execute_reply.started": "2025-01-18T05:57:36.699895Z"
    }
   },
   "outputs": [],
   "source": [
    "MAX_NUM_RECENT_CARDS_FOR_EFFORT = [4, 5, 9, 10, 14]\n",
    "# No more differences above 14 for SPLIT on ((10, 10), 4) in analyze_hand_action_wrt_attention().\n",
    "# EFFORT=2: value was 7; 9 is almost as fast; 10 increases memory from 10 GiB to 12 GiB.\n",
    "\"\"\"Upper bound on the number of tracked cards in probabilistic analysis during dealer draw and\n",
    "during SPLIT draw.  If set to a larger value (e.g., 11), there are many distinct calls to\n",
    "reward_after_dealer_upcard(), resulting in increased run time and memory utilization\n",
    "(memoization lru_cache); besides, results do not change much.\"\"\"\n",
    "\n",
    "RecentCards = Union[Cards, None]\n",
    "\"\"\"Sorted tuple of card values (1-10), or None if not tracked.\"\"\"\n",
    "\n",
    "\n",
    "def make_recent(cards: Cards, rules: Rules) -> RecentCards:\n",
    "  \"\"\"Activate card tracking if the shoe has a finite number of decks.\"\"\"\n",
    "  enabled = rules.num_decks != math.inf\n",
    "  max_num_recent_cards = MAX_NUM_RECENT_CARDS_FOR_EFFORT[EFFORT]\n",
    "  return tuple(sorted(cards[:max_num_recent_cards])) if enabled else None\n",
    "\n",
    "\n",
    "def make_recent_from_state(state: State, rules: Rules) -> RecentCards:\n",
    "  \"\"\"Activate card tracking if the shoe has a finite number of decks.\"\"\"\n",
    "  player_cards, dealer1, split_cards = state\n",
    "  return make_recent((*player_cards, dealer1, *split_cards), rules)\n",
    "\n",
    "\n",
    "def add_recent(recent_cards: RecentCards, new_card: Card) -> RecentCards:\n",
    "  \"\"\"Add a new card to the tuple of recent cards if tracking is active.\"\"\"\n",
    "  max_num_recent_cards = MAX_NUM_RECENT_CARDS_FOR_EFFORT[EFFORT]\n",
    "  if recent_cards is None or len(recent_cards) >= max_num_recent_cards:\n",
    "    return recent_cards\n",
    "  return tuple(sorted(recent_cards + (new_card,)))"
   ]
  },
  {
   "cell_type": "code",
   "execution_count": 44,
   "id": "5fe4fbef",
   "metadata": {
    "execution": {
     "iopub.execute_input": "2025-01-18T05:57:36.709255Z",
     "iopub.status.busy": "2025-01-18T05:57:36.708902Z",
     "iopub.status.idle": "2025-01-18T05:57:36.719764Z",
     "shell.execute_reply": "2025-01-18T05:57:36.719106Z",
     "shell.execute_reply.started": "2025-01-18T05:57:36.709239Z"
    }
   },
   "outputs": [],
   "source": [
    "def card_probabilities(\n",
    "    recent_cards: RecentCards,\n",
    "    rules: Rules,\n",
    "    postpeek_dealer1: Card | None,\n",
    ") -> dict[Card, float]:\n",
    "  \"\"\"Return a mapping from card values (1-10) to their probabilities given recently seen cards,\n",
    "  e.g., (dealer1, card1, card2, ...).  For cards drawn in player action, set postpeek_dealer1;\n",
    "  if in (1, 10) and rules.obo, we bias the probabilities using the knowledge that dealer does\n",
    "  not have bj.\"\"\"\n",
    "  # Reduce memory usage by recognizing that num_decks and obo are the only fields used.\n",
    "  # Use a dummy card value of 2 (not 1 or 10) if the dealer hole card does not matter.\n",
    "  postpeek_dealer1_int: int = 2 if postpeek_dealer1 is None or not rules.obo else postpeek_dealer1\n",
    "  return card_probabilities_helper(recent_cards, rules.num_decks, postpeek_dealer1_int)"
   ]
  },
  {
   "cell_type": "code",
   "execution_count": 45,
   "id": "226578f1",
   "metadata": {
    "execution": {
     "iopub.execute_input": "2025-01-18T05:57:36.720802Z",
     "iopub.status.busy": "2025-01-18T05:57:36.720458Z",
     "iopub.status.idle": "2025-01-18T05:57:36.731713Z",
     "shell.execute_reply": "2025-01-18T05:57:36.731098Z",
     "shell.execute_reply.started": "2025-01-18T05:57:36.720784Z"
    }
   },
   "outputs": [],
   "source": [
    "@functools.lru_cache(maxsize=5_000_000)\n",
    "def card_probabilities_helper(\n",
    "    recent_cards: RecentCards,\n",
    "    num_decks: float,\n",
    "    postpeek_dealer1_int: Card,\n",
    ") -> dict[Card, float]:\n",
    "  \"\"\"Return a mapping from card values (1-10) to their probabilities.  We conventionally set\n",
    "  `postpeek_dealer1_int=2` if the dealer hole card does not matter.\"\"\"\n",
    "  assert 1 <= postpeek_dealer1_int <= 10\n",
    "  if num_decks == math.inf:\n",
    "    assert recent_cards is None\n",
    "    return UNIFORM_CARD_PROB\n",
    "\n",
    "  assert recent_cards  # neither None nor ().\n",
    "\n",
    "  count_of_card = {card: prob * DECK_SIZE * num_decks for card, prob in UNIFORM_CARD_PROB.items()}\n",
    "  num_cards = num_decks * DECK_SIZE\n",
    "  check_eq(num_cards, sum(count_of_card.values()))\n",
    "\n",
    "  for card in recent_cards:\n",
    "    count_of_card[card] -= 1.0\n",
    "  num_cards -= len(recent_cards)\n",
    "\n",
    "  if postpeek_dealer1_int in (1, 10):\n",
    "    # When dealer1 shows 1 or 10, the dealer2 card has nonuniform probability due to the constraint\n",
    "    # that the dealer has non-bj, and this affects the distribution of player-drawn cards.\n",
    "    legal_dealer2 = {\n",
    "        1: (2, 3, 4, 5, 6, 7, 8, 9, 1),\n",
    "        10: (2, 3, 4, 5, 6, 7, 8, 9, 10),\n",
    "    }[postpeek_dealer1_int]\n",
    "    count_of_legal = sum(count_of_card[card] for card in legal_dealer2)\n",
    "    for card in legal_dealer2:\n",
    "      count_of_card[card] -= count_of_card[card] / count_of_legal\n",
    "    num_cards -= 1\n",
    "\n",
    "  probs = {card: count / num_cards for card, count in count_of_card.items() if count != 0.0}\n",
    "  if 0:\n",
    "    # Probabilities can become negative due to get_canonical_hand_with_initial_cards_and_total()\n",
    "    # introducing more cards of a given value than available in the shoe.\n",
    "    assert all(prob > 0.0 for prob in probs.values()), (recent_cards, probs)\n",
    "  if 0:\n",
    "    assert abs(sum(probs.values()) - 1.0) < 1e-12\n",
    "  return probs"
   ]
  },
  {
   "cell_type": "code",
   "execution_count": 46,
   "id": "69e35970-4fa6-4332-b959-103cba34a8fc",
   "metadata": {
    "execution": {
     "iopub.execute_input": "2025-01-18T05:57:36.732860Z",
     "iopub.status.busy": "2025-01-18T05:57:36.732417Z",
     "iopub.status.idle": "2025-01-18T05:57:36.743305Z",
     "shell.execute_reply": "2025-01-18T05:57:36.742660Z",
     "shell.execute_reply.started": "2025-01-18T05:57:36.732845Z"
    }
   },
   "outputs": [],
   "source": [
    "def test_card_probabilities() -> None:\n",
    "  \"\"\"Check `card_probabilities` function.\"\"\"\n",
    "  check_eq(card_probabilities((3, 3, 3), Rules(num_decks=1), 3)[3], 1 / (DECK_SIZE - 3))\n",
    "  assert 3 not in card_probabilities((3, 3, 3, 3), Rules(num_decks=1), 3)"
   ]
  },
  {
   "cell_type": "code",
   "execution_count": 47,
   "id": "d97c9265-20ae-456e-9a5d-aa2b22739cf2",
   "metadata": {
    "execution": {
     "iopub.execute_input": "2025-01-18T05:57:36.744587Z",
     "iopub.status.busy": "2025-01-18T05:57:36.744093Z",
     "iopub.status.idle": "2025-01-18T05:57:36.752769Z",
     "shell.execute_reply": "2025-01-18T05:57:36.752067Z",
     "shell.execute_reply.started": "2025-01-18T05:57:36.744570Z"
    }
   },
   "outputs": [],
   "source": [
    "test_card_probabilities()"
   ]
  },
  {
   "cell_type": "code",
   "execution_count": 48,
   "id": "f03a3ab7",
   "metadata": {
    "execution": {
     "iopub.execute_input": "2025-01-18T05:57:36.753843Z",
     "iopub.status.busy": "2025-01-18T05:57:36.753541Z",
     "iopub.status.idle": "2025-01-18T05:57:36.764153Z",
     "shell.execute_reply": "2025-01-18T05:57:36.763518Z",
     "shell.execute_reply.started": "2025-01-18T05:57:36.753828Z"
    }
   },
   "outputs": [],
   "source": [
    "def card_probabilities_for_state(state: State, rules: Rules) -> dict[Card, float]:\n",
    "  \"\"\"Return a mapping from card values (1-10) to their probabilities given recently seen cards.\"\"\"\n",
    "  player_cards, dealer1, split_cards = state\n",
    "  recent_cards = (\n",
    "      None if rules.num_decks == math.inf else tuple(sorted((*player_cards, dealer1, *split_cards)))\n",
    "  )\n",
    "  postpeek_dealer1 = 2 if not rules.obo else dealer1\n",
    "  return card_probabilities_helper(recent_cards, rules.num_decks, postpeek_dealer1)"
   ]
  },
  {
   "cell_type": "code",
   "execution_count": 49,
   "id": "3be305f8-1b70-483d-877c-755e4fe411c7",
   "metadata": {
    "execution": {
     "iopub.execute_input": "2025-01-18T05:57:36.765151Z",
     "iopub.status.busy": "2025-01-18T05:57:36.764856Z",
     "iopub.status.idle": "2025-01-18T05:57:36.773565Z",
     "shell.execute_reply": "2025-01-18T05:57:36.772926Z",
     "shell.execute_reply.started": "2025-01-18T05:57:36.765137Z"
    }
   },
   "outputs": [],
   "source": [
    "def test_card_probabilities_for_state() -> None:\n",
    "  \"\"\"Check `card_probabilities_for_state` function.\"\"\"\n",
    "  check_eq(\n",
    "      card_probabilities_for_state(((3, 3), 3, ()), Rules(num_decks=1))[3],\n",
    "      1 / (DECK_SIZE - 3),\n",
    "  )\n",
    "  assert 3 not in card_probabilities_for_state(((3, 3, 3), 3, ()), Rules(num_decks=1))\n",
    "  assert 3 not in card_probabilities_for_state(((3, 7), 3, (3, 3, 5, 8)), Rules(num_decks=1))"
   ]
  },
  {
   "cell_type": "code",
   "execution_count": 50,
   "id": "d931d006-3024-4403-a7c0-b02381a59464",
   "metadata": {
    "execution": {
     "iopub.execute_input": "2025-01-18T05:57:36.774633Z",
     "iopub.status.busy": "2025-01-18T05:57:36.774314Z",
     "iopub.status.idle": "2025-01-18T05:57:36.782943Z",
     "shell.execute_reply": "2025-01-18T05:57:36.782268Z",
     "shell.execute_reply.started": "2025-01-18T05:57:36.774618Z"
    },
    "lines_to_next_cell": 2
   },
   "outputs": [],
   "source": [
    "test_card_probabilities_for_state()"
   ]
  },
  {
   "cell_type": "code",
   "execution_count": 51,
   "id": "ef2c822a",
   "metadata": {
    "execution": {
     "iopub.execute_input": "2025-01-18T05:57:36.784010Z",
     "iopub.status.busy": "2025-01-18T05:57:36.783715Z",
     "iopub.status.idle": "2025-01-18T05:57:36.791987Z",
     "shell.execute_reply": "2025-01-18T05:57:36.791331Z",
     "shell.execute_reply.started": "2025-01-18T05:57:36.783996Z"
    },
    "lines_to_next_cell": 2
   },
   "outputs": [],
   "source": [
    "# Instead of hashing a sorted card tuple, an alternative is to store card\n",
    "# counts; there is room in a 64-bit int to encode all card counts for 8 decks:\n",
    "# print((8*4*4 + 1)**1 * (8*4 + 1)**9 / 2**64)  # 0.0003245"
   ]
  },
  {
   "cell_type": "code",
   "execution_count": 52,
   "id": "ae3a386b",
   "metadata": {
    "execution": {
     "iopub.execute_input": "2025-01-18T05:57:36.793382Z",
     "iopub.status.busy": "2025-01-18T05:57:36.792860Z",
     "iopub.status.idle": "2025-01-18T05:57:36.801331Z",
     "shell.execute_reply": "2025-01-18T05:57:36.800730Z",
     "shell.execute_reply.started": "2025-01-18T05:57:36.793366Z"
    },
    "lines_to_next_cell": 2
   },
   "outputs": [],
   "source": [
    "def probability_dealer_bj(state: State, rules: Rules) -> float:\n",
    "  \"\"\"Return the probability that the dealer holds an (ace, 10).\"\"\"\n",
    "  player_cards, dealer1, () = state\n",
    "\n",
    "  if rules.num_decks == math.inf:\n",
    "    return 4 / 13 if dealer1 == 1 else 1 / 13 if dealer1 == 10 else 0.0\n",
    "\n",
    "  if dealer1 not in (1, 10):\n",
    "    return 0.0\n",
    "\n",
    "  dealer2_for_bj = 11 - dealer1\n",
    "  # assert dealer2_for_bj in (1, 10)\n",
    "  recent_cards = make_recent((*player_cards, dealer1), rules)\n",
    "  # We cannot use card_probabilities_for_state() because we must set postpeek_dealer1=None.\n",
    "  return card_probabilities(recent_cards, rules, None)[dealer2_for_bj]"
   ]
  },
  {
   "cell_type": "markdown",
   "id": "5e42fabc",
   "metadata": {
    "lines_to_next_cell": 2
   },
   "source": [
    "### Reward on dealer draw"
   ]
  },
  {
   "cell_type": "code",
   "execution_count": 53,
   "id": "492ff6e7",
   "metadata": {
    "execution": {
     "iopub.execute_input": "2025-01-18T05:57:36.802398Z",
     "iopub.status.busy": "2025-01-18T05:57:36.802066Z",
     "iopub.status.idle": "2025-01-18T05:57:36.810957Z",
     "shell.execute_reply": "2025-01-18T05:57:36.810161Z",
     "shell.execute_reply.started": "2025-01-18T05:57:36.802381Z"
    }
   },
   "outputs": [],
   "source": [
    "def reward_after_dealer_upcard(state: State, rules: Rules) -> float:\n",
    "  \"\"\"Return the expected reward at the end of player action; assume the player does not have\n",
    "  blackjack; handle dealer blackjack if not OBO else ignore it.\"\"\"\n",
    "  # We extract relevant fields to improve the lru_cache memoization efficiency.\n",
    "  player_cards, dealer1, _ = state\n",
    "  player_total, _ = combine_cards(player_cards)\n",
    "  if player_total > 21:\n",
    "    return -1.0  # Player busts and therefore loses.\n",
    "  recent_cards = make_recent_from_state(state, rules)\n",
    "  return reward_after_dealer_upcard_helper(\n",
    "      player_total, dealer1, recent_cards, rules.num_decks, rules.hit_soft17, rules.obo\n",
    "  )"
   ]
  },
  {
   "cell_type": "code",
   "execution_count": 54,
   "id": "e2baa22f",
   "metadata": {
    "execution": {
     "iopub.execute_input": "2025-01-18T05:57:36.811888Z",
     "iopub.status.busy": "2025-01-18T05:57:36.811726Z",
     "iopub.status.idle": "2025-01-18T05:57:36.822871Z",
     "shell.execute_reply": "2025-01-18T05:57:36.822248Z",
     "shell.execute_reply.started": "2025-01-18T05:57:36.811874Z"
    }
   },
   "outputs": [],
   "source": [
    "@functools.lru_cache(maxsize=10_000_000)\n",
    "def reward_after_dealer_upcard_helper(\n",
    "    player_total: int,\n",
    "    dealer1: Card,\n",
    "    recent_cards: RecentCards,\n",
    "    num_decks: float,\n",
    "    hit_soft17: bool,\n",
    "    obo: bool,\n",
    ") -> float:\n",
    "  \"\"\"Return the expected reward at the end of player action; assume the player does not have\n",
    "  blackjack; handle dealer blackjack if not OBO else ignore it.\"\"\"\n",
    "  # assert 4 <= player_total <= 21 and 1 <= dealer1 <= 10\n",
    "  sum_reward = 0.0\n",
    "  sum_prob = 0.0\n",
    "  # We set postpeek_dealer1=2 to remove the obo-based peek bias; we test for dealer_bj here and\n",
    "  # remove that outcome (renormalizing probabilities) if obo=True.\n",
    "  for dealer2, prob in card_probabilities_helper(recent_cards, num_decks, 2).items():\n",
    "    dealer_total, dealer_soft = combine_two_cards(dealer1, dealer2)\n",
    "    dealer_bj = dealer_total == 21\n",
    "    if dealer_bj:\n",
    "      if obo:\n",
    "        continue  # dealer_bj already accounted for in reward_for_initial_hand().\n",
    "      reward = -1.0  # Dealer has blackjack and thus player loses.\n",
    "    elif dealer_total < 17 or (dealer_total == 17 and dealer_soft and hit_soft17):  # Dealer hits.\n",
    "      recent_cards2 = add_recent(recent_cards, dealer2)\n",
    "      reward = reward_after_dealer_hits(\n",
    "          player_total, dealer_total, dealer_soft, recent_cards2, num_decks, hit_soft17\n",
    "      )\n",
    "    else:  # Dealer stands.\n",
    "      # Player wins, pushes, or loses.\n",
    "      reward = 1.0 if player_total > dealer_total else 0.0 if player_total == dealer_total else -1.0\n",
    "    sum_reward += prob * reward\n",
    "    sum_prob += prob\n",
    "\n",
    "  assert sum_prob > 0.0\n",
    "  return sum_reward / sum_prob"
   ]
  },
  {
   "cell_type": "code",
   "execution_count": 55,
   "id": "692a10bd",
   "metadata": {
    "execution": {
     "iopub.execute_input": "2025-01-18T05:57:36.823980Z",
     "iopub.status.busy": "2025-01-18T05:57:36.823633Z",
     "iopub.status.idle": "2025-01-18T05:57:36.834946Z",
     "shell.execute_reply": "2025-01-18T05:57:36.834231Z",
     "shell.execute_reply.started": "2025-01-18T05:57:36.823963Z"
    },
    "lines_to_next_cell": 2
   },
   "outputs": [],
   "source": [
    "@functools.lru_cache(maxsize=22_000_000)  # Larger than EFFORT=3 single Rules.\n",
    "def reward_after_dealer_hits(\n",
    "    player_total: int,\n",
    "    dealer_total: int,\n",
    "    dealer_soft: bool,\n",
    "    recent_cards: RecentCards,\n",
    "    num_decks: float,\n",
    "    hit_soft17: bool,\n",
    ") -> float:\n",
    "  \"\"\"Return the expected reward after dealer hits with specified total (given that neither\n",
    "  player nor dealer has blackjack).\"\"\"\n",
    "  # assert 4 <= player_total <= 21 and 4 <= dealer_total <= 21\n",
    "  sum_reward = 0.0\n",
    "  for card, prob in card_probabilities_helper(recent_cards, num_decks, 2).items():\n",
    "    dealer_total2, dealer_soft2 = add_card(dealer_total, dealer_soft, card)\n",
    "    if dealer_total2 > 21:\n",
    "      reward = 1.0  # Dealer busts and thus player wins.\n",
    "    elif dealer_total2 < 17 or (dealer_total2 == 17 and dealer_soft2 and hit_soft17):  # Hits.\n",
    "      recent_cards2 = add_recent(recent_cards, card)\n",
    "      reward = reward_after_dealer_hits(\n",
    "          player_total, dealer_total2, dealer_soft2, recent_cards2, num_decks, hit_soft17\n",
    "      )\n",
    "    else:  # Dealer stands.\n",
    "      # Player wins, pushes, or loses.\n",
    "      reward = 1.0 if player_total > dealer_total2 else 0 if player_total == dealer_total2 else -1.0\n",
    "    sum_reward += prob * reward\n",
    "\n",
    "  return sum_reward"
   ]
  },
  {
   "cell_type": "markdown",
   "id": "beaad09b",
   "metadata": {
    "lines_to_next_cell": 2
   },
   "source": [
    "### Reward on player action"
   ]
  },
  {
   "cell_type": "code",
   "execution_count": 56,
   "id": "6de61ff2",
   "metadata": {
    "execution": {
     "iopub.execute_input": "2025-01-18T05:57:36.836078Z",
     "iopub.status.busy": "2025-01-18T05:57:36.835740Z",
     "iopub.status.idle": "2025-01-18T05:57:36.846989Z",
     "shell.execute_reply": "2025-01-18T05:57:36.846153Z",
     "shell.execute_reply.started": "2025-01-18T05:57:36.836061Z"
    }
   },
   "outputs": [],
   "source": [
    "def reward_for_initial_hand(\n",
    "    state: State,\n",
    "    rules: Rules,\n",
    "    strategy: Strategy,\n",
    "    action: Action,\n",
    ") -> float:\n",
    "  \"\"\"Compute the expected reward for the first action.  Handle player blackjack, and if OBO, dealer\n",
    "  blackjack as well.  (If not OBO, dealer bj is handled in reward_after_dealer_upcard().)\"\"\"\n",
    "  (card1, card2), dealer1, _ = state\n",
    "  assert 1 <= card1 <= card2 <= 10 and 1 <= dealer1 <= 10\n",
    "  player_bj = card1 == 1 and card2 == 10\n",
    "  prob_dealer_bj = probability_dealer_bj(state, rules)\n",
    "\n",
    "  if player_bj and action is Action.STAND:\n",
    "    reward = rules.blackjack_payout\n",
    "    # Push (reward 0.0) if both player and dealer have blackjacks, else player bj wins.\n",
    "    return 0.0 * prob_dealer_bj + reward * (1.0 - prob_dealer_bj)\n",
    "\n",
    "  reward = reward_for_action(state, rules, strategy, action)\n",
    "\n",
    "  if rules.obo:\n",
    "    # Dealer blackjack beats any player hand, including 21, except player bj.\n",
    "    # Player loses original bet only (obo) which has value 1.0.\n",
    "    post_peek_reward = reward\n",
    "    reward = -1.0 * prob_dealer_bj + post_peek_reward * (1.0 - prob_dealer_bj)\n",
    "\n",
    "  return reward"
   ]
  },
  {
   "cell_type": "code",
   "execution_count": 57,
   "id": "d06b08f5",
   "metadata": {
    "execution": {
     "iopub.execute_input": "2025-01-18T05:57:36.848138Z",
     "iopub.status.busy": "2025-01-18T05:57:36.847803Z",
     "iopub.status.idle": "2025-01-18T05:57:36.858528Z",
     "shell.execute_reply": "2025-01-18T05:57:36.857829Z",
     "shell.execute_reply.started": "2025-01-18T05:57:36.848122Z"
    }
   },
   "outputs": [],
   "source": [
    "def action_allowed(state: State, rules: Rules, action: Action) -> bool:\n",
    "  \"\"\"Return True if the action is allowed given all the parameters.\"\"\"\n",
    "  player_cards, _, _ = state\n",
    "  is_first_action = len(player_cards) == 2\n",
    "  player_total, player_soft = combine_cards(player_cards)\n",
    "\n",
    "  match action:\n",
    "    case Action.DOUBLE:\n",
    "      if not is_first_action or (\n",
    "          rules.double_min_total > 0 and (player_soft or player_total < rules.double_min_total)\n",
    "      ):\n",
    "        return False\n",
    "\n",
    "    case Action.SPLIT:\n",
    "      if not is_first_action or player_cards[0] != player_cards[1] or rules.split_to_num_hands == 0:\n",
    "        return False\n",
    "\n",
    "    case Action.SURRENDER:\n",
    "      if not is_first_action or not rules.late_surrender:\n",
    "        return False\n",
    "\n",
    "    case _:\n",
    "      pass\n",
    "\n",
    "  return True"
   ]
  },
  {
   "cell_type": "code",
   "execution_count": 58,
   "id": "9e969cec",
   "metadata": {
    "execution": {
     "iopub.execute_input": "2025-01-18T05:57:36.859487Z",
     "iopub.status.busy": "2025-01-18T05:57:36.859265Z",
     "iopub.status.idle": "2025-01-18T05:57:36.868344Z",
     "shell.execute_reply": "2025-01-18T05:57:36.867656Z",
     "shell.execute_reply.started": "2025-01-18T05:57:36.859472Z"
    }
   },
   "outputs": [],
   "source": [
    "def reward_for_action(state: State, rules: Rules, strategy: Strategy, action: Action) -> float:\n",
    "  \"\"\"Return the expected reward for either:\n",
    "  - the first action (i.e., if player_total is None) (using card1 and card2) or\n",
    "  - subsequent actions (using player_total and player_soft).\n",
    "  The reward does not account for player blackjack (and if rules.obo, dealer blackjack).\"\"\"\n",
    "  player_cards, _, _ = state\n",
    "  is_first_action = len(player_cards) == 2\n",
    "  if not action_allowed(state, rules, action) or (\n",
    "      is_first_action and action not in strategy.first_actions\n",
    "  ):\n",
    "    return DISALLOWED\n",
    "\n",
    "  match action:\n",
    "    case Action.STAND:\n",
    "      reward = reward_after_dealer_upcard(state, rules)\n",
    "\n",
    "    case Action.HIT:\n",
    "      player_total, player_soft = combine_cards(player_cards)\n",
    "      reward = 0.0\n",
    "      for card, prob in card_probabilities_for_state(state, rules).items():\n",
    "        player_total2, _ = add_card(player_total, player_soft, card)\n",
    "        if player_total2 > 21:\n",
    "          reward_card = -1.0  # Player busts and loses.\n",
    "        else:\n",
    "          state2 = state_hit_card(state, card)\n",
    "          reward_card = best_reward_and_action(state2, rules, strategy)[0]\n",
    "        reward += prob * reward_card\n",
    "\n",
    "    case Action.DOUBLE:\n",
    "      reward = reward_for_double(state, rules)\n",
    "\n",
    "    case Action.SPLIT:\n",
    "      reward = reward_for_split(state, rules, strategy)\n",
    "\n",
    "    case Action.SURRENDER:\n",
    "      reward = -0.5  # Lose half the bet (unless dealer has bj).\n",
    "      # if OBO, dealer_bj is already accounted for in reward_for_initial_hand().\n",
    "      if not rules.obo:\n",
    "        prob_dealer_bj = probability_dealer_bj(state, rules)\n",
    "        reward = -1.0 * prob_dealer_bj + reward * (1.0 - prob_dealer_bj)\n",
    "\n",
    "    case _:\n",
    "      raise ValueError(action)\n",
    "\n",
    "  return reward"
   ]
  },
  {
   "cell_type": "code",
   "execution_count": 59,
   "id": "f88aa349",
   "metadata": {
    "execution": {
     "iopub.execute_input": "2025-01-18T05:57:36.869241Z",
     "iopub.status.busy": "2025-01-18T05:57:36.869057Z",
     "iopub.status.idle": "2025-01-18T05:57:36.879816Z",
     "shell.execute_reply": "2025-01-18T05:57:36.879159Z",
     "shell.execute_reply.started": "2025-01-18T05:57:36.869224Z"
    }
   },
   "outputs": [],
   "source": [
    "def reward_for_double(state: State, rules: Rules) -> float:\n",
    "  \"\"\"Return the reward for DOUBLE.\"\"\"\n",
    "  reward = 0.0\n",
    "  for card, prob in card_probabilities_for_state(state, rules).items():\n",
    "    state2 = state_hit_card(state, card)\n",
    "    # Player must STAND after DOUBLE.\n",
    "    reward_card = reward_after_dealer_upcard(state2, rules)\n",
    "    reward += prob * reward_card * 2.0\n",
    "  return reward"
   ]
  },
  {
   "cell_type": "code",
   "execution_count": 60,
   "id": "768b0d89",
   "metadata": {
    "execution": {
     "iopub.execute_input": "2025-01-18T05:57:36.881011Z",
     "iopub.status.busy": "2025-01-18T05:57:36.880841Z",
     "iopub.status.idle": "2025-01-18T05:57:36.892570Z",
     "shell.execute_reply": "2025-01-18T05:57:36.891914Z",
     "shell.execute_reply.started": "2025-01-18T05:57:36.880996Z"
    }
   },
   "outputs": [],
   "source": [
    "# (lru_cache not useful because infrequent repeated calls)\n",
    "def reward_for_split(state: State, rules: Rules, strategy: Strategy) -> float:\n",
    "  \"\"\"Return the reward for SPLIT on a pair.  It is assumed that any allowed resplits are\n",
    "  also performed.\"\"\"\n",
    "  # See also https://possiblywrong.wordpress.com/2011/07/25/blackjack-and-pair-splitting/ .\n",
    "  (card1, card2_redundant), dealer1, () = state\n",
    "  assert card1 == card2_redundant\n",
    "  resplits_allowed = card1 != 1 or rules.resplit_aces\n",
    "\n",
    "  actions = strategy.first_actions\n",
    "  if actions == {Action.SPLIT}:\n",
    "    # We forced the splitting of paired hands; now we reset so as to not constrain the first\n",
    "    # action on the completed split hands.\n",
    "    actions = ACTIONS\n",
    "  actions -= {Action.SPLIT, Action.SURRENDER}\n",
    "  if card1 == 1 and not rules.hit_split_aces:\n",
    "    actions -= {Action.HIT}\n",
    "  if not rules.double_after_split or (card1 == 1 and not rules.double_split_aces):\n",
    "    actions -= {Action.DOUBLE}\n",
    "  strategy2 = dataclasses.replace(strategy, first_actions=frozenset(actions))\n",
    "  del strategy  # No longer used.\n",
    "\n",
    "  def add_split_card(split_cards: Cards, card: Card) -> Cards:\n",
    "    \"\"\"Return new split_cards merging the prior `split_cards` and the new `card`.\"\"\"\n",
    "    if card == card1:\n",
    "      return card, *split_cards\n",
    "    num_card1 = split_cards.count(card1)\n",
    "    if 0:\n",
    "      assert num_card1 > 0\n",
    "      assert all((card == card1) == (i < num_card1) for i, card in enumerate(split_cards))\n",
    "    return *split_cards[:num_card1], *sorted((*split_cards[num_card1:], card))\n",
    "\n",
    "  reward = 0.0  # Sum of rewards for completed split hands.\n",
    "\n",
    "  # The initial card pair contributes two incomplete hands.  Let `split_cards` record the\n",
    "  # player cards that are unaccounted for in the incomplete hand that will be next considered.\n",
    "  # Initially this is just the `card1` for the second incomplete hand.\n",
    "  initial_split_cards = (card1,) if EFFORT >= 2 else ()\n",
    "\n",
    "  # Split states are {(split_cards, num_complete, num_incomplete): prob}.\n",
    "  split_states = {(initial_split_cards, 0, 2): 1.0}\n",
    "\n",
    "  # Note that for num_decks=1 or split_to_num_hands=4, the loop terminates early; the value 10\n",
    "  # aims for sufficient precision for num_decks >= 2 and split_to_num_hands == math.inf.\n",
    "  num_split_loops = 10\n",
    "\n",
    "  for _ in range(num_split_loops):\n",
    "    new_split_states = collections.defaultdict[Any, float](lambda: 0.0)\n",
    "    for (split_cards, num_complete, num_incomplete), prob1 in split_states.items():\n",
    "      current_split_num_hands = num_complete + num_incomplete\n",
    "      split_allowed = current_split_num_hands < rules.split_to_num_hands and resplits_allowed\n",
    "      recent_cards = make_recent((card1, dealer1, *split_cards), rules)\n",
    "      for card, prob_card in card_probabilities(recent_cards, rules, dealer1).items():\n",
    "        prob2 = prob1 * prob_card\n",
    "        if card == card1 and split_allowed:\n",
    "          include_card = EFFORT >= 2\n",
    "          split_cards2 = add_split_card(split_cards, card) if include_card else split_cards\n",
    "          new_split_states[split_cards2, num_complete, num_incomplete + 1] += prob2\n",
    "        else:\n",
    "          state2 = order_cards(card1, card), dealer1, split_cards\n",
    "          reward_for_card = best_reward_and_action(state2, rules, strategy2)[0]\n",
    "          reward += prob2 * reward_for_card\n",
    "          if num_incomplete > 1:\n",
    "            # We could consider heuristics like \"and (card == dealer1 or card in split_cards)\".\n",
    "            include_card = len(split_cards) < [0, 0, 0, 3, 8][EFFORT]\n",
    "            split_cards2 = add_split_card(split_cards, card) if include_card else split_cards\n",
    "            new_split_states[split_cards2, num_complete + 1, num_incomplete - 1] += prob2\n",
    "\n",
    "    split_states = new_split_states\n",
    "    # hh.show(reward, dict(split_states))\n",
    "    if not split_states:\n",
    "      break\n",
    "\n",
    "  return reward"
   ]
  },
  {
   "cell_type": "code",
   "execution_count": 61,
   "id": "0d001c4b",
   "metadata": {
    "execution": {
     "iopub.execute_input": "2025-01-18T05:57:36.893436Z",
     "iopub.status.busy": "2025-01-18T05:57:36.893273Z",
     "iopub.status.idle": "2025-01-18T05:57:36.908871Z",
     "shell.execute_reply": "2025-01-18T05:57:36.908217Z",
     "shell.execute_reply.started": "2025-01-18T05:57:36.893422Z"
    }
   },
   "outputs": [],
   "source": [
    "def best_reward_estimate_and_action(\n",
    "    state: State,\n",
    "    rules: Rules,\n",
    "    strategy: Strategy,\n",
    ") -> tuple[float, Action]:\n",
    "  \"\"\"Determine the action with the best expected reward under the restricted state of\n",
    "  `strategy.attention`.  Return the action and the reward estimated using the restricted state.\n",
    "\n",
    "  Note that best_reward_and_action() evaluates the action rewards using reward_for_action()\n",
    "  rather than reward_for_initial_hand().  Therefore, the computed rewards ignore player bj\n",
    "  (and dealer bj if OBO).  However, the ranking of the actions is unaffected, because the player\n",
    "  bj (and dealer bj if OBO) are effectively handled before any user action.\"\"\"\n",
    "  player_cards, dealer1, split_cards = state\n",
    "  is_first_action = len(player_cards) == 2\n",
    "  actions = strategy.first_actions if is_first_action else {Action.STAND, Action.HIT}\n",
    "  is_first_action_on_pair = is_first_action and player_cards[0] == player_cards[1]\n",
    "\n",
    "  if strategy.attention is Attention.HAND_AND_INITIAL_CARDS_IN_PRIOR_SPLITS:\n",
    "    args = state, rules, strategy  # Use the full state.\n",
    "    best_reward, best_action = max((reward_for_action(*args, action), action) for action in actions)\n",
    "\n",
    "  elif strategy.attention is Attention.HAND_AND_NUM_PRIOR_SPLITS:\n",
    "    if split_cards:\n",
    "      num_card1 = split_cards.count(split_cards[0])\n",
    "      split_cards = split_cards[:num_card1]  # Keep only the prefix of split `card1` cards.\n",
    "      state = player_cards, dealer1, split_cards\n",
    "    args = state, rules, strategy\n",
    "    best_reward, best_action = max((reward_for_action(*args, action), action) for action in actions)\n",
    "\n",
    "  elif (\n",
    "      strategy.attention is Attention.HAND_CARDS_ONLY\n",
    "      or is_first_action_on_pair\n",
    "      or (strategy.attention is not Attention.TOTAL_OF_CARDS and is_first_action)\n",
    "  ):\n",
    "    state = player_cards, dealer1, ()  # Discard all split_cards (cards from prior splits).\n",
    "    args = state, rules, strategy\n",
    "    best_reward, best_action = max((reward_for_action(*args, action), action) for action in actions)\n",
    "\n",
    "  elif strategy.attention is Attention.INITIAL_CARDS_AND_TOTAL:\n",
    "    # Challenging case: non-first action: we want to use player_total but keep only (card1, card2),\n",
    "    # so we either use existing 3 cards or invent a card3 (and maybe card4) to match the total.\n",
    "    assert not is_first_action\n",
    "    if len(player_cards) > 3:\n",
    "      player_cards = get_canonical_hand_keeping_initial_cards_and_total(player_cards)\n",
    "    state = player_cards, dealer1, ()\n",
    "    args = state, rules, strategy\n",
    "    best_reward, best_action = max((reward_for_action(*args, action), action) for action in actions)\n",
    "\n",
    "  elif strategy.attention is Attention.INITIAL_CARDS_OR_TOTAL or not is_first_action:\n",
    "    assert not is_first_action\n",
    "    player_total, player_soft = combine_cards(player_cards)\n",
    "    best_reward, best_action = best_reward_estimate_and_action_using_non_first_total(\n",
    "        player_total, player_soft, dealer1, rules, strategy\n",
    "    )\n",
    "\n",
    "  elif strategy.attention is Attention.TOTAL_OF_CARDS:\n",
    "    assert is_first_action and not is_first_action_on_pair\n",
    "    best_reward, best_action = best_reward_estimate_and_action_using_total_of_cards(\n",
    "        state, rules, strategy\n",
    "    )\n",
    "\n",
    "  else:\n",
    "    raise ValueError(strategy.attention)\n",
    "\n",
    "  assert best_reward != DISALLOWED\n",
    "  return best_reward, best_action"
   ]
  },
  {
   "cell_type": "code",
   "execution_count": 62,
   "id": "066b656d",
   "metadata": {
    "execution": {
     "iopub.execute_input": "2025-01-18T05:57:36.909772Z",
     "iopub.status.busy": "2025-01-18T05:57:36.909585Z",
     "iopub.status.idle": "2025-01-18T05:57:36.920578Z",
     "shell.execute_reply": "2025-01-18T05:57:36.919921Z",
     "shell.execute_reply.started": "2025-01-18T05:57:36.909756Z"
    }
   },
   "outputs": [],
   "source": [
    "@functools.cache\n",
    "def best_reward_estimate_and_action_using_non_first_total(\n",
    "    player_total: int,\n",
    "    player_soft: bool,\n",
    "    dealer1: Card,\n",
    "    rules: Rules,\n",
    "    strategy: Strategy,\n",
    ") -> tuple[float, Action]:\n",
    "  \"\"\"We memoize this particular case of using Attention.INITIAL_CARDS_OR_TOTAL.\"\"\"\n",
    "  actions = {Action.STAND, Action.HIT}\n",
    "  strategy2 = dataclasses.replace(strategy, first_actions=ACTIONS)\n",
    "  args = player_total, player_soft, dealer1, rules, strategy2\n",
    "  best_reward, best_action = max(\n",
    "      (reward_for_basic_strategy_total(*args, action), action) for action in actions\n",
    "  )\n",
    "  return best_reward, best_action"
   ]
  },
  {
   "cell_type": "code",
   "execution_count": 63,
   "id": "c3559d1a",
   "metadata": {
    "execution": {
     "iopub.execute_input": "2025-01-18T05:57:36.921434Z",
     "iopub.status.busy": "2025-01-18T05:57:36.921260Z",
     "iopub.status.idle": "2025-01-18T05:57:36.930001Z",
     "shell.execute_reply": "2025-01-18T05:57:36.929399Z",
     "shell.execute_reply.started": "2025-01-18T05:57:36.921420Z"
    }
   },
   "outputs": [],
   "source": [
    "@functools.cache\n",
    "def best_reward_estimate_and_action_using_total_of_cards(\n",
    "    state: State,\n",
    "    rules: Rules,\n",
    "    strategy: Strategy,\n",
    ") -> tuple[float, Action]:\n",
    "  \"\"\"We memoize this particular case of using Attention.TOTAL_OF_CARDS.\"\"\"\n",
    "  player_cards, dealer1, _ = state\n",
    "  # We can assume: assert is_first_action and not is_first_action_on_pair\n",
    "  actions = strategy.first_actions\n",
    "  player_total, player_soft = combine_cards(player_cards)\n",
    "  strategy2 = dataclasses.replace(strategy, first_actions=ACTIONS)\n",
    "  args = player_total, player_soft, dealer1, rules, strategy2\n",
    "  best_reward, best_action = max(\n",
    "      (reward_for_basic_strategy_total(*args, action), action)\n",
    "      for action in actions\n",
    "      if action_allowed(state, rules, action)\n",
    "  )\n",
    "  return best_reward, best_action"
   ]
  },
  {
   "cell_type": "code",
   "execution_count": 64,
   "id": "bf60d268",
   "metadata": {
    "execution": {
     "iopub.execute_input": "2025-01-18T05:57:36.931401Z",
     "iopub.status.busy": "2025-01-18T05:57:36.930961Z",
     "iopub.status.idle": "2025-01-18T05:57:36.942105Z",
     "shell.execute_reply": "2025-01-18T05:57:36.941373Z",
     "shell.execute_reply.started": "2025-01-18T05:57:36.931381Z"
    }
   },
   "outputs": [],
   "source": [
    "@functools.lru_cache(maxsize=10_000_000)  # Larger than EFFORT=3 single Rules.\n",
    "def best_reward_and_action(state: State, rules: Rules, strategy: Strategy) -> tuple[float, Action]:\n",
    "  \"\"\"Determine the action with the best expected reward.  Return both the reward and the action.\n",
    "\n",
    "  Note that best_reward_and_action() evaluates the action rewards using reward_for_action()\n",
    "  rather than reward_for_initial_hand().  Therefore, the computed rewards ignore player bj\n",
    "  (and dealer bj if OBO).  However, the ranking of the actions is unaffected, because the player\n",
    "  bj (and dealer bj if OBO) are effectively handled before any user action.\"\"\"\n",
    "  # We first determine the best_action based on the possibly restricted state specified by\n",
    "  # strategy.attention (e.g., Attention.TOTAL_OF_CARDS or Attention.INITIAL_CARDS_AND_TOTAL).\n",
    "  best_reward, best_action = best_reward_estimate_and_action(state, rules, strategy)\n",
    "\n",
    "  if strategy.attention is not Attention.HAND_AND_INITIAL_CARDS_IN_PRIOR_SPLITS:\n",
    "    # If the best_action was based on a restricted state, we recompute the expected reward for\n",
    "    # that same action but using the full state.  (Note that in this reward computation, the\n",
    "    # subsequent best actions are again determined using attention-specific restricted states.)\n",
    "    best_reward = reward_for_action(state, rules, strategy, best_action)\n",
    "\n",
    "  assert best_reward != DISALLOWED\n",
    "  return best_reward, best_action"
   ]
  },
  {
   "cell_type": "code",
   "execution_count": 65,
   "id": "6a29d70e",
   "metadata": {
    "execution": {
     "iopub.execute_input": "2025-01-18T05:57:36.943301Z",
     "iopub.status.busy": "2025-01-18T05:57:36.942978Z",
     "iopub.status.idle": "2025-01-18T05:57:36.953395Z",
     "shell.execute_reply": "2025-01-18T05:57:36.952663Z",
     "shell.execute_reply.started": "2025-01-18T05:57:36.943283Z"
    }
   },
   "outputs": [],
   "source": [
    "def get_best_action(state: State, rules: Rules, strategy: Strategy) -> Action:\n",
    "  \"\"\"Determine the action with the best expected reward.\"\"\"\n",
    "  return best_reward_estimate_and_action(state, rules, strategy)[1]"
   ]
  },
  {
   "cell_type": "code",
   "execution_count": 66,
   "id": "54c29b86",
   "metadata": {
    "execution": {
     "iopub.execute_input": "2025-01-18T05:57:36.960622Z",
     "iopub.status.busy": "2025-01-18T05:57:36.959996Z",
     "iopub.status.idle": "2025-01-18T05:57:36.964161Z",
     "shell.execute_reply": "2025-01-18T05:57:36.963525Z",
     "shell.execute_reply.started": "2025-01-18T05:57:36.960606Z"
    }
   },
   "outputs": [],
   "source": [
    "if 0:\n",
    "  with temporary_effort(1):\n",
    "    hh.print_time(\n",
    "        lambda: reward_for_split(\n",
    "            ((10, 10), 8, ()), Rules(num_decks=1), COMPOSITION_DEPENDENT_STRATEGY\n",
    "        ),\n",
    "        max_repeat=1,\n",
    "    )\n",
    "  # Times are * 100 for all possible splits (card1 and dealer1).\n",
    "  # For 1 deck:\n",
    "  # EFFORT=0: 170 µs.\n",
    "  # EFFORT=1: 170 µs.\n",
    "  # EFFORT=2: 44 ms.\n",
    "  # EFFORT=3: 270 ms.\n",
    "  # For 6 decks:\n",
    "  # EFFORT=0: 170 µs.\n",
    "  # EFFORT=1: 170 µs.\n",
    "  # EFFORT=2: 45 ms.\n",
    "  # EFFORT=3: 280 ms."
   ]
  },
  {
   "cell_type": "code",
   "execution_count": 67,
   "id": "d2f01640",
   "metadata": {
    "execution": {
     "iopub.execute_input": "2025-01-18T05:57:36.965143Z",
     "iopub.status.busy": "2025-01-18T05:57:36.964852Z",
     "iopub.status.idle": "2025-01-18T05:57:36.975906Z",
     "shell.execute_reply": "2025-01-18T05:57:36.975186Z",
     "shell.execute_reply.started": "2025-01-18T05:57:36.965129Z"
    },
    "lines_to_next_cell": 2
   },
   "outputs": [],
   "source": [
    "if 0:\n",
    "  with temporary_effort(1):\n",
    "    hh.prun(\n",
    "        lambda: reward_for_split(\n",
    "            ((2, 2), 8, ()), Rules(num_decks=1), COMPOSITION_DEPENDENT_STRATEGY\n",
    "        ),\n",
    "        top=80,\n",
    "    )"
   ]
  },
  {
   "cell_type": "markdown",
   "id": "0a93af15",
   "metadata": {
    "lines_to_next_cell": 2
   },
   "source": [
    "### Basic strategy"
   ]
  },
  {
   "cell_type": "code",
   "execution_count": 68,
   "id": "41d3957c",
   "metadata": {
    "execution": {
     "iopub.execute_input": "2025-01-18T05:57:36.977023Z",
     "iopub.status.busy": "2025-01-18T05:57:36.976681Z",
     "iopub.status.idle": "2025-01-18T05:57:36.985974Z",
     "shell.execute_reply": "2025-01-18T05:57:36.985340Z",
     "shell.execute_reply.started": "2025-01-18T05:57:36.977006Z"
    }
   },
   "outputs": [],
   "source": [
    "@functools.cache\n",
    "def reward_for_basic_strategy_total(\n",
    "    player_total: int,\n",
    "    player_soft: bool,\n",
    "    dealer1: Card,\n",
    "    rules: Rules,\n",
    "    strategy: Strategy,\n",
    "    action: Action,\n",
    ") -> float:\n",
    "  \"\"\"Compute the per-action expected reward for each cell (player_total, dealer1) of the two\n",
    "  basic-strategy tables (player_soft=[False,True]).\"\"\"\n",
    "  assert 1 <= dealer1 <= 10\n",
    "  assert strategy.attention in (Attention.TOTAL_OF_CARDS, Attention.INITIAL_CARDS_OR_TOTAL)\n",
    "  assert len(strategy.first_actions) > 1\n",
    "  assert action is not Action.SPLIT\n",
    "  if player_total == 21:\n",
    "    player_soft = True  # To allow one card to be a 1 (ace).\n",
    "\n",
    "  # We compute the expected reward over all possible (card1, card2) hands matching the specified\n",
    "  # total.  We generally exclude pairs (card1 == card2) because these are handled in the separate\n",
    "  # pairs-action table.  The reward for each (card1, card2) hand is evaluated using a\n",
    "  # composition-dependent analysis to avoid infinite recursion.\n",
    "  strategy2 = dataclasses.replace(strategy, attention=Attention.INITIAL_CARDS_AND_TOTAL)\n",
    "  sum_reward = 0.0\n",
    "  sum_prob = 0.0\n",
    "  recent_cards = make_recent((dealer1,), rules)\n",
    "  card1_candidates = (\n",
    "      range(1, 2)\n",
    "      if player_soft or player_total == 21\n",
    "      else range(max(2, player_total - 10), min(10, player_total - 2) + 1)\n",
    "  )\n",
    "\n",
    "  for card1 in card1_candidates:\n",
    "    prob1 = card_probabilities(recent_cards, rules, None)[card1]\n",
    "    card2 = player_total - card1 - (10 if player_soft else 0)\n",
    "    if 0:\n",
    "      assert 1 <= card1, card2 <= 10\n",
    "      assert combine_two_cards(card1, card2) == (player_total, player_soft)\n",
    "    # For probabilistic analysis, first action on pairs is considered elsewhere (in the\n",
    "    # pairs-action table).  For simulation, create_tables() uses this function for first action\n",
    "    # on pairs where either split_table[...] equals False or further pair splitting is disallowed;\n",
    "    # therefore we must consider pairs of 1, 2, or 10 because these are the only way to\n",
    "    # reproduce hard totals of 4 and 20 and a soft total of 12.\n",
    "    if card1 == card2 and card1 not in (1, 2, 10):\n",
    "      continue\n",
    "    recent_cards2 = add_recent(recent_cards, card1)\n",
    "    prob2 = card_probabilities(recent_cards2, rules, None)[card2]\n",
    "    prob = prob1 * prob2\n",
    "    state = (card1, card2), dealer1, ()\n",
    "    reward = reward_for_action(state, rules, strategy2, action)\n",
    "    sum_reward += prob * reward\n",
    "    sum_prob += prob\n",
    "\n",
    "  assert sum_prob > 0.0\n",
    "  return sum_reward / sum_prob"
   ]
  },
  {
   "cell_type": "code",
   "execution_count": 69,
   "id": "75377ea0",
   "metadata": {
    "execution": {
     "iopub.execute_input": "2025-01-18T05:57:36.987066Z",
     "iopub.status.busy": "2025-01-18T05:57:36.986746Z",
     "iopub.status.idle": "2025-01-18T05:57:36.998727Z",
     "shell.execute_reply": "2025-01-18T05:57:36.998024Z",
     "shell.execute_reply.started": "2025-01-18T05:57:36.987048Z"
    }
   },
   "outputs": [],
   "source": [
    "@functools.cache\n",
    "def basic_strategy_tables(rules: Rules, strategy: Strategy = Strategy()) -> dict[str, _NDArray]:\n",
    "  \"\"\"Return a dictionary of three 2D arrays (named 'hard', 'soft', 'pair') indexed by\n",
    "  [hard_player_total | soft_player_total | pair_value, dealer1_index], whose cell values are the\n",
    "  optimal action codes under the basic strategy.\"\"\"\n",
    "  assert strategy.attention is Attention.TOTAL_OF_CARDS\n",
    "  tables: dict[str, _NDArray] = {}\n",
    "\n",
    "  def code_from_actions(*actions: Action) -> str:\n",
    "    \"\"\"Return a short table cell label given an action and fallback actions.\"\"\"\n",
    "    string = CODE_FOR_ACTION[actions[0]]\n",
    "    last_action = actions[0]\n",
    "    for action in actions[1:]:\n",
    "      if action is not last_action:\n",
    "        string += CODE_FOR_ACTION[action].lower()\n",
    "        last_action = action\n",
    "    return string\n",
    "\n",
    "  strategy_action2 = dataclasses.replace(\n",
    "      strategy, first_actions=frozenset(strategy.first_actions & {Action.STAND, Action.HIT})\n",
    "  )\n",
    "  for player_soft in [False, True]:\n",
    "    player_total_base = 13 if player_soft else 5\n",
    "    shape = 22 - player_total_base, 10  # (5-21, 2-\"11\") or (13-21, 2-\"11\")\n",
    "\n",
    "    table = np.empty(shape, object)\n",
    "    for player_total in range(player_total_base, 22):\n",
    "      for dealer1 in range(1, 11):\n",
    "        card1, card2 = two_cards_reproducing_total(player_total, player_soft, dealer1)\n",
    "        state = (card1, card2), dealer1, ()\n",
    "        action1 = get_best_action(state, rules, strategy)\n",
    "        action2 = get_best_action(state, rules, strategy_action2)\n",
    "        dealer1_index = (11 if dealer1 == 1 else dealer1) - 2\n",
    "        table[player_total - player_total_base, dealer1_index] = code_from_actions(action1, action2)\n",
    "    total_type = 'soft' if player_soft else 'hard'\n",
    "    tables[total_type] = table\n",
    "\n",
    "  table = np.empty((10, 10), object)  # (2-\"11\", 2-\"11\")\n",
    "  strategy_action2 = dataclasses.replace(\n",
    "      strategy,\n",
    "      first_actions=frozenset(strategy.first_actions & {Action.STAND, Action.HIT, Action.SPLIT}),\n",
    "  )\n",
    "  strategy_action3 = dataclasses.replace(\n",
    "      strategy, first_actions=frozenset(strategy.first_actions & {Action.STAND, Action.HIT})\n",
    "  )\n",
    "  for card in range(1, 11):\n",
    "    for dealer1 in range(1, 11):\n",
    "      state = (card, card), dealer1, ()\n",
    "      action1 = get_best_action(state, rules, strategy)\n",
    "      action2 = get_best_action(state, rules, strategy_action2)\n",
    "      action3 = get_best_action(state, rules, strategy_action3)\n",
    "      card_index = (11 if card == 1 else card) - 2\n",
    "      dealer1_index = (11 if dealer1 == 1 else dealer1) - 2\n",
    "      table[card_index, dealer1_index] = code_from_actions(action1, action2, action3)\n",
    "  tables['pair'] = table\n",
    "\n",
    "  return tables"
   ]
  },
  {
   "cell_type": "code",
   "execution_count": 70,
   "id": "9871810c",
   "metadata": {
    "execution": {
     "iopub.execute_input": "2025-01-18T05:57:37.000146Z",
     "iopub.status.busy": "2025-01-18T05:57:36.999604Z",
     "iopub.status.idle": "2025-01-18T05:57:37.010347Z",
     "shell.execute_reply": "2025-01-18T05:57:37.009690Z",
     "shell.execute_reply.started": "2025-01-18T05:57:37.000129Z"
    },
    "lines_to_next_cell": 2
   },
   "outputs": [],
   "source": [
    "if 0:\n",
    "  with temporary_effort(2):\n",
    "    hh.prun(lambda: basic_strategy_tables(Rules(num_decks=1), Strategy()))\n",
    "# Prun: tottime   82.031 overall_cumtime\n",
    "#        20.367   33.331 reward_after_dealer_hits (/tmp/ipykernel:1)\n",
    "#         8.718   83.194 best_reward_estimate_and_action (/tmp/ipykernel:1)\n",
    "#         6.750   83.168 reward_for_action (/tmp/ipykernel:1)\n",
    "#         5.803    5.803 add_card (/tmp/ipykernel:1)\n",
    "#         4.509    7.437 add_recent (/tmp/ipykernel:22)\n",
    "#         3.573   38.980 reward_after_dealer_upcard_helper (/tmp/ipykernel:1)\n",
    "#         1.813   43.453 reward_after_dealer_upcard (/tmp/ipykernel:1)\n",
    "#         0.082    4.726 best_reward_estimate_and_action_using_total_of_cards (/tmp/ipykernel:1)\n",
    "#         0.035    6.834 reward_for_double (/tmp/ipykernel:1)"
   ]
  },
  {
   "cell_type": "code",
   "execution_count": 71,
   "id": "1fca1450",
   "metadata": {
    "execution": {
     "iopub.execute_input": "2025-01-18T05:57:37.011470Z",
     "iopub.status.busy": "2025-01-18T05:57:37.011157Z",
     "iopub.status.idle": "2025-01-18T05:57:37.023329Z",
     "shell.execute_reply": "2025-01-18T05:57:37.022663Z",
     "shell.execute_reply.started": "2025-01-18T05:57:37.011454Z"
    }
   },
   "outputs": [],
   "source": [
    "def show_basic_strategy_tables(rules: Rules, strategy: Strategy = Strategy()) -> None:\n",
    "  \"\"\"Show 3 tables of optimal actions for the basic strategy.\"\"\"\n",
    "  print(rules)\n",
    "  print(\n",
    "      'Legend: (S)stand, (H)hit, (D)double, (P)split, (U)surrender;'\n",
    "      ' (Xy) means do X if allowed else Y.'\n",
    "  )\n",
    "  tables = basic_strategy_tables(rules, strategy)\n",
    "  gridspec = {'width_ratios': [1, 1, 1]}  # Same-width subplots.\n",
    "  fig, axs = plt.subplots(1, 3, figsize=(12, 8), gridspec_kw=gridspec)\n",
    "\n",
    "  def subplot(index: int, table: _NDArray, title: str, yticklabels: Iterable[Any]) -> None:\n",
    "    \"\"\"Draw one of the 3 tables.\"\"\"\n",
    "    ax = typing.cast(np.ndarray[Any, Any], axs)[index]\n",
    "    action_color = [[COLOR_FOR_CODE[re.sub(r'[a-z]*', '', a)] for a in row] for row in table]\n",
    "    ax.matshow(action_color)\n",
    "    ny, nx = table.shape\n",
    "    lines_kwargs = dict(color='gray', linewidth=0.5)\n",
    "    ax.hlines(y=np.arange(ny) + 0.5, xmin=-0.5, xmax=nx - 0.5, **lines_kwargs)\n",
    "    ax.vlines(x=np.arange(nx) + 0.5, ymin=-0.5, ymax=ny - 0.5, **lines_kwargs)\n",
    "\n",
    "    for yx in np.ndindex(table.shape):\n",
    "      code = table[yx]\n",
    "      props = dict(alpha=0)  # See: matplotlib FancyBboxPatch.\n",
    "      fontsize = 13 if len(code) <= 2 else 11\n",
    "      ax.text(*yx[::-1], code, va='center', ha='center', fontsize=fontsize, bbox=props)\n",
    "\n",
    "    ax.set(anchor='N')  # Align subplots at top (North).\n",
    "    ax.set(ylim=ax.get_ylim()[::-1])  # Flip the vertical axis.\n",
    "    ax.set_title(title, y=1.0, pad=40)\n",
    "    ax.set(ylabel='Player total' if index == 0 else None)\n",
    "    ax.set(xlabel='Dealer upcard')\n",
    "    ax.xaxis.set_ticks_position('top')\n",
    "    ax.xaxis.set_label_position('top')\n",
    "    ax.set(yticks=range(table.shape[0]), xticks=range(table.shape[1]))\n",
    "    ax.set(yticklabels=yticklabels)\n",
    "    ax.set(xticklabels=[str(card) for card in range(2, 11)] + ['Ace'])\n",
    "\n",
    "  # Subplot (1) \"Player total is hard\" and Subplot (2) \"Player total is soft\".\n",
    "  for index, player_soft in enumerate([False, True]):\n",
    "    total_type = 'soft' if player_soft else 'hard'\n",
    "    title = f'Player total is {total_type}'\n",
    "    player_total_base = 13 if player_soft else 5\n",
    "    yticklabels: Iterable[Any] = range(player_total_base, 22)\n",
    "    subplot(index, tables[total_type], title, yticklabels)\n",
    "\n",
    "  # Subplot (3) \"Player holds a pair\".\n",
    "  title = 'Player holds a pair'\n",
    "  yticklabels = [f'{card},{card}' for card in range(2, 11)] + ['A,A']\n",
    "  subplot(2, tables['pair'], title, yticklabels)\n",
    "\n",
    "  fig.tight_layout()\n",
    "  plt.show()"
   ]
  },
  {
   "cell_type": "code",
   "execution_count": 72,
   "id": "ee0a9547",
   "metadata": {
    "execution": {
     "iopub.execute_input": "2025-01-18T05:57:37.024592Z",
     "iopub.status.busy": "2025-01-18T05:57:37.024108Z",
     "iopub.status.idle": "2025-01-18T05:57:37.034924Z",
     "shell.execute_reply": "2025-01-18T05:57:37.034303Z",
     "shell.execute_reply.started": "2025-01-18T05:57:37.024576Z"
    }
   },
   "outputs": [],
   "source": [
    "def verify_action_tables(rules: Rules, expected: Mapping[str, str]) -> None:\n",
    "  \"\"\"Test that the generated action tables reproduce the expected values.\"\"\"\n",
    "  tables = basic_strategy_tables(rules)\n",
    "  for name, table in tables.items():\n",
    "    code = np.array2string(table, formatter=dict(all=lambda x: f'{x:3}'))\n",
    "    expect = expected[name]\n",
    "    if code != expect:\n",
    "      raise RuntimeError(f'Table {name}, expected:\\n{expect}\\nGot:\\n{code}')"
   ]
  },
  {
   "cell_type": "markdown",
   "id": "ffad1824",
   "metadata": {},
   "source": [
    "For testing, we define tables (`EXPECTED_BASIC_STRATEGY_ACTION_{6DECKS,1DECK}_{H17,S17}`)\n",
    "of the expected optimal actions using the basic strategy with the\n",
    "default rules:"
   ]
  },
  {
   "cell_type": "code",
   "execution_count": 73,
   "id": "1d498446",
   "metadata": {
    "execution": {
     "iopub.execute_input": "2025-01-18T05:57:37.036244Z",
     "iopub.status.busy": "2025-01-18T05:57:37.035881Z",
     "iopub.status.idle": "2025-01-18T05:57:37.044706Z",
     "shell.execute_reply": "2025-01-18T05:57:37.044068Z",
     "shell.execute_reply.started": "2025-01-18T05:57:37.036225Z"
    }
   },
   "outputs": [],
   "source": [
    "EXPECTED_BASIC_STRATEGY_ACTION_6DECKS_H17 = {\n",
    "    'hard': textwrap.dedent(\n",
    "        \"\"\"\\\n",
    "        [[H   H   H   H   H   H   H   H   H   H  ]\n",
    "         [H   H   H   H   H   H   H   H   H   H  ]\n",
    "         [H   H   H   H   H   H   H   H   H   H  ]\n",
    "         [H   H   H   H   H   H   H   H   H   H  ]\n",
    "         [H   Dh  Dh  Dh  Dh  H   H   H   H   H  ]\n",
    "         [Dh  Dh  Dh  Dh  Dh  Dh  Dh  Dh  H   H  ]\n",
    "         [Dh  Dh  Dh  Dh  Dh  Dh  Dh  Dh  Dh  Dh ]\n",
    "         [H   H   S   S   S   H   H   H   H   H  ]\n",
    "         [S   S   S   S   S   H   H   H   H   H  ]\n",
    "         [S   S   S   S   S   H   H   H   H   H  ]\n",
    "         [S   S   S   S   S   H   H   H   Uh  Uh ]\n",
    "         [S   S   S   S   S   H   H   Uh  Uh  Uh ]\n",
    "         [S   S   S   S   S   S   S   S   S   Us ]\n",
    "         [S   S   S   S   S   S   S   S   S   S  ]\n",
    "         [S   S   S   S   S   S   S   S   S   S  ]\n",
    "         [S   S   S   S   S   S   S   S   S   S  ]\n",
    "         [S   S   S   S   S   S   S   S   S   S  ]]\"\"\"\n",
    "    ),\n",
    "    'soft': textwrap.dedent(\n",
    "        \"\"\"\\\n",
    "        [[H   H   H   Dh  Dh  H   H   H   H   H  ]\n",
    "         [H   H   H   Dh  Dh  H   H   H   H   H  ]\n",
    "         [H   H   Dh  Dh  Dh  H   H   H   H   H  ]\n",
    "         [H   H   Dh  Dh  Dh  H   H   H   H   H  ]\n",
    "         [H   Dh  Dh  Dh  Dh  H   H   H   H   H  ]\n",
    "         [Ds  Ds  Ds  Ds  Ds  S   S   H   H   H  ]\n",
    "         [S   S   S   S   Ds  S   S   S   S   S  ]\n",
    "         [S   S   S   S   S   S   S   S   S   S  ]\n",
    "         [S   S   S   S   S   S   S   S   S   S  ]]\"\"\"\n",
    "    ),\n",
    "    'pair': textwrap.dedent(\n",
    "        \"\"\"\\\n",
    "        [[Ph  Ph  Ph  Ph  Ph  Ph  H   H   H   H  ]\n",
    "         [Ph  Ph  Ph  Ph  Ph  Ph  H   H   H   H  ]\n",
    "         [H   H   H   Ph  Ph  H   H   H   H   H  ]\n",
    "         [Dh  Dh  Dh  Dh  Dh  Dh  Dh  Dh  H   H  ]\n",
    "         [Ph  Ph  Ps  Ps  Ps  H   H   H   H   H  ]\n",
    "         [Ps  Ps  Ps  Ps  Ps  Ph  H   H   H   H  ]\n",
    "         [Ps  Ps  Ps  Ps  Ps  Ph  Ph  Ph  Ph  Uph]\n",
    "         [Ps  Ps  Ps  Ps  Ps  S   Ps  Ps  S   S  ]\n",
    "         [S   S   S   S   S   S   S   S   S   S  ]\n",
    "         [Ph  Ph  Ph  Ph  Ph  Ph  Ph  Ph  Ph  Ph ]]\"\"\"\n",
    "    ),\n",
    "}\n",
    "\"\"\"Expected tables for \"dealer hits on soft 17\" with 6 decks.\"\"\"\n",
    "\n",
    "EXPECTED_BASIC_STRATEGY_ACTION_6DECKS_S17 = {\n",
    "    'hard': textwrap.dedent(\n",
    "        \"\"\"\\\n",
    "        [[H   H   H   H   H   H   H   H   H   H  ]\n",
    "         [H   H   H   H   H   H   H   H   H   H  ]\n",
    "         [H   H   H   H   H   H   H   H   H   H  ]\n",
    "         [H   H   H   H   H   H   H   H   H   H  ]\n",
    "         [H   Dh  Dh  Dh  Dh  H   H   H   H   H  ]\n",
    "         [Dh  Dh  Dh  Dh  Dh  Dh  Dh  Dh  H   H  ]\n",
    "         [Dh  Dh  Dh  Dh  Dh  Dh  Dh  Dh  Dh  H  ]\n",
    "         [H   H   S   S   S   H   H   H   H   H  ]\n",
    "         [S   S   S   S   S   H   H   H   H   H  ]\n",
    "         [S   S   S   S   S   H   H   H   H   H  ]\n",
    "         [S   S   S   S   S   H   H   H   Uh  H  ]\n",
    "         [S   S   S   S   S   H   H   Uh  Uh  Uh ]\n",
    "         [S   S   S   S   S   S   S   S   S   S  ]\n",
    "         [S   S   S   S   S   S   S   S   S   S  ]\n",
    "         [S   S   S   S   S   S   S   S   S   S  ]\n",
    "         [S   S   S   S   S   S   S   S   S   S  ]\n",
    "         [S   S   S   S   S   S   S   S   S   S  ]]\"\"\"\n",
    "    ),\n",
    "    'soft': textwrap.dedent(\n",
    "        \"\"\"\\\n",
    "        [[H   H   H   Dh  Dh  H   H   H   H   H  ]\n",
    "         [H   H   H   Dh  Dh  H   H   H   H   H  ]\n",
    "         [H   H   Dh  Dh  Dh  H   H   H   H   H  ]\n",
    "         [H   H   Dh  Dh  Dh  H   H   H   H   H  ]\n",
    "         [H   Dh  Dh  Dh  Dh  H   H   H   H   H  ]\n",
    "         [S   Ds  Ds  Ds  Ds  S   S   H   H   H  ]\n",
    "         [S   S   S   S   S   S   S   S   S   S  ]\n",
    "         [S   S   S   S   S   S   S   S   S   S  ]\n",
    "         [S   S   S   S   S   S   S   S   S   S  ]]\"\"\"\n",
    "    ),\n",
    "    'pair': textwrap.dedent(\n",
    "        \"\"\"\\\n",
    "        [[Ph  Ph  Ph  Ph  Ph  Ph  H   H   H   H  ]\n",
    "         [Ph  Ph  Ph  Ph  Ph  Ph  H   H   H   H  ]\n",
    "         [H   H   H   Ph  Ph  H   H   H   H   H  ]\n",
    "         [Dh  Dh  Dh  Dh  Dh  Dh  Dh  Dh  H   H  ]\n",
    "         [Ph  Ph  Ps  Ps  Ps  H   H   H   H   H  ]\n",
    "         [Ps  Ps  Ps  Ps  Ps  Ph  H   H   H   H  ]\n",
    "         [Ps  Ps  Ps  Ps  Ps  Ph  Ph  Ph  Ph  Ph ]\n",
    "         [Ps  Ps  Ps  Ps  Ps  S   Ps  Ps  S   S  ]\n",
    "         [S   S   S   S   S   S   S   S   S   S  ]\n",
    "         [Ph  Ph  Ph  Ph  Ph  Ph  Ph  Ph  Ph  Ph ]]\"\"\"\n",
    "    ),\n",
    "}\n",
    "\"\"\"Expected tables for \"dealer stands on soft 17\" with 6 decks.\"\"\"\n",
    "\n",
    "omit_cell_output()"
   ]
  },
  {
   "cell_type": "code",
   "execution_count": 74,
   "id": "8d15e216",
   "metadata": {
    "execution": {
     "iopub.execute_input": "2025-01-18T05:57:37.045821Z",
     "iopub.status.busy": "2025-01-18T05:57:37.045516Z",
     "iopub.status.idle": "2025-01-18T05:57:37.057258Z",
     "shell.execute_reply": "2025-01-18T05:57:37.056579Z",
     "shell.execute_reply.started": "2025-01-18T05:57:37.045807Z"
    }
   },
   "outputs": [],
   "source": [
    "EXPECTED_BASIC_STRATEGY_ACTION_1DECK_H17 = {\n",
    "    'hard': textwrap.dedent(\n",
    "        \"\"\"\\\n",
    "        [[H   H   H   H   H   H   H   H   H   H  ]\n",
    "         [H   H   H   H   H   H   H   H   H   H  ]\n",
    "         [H   H   H   H   H   H   H   H   H   H  ]\n",
    "         [H   H   H   Dh  Dh  H   H   H   H   H  ]\n",
    "         [Dh  Dh  Dh  Dh  Dh  H   H   H   H   H  ]\n",
    "         [Dh  Dh  Dh  Dh  Dh  Dh  Dh  Dh  H   H  ]\n",
    "         [Dh  Dh  Dh  Dh  Dh  Dh  Dh  Dh  Dh  Dh ]\n",
    "         [H   H   S   S   S   H   H   H   H   H  ]\n",
    "         [S   S   S   S   S   H   H   H   H   H  ]\n",
    "         [S   S   S   S   S   H   H   H   H   H  ]\n",
    "         [S   S   S   S   S   H   H   H   H   Uh ]\n",
    "         [S   S   S   S   S   H   H   H   Uh  Uh ]\n",
    "         [S   S   S   S   S   S   S   S   S   Us ]\n",
    "         [S   S   S   S   S   S   S   S   S   S  ]\n",
    "         [S   S   S   S   S   S   S   S   S   S  ]\n",
    "         [S   S   S   S   S   S   S   S   S   S  ]\n",
    "         [S   S   S   S   S   S   S   S   S   S  ]]\"\"\"\n",
    "    ),\n",
    "    'soft': textwrap.dedent(\n",
    "        \"\"\"\\\n",
    "        [[H   H   Dh  Dh  Dh  H   H   H   H   H  ]\n",
    "         [H   H   Dh  Dh  Dh  H   H   H   H   H  ]\n",
    "         [H   H   Dh  Dh  Dh  H   H   H   H   H  ]\n",
    "         [H   H   Dh  Dh  Dh  H   H   H   H   H  ]\n",
    "         [Dh  Dh  Dh  Dh  Dh  H   H   H   H   H  ]\n",
    "         [S   Ds  Ds  Ds  Ds  S   S   H   H   H  ]\n",
    "         [S   S   S   S   Ds  S   S   S   S   S  ]\n",
    "         [S   S   S   S   S   S   S   S   S   S  ]\n",
    "         [S   S   S   S   S   S   S   S   S   S  ]]\"\"\"\n",
    "    ),\n",
    "    'pair': textwrap.dedent(\n",
    "        \"\"\"\\\n",
    "        [[Ph  Ph  Ph  Ph  Ph  Ph  H   H   H   H  ]\n",
    "         [Ph  Ph  Ph  Ph  Ph  Ph  Ph  H   H   H  ]\n",
    "         [H   H   Ph  Ph  Ph  H   H   H   H   H  ]\n",
    "         [Dh  Dh  Dh  Dh  Dh  Dh  Dh  Dh  H   H  ]\n",
    "         [Ph  Ps  Ps  Ps  Ps  Ph  H   H   H   H  ]\n",
    "         [Ps  Ps  Ps  Ps  Ps  Ph  Ph  H   Us  Uh ]\n",
    "         [Ps  Ps  Ps  Ps  Ps  Ph  Ph  Ph  Ph  Ph ]\n",
    "         [Ps  Ps  Ps  Ps  Ps  S   Ps  Ps  S   Ps ]\n",
    "         [S   S   S   S   S   S   S   S   S   S  ]\n",
    "         [Ph  Ph  Ph  Ph  Ph  Ph  Ph  Ph  Ph  Ph ]]\"\"\"\n",
    "    ),\n",
    "}\n",
    "\"\"\"Expected tables for \"dealer hits on soft 17\" with 1 deck.\"\"\"\n",
    "\n",
    "EXPECTED_BASIC_STRATEGY_ACTION_1DECK_S17 = {\n",
    "    'hard': textwrap.dedent(\n",
    "        \"\"\"\\\n",
    "        [[H   H   H   H   H   H   H   H   H   H  ]\n",
    "         [H   H   H   H   H   H   H   H   H   H  ]\n",
    "         [H   H   H   H   H   H   H   H   H   H  ]\n",
    "         [H   H   H   Dh  Dh  H   H   H   H   H  ]\n",
    "         [Dh  Dh  Dh  Dh  Dh  H   H   H   H   H  ]\n",
    "         [Dh  Dh  Dh  Dh  Dh  Dh  Dh  Dh  H   H  ]\n",
    "         [Dh  Dh  Dh  Dh  Dh  Dh  Dh  Dh  Dh  Dh ]\n",
    "         [H   H   S   S   S   H   H   H   H   H  ]\n",
    "         [S   S   S   S   S   H   H   H   H   H  ]\n",
    "         [S   S   S   S   S   H   H   H   H   H  ]\n",
    "         [S   S   S   S   S   H   H   H   H   H  ]\n",
    "         [S   S   S   S   S   H   H   H   Uh  Uh ]\n",
    "         [S   S   S   S   S   S   S   S   S   S  ]\n",
    "         [S   S   S   S   S   S   S   S   S   S  ]\n",
    "         [S   S   S   S   S   S   S   S   S   S  ]\n",
    "         [S   S   S   S   S   S   S   S   S   S  ]\n",
    "         [S   S   S   S   S   S   S   S   S   S  ]]\"\"\"\n",
    "    ),\n",
    "    'soft': textwrap.dedent(\n",
    "        \"\"\"\\\n",
    "        [[H   H   Dh  Dh  Dh  H   H   H   H   H  ]\n",
    "         [H   H   Dh  Dh  Dh  H   H   H   H   H  ]\n",
    "         [H   H   Dh  Dh  Dh  H   H   H   H   H  ]\n",
    "         [H   H   Dh  Dh  Dh  H   H   H   H   H  ]\n",
    "         [Dh  Dh  Dh  Dh  Dh  H   H   H   H   H  ]\n",
    "         [S   Ds  Ds  Ds  Ds  S   S   H   H   S  ]\n",
    "         [S   S   S   S   Ds  S   S   S   S   S  ]\n",
    "         [S   S   S   S   S   S   S   S   S   S  ]\n",
    "         [S   S   S   S   S   S   S   S   S   S  ]]\"\"\"\n",
    "    ),\n",
    "    'pair': textwrap.dedent(\n",
    "        \"\"\"\\\n",
    "        [[Ph  Ph  Ph  Ph  Ph  Ph  H   H   H   H  ]\n",
    "         [Ph  Ph  Ph  Ph  Ph  Ph  Ph  H   H   H  ]\n",
    "         [H   H   Ph  Ph  Ph  H   H   H   H   H  ]\n",
    "         [Dh  Dh  Dh  Dh  Dh  Dh  Dh  Dh  H   H  ]\n",
    "         [Ph  Ps  Ps  Ps  Ps  Ph  H   H   H   H  ]\n",
    "         [Ps  Ps  Ps  Ps  Ps  Ph  Ph  H   Us  H  ]\n",
    "         [Ps  Ps  Ps  Ps  Ps  Ph  Ph  Ph  Ph  Ph ]\n",
    "         [Ps  Ps  Ps  Ps  Ps  S   Ps  Ps  S   S  ]\n",
    "         [S   S   S   S   S   S   S   S   S   S  ]\n",
    "         [Ph  Ph  Ph  Ph  Ph  Ph  Ph  Ph  Ph  Ph ]]\"\"\"\n",
    "    ),\n",
    "}\n",
    "\"\"\"Expected tables for \"dealer stands on soft 17\" with 1 deck.\"\"\"\n",
    "\n",
    "omit_cell_output()"
   ]
  },
  {
   "cell_type": "code",
   "execution_count": 75,
   "id": "47f533e9",
   "metadata": {
    "execution": {
     "iopub.execute_input": "2025-01-18T05:57:37.058401Z",
     "iopub.status.busy": "2025-01-18T05:57:37.058084Z",
     "iopub.status.idle": "2025-01-18T05:57:37.068938Z",
     "shell.execute_reply": "2025-01-18T05:57:37.068257Z",
     "shell.execute_reply.started": "2025-01-18T05:57:37.058386Z"
    }
   },
   "outputs": [],
   "source": [
    "EXPECTED_COMPOSITION_DEPENDENT_DIFFERENCES = {\n",
    "    6: [(((7, 8), 10), Action.SURRENDER, Action.HIT)],\n",
    "    4: [(((7, 8), 10), Action.SURRENDER, Action.HIT)],\n",
    "    2: [\n",
    "        (((2, 10), 4), Action.STAND, Action.HIT),\n",
    "        (((4, 8), 3), Action.HIT, Action.STAND),\n",
    "        (((5, 7), 3), Action.HIT, Action.STAND),\n",
    "        (((7, 8), 1), Action.SURRENDER, Action.HIT),\n",
    "        (((7, 8), 10), Action.SURRENDER, Action.HIT),\n",
    "    ],\n",
    "    1: [\n",
    "        (((2, 6), 6), Action.DOUBLE, Action.HIT),\n",
    "        (((2, 10), 4), Action.STAND, Action.HIT),\n",
    "        (((4, 8), 3), Action.HIT, Action.STAND),\n",
    "        (((5, 7), 3), Action.HIT, Action.STAND),\n",
    "        (((5, 10), 10), Action.HIT, Action.SURRENDER),\n",
    "        (((6, 9), 10), Action.HIT, Action.SURRENDER),\n",
    "        (((7, 8), 1), Action.SURRENDER, Action.HIT),\n",
    "        (((8, 9), 1), Action.SURRENDER, Action.STAND),\n",
    "    ],\n",
    "}\n",
    "\"\"\"Expected mapping from the per-shoe number of decks to a list of (card1, card2, dealer1,\n",
    "bs_action, cd_action) tuples for which the optimal basic-strategy (bs) action differs from\n",
    "the optimal composition-dependent (cd) action.\"\"\"\n",
    "\n",
    "omit_cell_output()"
   ]
  },
  {
   "cell_type": "markdown",
   "id": "6312439e",
   "metadata": {
    "lines_to_next_cell": 2
   },
   "source": [
    "### Probabilistic house edge"
   ]
  },
  {
   "cell_type": "code",
   "execution_count": 76,
   "id": "33efcba0",
   "metadata": {
    "execution": {
     "iopub.execute_input": "2025-01-18T05:57:37.070031Z",
     "iopub.status.busy": "2025-01-18T05:57:37.069641Z",
     "iopub.status.idle": "2025-01-18T05:57:37.078230Z",
     "shell.execute_reply": "2025-01-18T05:57:37.077533Z",
     "shell.execute_reply.started": "2025-01-18T05:57:37.070016Z"
    }
   },
   "outputs": [],
   "source": [
    "def normalize_rules_for_probabilistic_analysis(rules: Rules) -> Rules:\n",
    "  \"\"\"Return rules where parameters without effect on the probabilistic computation are replaced\n",
    "  by defaults, for more efficient memoization.\"\"\"\n",
    "  updated_rules = dataclasses.replace(rules, cut_card=default_cut_card(rules.num_decks))\n",
    "  return updated_rules"
   ]
  },
  {
   "cell_type": "code",
   "execution_count": 77,
   "id": "43167174",
   "metadata": {
    "execution": {
     "iopub.execute_input": "2025-01-18T05:57:37.079421Z",
     "iopub.status.busy": "2025-01-18T05:57:37.079062Z",
     "iopub.status.idle": "2025-01-18T05:57:37.087445Z",
     "shell.execute_reply": "2025-01-18T05:57:37.086789Z",
     "shell.execute_reply.started": "2025-01-18T05:57:37.079402Z"
    }
   },
   "outputs": [],
   "source": [
    "def probabilistic_house_edge(rules: Rules, strategy: Strategy, quiet: bool = False) -> float:\n",
    "  \"\"\"Return the house edge computed using a probabilistic analysis.\"\"\"\n",
    "  rules = normalize_rules_for_probabilistic_analysis(rules)\n",
    "  sum_reward = 0.0\n",
    "\n",
    "  # Compute the expected reward over all possible 3 dealt cards.\n",
    "  for dealer1, prob0 in tqdm_stdout(UNIFORM_CARD_PROB.items(), desc='prob', disable=quiet):\n",
    "    recent_cards0 = make_recent((dealer1,), rules)\n",
    "    for card1, prob1 in card_probabilities(recent_cards0, rules, None).items():\n",
    "      recent_cards1 = add_recent(recent_cards0, card1)\n",
    "      for card2, prob2 in card_probabilities(recent_cards1, rules, None).items():\n",
    "        prob = prob0 * prob1 * prob2\n",
    "        if card1 < card2:  # More efficiently handle redundant card2 < card1.\n",
    "          prob *= 2\n",
    "        elif card2 < card1:\n",
    "          continue\n",
    "        state = (card1, card2), dealer1, ()\n",
    "        best_action = get_best_action(state, rules, strategy)\n",
    "        reward = reward_for_initial_hand(state, rules, strategy, best_action)\n",
    "        sum_reward += prob * reward\n",
    "\n",
    "  return -sum_reward  # The house edge is the negative of the expected reward."
   ]
  },
  {
   "cell_type": "code",
   "execution_count": 78,
   "id": "a226e33e",
   "metadata": {
    "execution": {
     "iopub.execute_input": "2025-01-18T05:57:37.088672Z",
     "iopub.status.busy": "2025-01-18T05:57:37.088334Z",
     "iopub.status.idle": "2025-01-18T05:57:37.099268Z",
     "shell.execute_reply": "2025-01-18T05:57:37.098590Z",
     "shell.execute_reply.started": "2025-01-18T05:57:37.088657Z"
    }
   },
   "outputs": [],
   "source": [
    "if 0:\n",
    "  with temporary_effort(1):\n",
    "    hh.print_time(lambda: probabilistic_house_edge(Rules(), Strategy(), quiet=True))\n",
    "# EFFORT=0: 35 ms\n",
    "# EFFORT=1: 35 ms\n",
    "# EFFORT=2: 5.4 s\n",
    "# EFFORT=3: 37 s"
   ]
  },
  {
   "cell_type": "code",
   "execution_count": 79,
   "id": "b7cb1158",
   "metadata": {
    "execution": {
     "iopub.execute_input": "2025-01-18T05:57:37.100345Z",
     "iopub.status.busy": "2025-01-18T05:57:37.100035Z",
     "iopub.status.idle": "2025-01-18T05:57:37.108712Z",
     "shell.execute_reply": "2025-01-18T05:57:37.108015Z",
     "shell.execute_reply.started": "2025-01-18T05:57:37.100330Z"
    }
   },
   "outputs": [],
   "source": [
    "if 0:\n",
    "  with temporary_effort(1):\n",
    "    hh.print_time(lambda: probabilistic_house_edge(Rules(num_decks=1), Strategy(), quiet=True))\n",
    "# EFFORT=0: 35 ms\n",
    "# EFFORT=1: 35 ms\n",
    "# EFFORT=2: 4.6 s\n",
    "# EFFORT=3: 29 s"
   ]
  },
  {
   "cell_type": "code",
   "execution_count": 80,
   "id": "d8d9fcd8",
   "metadata": {
    "execution": {
     "iopub.execute_input": "2025-01-18T05:57:37.109747Z",
     "iopub.status.busy": "2025-01-18T05:57:37.109419Z",
     "iopub.status.idle": "2025-01-18T05:57:37.118265Z",
     "shell.execute_reply": "2025-01-18T05:57:37.117619Z",
     "shell.execute_reply.started": "2025-01-18T05:57:37.109730Z"
    }
   },
   "outputs": [],
   "source": [
    "if 0:\n",
    "  with temporary_effort(2):\n",
    "    hh.prun(lambda: probabilistic_house_edge(Rules(), Strategy(), quiet=True))\n",
    "# Prun: tottime   78.607 overall_cumtime\n",
    "#        22.567   37.773 reward_after_dealer_hits (/tmp/ipykernel:1)\n",
    "#         6.813   79.085 best_reward_estimate_and_action (/tmp/ipykernel:1)\n",
    "#         6.557    6.557 add_card (/tmp/ipykernel:1)\n",
    "#         6.485   79.417 reward_for_action (/tmp/ipykernel:1)\n",
    "#         6.326    6.326 builtins.sorted (built-in)\n",
    "#         5.269   10.289 add_recent (/tmp/ipykernel:22)\n",
    "#         4.060   45.531 reward_after_dealer_upcard_helper (/tmp/ipykernel:1)\n",
    "#         1.293   48.793 reward_after_dealer_upcard (/tmp/ipykernel:1)\n",
    "#         0.039    7.306 reward_for_double (/tmp/ipykernel:1)\n",
    "#         0.007    4.224 reward_for_basic_strategy_total (/tmp/ipykernel:1)"
   ]
  },
  {
   "cell_type": "markdown",
   "id": "a4f039ae",
   "metadata": {},
   "source": [
    "##  Monte Carlo simulation\n",
    "<a name=\"Monte-Carlo-simulation\"></a>"
   ]
  },
  {
   "cell_type": "markdown",
   "id": "96f9127a",
   "metadata": {},
   "source": [
    "We generate many random shoes and simulate the playing of hand(s) from each shoe.\n",
    "Accurate estimates of hand rewards or house edge requires the simulation of many millions\n",
    "of hands.\n",
    "\n",
    "For efficiency:\n",
    "- We use `numpy` to create the random shoes.\n",
    "- We use `numba` for jit-compilation of the hand simulation function.\n",
    "- We use `multiprocessing` to process batches of shoes in parallel on different CPU cores."
   ]
  },
  {
   "cell_type": "markdown",
   "id": "831cee0d",
   "metadata": {},
   "source": [
    "**Analysis of cut-card effect**:\n",
    "\n",
    "The approach is to consider many shoes, play all hands from each shoe\n",
    "and update the number of hands played and sum of rewards at each possible cut-card location.\n",
    "See [Simulate all cut-cards](#Simulate-all-cut-cards) for details."
   ]
  },
  {
   "cell_type": "markdown",
   "id": "45b30738",
   "metadata": {},
   "source": [
    "**Sources of error in the simulation results**:\n",
    "\n",
    "- In the current simulation algorithm, the fact that we implement the player strategy\n",
    "  as a multidimensional array lookup (`action_table`)\n",
    "  **constrains the attention** available to determine successive player actions.\n",
    "  The best strategy supported by this table is `Attention.INITIAL_CARDS_AND_TOTAL`,\n",
    "  a composition-dependent strategy that considers only\n",
    "  the initial cards `(card1, card2, dealer1)` and the player's total and softness.\n",
    "  In contrast, the probabilistic `best_reward_and_action()` supports\n",
    "  `Attention.HAND_AND_INITIAL_CARDS_IN_PRIOR_SPLITS`, a \"full-composition\" strategy\n",
    "  that includes all cards in the current hand and the initial cards\n",
    "  in any prior split hands.\n",
    "\n",
    "- Like all Monte Carlo simulations, the result is only an **estimate**.\n",
    "  Its standard deviation is inversely proportional to the square root of the\n",
    "  number of played hands."
   ]
  },
  {
   "cell_type": "markdown",
   "id": "4cbfc8ff",
   "metadata": {
    "execution": {
     "iopub.execute_input": "2022-04-03T22:53:17.591858Z",
     "iopub.status.busy": "2022-04-03T22:53:17.591456Z",
     "iopub.status.idle": "2022-04-03T22:53:17.593993Z",
     "shell.execute_reply": "2022-04-03T22:53:17.593538Z",
     "shell.execute_reply.started": "2022-04-03T22:53:17.591842Z"
    }
   },
   "source": [
    "### Create random shoes"
   ]
  },
  {
   "cell_type": "code",
   "execution_count": 81,
   "id": "8956fd33",
   "metadata": {
    "execution": {
     "iopub.execute_input": "2025-01-18T05:57:37.119345Z",
     "iopub.status.busy": "2025-01-18T05:57:37.119040Z",
     "iopub.status.idle": "2025-01-18T05:57:37.129964Z",
     "shell.execute_reply": "2025-01-18T05:57:37.129246Z",
     "shell.execute_reply.started": "2025-01-18T05:57:37.119332Z"
    }
   },
   "outputs": [],
   "source": [
    "CreateShoes = Callable[[int, int], _NDArray]  # (num_shoes, seed) -> [shoe_index, card_index]"
   ]
  },
  {
   "cell_type": "code",
   "execution_count": 82,
   "id": "ae28fb7c",
   "metadata": {
    "execution": {
     "iopub.execute_input": "2025-01-18T05:57:37.131014Z",
     "iopub.status.busy": "2025-01-18T05:57:37.130802Z",
     "iopub.status.idle": "2025-01-18T05:57:37.139505Z",
     "shell.execute_reply": "2025-01-18T05:57:37.138824Z",
     "shell.execute_reply.started": "2025-01-18T05:57:37.130998Z"
    }
   },
   "outputs": [],
   "source": [
    "def default_shoes_creator(rules: Rules) -> CreateShoes:\n",
    "  \"\"\"Return a creator of random shoes based on `rules`.\"\"\"\n",
    "  # Strange: dtype != np.int64 slows down rng.permuted(); see timings below.\n",
    "  dtype = np.int64\n",
    "  if rules.num_decks != math.inf:\n",
    "    unshuffled_shoe = np.array(CARD_VALUES, dtype).repeat(NUM_SUITS * int(rules.num_decks))\n",
    "\n",
    "  def create_shoes(num_shoes: int, seed: int) -> _NDArray:\n",
    "    \"\"\"Return randomly shuffled shoes starting at specified seed.\"\"\"\n",
    "    rng = np.random.default_rng(seed)\n",
    "\n",
    "    if rules.num_decks == math.inf:\n",
    "      shoe_size = SHOE_SIZE_FOR_INFINITE_DECKS_CPU\n",
    "      return rng.choice(np.array(CARD_VALUES, dtype), (num_shoes, shoe_size))\n",
    "\n",
    "    # pylint: disable-next=possibly-used-before-assignment\n",
    "    shoes = unshuffled_shoe[None].repeat(num_shoes, axis=0)\n",
    "    return rng.permuted(shoes, axis=1, out=shoes)\n",
    "\n",
    "  return create_shoes"
   ]
  },
  {
   "cell_type": "code",
   "execution_count": 83,
   "id": "7ff0ffb3",
   "metadata": {
    "execution": {
     "iopub.execute_input": "2025-01-18T05:57:37.140554Z",
     "iopub.status.busy": "2025-01-18T05:57:37.140360Z",
     "iopub.status.idle": "2025-01-18T05:57:37.149412Z",
     "shell.execute_reply": "2025-01-18T05:57:37.148740Z",
     "shell.execute_reply.started": "2025-01-18T05:57:37.140537Z"
    }
   },
   "outputs": [],
   "source": [
    "def simulate_hand_shoes_creator(hand: Hand, rules: Rules) -> CreateShoes:\n",
    "  \"\"\"Return a creator of shoes to simulate a specific hand.\"\"\"\n",
    "  player_cards, dealer1 = hand\n",
    "  # The order in which cards are dealt is: card1, dealer1, card2, dealer2, card3, ... cardn.\n",
    "  # so we will need to rotate dealer2 in front of (card3, ... cardn).\n",
    "  hand_cards = player_cards[0], dealer1, *player_cards[1:]\n",
    "  dtype = np.int64\n",
    "  if rules.num_decks == math.inf:\n",
    "    shoe_size = SHOE_SIZE_FOR_SINGLE_HAND_INFINITE_DECKS\n",
    "    card_values = np.array(CARD_VALUES, dtype)\n",
    "  else:\n",
    "    cards = list(CARD_VALUES) * (int(rules.num_decks) * NUM_SUITS)\n",
    "    shoe_size = len(cards)\n",
    "    for card in hand_cards:\n",
    "      cards.remove(card)\n",
    "    shoe_suffix = np.array(cards, dtype)\n",
    "\n",
    "  def create_shoes(num_shoes: int, seed: int) -> _NDArray:\n",
    "    \"\"\"Return shoes whose prefix is a specific hand.\"\"\"\n",
    "    rng = np.random.default_rng(seed)\n",
    "    # rng = np.random.Generator(np.random.PCG64(seed=0).jumped(seed))\n",
    "    shoes = np.empty((num_shoes, shoe_size), dtype)\n",
    "    beg_shoes = shoes[:, : len(hand_cards)]\n",
    "    end_shoes = shoes[:, len(hand_cards) :]\n",
    "    beg_shoes[:] = hand_cards\n",
    "\n",
    "    if rules.num_decks == math.inf:\n",
    "      end_shoes[:] = rng.choice(card_values, (num_shoes, shoe_size - len(hand_cards)))\n",
    "\n",
    "    else:\n",
    "      if 0:  # This is 2% slower.\n",
    "        broadcast_shoe_suffix = np.broadcast_to(shoe_suffix[None], (num_shoes, len(shoe_suffix)))\n",
    "        rng.permuted(broadcast_shoe_suffix, axis=1, out=end_shoes)\n",
    "      else:\n",
    "        end_shoes[:] = shoe_suffix\n",
    "        rng.permuted(end_shoes, axis=1, out=end_shoes)\n",
    "\n",
    "    if len(player_cards) > 2:  # Insert random dealer2 card in front of player_cards[2].\n",
    "      subarray = shoes[:, 3 : len(hand_cards) + 1]\n",
    "      subarray[:] = np.roll(subarray, 1, axis=1)\n",
    "\n",
    "    return shoes\n",
    "\n",
    "  return create_shoes"
   ]
  },
  {
   "cell_type": "code",
   "execution_count": 84,
   "id": "1221e738",
   "metadata": {
    "execution": {
     "iopub.execute_input": "2025-01-18T05:57:37.150445Z",
     "iopub.status.busy": "2025-01-18T05:57:37.150253Z",
     "iopub.status.idle": "2025-01-18T05:57:37.160703Z",
     "shell.execute_reply": "2025-01-18T05:57:37.160022Z",
     "shell.execute_reply.started": "2025-01-18T05:57:37.150429Z"
    }
   },
   "outputs": [],
   "source": [
    "if 0:\n",
    "  print(default_shoes_creator(Rules(num_decks=1))(2, 0))"
   ]
  },
  {
   "cell_type": "code",
   "execution_count": 85,
   "id": "478714a7",
   "metadata": {
    "execution": {
     "iopub.execute_input": "2025-01-18T05:57:37.161624Z",
     "iopub.status.busy": "2025-01-18T05:57:37.161447Z",
     "iopub.status.idle": "2025-01-18T05:57:37.169750Z",
     "shell.execute_reply": "2025-01-18T05:57:37.169113Z",
     "shell.execute_reply.started": "2025-01-18T05:57:37.161609Z"
    }
   },
   "outputs": [],
   "source": [
    "if 0:\n",
    "  print(simulate_hand_shoes_creator(((2, 8), 9), Rules(num_decks=1))(10, 0))"
   ]
  },
  {
   "cell_type": "code",
   "execution_count": 86,
   "id": "d57bdf1f-8e6d-4cbc-acfd-fb635d983aab",
   "metadata": {
    "execution": {
     "iopub.execute_input": "2025-01-18T05:57:37.170841Z",
     "iopub.status.busy": "2025-01-18T05:57:37.170516Z",
     "iopub.status.idle": "2025-01-18T05:57:37.178820Z",
     "shell.execute_reply": "2025-01-18T05:57:37.178249Z",
     "shell.execute_reply.started": "2025-01-18T05:57:37.170824Z"
    }
   },
   "outputs": [],
   "source": [
    "if 0:\n",
    "  print(simulate_hand_shoes_creator(((2, 3, 4), 9), Rules(num_decks=1))(10, 0))"
   ]
  },
  {
   "cell_type": "code",
   "execution_count": 87,
   "id": "3ecd899c",
   "metadata": {
    "execution": {
     "iopub.execute_input": "2025-01-18T05:57:37.179913Z",
     "iopub.status.busy": "2025-01-18T05:57:37.179517Z",
     "iopub.status.idle": "2025-01-18T05:57:37.190364Z",
     "shell.execute_reply": "2025-01-18T05:57:37.189710Z",
     "shell.execute_reply.started": "2025-01-18T05:57:37.179896Z"
    }
   },
   "outputs": [],
   "source": [
    "if 0:\n",
    "  hh.print_time(lambda: [default_shoes_creator(Rules())(1000, 0) for _ in range(100)])\n",
    "# 257 ms for default int64; 378 for int32; 388 for int16; 344 for uint8."
   ]
  },
  {
   "cell_type": "code",
   "execution_count": 88,
   "id": "8bef24fc",
   "metadata": {
    "execution": {
     "iopub.execute_input": "2025-01-18T05:57:37.191385Z",
     "iopub.status.busy": "2025-01-18T05:57:37.191060Z",
     "iopub.status.idle": "2025-01-18T05:57:37.199379Z",
     "shell.execute_reply": "2025-01-18T05:57:37.198670Z",
     "shell.execute_reply.started": "2025-01-18T05:57:37.191355Z"
    }
   },
   "outputs": [],
   "source": [
    "if 0:\n",
    "  hh.print_time(\n",
    "      lambda: [\n",
    "          simulate_hand_shoes_creator(((2, 3), 4), Rules(num_decks=1))(1000, 0) for _ in range(100)\n",
    "      ]\n",
    "  )\n",
    "# 38.8 ms for default int64; 59.5 for int32; 61.5 for int16; 55.4 for uint8."
   ]
  },
  {
   "cell_type": "markdown",
   "id": "5ffaa4a8",
   "metadata": {
    "lines_to_next_cell": 2
   },
   "source": [
    "### Create split/action tables"
   ]
  },
  {
   "cell_type": "code",
   "execution_count": 89,
   "id": "71c50df7",
   "metadata": {
    "execution": {
     "iopub.execute_input": "2025-01-18T05:57:37.200596Z",
     "iopub.status.busy": "2025-01-18T05:57:37.200237Z",
     "iopub.status.idle": "2025-01-18T05:57:37.209154Z",
     "shell.execute_reply": "2025-01-18T05:57:37.208477Z",
     "shell.execute_reply.started": "2025-01-18T05:57:37.200579Z"
    }
   },
   "outputs": [],
   "source": [
    "def generate_possible_action_table_indices(\n",
    "    rules: Rules,\n",
    "    strategy: Strategy,\n",
    ") -> Iterator[tuple[tuple[int, ...], Card, Card, Card, bool, bool, int, bool]]:\n",
    "  \"\"\"Yield table coordinates that correspond to possible hands.\"\"\"\n",
    "  for index in np.ndindex(10, 10, 10, 2, 2, 18, 2):\n",
    "    card1, card2, dealer1, have_split, is_first_action, player_total, player_soft = (\n",
    "        index[0] + 1,\n",
    "        index[1] + 1,\n",
    "        index[2] + 1,\n",
    "        bool(index[3]),\n",
    "        bool(index[4]),\n",
    "        index[5] + 4,\n",
    "        bool(index[6]),\n",
    "    )\n",
    "    # For have_split, we must keep the (card1, card2) order because card1 is used for split_aces.\n",
    "    player_total2, player_soft2 = combine_two_cards(card1, card2)\n",
    "    impossible = False\n",
    "    if have_split:\n",
    "      impossible |= Action.SPLIT not in strategy.first_actions or rules.split_to_num_hands == 0\n",
    "    else:\n",
    "      impossible |= card1 > card2\n",
    "    if is_first_action:\n",
    "      impossible |= (player_total, player_soft) != (player_total2, player_soft2)\n",
    "    else:\n",
    "      impossible |= (\n",
    "          player_total2 - (10 if player_soft2 else 0) >= player_total\n",
    "          or (player_total <= 12 and player_soft)\n",
    "          or (not player_soft2 and player_soft and player_total < player_total2 + 11)\n",
    "          or (player_soft2 and not player_soft and player_total < 12)\n",
    "          or (player_soft2 and player_soft and player_total <= player_total2)\n",
    "          or (\n",
    "              not player_soft2\n",
    "              and not player_soft\n",
    "              and player_total2 + 1 == player_total\n",
    "              and player_total < 12\n",
    "          )\n",
    "      )\n",
    "    if not impossible:\n",
    "      yield index, card1, card2, dealer1, have_split, is_first_action, player_total, player_soft"
   ]
  },
  {
   "cell_type": "code",
   "execution_count": 90,
   "id": "3fd93ab5-fbf7-4b1e-bf63-6c3cb0040dff",
   "metadata": {
    "execution": {
     "iopub.execute_input": "2025-01-18T05:57:37.210218Z",
     "iopub.status.busy": "2025-01-18T05:57:37.210031Z",
     "iopub.status.idle": "2025-01-18T05:57:37.221675Z",
     "shell.execute_reply": "2025-01-18T05:57:37.220952Z",
     "shell.execute_reply.started": "2025-01-18T05:57:37.210201Z"
    },
    "lines_to_next_cell": 2
   },
   "outputs": [],
   "source": [
    "@hh.selective_lru_cache(maxsize=None, ignore_kwargs=('quiet',))\n",
    "def create_tables(rules: Rules, strategy: Strategy, *, quiet: bool) -> tuple[_NDArray, _NDArray]:\n",
    "  \"\"\"Return lookup tables to decide to split hand or what action to take.\"\"\"\n",
    "  assert strategy.attention in (Attention.TOTAL_OF_CARDS, Attention.INITIAL_CARDS_AND_TOTAL)\n",
    "\n",
    "  split_table = np.empty((10, 10), bool)  # card1=[1..10] dealer1=[1..10].\n",
    "  for index in np.ndindex(split_table.shape):\n",
    "    card1, dealer1 = index[0] + 1, index[1] + 1\n",
    "    state: State = ((card1, card1), dealer1, ())\n",
    "    action = get_best_action(state, rules, strategy)\n",
    "    split_table[index] = action is Action.SPLIT\n",
    "\n",
    "  # Create the 7D array; ~17_950 out of 144_000 entries correspond to possible hands.\n",
    "  possible_indexes = list(generate_possible_action_table_indices(rules, strategy))\n",
    "  action_table = np.full((10, 10, 10, 2, 2, 18, 2), IMPOSSIBLE_ACTION_VALUE, np.uint8)\n",
    "  for tup in tqdm_stdout(possible_indexes, desc='table', disable=quiet):\n",
    "    index, card1, card2, dealer1, have_split, is_first_action, player_total, player_soft = tup\n",
    "    card1_was_ace = card1 == 1\n",
    "    split_cards = (card1,) if have_split else ()  # Paired card that contributed to the split hand.\n",
    "    card1, card2 = order_cards(card1, card2)\n",
    "\n",
    "    if is_first_action:\n",
    "      actions = strategy.first_actions\n",
    "      if actions == {Action.SPLIT}:\n",
    "        # We forced the splitting of paired hands; now reset so as to not constrain the first\n",
    "        # action on the completed split hands.\n",
    "        actions = frozenset(Action)\n",
    "      actions -= {Action.SPLIT}  # Already handled in split_table.\n",
    "      if have_split:\n",
    "        actions -= {Action.SURRENDER}\n",
    "        if card1_was_ace and not rules.hit_split_aces:\n",
    "          actions -= {Action.HIT}\n",
    "        if not rules.double_after_split or (card1_was_ace and not rules.double_split_aces):\n",
    "          actions -= {Action.DOUBLE}\n",
    "      strategy2 = dataclasses.replace(strategy, first_actions=frozenset(actions))\n",
    "      state = (card1, card2), dealer1, split_cards\n",
    "      action = get_best_action(state, rules, strategy2)\n",
    "\n",
    "    else:\n",
    "      strategy2 = dataclasses.replace(strategy, first_actions=ACTIONS)\n",
    "      if strategy2.attention is Attention.INITIAL_CARDS_AND_TOTAL:\n",
    "        player_cards = get_canonical_hand_with_initial_cards_and_total(\n",
    "            (card1, card2), player_total, player_soft\n",
    "        )\n",
    "        assert len(player_cards) > 2\n",
    "        state = player_cards, dealer1, split_cards\n",
    "        action = get_best_action(state, rules, strategy2)\n",
    "      else:\n",
    "        assert strategy2.attention is Attention.TOTAL_OF_CARDS\n",
    "        args = player_total, player_soft, dealer1, rules, strategy2\n",
    "        actions = frozenset({Action.STAND, Action.HIT})\n",
    "        # ??\n",
    "        # action = max(actions, key=lambda action: reward_for_basic_strategy_total(*args, action))\n",
    "        action = max(\n",
    "            (reward_for_basic_strategy_total(*args, action), action) for action in actions\n",
    "        )[1]\n",
    "\n",
    "    action_table[index] = action.value\n",
    "\n",
    "  return split_table, action_table"
   ]
  },
  {
   "cell_type": "code",
   "execution_count": 91,
   "id": "5a70cebe-98e3-4a04-8a0b-e6df49547e38",
   "metadata": {
    "execution": {
     "iopub.execute_input": "2025-01-18T05:57:37.222619Z",
     "iopub.status.busy": "2025-01-18T05:57:37.222446Z",
     "iopub.status.idle": "2025-01-18T05:57:37.232942Z",
     "shell.execute_reply": "2025-01-18T05:57:37.232240Z",
     "shell.execute_reply.started": "2025-01-18T05:57:37.222604Z"
    },
    "lines_to_next_cell": 2
   },
   "outputs": [],
   "source": [
    "# _ = create_tables(Rules(num_decks=1), INITIAL_DEPENDENT_STRATEGY, quiet=False)\n",
    "# print(monte_carlo_house_edge(Rules(num_decks=1), INITIAL_DEPENDENT_STRATEGY, 200_000_000))"
   ]
  },
  {
   "cell_type": "code",
   "execution_count": 92,
   "id": "af1d71ab-f918-4194-bf19-3c17cca8ee3a",
   "metadata": {
    "execution": {
     "iopub.execute_input": "2025-01-18T05:57:37.234224Z",
     "iopub.status.busy": "2025-01-18T05:57:37.233792Z",
     "iopub.status.idle": "2025-01-18T05:57:37.242573Z",
     "shell.execute_reply": "2025-01-18T05:57:37.241900Z",
     "shell.execute_reply.started": "2025-01-18T05:57:37.234209Z"
    }
   },
   "outputs": [],
   "source": [
    "def test_create_tables(rules: Rules, strategy: Strategy) -> None:\n",
    "  \"\"\"Check that all hands have possible actions, and that all possible actions have hands.\"\"\"\n",
    "  action_table = create_tables(rules, strategy, quiet=False)[1]\n",
    "  for unpermuted_cards in generate_all_hands(rules):\n",
    "    for cards in more_itertools.distinct_permutations(unpermuted_cards):\n",
    "      player_total, player_soft = combine_cards(cards)\n",
    "      card1, card2, dealer1, have_split, is_first_action = *cards[:2], 10, False, False\n",
    "      t1, t2, t3 = int(have_split), int(is_first_action), int(player_soft)\n",
    "      index1 = card1 - 1, card2 - 1, dealer1 - 1, t1, t2, player_total - 4, t3\n",
    "      if card1 <= card2 and len(cards) >= 3:\n",
    "        assert action_table[index1] > 0, (cards, player_total, player_soft)\n",
    "      action_table[index1] = 10\n",
    "\n",
    "  for index in np.ndindex(action_table.shape):\n",
    "    card1, card2, dealer1, have_split, is_first_action, player_total, player_soft = (\n",
    "        index[0] + 1,\n",
    "        index[1] + 1,\n",
    "        index[2] + 1,\n",
    "        bool(index[3]),\n",
    "        bool(index[4]),\n",
    "        index[5] + 4,\n",
    "        bool(index[6]),\n",
    "    )\n",
    "    if (dealer1, have_split, is_first_action) != (10, False, False):\n",
    "      continue\n",
    "    if action_table[index] not in (0, 10):\n",
    "      hh.show(card1, card2, dealer1, have_split, is_first_action, player_total, player_soft)\n",
    "      raise AssertionError"
   ]
  },
  {
   "cell_type": "code",
   "execution_count": 93,
   "id": "244d9b10-ba16-4b59-8baf-af06e19a469f",
   "metadata": {
    "execution": {
     "iopub.execute_input": "2025-01-18T05:57:37.243652Z",
     "iopub.status.busy": "2025-01-18T05:57:37.243338Z",
     "iopub.status.idle": "2025-01-18T05:57:37.253770Z",
     "shell.execute_reply": "2025-01-18T05:57:37.253135Z",
     "shell.execute_reply.started": "2025-01-18T05:57:37.243637Z"
    }
   },
   "outputs": [],
   "source": [
    "if 0:\n",
    "  test_create_tables(Rules(num_decks=1), Strategy(attention=Attention.TOTAL_OF_CARDS))\n",
    "  test_create_tables(Rules(num_decks=6), Strategy(attention=Attention.INITIAL_CARDS_AND_TOTAL))"
   ]
  },
  {
   "cell_type": "code",
   "execution_count": 94,
   "id": "e1defa34",
   "metadata": {
    "execution": {
     "iopub.execute_input": "2025-01-18T05:57:37.255006Z",
     "iopub.status.busy": "2025-01-18T05:57:37.254639Z",
     "iopub.status.idle": "2025-01-18T05:57:37.263098Z",
     "shell.execute_reply": "2025-01-18T05:57:37.262459Z",
     "shell.execute_reply.started": "2025-01-18T05:57:37.254988Z"
    }
   },
   "outputs": [],
   "source": [
    "if 0:\n",
    "  with temporary_effort(1):\n",
    "    hh.print_time(lambda: create_tables(Rules(num_decks=1), Strategy(), quiet=True))\n",
    "# EFFORT=2: 4.7 s"
   ]
  },
  {
   "cell_type": "code",
   "execution_count": 95,
   "id": "20f2698d",
   "metadata": {
    "execution": {
     "iopub.execute_input": "2025-01-18T05:57:37.264290Z",
     "iopub.status.busy": "2025-01-18T05:57:37.263924Z",
     "iopub.status.idle": "2025-01-18T05:57:37.272938Z",
     "shell.execute_reply": "2025-01-18T05:57:37.272239Z",
     "shell.execute_reply.started": "2025-01-18T05:57:37.264266Z"
    }
   },
   "outputs": [],
   "source": [
    "if 0:\n",
    "  with temporary_effort(1):\n",
    "    hh.prun(lambda: create_tables(Rules(num_decks=1), Strategy(), quiet=True))\n",
    "# Prun: tottime    9.190 overall_cumtime\n",
    "#         3.361    5.484 reward_after_dealer_hits (/tmp/ipykernel:1)\n",
    "#         1.068    1.068 add_card (/tmp/ipykernel:1)\n",
    "#         0.687    1.038 add_recent (/tmp/ipykernel:23)\n",
    "#         0.631    8.951 reward_for_action (/tmp/ipykernel:1)\n",
    "#         0.343    6.057 reward_after_dealer_upcard_helper (/tmp/ipykernel:1)\n",
    "#         0.122    6.360 reward_after_dealer_upcard (/tmp/ipykernel:1)\n",
    "#         0.036    2.496 <genexpr> (/tmp/ipykernel:42)\n",
    "#         0.014    7.104 reward_for_split (/tmp/ipykernel:2)\n",
    "#         0.009    0.997 reward_for_double (/tmp/ipykernel:1)\n",
    "#         0.007    2.761 reward_for_basic_strategy_total (/tmp/ipykernel:1)\n",
    "#         0.002    2.388 <genexpr> (/tmp/ipykernel:9)\n",
    "#         0.001    2.392 best_reward_estimate_and_action_using_non_first_total (/tmp/ipykernel:1)"
   ]
  },
  {
   "cell_type": "code",
   "execution_count": 96,
   "id": "e6f4cfbe",
   "metadata": {
    "execution": {
     "iopub.execute_input": "2025-01-18T05:57:37.274137Z",
     "iopub.status.busy": "2025-01-18T05:57:37.273740Z",
     "iopub.status.idle": "2025-01-18T05:57:37.284598Z",
     "shell.execute_reply": "2025-01-18T05:57:37.283907Z",
     "shell.execute_reply.started": "2025-01-18T05:57:37.274120Z"
    }
   },
   "outputs": [],
   "source": [
    "if 0:\n",
    "  _ = create_tables(Rules(), Strategy(), quiet=False)"
   ]
  },
  {
   "cell_type": "code",
   "execution_count": 97,
   "id": "4a061bf8-2ed4-408a-ab7b-b10e9f81d52f",
   "metadata": {
    "execution": {
     "iopub.execute_input": "2025-01-18T05:57:37.285872Z",
     "iopub.status.busy": "2025-01-18T05:57:37.285376Z",
     "iopub.status.idle": "2025-01-18T05:57:37.294017Z",
     "shell.execute_reply": "2025-01-18T05:57:37.293346Z",
     "shell.execute_reply.started": "2025-01-18T05:57:37.285855Z"
    },
    "lines_to_next_cell": 2
   },
   "outputs": [],
   "source": [
    "@functools.cache\n",
    "def create_tables_cuda(rules: Rules, strategy: Strategy) -> tuple[_CudaArray, _CudaArray]:\n",
    "  \"\"\"Create and memoize device versions of tables.\"\"\"\n",
    "  split_table, action_table = create_tables(rules, strategy, quiet=True)\n",
    "  d_split = cuda.to_device(split_table)\n",
    "  d_action = cuda.to_device(action_table)\n",
    "  return d_split, d_action"
   ]
  },
  {
   "cell_type": "markdown",
   "id": "bae69e8a",
   "metadata": {
    "lines_to_next_cell": 2
   },
   "source": [
    "### Simulate a hand"
   ]
  },
  {
   "cell_type": "code",
   "execution_count": 98,
   "id": "620969db-f6ef-4463-b799-99f2057f7ec2",
   "metadata": {
    "execution": {
     "iopub.execute_input": "2025-01-18T05:57:37.295209Z",
     "iopub.status.busy": "2025-01-18T05:57:37.294812Z",
     "iopub.status.idle": "2025-01-18T05:57:37.303298Z",
     "shell.execute_reply": "2025-01-18T05:57:37.302560Z",
     "shell.execute_reply.started": "2025-01-18T05:57:37.295195Z"
    }
   },
   "outputs": [],
   "source": [
    "def get_int_split_to_num_hands(rules: Rules) -> int:\n",
    "  \"\"\"Return split_to_num_hands converted to an integer.\"\"\"\n",
    "  if rules.split_to_num_hands == math.inf:\n",
    "    return 100  # Some large number.\n",
    "  return int(rules.split_to_num_hands)"
   ]
  },
  {
   "cell_type": "code",
   "execution_count": 99,
   "id": "a6e14044",
   "metadata": {
    "execution": {
     "iopub.execute_input": "2025-01-18T05:57:37.304419Z",
     "iopub.status.busy": "2025-01-18T05:57:37.304229Z",
     "iopub.status.idle": "2025-01-18T05:57:37.312745Z",
     "shell.execute_reply": "2025-01-18T05:57:37.312075Z",
     "shell.execute_reply.started": "2025-01-18T05:57:37.304403Z"
    }
   },
   "outputs": [],
   "source": [
    "@numba_njit()\n",
    "def end_of_shoe_reshuffle(index: int, shoe_index: int, hand_start_card_index: int) -> int:\n",
    "  \"\"\"Return a new card index resulting from mid-hand reshuffling past the end of the shoe.\n",
    "  In the rare case that the shoe is exhausted (e.g., due to splits and many small cards), a casino\n",
    "  would reshuffle the discard pile.  We emulate this by jumping to new locations within the shoe\n",
    "  (minus the tail cards in the current hand) using pseudorandom offsets based on shoe_index.\"\"\"\n",
    "  uint32, uint64 = numba.uint32, numba.uint64\n",
    "  random_offset = index * 907 + shoe_index * 997  # All relatively prime.\n",
    "  index = uint32((index + random_offset) % uint64(hand_start_card_index))\n",
    "  return index"
   ]
  },
  {
   "cell_type": "code",
   "execution_count": 100,
   "id": "b69c05a3",
   "metadata": {
    "execution": {
     "iopub.execute_input": "2025-01-18T05:57:37.313804Z",
     "iopub.status.busy": "2025-01-18T05:57:37.313631Z",
     "iopub.status.idle": "2025-01-18T05:57:37.326071Z",
     "shell.execute_reply": "2025-01-18T05:57:37.325463Z",
     "shell.execute_reply.started": "2025-01-18T05:57:37.313790Z"
    },
    "lines_to_next_cell": 2
   },
   "outputs": [],
   "source": [
    "# Forced inlining of simulate_hand() into simulate_shoes_helper() and\n",
    "# simulate_shoes_all_cut_cards() provides a small 1.1x simulation speedup.\n",
    "@numba_njit(inline=('always' if EFFORT >= 2 else 'never'))\n",
    "def simulate_hand(\n",
    "    shoe_index: int,\n",
    "    shoe: _NDArray,\n",
    "    card_index: int,\n",
    "    split_table: _NDArray,\n",
    "    action_table: _NDArray,\n",
    "    min_num_player_cards: int,\n",
    "    rules_blackjack_payout: float,\n",
    "    rules_hit_soft17: bool,\n",
    "    rules_obo: bool,\n",
    "    rules_split_to_num_hands: int,\n",
    "    rules_resplit_aces: bool,\n",
    "    split_second_cards: _NDArray,\n",
    ") -> tuple[numba.float32, int]:\n",
    "  \"\"\"Return `(reward, card_index)` after playing a hand from the shoe.\"\"\"\n",
    "  int32, uint32, float32 = numba.int32, numba.uint32, numba.float32\n",
    "  WIN, TIE, LOSE = float32(1.0), float32(0.0), float32(-1.0)\n",
    "  card_index = uint32(card_index)\n",
    "  hand_start_card_index = uint32(card_index)\n",
    "\n",
    "  def get_card() -> Card:\n",
    "    \"\"\"Return a card value retrieved from the shoe.\"\"\"\n",
    "    nonlocal card_index\n",
    "    index = uint32(card_index)\n",
    "    card_index = uint32(card_index + 1)\n",
    "    if index >= len(shoe):\n",
    "      index = uint32(end_of_shoe_reshuffle(index, shoe_index, hand_start_card_index))\n",
    "    card: Card = shoe[index]\n",
    "    return card\n",
    "\n",
    "  card1, dealer1 = int32(get_card()), int32(get_card())\n",
    "  card2, dealer2 = int32(get_card()), int32(get_card())\n",
    "  if card1 > card2:\n",
    "    card1, card2 = card2, card1\n",
    "  player_bj = card1 == 1 and card2 == 10\n",
    "  dealer_bj = abs(int32(dealer1 - dealer2)) == 9\n",
    "  # If player has blackjack, we allow player to consider (suboptimal) actions other than STAND.\n",
    "  player_gets_bj = False\n",
    "  if dealer_bj and rules_obo and not player_bj:\n",
    "    return LOSE, card_index\n",
    "\n",
    "  have_split = (\n",
    "      card1 == card2  # pylint: disable=chained-comparison\n",
    "      and rules_split_to_num_hands >= 2\n",
    "      and split_table[uint32(card1 - 1), uint32(dealer1 - 1)]\n",
    "      and min_num_player_cards <= 2\n",
    "  )\n",
    "\n",
    "  def reward_after_dealer(player_total: int) -> numba.float32:\n",
    "    \"\"\"Return the reward after dealer acts.\"\"\"\n",
    "    if player_total > 21 or dealer_bj:\n",
    "      return LOSE  # Player busts or dealer has blackjack.\n",
    "\n",
    "    dealer_total, dealer_soft = numba_combine_two_cards(dealer1, dealer2)\n",
    "    while dealer_total < 17 or (dealer_total == 17 and dealer_soft and rules_hit_soft17):\n",
    "      card = get_card()\n",
    "      dealer_total, dealer_soft = numba_add_card(dealer_total, dealer_soft, card)\n",
    "\n",
    "    if dealer_total > 21:\n",
    "      return WIN  # Dealer busts and thus player wins.\n",
    "\n",
    "    # Player wins, pushes, or loses.\n",
    "    return WIN if player_total > dealer_total else TIE if player_total == dealer_total else LOSE\n",
    "\n",
    "  def create_split_hands(card1: Card) -> numba.uint32:\n",
    "    \"\"\"Return series of second cards after iteratively splitting.\"\"\"\n",
    "    # (Numba: yield is not yet supported within closure; replacing List by np.array() not helpful.)\n",
    "    num_incomplete_hands = uint32(2)  # Initially we have 2 matching cards.\n",
    "    num_split_second_cards = uint32(0)\n",
    "    while num_incomplete_hands > 0:\n",
    "      card = get_card()\n",
    "      num_split_hands = uint32(num_split_second_cards + num_incomplete_hands)\n",
    "      split_allowed = num_split_hands < rules_split_to_num_hands and (\n",
    "          card1 != 1 or rules_resplit_aces\n",
    "      )\n",
    "      if card == card1 and split_allowed:\n",
    "        num_incomplete_hands += 1\n",
    "      else:\n",
    "        num_incomplete_hands -= 1\n",
    "        assert num_split_second_cards < SPLIT_SECOND_CARDS_SIZE\n",
    "        split_second_cards[num_split_second_cards] = card\n",
    "        num_split_second_cards += 1\n",
    "    return num_split_second_cards\n",
    "\n",
    "  def simulate_potentially_split_hand() -> numba.float32:\n",
    "    \"\"\"Separately consider each hand after potential splitting.\"\"\"\n",
    "    nonlocal player_gets_bj\n",
    "    action_table_slice = action_table[\n",
    "        uint32(card1 - 1), uint32(card2 - 1), uint32(dealer1 - 1), uint32(have_split)\n",
    "    ]\n",
    "    is_first_action = True\n",
    "    player_total, player_soft = numba_combine_two_cards(card1, card2)\n",
    "\n",
    "    while True:\n",
    "      force_hit = uint32(card_index - hand_start_card_index) < uint32(min_num_player_cards + 2)\n",
    "      action_value = (\n",
    "          Action.HIT.value\n",
    "          if force_hit\n",
    "          else action_table_slice[\n",
    "              uint32(is_first_action), uint32(player_total - 4), uint32(player_soft)\n",
    "          ]\n",
    "      )\n",
    "\n",
    "      # Unfortunately, numba does not support match/case control structure.\n",
    "      if action_value == Action.STAND.value:\n",
    "        if is_first_action and player_bj:\n",
    "          player_gets_bj = True\n",
    "          return float32(rules_blackjack_payout) if not dealer_bj else TIE\n",
    "        return float32(reward_after_dealer(player_total))\n",
    "\n",
    "      if action_value == Action.HIT.value:\n",
    "        card = get_card()\n",
    "        player_total, player_soft = numba_add_card(player_total, player_soft, card)\n",
    "        if player_total > 21:\n",
    "          return LOSE\n",
    "        is_first_action = False\n",
    "        continue\n",
    "\n",
    "      if action_value == Action.DOUBLE.value:\n",
    "        card = get_card()\n",
    "        player_total, player_soft = numba_add_card(player_total, player_soft, card)\n",
    "        return float32(reward_after_dealer(player_total) * 2)\n",
    "\n",
    "      if action_value == Action.SURRENDER.value:\n",
    "        return LOSE if dealer_bj else float32(-0.5)\n",
    "\n",
    "      raise AssertionError\n",
    "\n",
    "  if have_split:\n",
    "    reward = float32(0.0)\n",
    "    num_split_second_cards = uint32(create_split_hands(card1))\n",
    "    for card2 in split_second_cards[:num_split_second_cards]:\n",
    "      reward += float32(simulate_potentially_split_hand())\n",
    "\n",
    "  else:\n",
    "    reward = float32(simulate_potentially_split_hand())\n",
    "\n",
    "  if dealer_bj and rules_obo and not player_gets_bj:  # (If player fails to STAND on bj.)\n",
    "    reward = LOSE\n",
    "\n",
    "  return reward, card_index"
   ]
  },
  {
   "cell_type": "code",
   "execution_count": 101,
   "id": "9b9bc885-2f79-4e55-becf-af664e1e58ce",
   "metadata": {
    "execution": {
     "iopub.execute_input": "2025-01-18T05:57:37.327290Z",
     "iopub.status.busy": "2025-01-18T05:57:37.326794Z",
     "iopub.status.idle": "2025-01-18T05:57:37.337461Z",
     "shell.execute_reply": "2025-01-18T05:57:37.336579Z",
     "shell.execute_reply.started": "2025-01-18T05:57:37.327276Z"
    }
   },
   "outputs": [],
   "source": [
    "# print('\\n'.join(map(repr, simulate_hand.overloads.keys())))"
   ]
  },
  {
   "cell_type": "markdown",
   "id": "06816ec6",
   "metadata": {
    "lines_to_next_cell": 2
   },
   "source": [
    "### Simulation using CPU"
   ]
  },
  {
   "cell_type": "code",
   "execution_count": 102,
   "id": "b2c82821",
   "metadata": {
    "execution": {
     "iopub.execute_input": "2025-01-18T05:57:37.338809Z",
     "iopub.status.busy": "2025-01-18T05:57:37.338394Z",
     "iopub.status.idle": "2025-01-18T05:57:37.347341Z",
     "shell.execute_reply": "2025-01-18T05:57:37.346718Z",
     "shell.execute_reply.started": "2025-01-18T05:57:37.338785Z"
    }
   },
   "outputs": [],
   "source": [
    "@numba_njit()\n",
    "def simulate_shoes_helper(\n",
    "    start_shoe_index: int,\n",
    "    shoes: _NDArray,\n",
    "    split_table: _NDArray,\n",
    "    action_table: _NDArray,\n",
    "    min_num_player_cards: int,\n",
    "    rules_blackjack_payout: float,\n",
    "    rules_hit_soft17: bool,\n",
    "    rules_obo: bool,\n",
    "    rules_split_to_num_hands: int,\n",
    "    rules_resplit_aces: bool,\n",
    "    rules_cut_card: int,\n",
    "    hands_per_shoe: int,\n",
    ") -> tuple[int, float, float]:\n",
    "  \"\"\"Return `(played_hands, sum_rewards, sum_squared_rewards)` over all hands played from shoes.\"\"\"\n",
    "  assert shoes.ndim == 2 and split_table.ndim == 2 and action_table.ndim == 7\n",
    "  split_second_cards = np.zeros(SPLIT_SECOND_CARDS_SIZE, np.int64)\n",
    "  total_played_hands = 0\n",
    "  sum_rewards = 0.0\n",
    "  sum_squared_rewards = 0.0\n",
    "\n",
    "  for index, shoe in enumerate(shoes):\n",
    "    shoe_index = start_shoe_index + index\n",
    "    card_index = 0\n",
    "    shoe_played_hands = 0\n",
    "\n",
    "    while True:\n",
    "      reward, card_index = simulate_hand(\n",
    "          shoe_index,\n",
    "          shoe,\n",
    "          card_index,\n",
    "          split_table,\n",
    "          action_table,\n",
    "          min_num_player_cards,\n",
    "          float(rules_blackjack_payout),\n",
    "          rules_hit_soft17,\n",
    "          rules_obo,\n",
    "          rules_split_to_num_hands,\n",
    "          rules_resplit_aces,\n",
    "          split_second_cards,\n",
    "      )\n",
    "      shoe_played_hands += 1\n",
    "      sum_rewards += reward\n",
    "      sum_squared_rewards += reward * reward\n",
    "      if hands_per_shoe > 0:\n",
    "        if shoe_played_hands >= hands_per_shoe:\n",
    "          break\n",
    "      elif card_index >= rules_cut_card:\n",
    "        break\n",
    "\n",
    "    total_played_hands += shoe_played_hands\n",
    "\n",
    "  return total_played_hands, sum_rewards, sum_squared_rewards"
   ]
  },
  {
   "cell_type": "code",
   "execution_count": 103,
   "id": "65a5dd1a-ba53-4b68-86f8-bc2713ae6cc8",
   "metadata": {
    "execution": {
     "iopub.execute_input": "2025-01-18T05:57:37.348193Z",
     "iopub.status.busy": "2025-01-18T05:57:37.348037Z",
     "iopub.status.idle": "2025-01-18T05:57:37.358899Z",
     "shell.execute_reply": "2025-01-18T05:57:37.358122Z",
     "shell.execute_reply.started": "2025-01-18T05:57:37.348179Z"
    },
    "lines_to_next_cell": 2
   },
   "outputs": [],
   "source": [
    "if 0:\n",
    "  print('\\n'.join(map(repr, simulate_shoes_helper.overloads.keys())))  # (Run after notebook.)\n",
    "# (int64, Array(int64, 2, 'C', False, aligned=True), Array(bool, 2, 'C', False, aligned=True), Array(uint8, 7, 'C', False, aligned=True), int64, float64, bool, bool, float64, bool, int64, int64)"
   ]
  },
  {
   "cell_type": "code",
   "execution_count": 104,
   "id": "b38ec66d",
   "metadata": {
    "execution": {
     "iopub.execute_input": "2025-01-18T05:57:37.360128Z",
     "iopub.status.busy": "2025-01-18T05:57:37.359916Z",
     "iopub.status.idle": "2025-01-18T05:57:37.368548Z",
     "shell.execute_reply": "2025-01-18T05:57:37.367855Z",
     "shell.execute_reply.started": "2025-01-18T05:57:37.360110Z"
    }
   },
   "outputs": [],
   "source": [
    "def simulate_shoes(\n",
    "    start_shoe_index: int,\n",
    "    shoes: _NDArray,\n",
    "    rules: Rules,\n",
    "    strategy: Strategy,\n",
    "    min_num_player_cards: int,\n",
    "    hands_per_shoe: int,\n",
    ") -> tuple[int, float, float]:\n",
    "  \"\"\"Return `(played_hands, sum_rewards, sum_squared_rewards)` over all hands played from shoes.\"\"\"\n",
    "  assert start_shoe_index >= 0 and shoes.ndim == 2 and hands_per_shoe >= 0\n",
    "  rules2 = normalize_rules_for_probabilistic_analysis(rules)\n",
    "  split_table, action_table = create_tables(rules2, strategy, quiet=True)\n",
    "  # Note that:\n",
    "  # - rules.num_decks is already encoded in shoes.shape[1].\n",
    "  # - hit_split_aces, double_split_aces are already encoded in `split_table`.\n",
    "  # - double_min_total, double_after_split, late_surrender, strategy.first_actions,\n",
    "  #   strategy.attention are already encoded in `action_table`.\n",
    "  rules_split_to_num_hands = get_int_split_to_num_hands(rules)\n",
    "  return simulate_shoes_helper(\n",
    "      start_shoe_index,\n",
    "      shoes,\n",
    "      split_table,\n",
    "      action_table,\n",
    "      min_num_player_cards,\n",
    "      float(rules.blackjack_payout),\n",
    "      rules.hit_soft17,\n",
    "      rules.obo,\n",
    "      rules_split_to_num_hands,\n",
    "      rules.resplit_aces,\n",
    "      rules.cut_card,\n",
    "      hands_per_shoe,\n",
    "  )"
   ]
  },
  {
   "cell_type": "code",
   "execution_count": 105,
   "id": "a6c3cc82",
   "metadata": {
    "execution": {
     "iopub.execute_input": "2025-01-18T05:57:37.369611Z",
     "iopub.status.busy": "2025-01-18T05:57:37.369324Z",
     "iopub.status.idle": "2025-01-18T05:57:37.379937Z",
     "shell.execute_reply": "2025-01-18T05:57:37.379278Z",
     "shell.execute_reply.started": "2025-01-18T05:57:37.369598Z"
    }
   },
   "outputs": [],
   "source": [
    "if 0:  # Inspect numba compilation diagnostics.\n",
    "  print(simulate_hand.overloads.keys())\n",
    "  print(simulate_shoes_helper.overloads.keys())\n",
    "  print(list(simulate_shoes_helper.inspect_asm().values())[0])"
   ]
  },
  {
   "cell_type": "code",
   "execution_count": 106,
   "id": "606e517b-6721-46f8-8dbd-278df44fba7c",
   "metadata": {
    "execution": {
     "iopub.execute_input": "2025-01-18T05:57:37.381107Z",
     "iopub.status.busy": "2025-01-18T05:57:37.380760Z",
     "iopub.status.idle": "2025-01-18T05:57:37.389430Z",
     "shell.execute_reply": "2025-01-18T05:57:37.388771Z",
     "shell.execute_reply.started": "2025-01-18T05:57:37.381091Z"
    }
   },
   "outputs": [],
   "source": [
    "def test_simulate_single_shoe() -> None:\n",
    "  \"\"\"Debug simulation on small shoe.\"\"\"\n",
    "  deck = np.array(CARD_VALUES).repeat(NUM_SUITS)\n",
    "  np.random.default_rng(4).shuffle(deck)\n",
    "  shoes = deck[None]\n",
    "  # print(shoes)\n",
    "  min_num_player_cards = 0\n",
    "  hands_per_shoe = 4\n",
    "  # [[ 5  3 10 10 10 10 10  7  7  1 10 10  3  9  4  5  5 10 10  2  9  9  3 10\n",
    "  #    7  6 10  6 10  8  1  9 10  8  7  4  3  6  2  8  6 10  5  8 10  1  2 10\n",
    "  #    2  1  4  4]]\n",
    "  # rewards=[1.0, 0.0, 1.5, -1.0]; sum=1.5; sum_squared=4.25\n",
    "  check_eq(\n",
    "      simulate_shoes(\n",
    "          0, shoes, Rules(num_decks=1, cut_card=0), Strategy(), min_num_player_cards, hands_per_shoe\n",
    "      ),\n",
    "      (4, 1.5, 4.25),\n",
    "  )"
   ]
  },
  {
   "cell_type": "code",
   "execution_count": 107,
   "id": "15dcb1e9-7795-42d8-9868-04968291c208",
   "metadata": {
    "execution": {
     "iopub.execute_input": "2025-01-18T05:57:37.390772Z",
     "iopub.status.busy": "2025-01-18T05:57:37.390174Z",
     "iopub.status.idle": "2025-01-18T05:57:43.226548Z",
     "shell.execute_reply": "2025-01-18T05:57:43.225765Z",
     "shell.execute_reply.started": "2025-01-18T05:57:37.390755Z"
    }
   },
   "outputs": [],
   "source": [
    "if 1:\n",
    "  test_simulate_single_shoe()  # ~6-14 s for jit compilation."
   ]
  },
  {
   "cell_type": "code",
   "execution_count": 108,
   "id": "baa887b6",
   "metadata": {
    "execution": {
     "iopub.execute_input": "2025-01-18T05:57:43.227884Z",
     "iopub.status.busy": "2025-01-18T05:57:43.227472Z",
     "iopub.status.idle": "2025-01-18T05:57:43.231322Z",
     "shell.execute_reply": "2025-01-18T05:57:43.230677Z",
     "shell.execute_reply.started": "2025-01-18T05:57:43.227867Z"
    }
   },
   "outputs": [],
   "source": [
    "def get_shoes_per_seed(rules: Rules) -> int:\n",
    "  \"\"\"Return an efficient number of shoes to consider per batch.\"\"\"\n",
    "  return {1.0: 2_000, 2.0: 500}.get(rules.num_decks, 200)"
   ]
  },
  {
   "cell_type": "code",
   "execution_count": 109,
   "id": "b552f8a9",
   "metadata": {
    "execution": {
     "iopub.execute_input": "2025-01-18T05:57:43.232465Z",
     "iopub.status.busy": "2025-01-18T05:57:43.232106Z",
     "iopub.status.idle": "2025-01-18T05:57:43.245031Z",
     "shell.execute_reply": "2025-01-18T05:57:43.244384Z",
     "shell.execute_reply.started": "2025-01-18T05:57:43.232448Z"
    }
   },
   "outputs": [],
   "source": [
    "# Workaround: a local function cannot be pickled; we use shared memory instead.\n",
    "_global_create_shoes: CreateShoes"
   ]
  },
  {
   "cell_type": "code",
   "execution_count": 110,
   "id": "d929b230",
   "metadata": {
    "execution": {
     "iopub.execute_input": "2025-01-18T05:57:43.246210Z",
     "iopub.status.busy": "2025-01-18T05:57:43.245862Z",
     "iopub.status.idle": "2025-01-18T05:57:43.254626Z",
     "shell.execute_reply": "2025-01-18T05:57:43.253725Z",
     "shell.execute_reply.started": "2025-01-18T05:57:43.246193Z"
    }
   },
   "outputs": [],
   "source": [
    "def simulate_many_shoes(\n",
    "    rules: Rules,\n",
    "    strategy: Strategy,\n",
    "    min_num_player_cards: int,\n",
    "    hands_per_shoe: int,\n",
    "    start_shoe_index: int,\n",
    "    stop_shoe_index: int,\n",
    "    quiet: bool,\n",
    ") -> tuple[int, float, float]:\n",
    "  \"\"\"Return `(played_hands, sum_rewards, sum_squared_rewards)` over many random shoes.\"\"\"\n",
    "  assert hands_per_shoe >= 0 and 0 <= start_shoe_index <= stop_shoe_index\n",
    "  played_hands = 0\n",
    "  sum_rewards = 0.0\n",
    "  sum_squared_rewards = 0.0\n",
    "  total = stop_shoe_index - start_shoe_index\n",
    "  shoes_per_seed = get_shoes_per_seed(rules)\n",
    "\n",
    "  with tqdm_stdout(total=total, desc='sim', disable=quiet) as progress_bar:\n",
    "    start = start_shoe_index\n",
    "    while start < stop_shoe_index:\n",
    "      seed_index = start // shoes_per_seed * shoes_per_seed\n",
    "      num_batch_shoes = min(stop_shoe_index - seed_index, shoes_per_seed)\n",
    "      shoes = _global_create_shoes(num_batch_shoes, seed_index)\n",
    "      shoes = shoes[start - seed_index :]\n",
    "      shoe_played_hands, shoe_sum_rewards, shoe_sum_squared_rewards = simulate_shoes(\n",
    "          start, shoes, rules, strategy, min_num_player_cards, hands_per_shoe\n",
    "      )\n",
    "      played_hands += shoe_played_hands\n",
    "      sum_rewards += shoe_sum_rewards\n",
    "      sum_squared_rewards += shoe_sum_squared_rewards\n",
    "      progress_bar.update(len(shoes))\n",
    "      start += len(shoes)\n",
    "\n",
    "  return played_hands, sum_rewards, sum_squared_rewards"
   ]
  },
  {
   "cell_type": "code",
   "execution_count": 111,
   "id": "85e5b9fa-8bf2-49d7-b8e8-98b85ee0b9c9",
   "metadata": {
    "execution": {
     "iopub.execute_input": "2025-01-18T05:57:43.255523Z",
     "iopub.status.busy": "2025-01-18T05:57:43.255358Z",
     "iopub.status.idle": "2025-01-18T05:57:43.266129Z",
     "shell.execute_reply": "2025-01-18T05:57:43.265422Z",
     "shell.execute_reply.started": "2025-01-18T05:57:43.255508Z"
    }
   },
   "outputs": [],
   "source": [
    "def get_hands_per_shoe(cut_card: int, shoe_size: int) -> int:\n",
    "  \"\"\"Return the desired number of hands to simulate per shoe, or zero if until end of shoe.\"\"\"\n",
    "  # If cut_card == 0, we should reshuffle the shoe after each hand.  For efficiency, we instead\n",
    "  # consider a larger (but fixed) number of hands; this does not affect the computed reward.\n",
    "  return int(  # Cast to unconfuse mypy.\n",
    "      0 if cut_card > 0 else shoe_size // 12 if shoe_size < 80 else shoe_size // DECK_SIZE * 6\n",
    "  )"
   ]
  },
  {
   "cell_type": "code",
   "execution_count": 112,
   "id": "8cdaf9c2",
   "metadata": {
    "execution": {
     "iopub.execute_input": "2025-01-18T05:57:43.267472Z",
     "iopub.status.busy": "2025-01-18T05:57:43.266952Z",
     "iopub.status.idle": "2025-01-18T05:57:43.274990Z",
     "shell.execute_reply": "2025-01-18T05:57:43.274333Z",
     "shell.execute_reply.started": "2025-01-18T05:57:43.267452Z"
    }
   },
   "outputs": [],
   "source": [
    "def get_num_hands() -> int:\n",
    "  \"\"\"Return the desired number of simulated hands based on `EFFORT` setting.\"\"\"\n",
    "  n1 = 10_000_000 if multiprocessing_is_available() else 2_000_000\n",
    "  num_hands = [n1 // 2, n1, 1_000_000_000, 10_000_000_000, 50_000_000_000][EFFORT]\n",
    "  if cuda.is_available():\n",
    "    num_hands *= 10\n",
    "  return num_hands"
   ]
  },
  {
   "cell_type": "code",
   "execution_count": 113,
   "id": "6c31dc06",
   "metadata": {
    "execution": {
     "iopub.execute_input": "2025-01-18T05:57:43.276335Z",
     "iopub.status.busy": "2025-01-18T05:57:43.275801Z",
     "iopub.status.idle": "2025-01-18T05:57:43.287923Z",
     "shell.execute_reply": "2025-01-18T05:57:43.287144Z",
     "shell.execute_reply.started": "2025-01-18T05:57:43.276320Z"
    }
   },
   "outputs": [],
   "source": [
    "def run_simulations(\n",
    "    rules: Rules,\n",
    "    strategy: Strategy,\n",
    "    num_hands: int,\n",
    "    create_shoes: CreateShoes,\n",
    "    parallel: bool | None,\n",
    "    quiet: bool,\n",
    "    *,\n",
    "    start_shoe_index: int = 0,\n",
    "    min_num_player_cards: int = 0,\n",
    "    hands_per_shoe: int = 0,\n",
    ") -> tuple[float, int, float]:\n",
    "  \"\"\"Return `(reward_average, played_hands, reward_sdv)` computed over many random hands.\"\"\"\n",
    "  assert start_shoe_index >= 0 and num_hands > 0 and hands_per_shoe >= 0\n",
    "  assert strategy.attention in (Attention.TOTAL_OF_CARDS, Attention.INITIAL_CARDS_AND_TOTAL)\n",
    "  global _global_create_shoes  # pylint: disable=global-statement, invalid-name\n",
    "  _global_create_shoes = create_shoes\n",
    "  shoe_size = create_shoes(1, 0).shape[1]\n",
    "  hands_per_shoe = hands_per_shoe or get_hands_per_shoe(rules.cut_card, shoe_size)\n",
    "\n",
    "  # We estimate the number of shoes necessary to play out `num_hands`.\n",
    "  approx_hands_per_shoe = (\n",
    "      hands_per_shoe if hands_per_shoe != 0 else math.ceil(rules.cut_card / AVERAGE_CARDS_PER_HAND)\n",
    "  )\n",
    "  # Ideally, we need a better estimate when rules.cut_card is small (e.g. 16).\n",
    "  num_shoes = math.ceil(num_hands / approx_hands_per_shoe)\n",
    "  stop_shoe_index = start_shoe_index + num_shoes\n",
    "\n",
    "  min_work_per_task = 800_000  # Found empirically.\n",
    "  # The work of shuffling the shoe compares with that of playing a hand.\n",
    "  estimated_work = num_hands + num_shoes\n",
    "  if parallel is None:\n",
    "    sufficient_work = estimated_work >= 2 * min_work_per_task\n",
    "    parallel = multiprocessing_is_available() and sufficient_work\n",
    "  if parallel and not multiprocessing_is_available():\n",
    "    warnings.warn('Multiprocessing simulation is requested but unavailable.')\n",
    "    parallel = False\n",
    "\n",
    "  # Memoize the simulation tables now (with progress bar), prior to forking and chunking.\n",
    "  rules2 = normalize_rules_for_probabilistic_analysis(rules)\n",
    "  _ = create_tables(rules2, strategy, quiet=quiet)\n",
    "  # Ensure numba code is jitted prior to forking.\n",
    "  _ = simulate_many_shoes(rules, strategy, min_num_player_cards, hands_per_shoe, 0, 1, True)\n",
    "\n",
    "  if parallel:\n",
    "    num_tasks = max(estimated_work // min_work_per_task, 1)\n",
    "    num_tasks = min(num_tasks, multiprocessing.cpu_count())\n",
    "    if 0:\n",
    "      print(\n",
    "          f'{num_hands:_} {num_shoes:_} {estimated_work} '\n",
    "          f'{estimated_work/min_work_per_task} {num_tasks}'\n",
    "      )\n",
    "    shoes_per_task = math.ceil(num_shoes / num_tasks)\n",
    "    with multiprocessing.get_context('fork').Pool(num_tasks) as pool:\n",
    "      tasks_args = []\n",
    "      start = start_shoe_index\n",
    "      while start < stop_shoe_index:\n",
    "        stop = min(start + shoes_per_task, stop_shoe_index)\n",
    "        quiet2 = quiet or start > start_shoe_index\n",
    "        tasks_args.append(\n",
    "            (rules, strategy, min_num_player_cards, hands_per_shoe, start, stop, quiet2)\n",
    "        )\n",
    "        start = stop\n",
    "      outcomes = pool.starmap(simulate_many_shoes, tasks_args)\n",
    "    played_hands, sum_rewards, sum_squared_rewards = (sum(e) for e in zip(*outcomes))\n",
    "  else:\n",
    "    played_hands, sum_rewards, sum_squared_rewards = simulate_many_shoes(\n",
    "        rules,\n",
    "        strategy,\n",
    "        min_num_player_cards,\n",
    "        hands_per_shoe,\n",
    "        start_shoe_index,\n",
    "        stop_shoe_index,\n",
    "        quiet,\n",
    "    )\n",
    "\n",
    "  reward_average = sum_rewards / played_hands\n",
    "  reward_sdv = (\n",
    "      math.nan\n",
    "      if played_hands <= 1\n",
    "      else (max(sum_squared_rewards - sum_rewards**2 / played_hands, 0.0) / (played_hands - 1))\n",
    "      ** 0.5\n",
    "  )\n",
    "  return reward_average, played_hands, reward_sdv"
   ]
  },
  {
   "cell_type": "code",
   "execution_count": 114,
   "id": "3a0503c2",
   "metadata": {
    "execution": {
     "iopub.execute_input": "2025-01-18T05:57:43.288912Z",
     "iopub.status.busy": "2025-01-18T05:57:43.288733Z",
     "iopub.status.idle": "2025-01-18T05:57:43.299530Z",
     "shell.execute_reply": "2025-01-18T05:57:43.298839Z",
     "shell.execute_reply.started": "2025-01-18T05:57:43.288898Z"
    }
   },
   "outputs": [],
   "source": [
    "def monte_carlo_house_edge_cpu(\n",
    "    rules: Rules,\n",
    "    strategy: Strategy,\n",
    "    num_hands: int,\n",
    "    parallel: bool | None = None,\n",
    "    quiet: bool = False,\n",
    ") -> tuple[float, int, float]:\n",
    "  \"\"\"Return `(house_edge, played_hands, house_edge_sdv)` computed by simulation of `num_hands`.\"\"\"\n",
    "  assert num_hands > 0\n",
    "  create_shoes = default_shoes_creator(rules)\n",
    "  reward_average, played_hands, reward_sdv = run_simulations(\n",
    "      rules, strategy, num_hands, create_shoes, parallel, quiet\n",
    "  )\n",
    "  house_edge = -reward_average\n",
    "  return house_edge, played_hands, reward_sdv"
   ]
  },
  {
   "cell_type": "code",
   "execution_count": 115,
   "id": "f91f7424-2802-4a5e-aa94-6bd11ad1f73f",
   "metadata": {
    "execution": {
     "iopub.execute_input": "2025-01-18T05:57:43.300733Z",
     "iopub.status.busy": "2025-01-18T05:57:43.300388Z",
     "iopub.status.idle": "2025-01-18T05:57:43.311534Z",
     "shell.execute_reply": "2025-01-18T05:57:43.310759Z",
     "shell.execute_reply.started": "2025-01-18T05:57:43.300716Z"
    }
   },
   "outputs": [],
   "source": [
    "def test_monte_carlo_house_edge_cpu() -> None:\n",
    "  \"\"\"Test monte_carlo_house_edge_cpu.\"\"\"\n",
    "  num_hands = 10**7\n",
    "  house_edge, played_hands, reward_sdv = monte_carlo_house_edge_cpu(\n",
    "      Rules(num_decks=1, late_surrender=False), Strategy(), num_hands, quiet=True\n",
    "  )\n",
    "  # print(house_edge, played_hands, reward_sdv)\n",
    "  assert 0.9 < played_hands / num_hands < 1.1\n",
    "  assert 0.0016 < house_edge < 0.0018 and 1.1 < reward_sdv < 1.2"
   ]
  },
  {
   "cell_type": "code",
   "execution_count": 116,
   "id": "ba03d09e-91dd-487c-a488-c79ddef9e4cd",
   "metadata": {
    "execution": {
     "iopub.execute_input": "2025-01-18T05:57:43.312841Z",
     "iopub.status.busy": "2025-01-18T05:57:43.312490Z",
     "iopub.status.idle": "2025-01-18T05:57:44.063801Z",
     "shell.execute_reply": "2025-01-18T05:57:44.062927Z",
     "shell.execute_reply.started": "2025-01-18T05:57:43.312825Z"
    }
   },
   "outputs": [],
   "source": [
    "test_monte_carlo_house_edge_cpu()"
   ]
  },
  {
   "cell_type": "code",
   "execution_count": 117,
   "id": "e52d2421",
   "metadata": {
    "execution": {
     "iopub.execute_input": "2025-01-18T05:57:44.065139Z",
     "iopub.status.busy": "2025-01-18T05:57:44.064905Z",
     "iopub.status.idle": "2025-01-18T05:57:44.069501Z",
     "shell.execute_reply": "2025-01-18T05:57:44.068848Z",
     "shell.execute_reply.started": "2025-01-18T05:57:44.065123Z"
    }
   },
   "outputs": [],
   "source": [
    "def monte_carlo_hand_cpu(\n",
    "    hand: Hand,\n",
    "    rules: Rules,\n",
    "    strategy: Strategy,\n",
    "    num_hands: int,\n",
    "    parallel: bool | None = None,\n",
    "    quiet: bool = False,\n",
    ") -> tuple[float, float]:\n",
    "  \"\"\"Return `(reward_average, reward_sdv)` obtained by simulation of a particular hand.\"\"\"\n",
    "  check_hand(hand)\n",
    "  player_cards, _ = hand\n",
    "  create_shoes = simulate_hand_shoes_creator(hand, rules)\n",
    "  min_num_player_cards = len(player_cards)\n",
    "  reward_average, played_hands, reward_sdv = run_simulations(\n",
    "      rules,\n",
    "      strategy,\n",
    "      num_hands,\n",
    "      create_shoes,\n",
    "      parallel,\n",
    "      quiet,\n",
    "      min_num_player_cards=min_num_player_cards,\n",
    "      hands_per_shoe=1,\n",
    "  )\n",
    "  check_eq(played_hands, num_hands)\n",
    "  return reward_average, reward_sdv"
   ]
  },
  {
   "cell_type": "code",
   "execution_count": 118,
   "id": "a87c16ea-5c2b-44ac-989f-59d9efd98f6b",
   "metadata": {
    "execution": {
     "iopub.execute_input": "2025-01-18T05:57:44.070572Z",
     "iopub.status.busy": "2025-01-18T05:57:44.070277Z",
     "iopub.status.idle": "2025-01-18T05:57:44.079803Z",
     "shell.execute_reply": "2025-01-18T05:57:44.078992Z",
     "shell.execute_reply.started": "2025-01-18T05:57:44.070558Z"
    }
   },
   "outputs": [],
   "source": [
    "def test_monte_carlo_hand_cpu() -> None:\n",
    "  \"\"\"Test monte_carlo_hand_cpu.\"\"\"\n",
    "  hand = (3, 10), 5\n",
    "  reward_average, reward_sdv = monte_carlo_hand_cpu(\n",
    "      hand, Rules(num_decks=1), Strategy(), 10_000_000, quiet=True\n",
    "  )\n",
    "  # print(reward_average, reward_sdv)\n",
    "  assert -0.14 < reward_average < -0.13 and 0.98 < reward_sdv < 1.00"
   ]
  },
  {
   "cell_type": "code",
   "execution_count": 119,
   "id": "4750c039-25d9-4e8a-82a8-f024512de4c6",
   "metadata": {
    "execution": {
     "iopub.execute_input": "2025-01-18T05:57:44.080824Z",
     "iopub.status.busy": "2025-01-18T05:57:44.080636Z",
     "iopub.status.idle": "2025-01-18T05:57:44.503505Z",
     "shell.execute_reply": "2025-01-18T05:57:44.502684Z",
     "shell.execute_reply.started": "2025-01-18T05:57:44.080808Z"
    }
   },
   "outputs": [],
   "source": [
    "test_monte_carlo_hand_cpu()"
   ]
  },
  {
   "cell_type": "code",
   "execution_count": 120,
   "id": "aaef7013",
   "metadata": {
    "execution": {
     "iopub.execute_input": "2025-01-18T05:57:44.504721Z",
     "iopub.status.busy": "2025-01-18T05:57:44.504465Z",
     "iopub.status.idle": "2025-01-18T05:57:44.508395Z",
     "shell.execute_reply": "2025-01-18T05:57:44.507725Z",
     "shell.execute_reply.started": "2025-01-18T05:57:44.504706Z"
    }
   },
   "outputs": [],
   "source": [
    "if 0:\n",
    "  # Jitted with EFFORT=3.\n",
    "  hh.prun(\n",
    "      lambda: monte_carlo_house_edge_cpu(\n",
    "          Rules(num_decks=1), Strategy(), 10_000_000, quiet=True, parallel=False\n",
    "      )\n",
    "  )\n",
    "# Prun: tottime    1.096 overall_cumtime\n",
    "#         0.684    0.687 numpy.random._generator.Generator.permuted\n",
    "#         0.334    0.334 simulate_shoes_helper (/tmp/ipykernel:1)\n",
    "#         0.005    0.359 simulate_shoes (/tmp/ipykernel:1)\n",
    "#         0.002    0.733 create_shoes (/tmp/ipykernel:8)"
   ]
  },
  {
   "cell_type": "code",
   "execution_count": 121,
   "id": "318247e8",
   "metadata": {
    "execution": {
     "iopub.execute_input": "2025-01-18T05:57:44.509511Z",
     "iopub.status.busy": "2025-01-18T05:57:44.509226Z",
     "iopub.status.idle": "2025-01-18T05:57:44.518403Z",
     "shell.execute_reply": "2025-01-18T05:57:44.517786Z",
     "shell.execute_reply.started": "2025-01-18T05:57:44.509497Z"
    },
    "lines_to_next_cell": 2
   },
   "outputs": [],
   "source": [
    "if 0:\n",
    "  hh.print_time(\n",
    "      lambda: monte_carlo_house_edge_cpu(Rules(), Strategy(), 10**9, quiet=True), max_time=25.0\n",
    "  )\n",
    "# For EFFORT=2 (run twice to cache probabilistic values) (inline='always'): ~7.0 s."
   ]
  },
  {
   "cell_type": "code",
   "execution_count": 122,
   "id": "2b69e42d-9ae3-444c-89a8-60bb9e65172b",
   "metadata": {
    "execution": {
     "iopub.execute_input": "2025-01-18T05:57:44.519681Z",
     "iopub.status.busy": "2025-01-18T05:57:44.519183Z",
     "iopub.status.idle": "2025-01-18T05:57:44.527888Z",
     "shell.execute_reply": "2025-01-18T05:57:44.527231Z",
     "shell.execute_reply.started": "2025-01-18T05:57:44.519668Z"
    }
   },
   "outputs": [],
   "source": [
    "def experiment_shoes_per_seed(rules: Rules, num_hands: int, shoes_per_seed: int) -> None:\n",
    "  \"\"\"Report the simulation time for specified parameters.\"\"\"\n",
    "  assert num_hands > 0 and shoes_per_seed > 0\n",
    "\n",
    "  def new_func(unused_rules: Rules) -> int:\n",
    "    return shoes_per_seed\n",
    "\n",
    "  with unittest.mock.patch(f'{__name__}.get_shoes_per_seed', new_func):\n",
    "    elapsed = hh.get_time(\n",
    "        lambda: monte_carlo_house_edge_cpu(rules, Strategy(), num_hands, quiet=True), max_time=5.0\n",
    "    )\n",
    "    print(\n",
    "        f'# num_decks={rules.num_decks}  {num_hands=:<13_}'\n",
    "        f' {shoes_per_seed=:<6_} {elapsed:.03f} s'\n",
    "    )"
   ]
  },
  {
   "cell_type": "code",
   "execution_count": 123,
   "id": "c050e85f-7694-48d6-a146-302b36666012",
   "metadata": {
    "execution": {
     "iopub.execute_input": "2025-01-18T05:57:44.529269Z",
     "iopub.status.busy": "2025-01-18T05:57:44.528647Z",
     "iopub.status.idle": "2025-01-18T05:57:44.537290Z",
     "shell.execute_reply": "2025-01-18T05:57:44.536582Z",
     "shell.execute_reply.started": "2025-01-18T05:57:44.529253Z"
    }
   },
   "outputs": [],
   "source": [
    "def experiment_fastest_shoes_per_seed() -> None:\n",
    "  \"\"\"Run experiments to find fast settings for `get_shoes_per_seed`.\"\"\"\n",
    "  for num_decks in [6, 4, 2, 1]:\n",
    "    for num_hands in [10_000_000, 100_000_000]:\n",
    "      for shoes_per_seed in [5, 100, 200, 500, 1_000, 2_000]:\n",
    "        rules = Rules(num_decks=num_decks)\n",
    "        experiment_shoes_per_seed(rules, num_hands, shoes_per_seed)\n",
    "      print()"
   ]
  },
  {
   "cell_type": "code",
   "execution_count": 124,
   "id": "689ccafa-8a04-46a7-bf34-15c8fe3d7cc7",
   "metadata": {
    "execution": {
     "iopub.execute_input": "2025-01-18T05:57:44.538916Z",
     "iopub.status.busy": "2025-01-18T05:57:44.538344Z",
     "iopub.status.idle": "2025-01-18T05:57:44.548738Z",
     "shell.execute_reply": "2025-01-18T05:57:44.548041Z",
     "shell.execute_reply.started": "2025-01-18T05:57:44.538897Z"
    }
   },
   "outputs": [],
   "source": [
    "if 0:\n",
    "  experiment_fastest_shoes_per_seed()"
   ]
  },
  {
   "cell_type": "markdown",
   "id": "ad4f4c14-463a-401f-8a2f-257bb28f8f95",
   "metadata": {
    "execution": {
     "iopub.execute_input": "2025-01-11T07:27:36.443718Z",
     "iopub.status.busy": "2025-01-11T07:27:36.443438Z",
     "iopub.status.idle": "2025-01-11T07:27:36.446306Z",
     "shell.execute_reply": "2025-01-11T07:27:36.445803Z",
     "shell.execute_reply.started": "2025-01-11T07:27:36.443703Z"
    }
   },
   "source": [
    "### Simulation using CUDA"
   ]
  },
  {
   "cell_type": "code",
   "execution_count": 125,
   "id": "9eeadeb6-2fd1-4952-b937-c455af2e5f87",
   "metadata": {
    "execution": {
     "iopub.execute_input": "2025-01-18T05:57:44.549820Z",
     "iopub.status.busy": "2025-01-18T05:57:44.549621Z",
     "iopub.status.idle": "2025-01-18T05:57:44.557859Z",
     "shell.execute_reply": "2025-01-18T05:57:44.557177Z",
     "shell.execute_reply.started": "2025-01-18T05:57:44.549804Z"
    }
   },
   "outputs": [],
   "source": [
    "# import importlib\n",
    "# random32 = importlib.reload(random32)"
   ]
  },
  {
   "cell_type": "code",
   "execution_count": 126,
   "id": "30b114d5-6992-417c-8fa5-2952ab1d7ff1",
   "metadata": {
    "execution": {
     "iopub.execute_input": "2025-01-18T05:57:44.559078Z",
     "iopub.status.busy": "2025-01-18T05:57:44.558735Z",
     "iopub.status.idle": "2025-01-18T05:57:44.567227Z",
     "shell.execute_reply": "2025-01-18T05:57:44.566492Z",
     "shell.execute_reply.started": "2025-01-18T05:57:44.559063Z"
    }
   },
   "outputs": [],
   "source": [
    "CUDA_MAX_SHOE_SIZE = 8 * DECK_SIZE"
   ]
  },
  {
   "cell_type": "code",
   "execution_count": 127,
   "id": "6009654b-b27f-4d9b-a30d-f5501dc82bd8",
   "metadata": {
    "execution": {
     "iopub.execute_input": "2025-01-18T05:57:44.568200Z",
     "iopub.status.busy": "2025-01-18T05:57:44.567988Z",
     "iopub.status.idle": "2025-01-18T05:57:44.577146Z",
     "shell.execute_reply": "2025-01-18T05:57:44.576336Z",
     "shell.execute_reply.started": "2025-01-18T05:57:44.568185Z"
    }
   },
   "outputs": [],
   "source": [
    "def write_numba_assembly_code(function: Callable[..., Any], filename: str) -> None:\n",
    "  \"\"\"Write the asm or ptx code for a numba function to an output file.\"\"\"\n",
    "  (asm_or_ptx,) = function.inspect_asm().values()  # type: ignore[attr-defined]\n",
    "  pathlib.Path(filename).write_text(asm_or_ptx, encoding='utf-8')"
   ]
  },
  {
   "cell_type": "code",
   "execution_count": 128,
   "id": "7d8a90e2-8b8d-4678-8456-254bfad27984",
   "metadata": {
    "execution": {
     "iopub.execute_input": "2025-01-18T05:57:44.578338Z",
     "iopub.status.busy": "2025-01-18T05:57:44.578030Z",
     "iopub.status.idle": "2025-01-18T05:57:44.586763Z",
     "shell.execute_reply": "2025-01-18T05:57:44.586039Z",
     "shell.execute_reply.started": "2025-01-18T05:57:44.578323Z"
    }
   },
   "outputs": [],
   "source": [
    "def report_cuda_kernel_properties(function: Callable[..., Any]) -> None:\n",
    "  \"\"\"Show memory attributes of a CUDA kernel function.\"\"\"\n",
    "  PROPERTIES = 'const_mem_size local_mem_per_thread max_threads_per_block regs_per_thread shared_mem_per_block'.split()\n",
    "  for property_name in PROPERTIES:\n",
    "    (value,) = getattr(function, 'get_' + property_name)().values()\n",
    "    print(f'{property_name} = {value}')"
   ]
  },
  {
   "cell_type": "code",
   "execution_count": 129,
   "id": "55884ad9-89f8-468d-a03a-2ec751760c5b",
   "metadata": {
    "execution": {
     "iopub.execute_input": "2025-01-18T05:57:44.588174Z",
     "iopub.status.busy": "2025-01-18T05:57:44.587627Z",
     "iopub.status.idle": "2025-01-18T05:57:44.596861Z",
     "shell.execute_reply": "2025-01-18T05:57:44.596040Z",
     "shell.execute_reply.started": "2025-01-18T05:57:44.588156Z"
    }
   },
   "outputs": [],
   "source": [
    "def disable_numba_logging_cuda_error_not_ready() -> None:\n",
    "  \"\"\"Disable logging `event.query()` error messages, e.g. on Colab.\"\"\"\n",
    "\n",
    "  class CUDAEventQueryFilter(logging.Filter):\n",
    "    \"\"\"Filter to suppress CUDA event query 'not ready' messages.\"\"\"\n",
    "\n",
    "    def filter(self, record: logging.LogRecord) -> bool:\n",
    "      \"\"\"Return False to block messages containing this text.\"\"\"\n",
    "      return 'Call to cuEventQuery results in CUDA_ERROR_NOT_READY' not in record.msg\n",
    "\n",
    "  numba_logger = logging.getLogger('numba.cuda.cudadrv.driver')\n",
    "  # numba_logger.setLevel(logging.CRITICAL)  # Hide all messages below CRITICAL level.\n",
    "  # numba_logger.setLevel(logging.WARNING)  # Restore.\n",
    "\n",
    "  if not any(isinstance(f, CUDAEventQueryFilter) for f in numba_logger.filters):\n",
    "    numba_logger.addFilter(CUDAEventQueryFilter())  # Filter only select messages.\n",
    "  # numba_logger.filters = []  # Remove all filters."
   ]
  },
  {
   "cell_type": "code",
   "execution_count": 130,
   "id": "f413b26f-42ac-4226-9014-56270bbb4171",
   "metadata": {
    "execution": {
     "iopub.execute_input": "2025-01-18T05:57:44.598112Z",
     "iopub.status.busy": "2025-01-18T05:57:44.597698Z",
     "iopub.status.idle": "2025-01-18T05:57:44.608568Z",
     "shell.execute_reply": "2025-01-18T05:57:44.607850Z",
     "shell.execute_reply.started": "2025-01-18T05:57:44.598095Z"
    }
   },
   "outputs": [],
   "source": [
    "def show_cuda_kernel_progress(\n",
    "    event: cuda.Event,\n",
    "    d_progress: _CudaArray,\n",
    "    total: int,\n",
    "    desc: str,\n",
    "    quiet: bool = False,\n",
    ") -> None:\n",
    "  \"\"\"Show progress of CUDA kernel given.\"\"\"\n",
    "  disable_numba_logging_cuda_error_not_ready()\n",
    "  event.record()\n",
    "  last_progress = 0\n",
    "  with tqdm_stdout(total=total, desc=desc, disable=quiet) as progress_bar:\n",
    "    while not event.query():\n",
    "      progress = d_progress[0]\n",
    "      progress_bar.update(progress - last_progress)\n",
    "      last_progress = progress\n",
    "      time.sleep(0.02)"
   ]
  },
  {
   "cell_type": "code",
   "execution_count": 131,
   "id": "2d277a34-95ce-4f81-8793-2c0fc39f969d",
   "metadata": {
    "execution": {
     "iopub.execute_input": "2025-01-18T05:57:44.610152Z",
     "iopub.status.busy": "2025-01-18T05:57:44.609551Z",
     "iopub.status.idle": "2025-01-18T05:57:44.617958Z",
     "shell.execute_reply": "2025-01-18T05:57:44.617248Z",
     "shell.execute_reply.started": "2025-01-18T05:57:44.610133Z"
    }
   },
   "outputs": [],
   "source": [
    "def get_shoe_size_cuda(num_decks: float) -> int:\n",
    "  \"\"\"Return the size of the shoe used to simulate hands given `num_decks`.\"\"\"\n",
    "  if num_decks == math.inf:\n",
    "    return SHOE_SIZE_FOR_INFINITE_DECKS_CUDA\n",
    "  return int(num_decks) * DECK_SIZE"
   ]
  },
  {
   "cell_type": "code",
   "execution_count": 132,
   "id": "06c12b22-3210-4d15-af62-47a828a2ea7b",
   "metadata": {
    "execution": {
     "iopub.execute_input": "2025-01-18T05:57:44.619116Z",
     "iopub.status.busy": "2025-01-18T05:57:44.618753Z",
     "iopub.status.idle": "2025-01-18T05:57:44.627700Z",
     "shell.execute_reply": "2025-01-18T05:57:44.626975Z",
     "shell.execute_reply.started": "2025-01-18T05:57:44.619099Z"
    }
   },
   "outputs": [],
   "source": [
    "def get_threads_per_block(shoe_size: int) -> int:\n",
    "  \"\"\"Return the number of threads per block to enable the cuda kernel to fit.\"\"\"\n",
    "  s = shoe_size  # Use expression ??\n",
    "  v = 512 if s <= 52 else 256 if s <= 2 * 52 else 128 if s <= 4 * 52 else 64 if s <= 8 * 52 else 32\n",
    "  return v"
   ]
  },
  {
   "cell_type": "code",
   "execution_count": 133,
   "id": "b19ef968-404e-4cd7-aa6d-344e76c8bab8",
   "metadata": {
    "execution": {
     "iopub.execute_input": "2025-01-18T05:57:44.628847Z",
     "iopub.status.busy": "2025-01-18T05:57:44.628528Z",
     "iopub.status.idle": "2025-01-18T05:57:44.637760Z",
     "shell.execute_reply": "2025-01-18T05:57:44.637093Z",
     "shell.execute_reply.started": "2025-01-18T05:57:44.628832Z"
    }
   },
   "outputs": [],
   "source": [
    "@numba_njit(device=True, inline='always')  # It must be inlined because it returns an array.\n",
    "def create_unshuffled_shoe_cuda(\n",
    "    shoe_size: int,\n",
    "    rules_num_decks_inf: bool,\n",
    "    hand_cards: _CudaArray,\n",
    ") -> _CudaArray:\n",
    "  \"\"\"Allocate a shoe. If there is a finite number of decks, enter their cards in the shoe.\"\"\"\n",
    "  int32, uint32 = numba.int32, numba.uint32\n",
    "  num_fixed = int32(len(hand_cards))\n",
    "  thread_id = cuda.threadIdx.x  # Index within block.\n",
    "  # threads_per_block = cuda.blockDim.x\n",
    "  block_shoe_dynamic = cuda.shared.array(0, np.int8)  # (threads_per_block, shoe_size).\n",
    "  shoe = block_shoe_dynamic[thread_id * shoe_size : (thread_id + 1) * shoe_size]  # Uninitialized.\n",
    "\n",
    "  if not rules_num_decks_inf:\n",
    "    num_of_each_card = int32(shoe_size // 13)\n",
    "    card_index = uint32(0)\n",
    "    for card_value in CARD_VALUES:\n",
    "      for _ in range(num_of_each_card):\n",
    "        shoe[card_index] = card_value\n",
    "        card_index = uint32(card_index + 1)\n",
    "\n",
    "  if num_fixed:\n",
    "    if rules_num_decks_inf:\n",
    "      for i in range(num_fixed):\n",
    "        shoe[i] = hand_cards[i]\n",
    "    else:\n",
    "      # For each card in the hand, swap one from the shoe into its expected location.\n",
    "      for i in range(num_fixed):\n",
    "        for j in range(i + 1, shoe_size):\n",
    "          if shoe[j] == hand_cards[i]:\n",
    "            shoe[i], shoe[j] = shoe[j], shoe[i]\n",
    "            break\n",
    "\n",
    "  return shoe"
   ]
  },
  {
   "cell_type": "code",
   "execution_count": 134,
   "id": "8f70ebe8-59c1-42ac-88c4-7c0f2481c3b4",
   "metadata": {
    "execution": {
     "iopub.execute_input": "2025-01-18T05:57:44.639069Z",
     "iopub.status.busy": "2025-01-18T05:57:44.638712Z",
     "iopub.status.idle": "2025-01-18T05:57:44.650601Z",
     "shell.execute_reply": "2025-01-18T05:57:44.649925Z",
     "shell.execute_reply.started": "2025-01-18T05:57:44.639052Z"
    }
   },
   "outputs": [],
   "source": [
    "@numba_njit(device=True, inline=('always' if EFFORT >= 2 else 'never'))\n",
    "def shuffle_shoe_cuda(\n",
    "    rng: Any,\n",
    "    shoe: _CudaArray,\n",
    "    rules_num_decks_inf: bool,\n",
    "    num_fixed: int,\n",
    ") -> None:\n",
    "  \"\"\"Apply random shuffling to the cards in the shoe.\"\"\"\n",
    "  int32, uint32, float32 = numba.int32, numba.uint32, numba.float32\n",
    "  # Load the state of the random number generator into registers.\n",
    "  s0, s1, s2, s3 = uint32(rng['s0']), uint32(rng['s1']), uint32(rng['s2']), uint32(rng['s3'])\n",
    "\n",
    "  shoe_size = uint32(len(shoe))\n",
    "  if rules_num_decks_inf:\n",
    "    # for i in range(int32(shoe_size)):\n",
    "    i = uint32(num_fixed)\n",
    "    while i < shoe_size:\n",
    "      random_uint32, s0, s1, s2, s3 = random32.xoshiro128p_next_raw(s0, s1, s2, s3)\n",
    "      random_uint32 = uint32(random_uint32)\n",
    "      s0, s1, s2, s3 = uint32(s0), uint32(s1), uint32(s2), uint32(s3)\n",
    "      if 0:\n",
    "        value_in_unit_interval = float32(random32.uint32_to_unit_float32(random_uint32))\n",
    "        shoe[i] = min(int32(float32(value_in_unit_interval * 13)) + 1, 10)\n",
    "      else:\n",
    "        v = int32(float32(random_uint32) * float32((1.0 - 1e-7) * 13.0 / 2**32))\n",
    "        shoe[i] = min(int32(v + 1), int32(10))\n",
    "      i = uint32(i + 1)\n",
    "\n",
    "  else:\n",
    "    # Apply Fisher-Yates shuffle to the current shoe.\n",
    "    i = uint32(num_fixed)\n",
    "    while uint32(i + 1) < shoe_size:\n",
    "      # Swap element at [i] with a random element in [i:].\n",
    "      # random_uint32 = cuda.random.xoroshiro128p_next(rng_states, thread_index)\n",
    "      random_uint32, s0, s1, s2, s3 = random32.xoshiro128p_next_raw(s0, s1, s2, s3)\n",
    "      random_uint32 = uint32(random_uint32)\n",
    "      s0, s1, s2, s3 = uint32(s0), uint32(s1), uint32(s2), uint32(s3)\n",
    "      mod = uint32(shoe_size - i)\n",
    "      if 0:\n",
    "        j = i + random_uint32 % mod  # Remainder is somewhat expensive in CUDA.\n",
    "      elif 0:\n",
    "        # In `random_uint32`, the msb are more random than the lsb, so float32 mul is better.\n",
    "        value_in_unit_interval = float32(random32.uint32_to_unit_float32(random_uint32))\n",
    "        j = i + uint32(float32(value_in_unit_interval * float32(mod)))\n",
    "      else:\n",
    "        j = i + uint32(float32(random_uint32) * float32((1.0 - 1e-7) / 2**32) * float32(mod))\n",
    "      shoe[i], shoe[j] = shoe[j], shoe[i]\n",
    "      i = uint32(i + 1)\n",
    "\n",
    "  if num_fixed > 3:  # Insert random dealer2 card in front of [player_]card3.\n",
    "    dealer2 = shoe[num_fixed]\n",
    "    i = uint32(num_fixed)\n",
    "    while i > 3:\n",
    "      shoe[i] = shoe[uint32(i - 1)]\n",
    "      i = uint32(i - 1)\n",
    "    shoe[3] = dealer2\n",
    "\n",
    "  # Updates to this structured array does affect the value in the caller function.\n",
    "  rng['s0'], rng['s1'], rng['s2'], rng['s3'] = s0, s1, s2, s3"
   ]
  },
  {
   "cell_type": "code",
   "execution_count": 135,
   "id": "5be35197-6dd0-426e-b570-6e93a3ae8db8",
   "metadata": {
    "execution": {
     "iopub.execute_input": "2025-01-18T05:57:44.651703Z",
     "iopub.status.busy": "2025-01-18T05:57:44.651369Z",
     "iopub.status.idle": "2025-01-18T05:57:44.663404Z",
     "shell.execute_reply": "2025-01-18T05:57:44.662661Z",
     "shell.execute_reply.started": "2025-01-18T05:57:44.651689Z"
    },
    "lines_to_next_cell": 2
   },
   "outputs": [],
   "source": [
    "@cuda.jit(fastmath=True)  # type: ignore[misc]\n",
    "def create_and_simulate_shoes_cuda(\n",
    "    rng_states: _CudaArray,\n",
    "    hand_cards1: _CudaArray,\n",
    "    shoes_per_thread: int,\n",
    "    shoe_size: int,\n",
    "    start_shoe_index: int,\n",
    "    split_table: _CudaArray,\n",
    "    action_table: _CudaArray,\n",
    "    rules_num_decks_inf: bool,\n",
    "    rules_blackjack_payout: float,\n",
    "    rules_hit_soft17: bool,\n",
    "    rules_obo: bool,\n",
    "    rules_split_to_num_hands: int,\n",
    "    rules_resplit_aces: bool,\n",
    "    rules_cut_card: int,\n",
    "    hands_per_shoe: int,\n",
    "    global_result: _CudaArray,\n",
    "    progress: _CudaArray,\n",
    ") -> None:\n",
    "  \"\"\"Compute `(played_hands, sum_rewards, sum_squared_rewards)` over all hands.\"\"\"\n",
    "  # pylint: disable=no-value-for-parameter, comparison-with-callable\n",
    "  int32, uint32, float32 = numba.int32, numba.uint32, numba.float32\n",
    "  shoe_size = int32(shoe_size)\n",
    "  rules_cut_card, hands_per_shoe = int32(rules_cut_card), int32(hands_per_shoe)\n",
    "  assert split_table.ndim == 2 and action_table.ndim == 7\n",
    "  assert split_table.itemsize == 1 and action_table.itemsize == 1\n",
    "  assert hand_cards1[0] == -1\n",
    "  thread_index = cuda.grid(1)\n",
    "  if thread_index >= len(rng_states):\n",
    "    return\n",
    "\n",
    "  hand_cards = hand_cards1[1:]  # card1, dealer1, card2, /*no_dealer2*/, card3, ... cardn.\n",
    "  num_fixed = int32(len(hand_cards))\n",
    "  rng = rng_states[thread_index]\n",
    "  split_second_cards = cuda.local.array(SPLIT_SECOND_CARDS_SIZE, np.int8)\n",
    "  min_num_player_cards = int32(num_fixed - 1) if num_fixed else int32(0)\n",
    "\n",
    "  num_played_hands = uint32(0)\n",
    "  sum_rewards = float32(0)\n",
    "  sum_squared_rewards = float32(0)\n",
    "\n",
    "  shoe = create_unshuffled_shoe_cuda(shoe_size, rules_num_decks_inf, hand_cards)\n",
    "\n",
    "  # Perform iterations of shuffling the shoe and simulating its played hands.\n",
    "  for local_shoe_index in range(int32(shoes_per_thread)):\n",
    "    shoe_index = start_shoe_index + thread_index * shoes_per_thread + local_shoe_index\n",
    "    shuffle_shoe_cuda(rng, shoe, rules_num_decks_inf, num_fixed)\n",
    "\n",
    "    # Simulate playing hands on shoe.\n",
    "    card_index = uint32(0)\n",
    "    shoe_played_hands = uint32(0)\n",
    "\n",
    "    while True:\n",
    "      reward, card_index = simulate_hand(\n",
    "          shoe_index,\n",
    "          shoe,\n",
    "          card_index,\n",
    "          split_table,\n",
    "          action_table,\n",
    "          min_num_player_cards,\n",
    "          rules_blackjack_payout,\n",
    "          rules_hit_soft17,\n",
    "          rules_obo,\n",
    "          rules_split_to_num_hands,\n",
    "          rules_resplit_aces,\n",
    "          split_second_cards,\n",
    "      )\n",
    "      reward, card_index = float32(reward), uint32(card_index)\n",
    "      shoe_played_hands = uint32(shoe_played_hands + 1)\n",
    "      sum_rewards += reward\n",
    "      sum_squared_rewards += float32(reward * reward)\n",
    "      if hands_per_shoe > 0:\n",
    "        if shoe_played_hands >= hands_per_shoe:\n",
    "          break\n",
    "      elif card_index >= rules_cut_card:\n",
    "        break\n",
    "\n",
    "    num_played_hands = uint32(num_played_hands + shoe_played_hands)\n",
    "\n",
    "  # First accumulate results per-block, then accumulate into the global results.\n",
    "  thread_id = cuda.threadIdx.x  # Index within block.\n",
    "  NUM_RESULTS = 3  # (played_hands, sum_rewards, sum_squared_rewards)\n",
    "  shared_result = cuda.shared.array(NUM_RESULTS, np.float64)  # Per-block intermediate result.\n",
    "  if thread_id == 0:\n",
    "    shared_result[:] = 0.0\n",
    "  cuda.syncthreads()\n",
    "\n",
    "  # Each thread adds its local results to shared memory.\n",
    "  cuda.atomic.add(shared_result, 0, numba.float64(num_played_hands))\n",
    "  cuda.atomic.add(shared_result, 1, sum_rewards)\n",
    "  cuda.atomic.add(shared_result, 2, sum_squared_rewards)\n",
    "  cuda.syncthreads()\n",
    "\n",
    "  if thread_id == 0:\n",
    "    for i, value in enumerate(shared_result):\n",
    "      cuda.atomic.add(global_result, i, value)\n",
    "    cuda.atomic.add(progress, 0, 1)"
   ]
  },
  {
   "cell_type": "code",
   "execution_count": 136,
   "id": "b5d29a5f-8402-450b-804c-d06780b276ea",
   "metadata": {
    "execution": {
     "iopub.execute_input": "2025-01-18T05:57:44.664638Z",
     "iopub.status.busy": "2025-01-18T05:57:44.664308Z",
     "iopub.status.idle": "2025-01-18T05:57:44.675282Z",
     "shell.execute_reply": "2025-01-18T05:57:44.674504Z",
     "shell.execute_reply.started": "2025-01-18T05:57:44.664622Z"
    },
    "lines_to_next_cell": 2
   },
   "outputs": [],
   "source": [
    "# To determine the optimal threads_per_block:\n",
    "# %timeit -n1 -r4 monte_carlo_house_edge_cuda(Rules(num_decks=1), Strategy(), 10**8)  # ~200 ms."
   ]
  },
  {
   "cell_type": "code",
   "execution_count": 137,
   "id": "95e98c7e-2b72-489f-8cfa-ee79d32b895d",
   "metadata": {
    "execution": {
     "iopub.execute_input": "2025-01-18T05:57:44.676672Z",
     "iopub.status.busy": "2025-01-18T05:57:44.676260Z",
     "iopub.status.idle": "2025-01-18T05:57:44.685777Z",
     "shell.execute_reply": "2025-01-18T05:57:44.685105Z",
     "shell.execute_reply.started": "2025-01-18T05:57:44.676655Z"
    }
   },
   "outputs": [],
   "source": [
    "def run_simulations_cuda(\n",
    "    rules: Rules,\n",
    "    strategy: Strategy,\n",
    "    num_hands: int,\n",
    "    hand_cards: tuple[int, ...],\n",
    "    quiet: bool,\n",
    ") -> tuple[float, int, float]:\n",
    "  \"\"\"Return `(reward_average, played_hands, reward_sdv)` computed by simulation of `num_hands`.\"\"\"\n",
    "  assert strategy.attention in (Attention.TOTAL_OF_CARDS, Attention.INITIAL_CARDS_AND_TOTAL)\n",
    "  assert num_hands > 0\n",
    "  device = cuda.get_current_device()\n",
    "  start_shoe_index = 0\n",
    "\n",
    "  shoe_size = get_shoe_size_cuda(rules.num_decks)\n",
    "  threads_per_block = get_threads_per_block(shoe_size)\n",
    "  hands_per_shoe = 1 if hand_cards else get_hands_per_shoe(rules.cut_card, shoe_size)\n",
    "  approx_hands_per_shoe = hands_per_shoe or math.ceil(rules.cut_card / AVERAGE_CARDS_PER_HAND)\n",
    "  # (Ideally, we need a better estimate when rules.cut_card is small (e.g. 16).)\n",
    "  num_shoes = math.ceil(num_hands / approx_hands_per_shoe)\n",
    "  BLOCKS_PER_SM = 4\n",
    "  target_num_threads = device.MULTIPROCESSOR_COUNT * threads_per_block * BLOCKS_PER_SM\n",
    "  shoes_per_thread = min(max(num_shoes // target_num_threads, 1), 2000)\n",
    "  num_threads = math.ceil(num_shoes / shoes_per_thread)\n",
    "  blocks = math.ceil(num_threads / threads_per_block)\n",
    "\n",
    "  rules_split_to_num_hands = get_int_split_to_num_hands(rules)\n",
    "  rules2 = normalize_rules_for_probabilistic_analysis(rules)\n",
    "  with hh.timing('create_tables_cuda', enabled=False):\n",
    "    d_split_table, d_action_table = create_tables_cuda(rules2, strategy)\n",
    "  # print(f'{d_split_table.nbytes=} {d_action_table.nbytes=:_}')  # 100, 144_000\n",
    "\n",
    "  seed = start_shoe_index\n",
    "  # d_rng_states = cuda.random.create_xoroshiro128p_states(num_threads, seed)\n",
    "  d_rng_states = random32.create_xoshiro128p_states(num_threads, seed)\n",
    "  hand_cards1 = -1, *hand_cards  # Always use a non-empty array to avoid an extra jit signature.\n",
    "  d_hand_cards1 = cuda.to_device(np.array(hand_cards1, np.int8))\n",
    "  d_result = cuda.to_device(np.zeros(3, np.float64))\n",
    "  d_progress = cuda.mapped_array(1, dtype=np.int64)  # https://stackoverflow.com/a/78732662\n",
    "  d_progress[0] = 0\n",
    "  dynamic_shared_memory_size = threads_per_block * shoe_size\n",
    "\n",
    "  # Launch CUDA kernel.\n",
    "  if 0:\n",
    "    print(f'{shoe_size=} {threads_per_block=} {hands_per_shoe=} {num_shoes=:_}')\n",
    "    print(f'{shoes_per_thread=} {num_threads=:_} {blocks=} {dynamic_shared_memory_size=}')\n",
    "  event = cuda.event()\n",
    "  create_and_simulate_shoes_cuda[blocks, threads_per_block, 0, dynamic_shared_memory_size](\n",
    "      d_rng_states,\n",
    "      d_hand_cards1,\n",
    "      shoes_per_thread,\n",
    "      shoe_size,\n",
    "      start_shoe_index,\n",
    "      d_split_table,\n",
    "      d_action_table,\n",
    "      rules.num_decks == math.inf,\n",
    "      rules.blackjack_payout,\n",
    "      rules.hit_soft17,\n",
    "      rules.obo,\n",
    "      rules_split_to_num_hands,\n",
    "      rules.resplit_aces,\n",
    "      rules.cut_card,\n",
    "      hands_per_shoe,\n",
    "      d_result,\n",
    "      d_progress,\n",
    "  )\n",
    "\n",
    "  show_cuda_kernel_progress(event, d_progress, blocks, 'sim', quiet)\n",
    "\n",
    "  # Retrieve and process CUDA kernel results.\n",
    "  float_total_played_hands, sum_rewards, sum_squared_rewards = d_result.copy_to_host()\n",
    "  played_hands = int(float_total_played_hands)\n",
    "  assert played_hands > 0, (float_total_played_hands, sum_rewards, sum_squared_rewards)\n",
    "  reward_average = sum_rewards / played_hands\n",
    "  reward_sdv = (\n",
    "      math.nan\n",
    "      if played_hands <= 1\n",
    "      else (max(sum_squared_rewards - sum_rewards**2 / played_hands, 0.0) / (played_hands - 1))\n",
    "      ** 0.5\n",
    "  )\n",
    "  return reward_average, played_hands, reward_sdv"
   ]
  },
  {
   "cell_type": "code",
   "execution_count": 138,
   "id": "0f6f6717-1f8c-40f9-9b0e-45b54632bc93",
   "metadata": {
    "execution": {
     "iopub.execute_input": "2025-01-18T05:57:44.686823Z",
     "iopub.status.busy": "2025-01-18T05:57:44.686520Z",
     "iopub.status.idle": "2025-01-18T05:57:44.699917Z",
     "shell.execute_reply": "2025-01-18T05:57:44.699213Z",
     "shell.execute_reply.started": "2025-01-18T05:57:44.686809Z"
    }
   },
   "outputs": [],
   "source": [
    "def test_run_simulations_cuda() -> None:\n",
    "  \"\"\"Check simulation of shoes on CUDA.\"\"\"\n",
    "  num_hands = 10**9\n",
    "  hand_cards = ()\n",
    "  reward_average, played_hands, reward_sdv = run_simulations_cuda(\n",
    "      Rules(num_decks=1, late_surrender=False), Strategy(), num_hands, hand_cards, False\n",
    "  )\n",
    "  house_edge = -reward_average\n",
    "  assert 0.8 < played_hands / num_hands < 1.2, played_hands\n",
    "  expected_house_edge = 0.00170  # 0.170%.\n",
    "  # print(f'{played_hands=:,} {expected_house_edge=:.5f} {house_edge=:.5f}')\n",
    "  assert abs(house_edge - expected_house_edge) <= 0.0005, house_edge\n",
    "  assert 1.0 < reward_sdv < 1.3, reward_sdv"
   ]
  },
  {
   "cell_type": "code",
   "execution_count": 139,
   "id": "23af61f5-dc17-40c4-a398-c41a1121cc98",
   "metadata": {
    "execution": {
     "iopub.execute_input": "2025-01-18T05:57:44.701186Z",
     "iopub.status.busy": "2025-01-18T05:57:44.700817Z",
     "iopub.status.idle": "2025-01-18T05:57:49.050280Z",
     "shell.execute_reply": "2025-01-18T05:57:49.049613Z",
     "shell.execute_reply.started": "2025-01-18T05:57:44.701168Z"
    }
   },
   "outputs": [
    {
     "name": "stdout",
     "output_type": "stream",
     "text": [
      "                  "
     ]
    }
   ],
   "source": [
    "if cuda.is_available():\n",
    "  test_run_simulations_cuda()  # ~4-9s jit."
   ]
  },
  {
   "cell_type": "code",
   "execution_count": 140,
   "id": "068ad130-1d0e-443d-8844-b057204f1eb6",
   "metadata": {
    "execution": {
     "iopub.execute_input": "2025-01-18T05:57:49.051436Z",
     "iopub.status.busy": "2025-01-18T05:57:49.051126Z",
     "iopub.status.idle": "2025-01-18T05:57:49.056819Z",
     "shell.execute_reply": "2025-01-18T05:57:49.056172Z",
     "shell.execute_reply.started": "2025-01-18T05:57:49.051421Z"
    }
   },
   "outputs": [],
   "source": [
    "if cuda.is_available():\n",
    "  write_numba_assembly_code(create_and_simulate_shoes_cuda, 'create_and_simulate_shoes.ptx')\n",
    "  if 0:\n",
    "    report_cuda_kernel_properties(create_and_simulate_shoes_cuda)"
   ]
  },
  {
   "cell_type": "code",
   "execution_count": 141,
   "id": "aaa91432-6cf3-46e1-9554-0c96f260e883",
   "metadata": {
    "execution": {
     "iopub.execute_input": "2025-01-18T05:57:49.057765Z",
     "iopub.status.busy": "2025-01-18T05:57:49.057597Z",
     "iopub.status.idle": "2025-01-18T05:57:49.067215Z",
     "shell.execute_reply": "2025-01-18T05:57:49.066328Z",
     "shell.execute_reply.started": "2025-01-18T05:57:49.057752Z"
    }
   },
   "outputs": [],
   "source": [
    "def monte_carlo_house_edge_cuda(\n",
    "    rules: Rules,\n",
    "    strategy: Strategy,\n",
    "    num_hands: int,\n",
    "    parallel: bool | None = None,\n",
    "    quiet: bool = False,\n",
    ") -> tuple[float, int, float]:\n",
    "  \"\"\"Return `(house_edge, played_hands, house_edge_sdv)` computed by simulation of `num_hands`.\"\"\"\n",
    "  del parallel\n",
    "  hand_cards = ()\n",
    "  reward_average, played_hands, reward_sdv = run_simulations_cuda(\n",
    "      rules, strategy, num_hands, hand_cards, quiet\n",
    "  )\n",
    "  house_edge = -reward_average\n",
    "  return house_edge, played_hands, reward_sdv"
   ]
  },
  {
   "cell_type": "code",
   "execution_count": 142,
   "id": "2f7a171d-0005-43c8-9368-416e38e8ba2f",
   "metadata": {
    "execution": {
     "iopub.execute_input": "2025-01-18T05:57:49.068530Z",
     "iopub.status.busy": "2025-01-18T05:57:49.068161Z",
     "iopub.status.idle": "2025-01-18T05:57:49.076402Z",
     "shell.execute_reply": "2025-01-18T05:57:49.075737Z",
     "shell.execute_reply.started": "2025-01-18T05:57:49.068515Z"
    }
   },
   "outputs": [],
   "source": [
    "def test_monte_carlo_house_edge_cuda() -> None:\n",
    "  \"\"\"Test monte_carlo_house_edge_cuda.\"\"\"\n",
    "  num_hands = 10**8\n",
    "  house_edge, played_hands, reward_sdv = monte_carlo_house_edge_cuda(\n",
    "      Rules(num_decks=1, late_surrender=False), Strategy(), num_hands, quiet=True\n",
    "  )\n",
    "  # print(house_edge, played_hands, reward_sdv)\n",
    "  assert 0.9 < played_hands / num_hands < 1.1\n",
    "  assert 0.0016 < house_edge < 0.0018 and 1.1 < reward_sdv < 1.2"
   ]
  },
  {
   "cell_type": "code",
   "execution_count": 143,
   "id": "6b9edcb0-1271-40b1-a72f-1710f51dc2d7",
   "metadata": {
    "execution": {
     "iopub.execute_input": "2025-01-18T05:57:49.077542Z",
     "iopub.status.busy": "2025-01-18T05:57:49.077261Z",
     "iopub.status.idle": "2025-01-18T05:57:49.162120Z",
     "shell.execute_reply": "2025-01-18T05:57:49.161329Z",
     "shell.execute_reply.started": "2025-01-18T05:57:49.077529Z"
    }
   },
   "outputs": [],
   "source": [
    "if cuda.is_available():\n",
    "  test_monte_carlo_house_edge_cuda()"
   ]
  },
  {
   "cell_type": "code",
   "execution_count": 144,
   "id": "cc6084bd-41d5-46d7-bef7-e968d6ca7744",
   "metadata": {
    "execution": {
     "iopub.execute_input": "2025-01-18T05:57:49.163353Z",
     "iopub.status.busy": "2025-01-18T05:57:49.162924Z",
     "iopub.status.idle": "2025-01-18T05:57:49.167123Z",
     "shell.execute_reply": "2025-01-18T05:57:49.166477Z",
     "shell.execute_reply.started": "2025-01-18T05:57:49.163337Z"
    }
   },
   "outputs": [],
   "source": [
    "def monte_carlo_hand_cuda(\n",
    "    hand: Hand,\n",
    "    rules: Rules,\n",
    "    strategy: Strategy,\n",
    "    num_hands: int,\n",
    "    parallel: bool | None = None,\n",
    "    quiet: bool = False,\n",
    ") -> tuple[float, float]:\n",
    "  \"\"\"Return `(reward_average, reward_sdv)` obtained by simulation of a particular hand.\"\"\"\n",
    "  del parallel\n",
    "  check_hand(hand)\n",
    "  player_cards, dealer1 = hand\n",
    "  hand_cards = player_cards[0], dealer1, *player_cards[1:]\n",
    "  reward_average, _, reward_sdv = run_simulations_cuda(\n",
    "      rules, strategy, num_hands, hand_cards, quiet\n",
    "  )\n",
    "  return reward_average, reward_sdv"
   ]
  },
  {
   "cell_type": "code",
   "execution_count": 145,
   "id": "a7837840-8488-43bf-b353-b2c68b979364",
   "metadata": {
    "execution": {
     "iopub.execute_input": "2025-01-18T05:57:49.168131Z",
     "iopub.status.busy": "2025-01-18T05:57:49.167850Z",
     "iopub.status.idle": "2025-01-18T05:57:49.176556Z",
     "shell.execute_reply": "2025-01-18T05:57:49.175683Z",
     "shell.execute_reply.started": "2025-01-18T05:57:49.168117Z"
    }
   },
   "outputs": [],
   "source": [
    "def test_monte_carlo_hand_cuda() -> None:\n",
    "  \"\"\"Test monte_carlo_hand_cuda.\"\"\"\n",
    "  hand = (3, 10), 5\n",
    "  reward_average, reward_sdv = monte_carlo_hand_cuda(\n",
    "      hand, Rules(num_decks=1), Strategy(), 100_000_000, quiet=True\n",
    "  )\n",
    "  # print(reward_average, reward_sdv)\n",
    "  assert -0.14 < reward_average < -0.13 and 0.98 < reward_sdv < 1.00"
   ]
  },
  {
   "cell_type": "code",
   "execution_count": 146,
   "id": "276fb397-c6b4-4de3-89c1-99d27467f73e",
   "metadata": {
    "execution": {
     "iopub.execute_input": "2025-01-18T05:57:49.177492Z",
     "iopub.status.busy": "2025-01-18T05:57:49.177208Z",
     "iopub.status.idle": "2025-01-18T05:57:49.262494Z",
     "shell.execute_reply": "2025-01-18T05:57:49.261803Z",
     "shell.execute_reply.started": "2025-01-18T05:57:49.177477Z"
    }
   },
   "outputs": [],
   "source": [
    "if cuda.is_available():\n",
    "  test_monte_carlo_hand_cuda()\n",
    "  # -0.13855731504939733 0.9903544215351828"
   ]
  },
  {
   "cell_type": "code",
   "execution_count": 147,
   "id": "112e7ff7-fef6-4757-a417-34703668f7bc",
   "metadata": {
    "execution": {
     "iopub.execute_input": "2025-01-18T05:57:49.263579Z",
     "iopub.status.busy": "2025-01-18T05:57:49.263261Z",
     "iopub.status.idle": "2025-01-18T05:57:49.266902Z",
     "shell.execute_reply": "2025-01-18T05:57:49.266241Z",
     "shell.execute_reply.started": "2025-01-18T05:57:49.263565Z"
    }
   },
   "outputs": [],
   "source": [
    "def monte_carlo_house_edge_cuda_timing(num_decks: float) -> None:\n",
    "  \"\"\"Show timing for house edge computation.\"\"\"\n",
    "  monte_carlo_house_edge_cuda(Rules(num_decks=num_decks), Strategy(), 5 * 10**8, quiet=True)"
   ]
  },
  {
   "cell_type": "code",
   "execution_count": 148,
   "id": "b65bc694-18de-4ced-b99f-47108d45ca72",
   "metadata": {
    "execution": {
     "iopub.execute_input": "2025-01-18T05:57:49.267831Z",
     "iopub.status.busy": "2025-01-18T05:57:49.267562Z",
     "iopub.status.idle": "2025-01-18T05:57:49.275815Z",
     "shell.execute_reply": "2025-01-18T05:57:49.275206Z",
     "shell.execute_reply.started": "2025-01-18T05:57:49.267819Z"
    }
   },
   "outputs": [],
   "source": [
    "if 0:\n",
    "  if cuda.is_available():\n",
    "    print('Timing:')\n",
    "    # (Sometimes, whatever timing is done first shows a slower time.)\n",
    "    %timeit -n1 -r2 monte_carlo_house_edge_cuda_timing(1)  # ~140 ms.\n",
    "    %timeit -n1 -r2 monte_carlo_house_edge_cuda_timing(2)  # ~110 ms.\n",
    "    %timeit -n1 -r2 monte_carlo_house_edge_cuda_timing(4)  # ~130 ms.\n",
    "    %timeit -n1 -r2 monte_carlo_house_edge_cuda_timing(6)  # ~190 ms.\n",
    "    %timeit -n1 -r2 monte_carlo_house_edge_cuda_timing(8)  # ~210 ms.\n",
    "    %timeit -n1 -r2 monte_carlo_house_edge_cuda_timing(math.inf)  # ~110 ms."
   ]
  },
  {
   "cell_type": "code",
   "execution_count": 149,
   "id": "79abaa93-c60c-4015-9489-b1585481fd06",
   "metadata": {
    "execution": {
     "iopub.execute_input": "2025-01-18T05:57:49.276623Z",
     "iopub.status.busy": "2025-01-18T05:57:49.276477Z",
     "iopub.status.idle": "2025-01-18T05:57:49.285021Z",
     "shell.execute_reply": "2025-01-18T05:57:49.284439Z",
     "shell.execute_reply.started": "2025-01-18T05:57:49.276608Z"
    }
   },
   "outputs": [],
   "source": [
    "def verify_monte_carlo_house_edge_cuda(num_decks: float, expected_edge: float) -> None:\n",
    "  \"\"\"Verify that house edge results match the CPU implementation.\"\"\"\n",
    "  rules = Rules(num_decks=num_decks, late_surrender=False)\n",
    "  num_hands = get_num_hands()\n",
    "  # Both (1) ensure jit and (2) cache the action_table.\n",
    "  _ = monte_carlo_house_edge_cuda(rules, Strategy(), num_hands // 20, quiet=True)\n",
    "  start_time = time.perf_counter_ns()\n",
    "  house_edge, played_hands, reward_sdv = monte_carlo_house_edge_cuda(rules, Strategy(), num_hands)\n",
    "  del reward_sdv\n",
    "  elapsed_time = (time.perf_counter_ns() - start_time) / 10**9\n",
    "  hands_per_s = played_hands / elapsed_time\n",
    "  print(\n",
    "      f'# ndecks={num_decks:<3} house edge {house_edge * 100:.4f}%'\n",
    "      f' {played_hands:16,} hands {hands_per_s:14,.0f} hands/s'\n",
    "  )\n",
    "  assert abs(house_edge - expected_edge) < 5.0 / num_hands**0.5, (house_edge, expected_edge)"
   ]
  },
  {
   "cell_type": "code",
   "execution_count": 150,
   "id": "9a8f24ab-ac75-4f6b-91d6-58281445354e",
   "metadata": {
    "execution": {
     "iopub.execute_input": "2025-01-18T05:57:49.286058Z",
     "iopub.status.busy": "2025-01-18T05:57:49.285710Z",
     "iopub.status.idle": "2025-01-18T05:57:51.729614Z",
     "shell.execute_reply": "2025-01-18T05:57:51.729000Z",
     "shell.execute_reply.started": "2025-01-18T05:57:49.286044Z"
    },
    "lines_to_next_cell": 2
   },
   "outputs": [
    {
     "name": "stdout",
     "output_type": "stream",
     "text": [
      "# With EFFORT=1:\n",
      "# ndecks=1   house edge 0.1643%      102,669,310 hands  1,326,402,105 hands/s\n",
      "# ndecks=2   house edge 0.4615%       97,010,267 hands  1,923,837,408 hands/s\n",
      "# ndecks=4   house edge 0.6124%       99,723,700 hands  1,707,650,908 hands/s\n",
      "# ndecks=inf house edge 0.7290%      100,000,908 hands  1,969,665,923 hands/s\n"
     ]
    }
   ],
   "source": [
    "if cuda.is_available():\n",
    "  print(f'# With {EFFORT=}:')\n",
    "  verify_monte_carlo_house_edge_cuda(num_decks=1, expected_edge=0.001703)\n",
    "  verify_monte_carlo_house_edge_cuda(num_decks=2, expected_edge=0.004575)\n",
    "  verify_monte_carlo_house_edge_cuda(num_decks=4, expected_edge=0.005951)\n",
    "  verify_monte_carlo_house_edge_cuda(num_decks=math.inf, expected_edge=0.007314)"
   ]
  },
  {
   "cell_type": "code",
   "execution_count": 151,
   "id": "f0e6f5e2-71a0-43d8-b394-f87274ec1f2a",
   "metadata": {
    "execution": {
     "iopub.execute_input": "2025-01-18T05:57:51.730510Z",
     "iopub.status.busy": "2025-01-18T05:57:51.730360Z",
     "iopub.status.idle": "2025-01-18T05:57:51.733575Z",
     "shell.execute_reply": "2025-01-18T05:57:51.732988Z",
     "shell.execute_reply.started": "2025-01-18T05:57:51.730496Z"
    },
    "lines_to_next_cell": 2
   },
   "outputs": [],
   "source": [
    "# With EFFORT=2:\n",
    "# ndecks=1   house edge 0.1700%   10,262,862,308 hands  6,285,113,553 hands/s\n",
    "# ndecks=2   house edge 0.4586%    9,699,695,563 hands  8,349,619,279 hands/s\n",
    "# ndecks=4   house edge 0.5951%    9,972,388,247 hands  6,058,195,383 hands/s\n",
    "# ndecks=inf house edge 0.7311%   10,000,008,000 hands  8,155,135,475 hands/s\n",
    "#\n",
    "# Colab:\n",
    "# With EFFORT=2:\n",
    "# house_edge = 0.1700%  played_hands =  10,262,862,308  hands_per_s = 2,093,744,386\n",
    "# house_edge = 0.4586%  played_hands =   9,699,695,563  hands_per_s = 2,311,991,436\n",
    "# house_edge = 0.5951%  played_hands =   9,972,388,247  hands_per_s = 1,650,981,161\n",
    "# house_edge = 0.7311%  played_hands =  10,000,008,000  hands_per_s = 2,454,392,267\n",
    "#\n",
    "# analyze_number_of_decks(Rules(late_surrender=False))\n",
    "# Rules(late_surrender=False) EFFORT=3\n",
    "# ndecks=1   prob~ 0.044% (10s)  sim: 0.168% ±0.002%(81s)   wiz: 0.159%* wiki: 0.170%\n",
    "# ndecks=2   prob~ 0.392% (37s)  sim: 0.459% ±0.002%(63s)   wiz: 0.457%  wiki: 0.460%\n",
    "# ndecks=4   prob~ 0.562% (47s)  sim: 0.591% ±0.002%(75s)   wiz: 0.597%* wiki: 0.600%+\n",
    "# ndecks=inf prob: 0.731% (33s)  sim: 0.727% ±0.002%(63s)"
   ]
  },
  {
   "cell_type": "code",
   "execution_count": 152,
   "id": "cba68ce0-b5d8-4910-9eae-4df2a3e327b4",
   "metadata": {
    "execution": {
     "iopub.execute_input": "2025-01-18T05:57:51.734579Z",
     "iopub.status.busy": "2025-01-18T05:57:51.734299Z",
     "iopub.status.idle": "2025-01-18T05:57:51.746208Z",
     "shell.execute_reply": "2025-01-18T05:57:51.745533Z",
     "shell.execute_reply.started": "2025-01-18T05:57:51.734565Z"
    }
   },
   "outputs": [],
   "source": [
    "def test_simulation_timings() -> None:\n",
    "  \"\"\"Compare simulation rates for different approaches.\"\"\"\n",
    "  args = Rules(num_decks=2), Strategy()\n",
    "  num_hands = 50_000_000\n",
    "  f1: Any = lambda: monte_carlo_house_edge_cpu(*args, num_hands, parallel=False, quiet=True)\n",
    "  f1()  # Memoize tables.\n",
    "  time_numba = hh.get_time(f1)\n",
    "  print(f'numba:              {int(num_hands / time_numba):>15,} hands/s')\n",
    "  f2 = lambda: monte_carlo_house_edge_cpu(*args, num_hands, parallel=True, quiet=True)\n",
    "  time_multi = hh.get_time(f2)\n",
    "  print(f'numba multiprocess: {int(num_hands / time_multi):>15,} hands/s')\n",
    "  if cuda.is_available():\n",
    "    num_hands *= 50\n",
    "    f3 = lambda: monte_carlo_house_edge_cuda(*args, num_hands, quiet=True)\n",
    "    time_cuda = hh.get_time(f3)\n",
    "    print(f'numba.cuda:         {int(num_hands / time_cuda):>15,} hands/s')"
   ]
  },
  {
   "cell_type": "code",
   "execution_count": 153,
   "id": "8362cc83-6f83-4fa3-a429-bd4b7c76f813",
   "metadata": {
    "execution": {
     "iopub.execute_input": "2025-01-18T05:57:51.747707Z",
     "iopub.status.busy": "2025-01-18T05:57:51.746978Z",
     "iopub.status.idle": "2025-01-18T05:57:51.755390Z",
     "shell.execute_reply": "2025-01-18T05:57:51.754698Z",
     "shell.execute_reply.started": "2025-01-18T05:57:51.747690Z"
    }
   },
   "outputs": [],
   "source": [
    "if EFFORT >= 2:\n",
    "  test_simulation_timings()\n",
    "# Using parallelism introduces a ~6-9x speedup (beyond the 30x speedup of numba jitting), and\n",
    "# using CUDA introduces another 80-100x speedup.\n",
    "#\n",
    "# Timings are obtained on an AMD Ryzen 9 5900X 12-Core Processor 3701 MHz and\n",
    "# an NVIDIA GeForce RTX 3080 Ti.\n",
    "#\n",
    "# (Note: The hands/s rate for multiprocess often goes down by 1.5x until we restart the kernel.)\n",
    "# numba:                   11,925,119 hands/s\n",
    "# numba multiprocess:      70,783,821 hands/s\n",
    "# numba.cuda:           6,754,715,353 hands/s"
   ]
  },
  {
   "cell_type": "code",
   "execution_count": 154,
   "id": "9a446f5d-5b28-4d19-aacd-3a4c824d7d0d",
   "metadata": {
    "execution": {
     "iopub.execute_input": "2025-01-18T05:57:51.756477Z",
     "iopub.status.busy": "2025-01-18T05:57:51.756188Z",
     "iopub.status.idle": "2025-01-18T05:57:51.767080Z",
     "shell.execute_reply": "2025-01-18T05:57:51.766269Z",
     "shell.execute_reply.started": "2025-01-18T05:57:51.756462Z"
    }
   },
   "outputs": [],
   "source": [
    "monte_carlo_house_edge = monte_carlo_house_edge_cpu\n",
    "monte_carlo_hand = monte_carlo_hand_cpu\n",
    "\n",
    "if cuda.is_available():\n",
    "  monte_carlo_house_edge = monte_carlo_house_edge_cuda\n",
    "  monte_carlo_hand = monte_carlo_hand_cuda"
   ]
  },
  {
   "cell_type": "markdown",
   "id": "b96c8409",
   "metadata": {
    "execution": {
     "iopub.execute_input": "2022-04-12T20:53:02.721131Z",
     "iopub.status.busy": "2022-04-12T20:53:02.720965Z",
     "iopub.status.idle": "2022-04-12T20:53:02.723469Z",
     "shell.execute_reply": "2022-04-12T20:53:02.723025Z",
     "shell.execute_reply.started": "2022-04-12T20:53:02.721112Z"
    }
   },
   "source": [
    "### Simulate all cut-cards\n",
    "<a name=\"Simulate-all-cut-cards\"></a>"
   ]
  },
  {
   "cell_type": "markdown",
   "id": "36012cbf",
   "metadata": {
    "lines_to_next_cell": 2
   },
   "source": [
    "The approach is to consider many shoes, play all hands from each shoe\n",
    "(including the last hand which requires a mid-hand reshuffle of the pre-hand cards),\n",
    "and update the number of hands played and sum of rewards at each possible cut-card location.\n",
    "\n",
    "Thus we maintain two arrays, `played_hands` and `rewards`, that are indexed by the\n",
    "cut-card position.\n",
    "For efficiency, rather than directly storing at each position the number of played hands\n",
    "and rewards, we store their *deltas* (with respect to cut-card position)\n",
    "and then perform a cumulative sum of the array values as a postprocess."
   ]
  },
  {
   "cell_type": "code",
   "execution_count": 155,
   "id": "d387835a",
   "metadata": {
    "execution": {
     "iopub.execute_input": "2025-01-18T05:57:51.768070Z",
     "iopub.status.busy": "2025-01-18T05:57:51.767895Z",
     "iopub.status.idle": "2025-01-18T05:57:51.776596Z",
     "shell.execute_reply": "2025-01-18T05:57:51.775835Z",
     "shell.execute_reply.started": "2025-01-18T05:57:51.768054Z"
    }
   },
   "outputs": [],
   "source": [
    "def simulate_shoes_all_cut_cards_nonjit(\n",
    "    start_shoe_index: int,\n",
    "    shoes: _NDArray,\n",
    "    split_table: _NDArray,\n",
    "    action_table: _NDArray,\n",
    "    rules_blackjack_payout: float,\n",
    "    rules_hit_soft17: bool,\n",
    "    rules_obo: bool,\n",
    "    rules_split_to_num_hands: int,\n",
    "    rules_resplit_aces: bool,\n",
    "    output_played_hands: _NDArray,\n",
    "    output_rewards: _NDArray,\n",
    ") -> None:\n",
    "  \"\"\"Play hands from all shoes, updating arrays played_hands and rewards.\"\"\"\n",
    "  assert start_shoe_index >= 0 and shoes.ndim == 2\n",
    "  assert shoes.ndim == 2 and split_table.ndim == 2 and action_table.ndim == 7\n",
    "  assert output_played_hands.shape == output_rewards.shape == (shoes.shape[1],)\n",
    "  split_second_cards = np.zeros(SPLIT_SECOND_CARDS_SIZE, np.int64)\n",
    "  min_num_player_cards = 0\n",
    "  for index, shoe in enumerate(shoes):\n",
    "    shoe_index = start_shoe_index + index\n",
    "    card_index = 0\n",
    "    while card_index < len(shoe):\n",
    "      reward, card_index2 = simulate_hand(\n",
    "          shoe_index,\n",
    "          shoe,\n",
    "          card_index,\n",
    "          split_table,\n",
    "          action_table,\n",
    "          min_num_player_cards,\n",
    "          float(rules_blackjack_payout),\n",
    "          rules_hit_soft17,\n",
    "          rules_obo,\n",
    "          rules_split_to_num_hands,\n",
    "          rules_resplit_aces,\n",
    "          split_second_cards,\n",
    "      )\n",
    "      output_played_hands[card_index] += 1\n",
    "      output_rewards[card_index] += reward\n",
    "      card_index = card_index2\n",
    "\n",
    "\n",
    "if RECOMPUTE_CUT_CARD_ANALYSIS:\n",
    "  simulate_shoes_all_cut_cards = numba_njit()(simulate_shoes_all_cut_cards_nonjit)\n",
    "else:\n",
    "  simulate_shoes_all_cut_cards = simulate_shoes_all_cut_cards_nonjit"
   ]
  },
  {
   "cell_type": "code",
   "execution_count": 156,
   "id": "9ca7251f",
   "metadata": {
    "execution": {
     "iopub.execute_input": "2025-01-18T05:57:51.778075Z",
     "iopub.status.busy": "2025-01-18T05:57:51.777599Z",
     "iopub.status.idle": "2025-01-18T05:57:51.788935Z",
     "shell.execute_reply": "2025-01-18T05:57:51.788195Z",
     "shell.execute_reply.started": "2025-01-18T05:57:51.778027Z"
    }
   },
   "outputs": [],
   "source": [
    "def simulate_many_shoes_all_cut_cards(\n",
    "    rules: Rules,\n",
    "    strategy: Strategy,\n",
    "    start_shoe_index: int,\n",
    "    stop_shoe_index: int,\n",
    "    quiet: bool = False,\n",
    ") -> tuple[_NDArray, _NDArray]:\n",
    "  \"\"\"Return played_hands and rewards simulating all cut-card positions.\"\"\"\n",
    "  assert 0 <= start_shoe_index <= stop_shoe_index\n",
    "  rules = normalize_rules_for_probabilistic_analysis(rules)\n",
    "  rules_split_to_num_hands = get_int_split_to_num_hands(rules)\n",
    "  split_table, action_table = create_tables(rules, strategy, quiet=True)\n",
    "  shoe_size = int(rules.num_decks) * DECK_SIZE\n",
    "  played_hands = np.zeros(shoe_size, np.int64)  # [0] is cut_card == 1\n",
    "  rewards = np.zeros(shoe_size, np.float64)\n",
    "  total = stop_shoe_index - start_shoe_index\n",
    "  shoes_per_seed = get_shoes_per_seed(rules)\n",
    "  create_shoes = default_shoes_creator(rules)\n",
    "\n",
    "  with tqdm_stdout(total=total, desc='sim_cut', disable=quiet, leave=True) as progress_bar:\n",
    "    start = start_shoe_index\n",
    "    while start < stop_shoe_index:\n",
    "      seed_index = start // shoes_per_seed * shoes_per_seed\n",
    "      num_batch_shoes = min(stop_shoe_index - seed_index, shoes_per_seed)\n",
    "      shoes = create_shoes(num_batch_shoes, seed_index)\n",
    "      shoes = shoes[start - seed_index :]\n",
    "      simulate_shoes_all_cut_cards(\n",
    "          start,\n",
    "          shoes,\n",
    "          split_table,\n",
    "          action_table,\n",
    "          rules.blackjack_payout,\n",
    "          rules.hit_soft17,\n",
    "          rules.obo,\n",
    "          rules_split_to_num_hands,\n",
    "          rules.resplit_aces,\n",
    "          played_hands,\n",
    "          rewards,\n",
    "      )\n",
    "      progress_bar.update(len(shoes))\n",
    "      start += len(shoes)\n",
    "\n",
    "  return played_hands, rewards"
   ]
  },
  {
   "cell_type": "code",
   "execution_count": 157,
   "id": "49f6fea1",
   "metadata": {
    "execution": {
     "iopub.execute_input": "2025-01-18T05:57:51.790170Z",
     "iopub.status.busy": "2025-01-18T05:57:51.789761Z",
     "iopub.status.idle": "2025-01-18T05:57:51.800961Z",
     "shell.execute_reply": "2025-01-18T05:57:51.800263Z",
     "shell.execute_reply.started": "2025-01-18T05:57:51.790151Z"
    }
   },
   "outputs": [],
   "source": [
    "@dataclasses.dataclass\n",
    "class CutCardAnalysisResult:\n",
    "  \"\"\"Data generated by analysis of cut-card placement.\"\"\"\n",
    "\n",
    "  rules: Rules\n",
    "  strategy: Strategy\n",
    "  num_shoes: int\n",
    "  num_hands: int\n",
    "  house_edge_from_cut_card: dict[int, float]"
   ]
  },
  {
   "cell_type": "code",
   "execution_count": 158,
   "id": "d325a49d",
   "metadata": {
    "execution": {
     "iopub.execute_input": "2025-01-18T05:57:51.802119Z",
     "iopub.status.busy": "2025-01-18T05:57:51.801814Z",
     "iopub.status.idle": "2025-01-18T05:57:51.811305Z",
     "shell.execute_reply": "2025-01-18T05:57:51.810650Z",
     "shell.execute_reply.started": "2025-01-18T05:57:51.802106Z"
    }
   },
   "outputs": [],
   "source": [
    "def run_simulations_all_cut_cards_cpu(\n",
    "    rules: Rules,\n",
    "    strategy: Strategy,\n",
    "    num_shoes: int,\n",
    "    *,\n",
    "    parallel: bool = True,\n",
    "    start_shoe_index: int = 0,\n",
    "    quiet: bool = False,\n",
    ") -> CutCardAnalysisResult:\n",
    "  \"\"\"Compute house_edge_from_cut_card over many random shoes.\"\"\"\n",
    "  assert rules.num_decks != math.inf and num_shoes > 0 and start_shoe_index >= 0\n",
    "  rules = normalize_rules_for_probabilistic_analysis(rules)\n",
    "  stop_shoe_index = start_shoe_index + num_shoes\n",
    "  if parallel and not multiprocessing_is_available():\n",
    "    warnings.warn('Multiprocessing simulation is requested but unavailable.')\n",
    "    parallel = False\n",
    "\n",
    "  # Memoize the simulation tables now (with progress bar), prior to forking and chunking.\n",
    "  _ = create_tables(rules, strategy, quiet=quiet)\n",
    "  # Ensure numba code is jitted prior to forking.\n",
    "  _ = simulate_many_shoes_all_cut_cards(rules, strategy, 0, 1, True)\n",
    "\n",
    "  if parallel:\n",
    "    shoes_per_task = math.ceil(num_shoes / multiprocessing.cpu_count())\n",
    "    with multiprocessing.get_context('fork').Pool() as pool:\n",
    "      tasks_args = []\n",
    "      start = start_shoe_index\n",
    "      while start < stop_shoe_index:\n",
    "        stop = min(start + shoes_per_task, stop_shoe_index)\n",
    "        quiet2 = quiet or start > start_shoe_index\n",
    "        tasks_args.append((rules, strategy, start, stop, quiet2))\n",
    "        start = stop\n",
    "      outcomes = pool.starmap(simulate_many_shoes_all_cut_cards, tasks_args)\n",
    "    played_hands = np.sum([outcome[0] for outcome in outcomes], axis=0)\n",
    "    rewards = np.sum([outcome[1] for outcome in outcomes], axis=0)\n",
    "\n",
    "  else:\n",
    "    played_hands, rewards = simulate_many_shoes_all_cut_cards(\n",
    "        rules, strategy, start_shoe_index, stop_shoe_index, quiet\n",
    "    )\n",
    "\n",
    "  assert played_hands[0] == num_shoes\n",
    "  total_played_hands = np.sum(played_hands)\n",
    "  played_hands = np.cumsum(played_hands)\n",
    "  rewards = np.cumsum(rewards)\n",
    "  house_edge = -rewards / played_hands\n",
    "  house_edge_from_cut_card = dict(enumerate(house_edge, 1))\n",
    "  return CutCardAnalysisResult(\n",
    "      rules, strategy, num_shoes, total_played_hands, house_edge_from_cut_card\n",
    "  )"
   ]
  },
  {
   "cell_type": "code",
   "execution_count": 159,
   "id": "033cac00-5f49-46a5-8d19-bc5d677fd598",
   "metadata": {
    "execution": {
     "iopub.execute_input": "2025-01-18T05:57:51.812480Z",
     "iopub.status.busy": "2025-01-18T05:57:51.812131Z",
     "iopub.status.idle": "2025-01-18T05:57:51.823208Z",
     "shell.execute_reply": "2025-01-18T05:57:51.822529Z",
     "shell.execute_reply.started": "2025-01-18T05:57:51.812462Z"
    }
   },
   "outputs": [],
   "source": [
    "def test_all_cut_cards(func: Callable[..., CutCardAnalysisResult], frac: float) -> None:\n",
    "  \"\"\"Test the cut-card simulation function `func`.\"\"\"\n",
    "  num_shoes = int(get_num_hands() * frac)\n",
    "  result = func(Rules(num_decks=1), Strategy(), num_shoes, quiet=True)\n",
    "  assert 0.95 < result.num_shoes / num_shoes < 1.05\n",
    "  v1 = result.house_edge_from_cut_card[1]\n",
    "  v5 = result.house_edge_from_cut_card[5]\n",
    "  if EFFORT >= 2:\n",
    "    assert -0.0004 < v1 < 0.0006, v1  # ~0.013%\n",
    "    assert 0.0016 < v5 < 0.0026, v5  # ~0.211%"
   ]
  },
  {
   "cell_type": "code",
   "execution_count": 160,
   "id": "8c58ed85-584e-44c0-9bbb-4878cecb1e5a",
   "metadata": {
    "execution": {
     "iopub.execute_input": "2025-01-18T05:57:51.824345Z",
     "iopub.status.busy": "2025-01-18T05:57:51.823938Z",
     "iopub.status.idle": "2025-01-18T05:57:54.369221Z",
     "shell.execute_reply": "2025-01-18T05:57:54.368336Z",
     "shell.execute_reply.started": "2025-01-18T05:57:51.824327Z"
    }
   },
   "outputs": [],
   "source": [
    "test_all_cut_cards(run_simulations_all_cut_cards_cpu, 0.001)  # jitting ~5 s."
   ]
  },
  {
   "cell_type": "code",
   "execution_count": 161,
   "id": "ea491d11",
   "metadata": {
    "execution": {
     "iopub.execute_input": "2025-01-18T05:57:54.370664Z",
     "iopub.status.busy": "2025-01-18T05:57:54.370237Z",
     "iopub.status.idle": "2025-01-18T05:57:54.374408Z",
     "shell.execute_reply": "2025-01-18T05:57:54.373604Z",
     "shell.execute_reply.started": "2025-01-18T05:57:54.370647Z"
    }
   },
   "outputs": [],
   "source": [
    "if 0:\n",
    "  # Jitted with EFFORT=3.\n",
    "  hh.prun(\n",
    "      lambda: run_simulations_all_cut_cards_cpu(\n",
    "          Rules(num_decks=1), Strategy(), 2_000_000, quiet=True, parallel=False\n",
    "      )\n",
    "  )\n",
    "# Prun: tottime    1.380 overall_cumtime\n",
    "#         0.686    0.689 numpy.random._generator.Generator.permuted\n",
    "#         0.637    0.637 simulate_shoes_all_cut_cards (/tmp/ipykernel:1)\n",
    "#         0.002    0.734 create_shoes (/tmp/ipykernel:8)"
   ]
  },
  {
   "cell_type": "markdown",
   "id": "325daad7-4769-447d-9c14-93b9db817c5c",
   "metadata": {
    "lines_to_next_cell": 2
   },
   "source": [
    "### All cut-cards using CUDA"
   ]
  },
  {
   "cell_type": "code",
   "execution_count": 162,
   "id": "bc52b8ce-59bb-4231-a8ee-2011b3ecb73c",
   "metadata": {
    "execution": {
     "iopub.execute_input": "2025-01-18T05:57:54.375602Z",
     "iopub.status.busy": "2025-01-18T05:57:54.375322Z",
     "iopub.status.idle": "2025-01-18T05:57:54.385947Z",
     "shell.execute_reply": "2025-01-18T05:57:54.385278Z",
     "shell.execute_reply.started": "2025-01-18T05:57:54.375588Z"
    }
   },
   "outputs": [],
   "source": [
    "@cuda.jit(fastmath=True)  # type: ignore[misc]\n",
    "def simulate_cut_cards_cuda(\n",
    "    rng_states: _CudaArray,\n",
    "    shoes_per_thread: int,\n",
    "    shoe_size: int,\n",
    "    start_shoe_index: int,\n",
    "    split_table: _CudaArray,\n",
    "    action_table: _CudaArray,\n",
    "    rules_blackjack_payout: float,\n",
    "    rules_hit_soft17: bool,\n",
    "    rules_obo: bool,\n",
    "    rules_split_to_num_hands: int,\n",
    "    rules_resplit_aces: bool,\n",
    "    global_played_hands: _CudaArray,\n",
    "    global_rewards: _CudaArray,\n",
    "    progress: _CudaArray,\n",
    ") -> None:\n",
    "  \"\"\"Compute `(global_played_hands, global_rewards)` at each cut card location.\"\"\"\n",
    "  # pylint: disable=no-value-for-parameter, comparison-with-callable\n",
    "  int32, uint32 = numba.int32, numba.uint32\n",
    "  shoe_size = int32(shoe_size)\n",
    "  assert split_table.ndim == 2 and action_table.ndim == 7\n",
    "  thread_index = cuda.grid(1)\n",
    "  if thread_index >= len(rng_states):\n",
    "    return\n",
    "\n",
    "  rng = rng_states[thread_index]\n",
    "  split_second_cards = cuda.local.array(SPLIT_SECOND_CARDS_SIZE, np.int8)\n",
    "  min_num_player_cards = int32(0)\n",
    "\n",
    "  shared_played_hands = cuda.shared.array(CUDA_MAX_SHOE_SIZE, np.uint64)  # [cutcard_position].\n",
    "  shared_rewards = cuda.shared.array(CUDA_MAX_SHOE_SIZE, np.float64)  # [cutcard_position].\n",
    "  thread_id = cuda.threadIdx.x  # Index within block.\n",
    "  if thread_id == 0:\n",
    "    shared_played_hands[:] = 0\n",
    "    shared_rewards[:] = 0.0\n",
    "  cuda.syncthreads()\n",
    "  empty_hand_cards = split_second_cards[:0]\n",
    "  shoe = create_unshuffled_shoe_cuda(shoe_size, False, empty_hand_cards)\n",
    "\n",
    "  # Perform iterations of shuffling the shoe and simulating its played hands.\n",
    "  for local_shoe_index in range(int32(shoes_per_thread)):\n",
    "    shoe_index = start_shoe_index + thread_index * shoes_per_thread + local_shoe_index\n",
    "    shuffle_shoe_cuda(rng, shoe, False, 0)\n",
    "\n",
    "    # Simulate playing hands on shoe.\n",
    "    card_index = uint32(0)\n",
    "    while card_index < shoe_size:\n",
    "      reward, card_index2 = simulate_hand(\n",
    "          shoe_index,\n",
    "          shoe,\n",
    "          card_index,\n",
    "          split_table,\n",
    "          action_table,\n",
    "          min_num_player_cards,\n",
    "          rules_blackjack_payout,\n",
    "          rules_hit_soft17,\n",
    "          rules_obo,\n",
    "          rules_split_to_num_hands,\n",
    "          rules_resplit_aces,\n",
    "          split_second_cards,\n",
    "      )\n",
    "      cuda.atomic.add(shared_played_hands, card_index, 1)\n",
    "      cuda.atomic.add(shared_rewards, card_index, reward)\n",
    "      card_index = card_index2\n",
    "\n",
    "  cuda.syncthreads()\n",
    "  if thread_id == 0:\n",
    "    for i in range(shoe_size):\n",
    "      cuda.atomic.add(global_played_hands, i, shared_played_hands[i])\n",
    "      cuda.atomic.add(global_rewards, i, shared_rewards[i])\n",
    "    cuda.atomic.add(progress, 0, 1)"
   ]
  },
  {
   "cell_type": "code",
   "execution_count": 163,
   "id": "d23749a5-449d-45cd-997f-8a0d0450ddad",
   "metadata": {
    "execution": {
     "iopub.execute_input": "2025-01-18T05:57:54.387345Z",
     "iopub.status.busy": "2025-01-18T05:57:54.386980Z",
     "iopub.status.idle": "2025-01-18T05:57:54.398464Z",
     "shell.execute_reply": "2025-01-18T05:57:54.397808Z",
     "shell.execute_reply.started": "2025-01-18T05:57:54.387327Z"
    }
   },
   "outputs": [],
   "source": [
    "def run_simulations_all_cut_cards_cuda(\n",
    "    rules: Rules,\n",
    "    strategy: Strategy,\n",
    "    num_shoes: int,\n",
    "    *,\n",
    "    parallel: bool = True,\n",
    "    start_shoe_index: int = 0,\n",
    "    quiet: bool = False,\n",
    ") -> CutCardAnalysisResult:\n",
    "  \"\"\"Compute house_edge_from_cut_card over many random shoes using CUDA.\"\"\"\n",
    "  del parallel\n",
    "  assert rules.num_decks != math.inf and num_shoes > 0 and start_shoe_index >= 0\n",
    "  device = cuda.get_current_device()\n",
    "  rules = normalize_rules_for_probabilistic_analysis(rules)\n",
    "  with hh.timing('create_tables_cuda', enabled=False):\n",
    "    d_split_table, d_action_table = create_tables_cuda(rules, strategy)\n",
    "  rules_split_to_num_hands = get_int_split_to_num_hands(rules)\n",
    "  shoe_size = int(rules.num_decks) * DECK_SIZE\n",
    "  assert shoe_size <= CUDA_MAX_SHOE_SIZE\n",
    "\n",
    "  threads_per_block = get_threads_per_block(shoe_size)\n",
    "  BLOCKS_PER_SM = 4\n",
    "  target_num_threads = device.MULTIPROCESSOR_COUNT * threads_per_block * BLOCKS_PER_SM\n",
    "  shoes_per_thread = min(max(num_shoes // target_num_threads, 1), 2000)\n",
    "  num_threads = math.ceil(num_shoes / shoes_per_thread)\n",
    "  blocks = math.ceil(num_threads / threads_per_block)\n",
    "\n",
    "  seed = start_shoe_index\n",
    "  d_rng_states = random32.create_xoshiro128p_states(num_threads, seed)\n",
    "  d_played_hands = cuda.to_device(np.zeros(shoe_size, np.uint64))  # [0] is cut_card == 1\n",
    "  d_rewards = cuda.to_device(np.zeros(shoe_size, np.float64))\n",
    "  d_progress = cuda.mapped_array(1, dtype=np.int64)  # https://stackoverflow.com/a/78732662\n",
    "  d_progress[0] = 0\n",
    "  dynamic_shared_memory_size = threads_per_block * shoe_size\n",
    "\n",
    "  if 0:\n",
    "    print(f'{shoe_size=} {threads_per_block=} {num_shoes=:_}')\n",
    "    print(f'{shoes_per_thread=} {num_threads=:_} {blocks=} {dynamic_shared_memory_size=}')\n",
    "  event = cuda.event()\n",
    "  simulate_cut_cards_cuda[blocks, threads_per_block, 0, dynamic_shared_memory_size](\n",
    "      d_rng_states,\n",
    "      shoes_per_thread,\n",
    "      shoe_size,\n",
    "      start_shoe_index,\n",
    "      d_split_table,\n",
    "      d_action_table,\n",
    "      rules.blackjack_payout,\n",
    "      rules.hit_soft17,\n",
    "      rules.obo,\n",
    "      rules_split_to_num_hands,\n",
    "      rules.resplit_aces,\n",
    "      d_played_hands,\n",
    "      d_rewards,\n",
    "      d_progress,\n",
    "  )\n",
    "\n",
    "  show_cuda_kernel_progress(event, d_progress, blocks, 'sim_cut', quiet)\n",
    "\n",
    "  # Retrieve and process CUDA kernel results.\n",
    "  played_hands = d_played_hands.copy_to_host()\n",
    "  rewards = d_rewards.copy_to_host()\n",
    "\n",
    "  total_played_shoes = played_hands[0]\n",
    "  total_played_hands = np.sum(played_hands)\n",
    "  played_hands = np.cumsum(played_hands)\n",
    "  rewards = np.cumsum(rewards)\n",
    "  house_edge = -rewards / played_hands\n",
    "  house_edge_from_cut_card = dict(enumerate(house_edge, 1))\n",
    "  return CutCardAnalysisResult(\n",
    "      rules, strategy, total_played_shoes, total_played_hands, house_edge_from_cut_card\n",
    "  )"
   ]
  },
  {
   "cell_type": "code",
   "execution_count": 164,
   "id": "79e18118-77a3-48b5-af96-75013f147a5e",
   "metadata": {
    "execution": {
     "iopub.execute_input": "2025-01-18T05:57:54.399662Z",
     "iopub.status.busy": "2025-01-18T05:57:54.399343Z",
     "iopub.status.idle": "2025-01-18T05:57:55.101747Z",
     "shell.execute_reply": "2025-01-18T05:57:55.101078Z",
     "shell.execute_reply.started": "2025-01-18T05:57:54.399648Z"
    }
   },
   "outputs": [],
   "source": [
    "if cuda.is_available():\n",
    "  test_all_cut_cards(run_simulations_all_cut_cards_cuda, 0.02)"
   ]
  },
  {
   "cell_type": "code",
   "execution_count": 165,
   "id": "8736443b-a7ec-49a0-a138-a64b9bfbfbc0",
   "metadata": {
    "execution": {
     "iopub.execute_input": "2025-01-18T05:57:55.102825Z",
     "iopub.status.busy": "2025-01-18T05:57:55.102581Z",
     "iopub.status.idle": "2025-01-18T05:57:55.108421Z",
     "shell.execute_reply": "2025-01-18T05:57:55.107750Z",
     "shell.execute_reply.started": "2025-01-18T05:57:55.102809Z"
    }
   },
   "outputs": [],
   "source": [
    "if cuda.is_available():\n",
    "  write_numba_assembly_code(simulate_cut_cards_cuda, 'simulate_cut_cards_cuda.ptx')\n",
    "  if 0:\n",
    "    report_cuda_kernel_properties(simulate_cut_cards_cuda)"
   ]
  },
  {
   "cell_type": "code",
   "execution_count": 166,
   "id": "362300e7-82d3-4429-b47a-afbbb79ae48e",
   "metadata": {
    "execution": {
     "iopub.execute_input": "2025-01-18T05:57:55.109922Z",
     "iopub.status.busy": "2025-01-18T05:57:55.109631Z",
     "iopub.status.idle": "2025-01-18T05:57:55.117098Z",
     "shell.execute_reply": "2025-01-18T05:57:55.116208Z",
     "shell.execute_reply.started": "2025-01-18T05:57:55.109906Z"
    },
    "lines_to_next_cell": 2
   },
   "outputs": [],
   "source": [
    "run_simulations_all_cut_cards = run_simulations_all_cut_cards_cpu\n",
    "\n",
    "if cuda.is_available():\n",
    "  run_simulations_all_cut_cards = run_simulations_all_cut_cards_cuda"
   ]
  },
  {
   "cell_type": "markdown",
   "id": "5191d94d",
   "metadata": {},
   "source": [
    "## Hand calculators\n",
    "<a name=\"Hand-calculators\"></a>"
   ]
  },
  {
   "cell_type": "markdown",
   "id": "152153e8",
   "metadata": {},
   "source": [
    "**References**:\n",
    "- https://wizardofodds.com/games/blackjack/hand-calculator/\n",
    "  &mdash; 6-digit accuracy, but seems incorrect on SPLIT actions.\n",
    "- https://www.bjstrat.net/cgi-bin/cdca.cgi\n",
    "  &mdash; 4-digit accuracy, with good SPLIT computations."
   ]
  },
  {
   "cell_type": "markdown",
   "id": "c40600ab",
   "metadata": {
    "execution": {
     "iopub.execute_input": "2022-05-24T07:05:14.853322Z",
     "iopub.status.busy": "2022-05-24T07:05:14.853185Z",
     "iopub.status.idle": "2022-05-24T07:05:14.865165Z",
     "shell.execute_reply": "2022-05-24T07:05:14.864700Z",
     "shell.execute_reply.started": "2022-05-24T07:05:14.853310Z"
    },
    "lines_to_next_cell": 2
   },
   "source": [
    "We analyze the rewards for actions on specific hands (using a composition-dependent strategy)\n",
    "and compare with the\n",
    "[WizardOfOdds hand calculator](https://wizardofodds.com/games/blackjack/hand-calculator/)\n",
    "and the\n",
    "[bjstrat.net hand calculator](http://www.bjstrat.net/cgi-bin/cdca.cgi)."
   ]
  },
  {
   "cell_type": "code",
   "execution_count": 167,
   "id": "3a495d81",
   "metadata": {
    "execution": {
     "iopub.execute_input": "2025-01-18T05:57:55.118577Z",
     "iopub.status.busy": "2025-01-18T05:57:55.118121Z",
     "iopub.status.idle": "2025-01-18T05:57:55.129015Z",
     "shell.execute_reply": "2025-01-18T05:57:55.128296Z",
     "shell.execute_reply.started": "2025-01-18T05:57:55.118553Z"
    }
   },
   "outputs": [],
   "source": [
    "class HandCalculator:\n",
    "  \"\"\"Provider of expected reward for actions on particular hands.\"\"\"\n",
    "\n",
    "  Downloaded = dict[tuple[Hand, Action], float]\n",
    "\n",
    "  def __init__(self, name: str) -> None:\n",
    "    self.name = name\n",
    "    self.read_downloaded = functools.cache(self._uncached_read_downloaded)\n",
    "\n",
    "  def __call__(self, hand: Hand, action: Action, rules: Rules) -> float | None:\n",
    "    \"\"\"Return the (maybe cached) expected `hand` reward for `action` under `rules` (if known).\"\"\"\n",
    "    check_hand(hand)\n",
    "    player_cards, dealer1 = hand\n",
    "    hand = tuple(sorted(player_cards)), dealer1\n",
    "    rules = normalize_rules_for_probabilistic_analysis(rules)\n",
    "    downloaded = self.read_downloaded(rules)\n",
    "    if downloaded and (hand, action) in downloaded:\n",
    "      return downloaded[hand, action]\n",
    "    return self._get_reward(hand, action, rules)\n",
    "\n",
    "  def _get_reward(self, hand: Hand, action: Action, rules: Rules) -> float | None:\n",
    "    \"\"\"Return the expected `hand` reward for `action` under `rules (if known); override this.\"\"\"\n",
    "\n",
    "  def is_available(self) -> bool:\n",
    "    \"\"\"Return True if the hand calculator is available.\"\"\"\n",
    "    return self(((9, 9), 1), Action.STAND, Rules(num_decks=1)) is not None\n",
    "\n",
    "  def is_downloaded(self, rules: Rules) -> bool:\n",
    "    \"\"\"Return True if all the hand rewards for `rules` are downloaded locally.\"\"\"\n",
    "    return bool(self.read_downloaded(normalize_rules_for_probabilistic_analysis(rules)))\n",
    "\n",
    "  def downloaded_path(self, rules: Rules) -> pathlib.Path:\n",
    "    \"\"\"Return a path to the dictionary of downloaded hand calculator rewards for `rules`.\"\"\"\n",
    "    return pathlib.Path(f'data/{self.name}_hand_calc_{rules}.pickle')\n",
    "\n",
    "  def download(self, rules: Rules, only_initial_cards: bool = True) -> None:\n",
    "    \"\"\"Download to a file a dictionary of hand rewards under `rules`.\"\"\"\n",
    "    rules = normalize_rules_for_probabilistic_analysis(rules)\n",
    "    downloaded = {}\n",
    "    generate_hands = (\n",
    "        generate_all_initial_cards() if only_initial_cards else generate_all_hands(rules)\n",
    "    )\n",
    "    for player_cards in tqdm_stdout(list(generate_hands), desc='download', leave=True):\n",
    "      for dealer1 in range(1, 11):\n",
    "        if player_cards.count(dealer1) < rules.num_decks * NUM_SUITS:\n",
    "          for action in Action:\n",
    "            hand = player_cards, dealer1\n",
    "            reward = self(hand, action, rules)\n",
    "            assert reward is not None, (self.name, rules, hand, action)\n",
    "            downloaded[hand, action] = reward\n",
    "    self.downloaded_path(rules).write_bytes(pickle.dumps(downloaded))\n",
    "\n",
    "  def _uncached_read_downloaded(self, rules: Rules) -> Downloaded:\n",
    "    \"\"\"Read downloaded hand rewards under `rules`.\"\"\"\n",
    "    path = self.downloaded_path(rules)\n",
    "    result: HandCalculator.Downloaded = pickle.loads(path.read_bytes()) if path.is_file() else {}\n",
    "    return result\n",
    "\n",
    "  def test(self) -> None:\n",
    "    \"\"\"Run self-tests.\"\"\""
   ]
  },
  {
   "cell_type": "code",
   "execution_count": 168,
   "id": "05719088",
   "metadata": {
    "execution": {
     "iopub.execute_input": "2025-01-18T05:57:55.130161Z",
     "iopub.status.busy": "2025-01-18T05:57:55.129969Z",
     "iopub.status.idle": "2025-01-18T05:57:55.142323Z",
     "shell.execute_reply": "2025-01-18T05:57:55.141505Z",
     "shell.execute_reply.started": "2025-01-18T05:57:55.130146Z"
    }
   },
   "outputs": [],
   "source": [
    "class WizardHandCalculator(HandCalculator):\n",
    "  \"\"\"Hand analysis from https://wizardofodds.com/games/blackjack/hand-calculator/.\"\"\"\n",
    "\n",
    "  def __init__(self) -> None:\n",
    "    super().__init__('wiz')\n",
    "    self.query = functools.cache(self._uncached_query)\n",
    "\n",
    "  def _uncached_query(self, hand: Hand, rules: Rules) -> str:\n",
    "    \"\"\"Return response from https://wizardofodds.com/games/blackjack/hand-calculator/.\"\"\"\n",
    "    player_cards, dealer1 = hand\n",
    "    if rules.blackjack_payout not in (1.5, 1.4, 1.2, 1):\n",
    "      return ''\n",
    "\n",
    "    def encode(card: Card) -> str:\n",
    "      return 'A23456789T'[card - 1]\n",
    "\n",
    "    try:\n",
    "      n = int(rules.num_decks)\n",
    "      split_aces_to_num_hands = min(int(rules.split_to_num_hands), 4 if rules.resplit_aces else 2)\n",
    "      args: list[Any] = [n * 4] * 8 + [n * 16] + [n * 4]  # Shoe composition.\n",
    "      args += [\n",
    "          0,\n",
    "          rules.blackjack_payout,\n",
    "          int(rules.obo),\n",
    "          int(rules.hit_soft17),\n",
    "          {0: 0, 9: 1, 10: 2}[rules.double_min_total],\n",
    "          {0: 0, 2: 1, 3: 2, 4: 3}[int(rules.split_to_num_hands)],\n",
    "          {0: 0, 2: 1, 3: 2, 4: 3}[split_aces_to_num_hands],\n",
    "          int(rules.hit_split_aces),\n",
    "          int(rules.double_after_split),\n",
    "          int(rules.late_surrender),\n",
    "          encode(dealer1),\n",
    "          ''.join(encode(card) for card in player_cards),\n",
    "      ]\n",
    "      url = 'https://wizardofodds.com/calculators-js/blackjack/calculate/?' + '&'.join(\n",
    "          f'{chr(ord(\"a\") + i)}={arg}' for i, arg in enumerate(args)\n",
    "      )\n",
    "      with urllib.request.urlopen(\n",
    "          urllib.request.Request(url, headers={'User-Agent': 'Chrome'})\n",
    "      ) as response:\n",
    "        text: str = response.read().decode('utf-8')\n",
    "      return text\n",
    "\n",
    "    except (OverflowError, KeyError, urllib.error.URLError):\n",
    "      return ''\n",
    "\n",
    "  def _get_reward(self, hand: Hand, action: Action, rules: Rules) -> float | None:\n",
    "    \"\"\"Return the expected `hand` reward for `action` under `rules (if known).\"\"\"\n",
    "    text = self.query(hand, rules)\n",
    "    if not text:\n",
    "      return None\n",
    "\n",
    "    match = re.search(f'\"Has{action.name.capitalize()}\":([a-z]+)', text)\n",
    "    if not (match and match[1] in ('false', 'true')):\n",
    "      raise RuntimeError(f'Cannot parse {text}')\n",
    "    if match[1] == 'false':\n",
    "      return DISALLOWED\n",
    "\n",
    "    match = re.search(rf'\"{action.name.capitalize()}\":([-\\d.eE]+)', text)\n",
    "    if not match:\n",
    "      raise RuntimeError(f'Cannot parse {text}')\n",
    "    return float(match[1])\n",
    "\n",
    "  def test(self) -> None:\n",
    "    \"\"\"Run self-tests.\"\"\"\n",
    "    check_eq(self(((9, 9), 1), Action.STAND, Rules(num_decks=1)), -0.18613048871481852)\n",
    "    # check_eq(self(((9, 9), 1), Action.STAND, Rules(num_decks=2)), -0.20661260118138675)"
   ]
  },
  {
   "cell_type": "code",
   "execution_count": 169,
   "id": "a4c19b8b",
   "metadata": {
    "execution": {
     "iopub.execute_input": "2025-01-18T05:57:55.143676Z",
     "iopub.status.busy": "2025-01-18T05:57:55.143311Z",
     "iopub.status.idle": "2025-01-18T05:57:55.155953Z",
     "shell.execute_reply": "2025-01-18T05:57:55.155184Z",
     "shell.execute_reply.started": "2025-01-18T05:57:55.143659Z"
    }
   },
   "outputs": [],
   "source": [
    "class BjstratHandCalculator(HandCalculator):\n",
    "  \"\"\"Hand analysis from https://www.bjstrat.net/cgi-bin/cdca.cgi .\"\"\"\n",
    "\n",
    "  def __init__(self) -> None:\n",
    "    super().__init__('bjstrat')\n",
    "    self.query = functools.cache(self._uncached_query)\n",
    "\n",
    "  def _uncached_query(self, player_cards: Cards, rules: Rules) -> str:\n",
    "    \"\"\"Return response from https://www.bjstrat.net/cgi-bin/cdca.cgi .\"\"\"\n",
    "    total, soft = combine_cards(player_cards)\n",
    "    n = NUM_SUITS * int(rules.num_decks)\n",
    "    softness = 'soft' if soft else 'hard'\n",
    "    url = 'https://www.bjstrat.net/cgi-bin/cdca.cgi'\n",
    "\n",
    "    try:\n",
    "      split_aces_to_num_hands = min(int(rules.split_to_num_hands), 4 if rules.resplit_aces else 2)\n",
    "      data_dict = dict[str, Any](\n",
    "          txtDecks=int(rules.num_decks),\n",
    "          bjOdds={1.0: 0, 1.2: 1, 1.5: 2, 2.0: 3}[rules.blackjack_payout],\n",
    "          **(dict(chkS17='on') if not rules.hit_soft17 else {}),\n",
    "          **(dict(chkENHC='on') if not rules.obo else {}),\n",
    "          chkCondEV='on',\n",
    "          computeMode='bestStrat',\n",
    "          AutoWin='AW_None',\n",
    "          dblCards='DO2',\n",
    "          dblRestrict={0: 'None', 9: 'H9_11', 10: 'H10_11'}[rules.double_min_total],\n",
    "          maxSpA={0: 0, 2: 1, 3: 2, 4: 3}[split_aces_to_num_hands],\n",
    "          maxSp2_10={0: 0, 2: 1, 3: 2, 4: 3}[int(rules.split_to_num_hands)],\n",
    "          **(dict(chkDAS='on') if rules.double_after_split else {}),\n",
    "          **(dict(chkHSA='on') if rules.hit_split_aces else {}),\n",
    "          **(dict(chkS2_9='on') if rules.late_surrender else {}),\n",
    "          S_10='LS_10' if rules.late_surrender else 'NS_10',\n",
    "          S_A='LS_A' if rules.late_surrender else 'NS_A',\n",
    "          txt2=n,\n",
    "          txt3=n,\n",
    "          txt4=n,\n",
    "          txt5=n,\n",
    "          txt6=n,\n",
    "          txtTotCards=rules.num_decks * DECK_SIZE,\n",
    "          txt7=n,\n",
    "          txt8=n,\n",
    "          txt9=n,\n",
    "          txt10=n * 4,\n",
    "          txt1=n,\n",
    "          txtHand=''.join(f'{card} ' for card in player_cards),\n",
    "          txtHandVal=f'Total = {softness} {total}: num cards = {len(player_cards)}',\n",
    "          bCompute='Compute',\n",
    "      )\n",
    "      data = urllib.parse.urlencode(data_dict).encode()\n",
    "      request = urllib.request.Request(url, data=data)  # Generates POST.\n",
    "      with urllib.request.urlopen(request) as response:\n",
    "        text: str = response.read().decode('utf-8')\n",
    "      return text\n",
    "\n",
    "    except (OverflowError, KeyError, urllib.error.URLError):\n",
    "      return ''\n",
    "\n",
    "  def _get_reward(self, hand: Hand, action: Action, rules: Rules) -> float | None:\n",
    "    \"\"\"Return the expected `hand` reward for `action` under `rules (if known).\"\"\"\n",
    "    player_cards, dealer1 = hand\n",
    "    text = self.query(player_cards, rules)\n",
    "    if not text:\n",
    "      return None\n",
    "\n",
    "    lines = text.splitlines()\n",
    "    labels = {\n",
    "        Action.STAND: ('Stand',),\n",
    "        Action.HIT: ('Hit',),\n",
    "        Action.DOUBLE: ('Double',),\n",
    "        Action.SPLIT: ('SPL3', 'SPL2', 'SPL1'),\n",
    "        Action.SURRENDER: ('Surr',),\n",
    "    }[action]\n",
    "    for label in labels:\n",
    "      action_s = f'class=\"vertLabel\">{label}</label>'\n",
    "      (index0,) = (n for n, line in enumerate(lines) if action_s in line)\n",
    "      dealer1_index = 11 if dealer1 == 1 else dealer1\n",
    "      line = lines[index0 + dealer1_index - 1]\n",
    "      if '<label class=\"blankLabel\">&nbsp;</label>' not in line:\n",
    "        break\n",
    "    else:\n",
    "      return DISALLOWED\n",
    "\n",
    "    match = re.search(r'<label class=\"(?:pos|neg)EVLabel\">(.+)</label>', line)\n",
    "    if not match:\n",
    "      raise RuntimeError(f'Cannot parse {text} for {(hand, action, line)}')\n",
    "    return float(match[1]) / 100\n",
    "\n",
    "  def test(self) -> None:\n",
    "    \"\"\"Run self-tests.\"\"\"\n",
    "    check_eq(self(((9, 9), 1), Action.STAND, Rules(num_decks=1)), -0.1861)\n",
    "    # check_eq(self(((9, 9), 1), Action.STAND, Rules(num_decks=2)), -0.2066)"
   ]
  },
  {
   "cell_type": "code",
   "execution_count": 170,
   "id": "1766388d",
   "metadata": {
    "execution": {
     "iopub.execute_input": "2025-01-18T05:57:55.157002Z",
     "iopub.status.busy": "2025-01-18T05:57:55.156802Z",
     "iopub.status.idle": "2025-01-18T05:57:55.176765Z",
     "shell.execute_reply": "2025-01-18T05:57:55.175975Z",
     "shell.execute_reply.started": "2025-01-18T05:57:55.156987Z"
    }
   },
   "outputs": [
    {
     "name": "stdout",
     "output_type": "stream",
     "text": [
      "['wiz', 'bjstrat']\n"
     ]
    }
   ],
   "source": [
    "HAND_CALCULATORS = {\n",
    "    hand_calc.name: hand_calc\n",
    "    for hand_calc in [WizardHandCalculator(), BjstratHandCalculator()]\n",
    "    if hand_calc.is_available()\n",
    "}\n",
    "print(list(HAND_CALCULATORS))"
   ]
  },
  {
   "cell_type": "code",
   "execution_count": 171,
   "id": "90fcc21e",
   "metadata": {
    "execution": {
     "iopub.execute_input": "2025-01-18T05:57:55.178153Z",
     "iopub.status.busy": "2025-01-18T05:57:55.177699Z",
     "iopub.status.idle": "2025-01-18T05:57:55.181923Z",
     "shell.execute_reply": "2025-01-18T05:57:55.181189Z",
     "shell.execute_reply.started": "2025-01-18T05:57:55.178131Z"
    }
   },
   "outputs": [],
   "source": [
    "if 0:\n",
    "  check_eq(\n",
    "      HAND_CALCULATORS['bjstrat'].read_downloaded(Rules(num_decks=1))[((9, 9), 1), Action.STAND],\n",
    "      -0.1861,\n",
    "  )"
   ]
  },
  {
   "cell_type": "code",
   "execution_count": 172,
   "id": "071e6ed8",
   "metadata": {
    "execution": {
     "iopub.execute_input": "2025-01-18T05:57:55.183199Z",
     "iopub.status.busy": "2025-01-18T05:57:55.182807Z",
     "iopub.status.idle": "2025-01-18T05:57:55.191236Z",
     "shell.execute_reply": "2025-01-18T05:57:55.190506Z",
     "shell.execute_reply.started": "2025-01-18T05:57:55.183178Z"
    }
   },
   "outputs": [],
   "source": [
    "for _hand_calc in HAND_CALCULATORS.values():\n",
    "  _hand_calc.test()"
   ]
  },
  {
   "cell_type": "code",
   "execution_count": 173,
   "id": "a027b621",
   "metadata": {
    "execution": {
     "iopub.execute_input": "2025-01-18T05:57:55.192600Z",
     "iopub.status.busy": "2025-01-18T05:57:55.192218Z",
     "iopub.status.idle": "2025-01-18T05:57:55.201046Z",
     "shell.execute_reply": "2025-01-18T05:57:55.200312Z",
     "shell.execute_reply.started": "2025-01-18T05:57:55.192577Z"
    }
   },
   "outputs": [],
   "source": [
    "if 0:\n",
    "  if 'wiz' in HAND_CALCULATORS and 'bjstrat' in HAND_CALCULATORS:\n",
    "    check_eq(\n",
    "        {\n",
    "            name: hand_calc(((2, 3, 5), 7), Action.HIT, Rules(num_decks=1))\n",
    "            for name, hand_calc in HAND_CALCULATORS.items()\n",
    "        },\n",
    "        {'wiz': 0.29369908629477176, 'bjstrat': 0.2937},\n",
    "    )"
   ]
  },
  {
   "cell_type": "code",
   "execution_count": 174,
   "id": "12012708",
   "metadata": {
    "execution": {
     "iopub.execute_input": "2025-01-18T05:57:55.202150Z",
     "iopub.status.busy": "2025-01-18T05:57:55.201795Z",
     "iopub.status.idle": "2025-01-18T05:57:55.213422Z",
     "shell.execute_reply": "2025-01-18T05:57:55.212463Z",
     "shell.execute_reply.started": "2025-01-18T05:57:55.202135Z"
    }
   },
   "outputs": [],
   "source": [
    "def download_hand_calc_results() -> None:\n",
    "  \"\"\"Cache online calculator results to files to reduce requests.\"\"\"\n",
    "  calcs = HAND_CALCULATORS\n",
    "  # calcs['wiz'].download(Rules(num_decks=1))\n",
    "  # calcs['wiz'].download(Rules(num_decks=1, hit_soft17=False))\n",
    "  # calcs['wiz'].download(Rules(num_decks=2))\n",
    "  # calcs['wiz'].download(Rules(num_decks=1, obo=False, late_surrender=False))\n",
    "  # calcs['bjstrat'].download(Rules(num_decks=1))\n",
    "  # calcs['bjstrat'].download(Rules(num_decks=1, hit_soft17=False))\n",
    "  # calcs['bjstrat'].download(Rules(num_decks=2))\n",
    "  # calcs['bjstrat'].download(Rules(num_decks=1, obo=False, late_surrender=False))\n",
    "  # For BjstratHouseEdgeCalculator:\n",
    "  # calcs['bjstrat'].download(Rules(late_surrender=False))\n",
    "  # calcs['bjstrat'].download(Rules(num_decks=6))\n",
    "  # calcs['bjstrat'].download(Rules(num_decks=1, double_after_split=False))\n",
    "  # calcs['bjstrat'].download(Rules(num_decks=1, double_min_total=10))\n",
    "  # calcs['bjstrat'].download(Rules(num_decks=1, split_to_num_hands=2))\n",
    "  # calcs['bjstrat'].download(Rules(num_decks=1, resplit_aces=True))\n",
    "  # calcs['bjstrat'].download(Rules(num_decks=1, hit_split_aces=True))\n",
    "  # calcs['bjstrat'].download(Rules(num_decks=1, late_surrender=False))\n",
    "  # calcs['bjstrat'].download(Rules(num_decks=1, blackjack_payout=1.2))\n",
    "  # calcs['bjstrat'].download(Rules(num_decks=8))\n",
    "  # calcs['bjstrat'].download(Rules(num_decks=8, hit_split_aces=True))\n",
    "  del calcs\n",
    "\n",
    "\n",
    "if 0:\n",
    "  download_hand_calc_results()"
   ]
  },
  {
   "cell_type": "code",
   "execution_count": 175,
   "id": "aa5a0462",
   "metadata": {
    "execution": {
     "iopub.execute_input": "2025-01-18T05:57:55.214759Z",
     "iopub.status.busy": "2025-01-18T05:57:55.214334Z",
     "iopub.status.idle": "2025-01-18T05:57:55.222849Z",
     "shell.execute_reply": "2025-01-18T05:57:55.222166Z",
     "shell.execute_reply.started": "2025-01-18T05:57:55.214737Z"
    },
    "lines_to_next_cell": 2
   },
   "outputs": [],
   "source": [
    "if 0:\n",
    "  check_eq(HAND_CALCULATORS['bjstrat'](((1, 10), 1), Action.STAND, Rules(num_decks=8)), 1.5)"
   ]
  },
  {
   "cell_type": "markdown",
   "id": "defeacf1",
   "metadata": {
    "lines_to_next_cell": 2
   },
   "source": [
    "### Our hand calculator\n",
    "<a name=\"Our-hand-calculator\"></a>"
   ]
  },
  {
   "cell_type": "code",
   "execution_count": 176,
   "id": "3d6f50de",
   "metadata": {
    "execution": {
     "iopub.execute_input": "2025-01-18T05:57:55.223953Z",
     "iopub.status.busy": "2025-01-18T05:57:55.223639Z",
     "iopub.status.idle": "2025-01-18T05:57:55.232187Z",
     "shell.execute_reply": "2025-01-18T05:57:55.231499Z",
     "shell.execute_reply.started": "2025-01-18T05:57:55.223938Z"
    }
   },
   "outputs": [],
   "source": [
    "class ProbHandCalculator(HandCalculator):\n",
    "  \"\"\"Hand analysis using probabilistic approach.\"\"\"\n",
    "\n",
    "  def __init__(self) -> None:\n",
    "    super().__init__('prob')\n",
    "\n",
    "  def _get_reward(self, hand: Hand, action: Action, rules: Rules) -> float | None:\n",
    "    \"\"\"Return the expected `hand` reward for `action` under `rules (if known).\"\"\"\n",
    "    state = hand[0], hand[1], ()\n",
    "    return reward_for_action(state, rules, COMPOSITION_DEPENDENT_STRATEGY, action)\n",
    "\n",
    "  def test(self) -> None:\n",
    "    \"\"\"Run self-tests.\"\"\"\n",
    "    value = self(((9, 9), 1), Action.STAND, Rules(num_decks=1))\n",
    "    assert value is not None and -0.1866 < value < -0.1854, value"
   ]
  },
  {
   "cell_type": "code",
   "execution_count": 177,
   "id": "bc85641c",
   "metadata": {
    "execution": {
     "iopub.execute_input": "2025-01-18T05:57:55.233324Z",
     "iopub.status.busy": "2025-01-18T05:57:55.232984Z",
     "iopub.status.idle": "2025-01-18T05:57:55.244107Z",
     "shell.execute_reply": "2025-01-18T05:57:55.243431Z",
     "shell.execute_reply.started": "2025-01-18T05:57:55.233307Z"
    }
   },
   "outputs": [],
   "source": [
    "ProbHandCalculator().test()"
   ]
  },
  {
   "cell_type": "code",
   "execution_count": 178,
   "id": "e87470cb",
   "metadata": {
    "execution": {
     "iopub.execute_input": "2025-01-18T05:57:55.245210Z",
     "iopub.status.busy": "2025-01-18T05:57:55.244790Z",
     "iopub.status.idle": "2025-01-18T05:57:55.252513Z",
     "shell.execute_reply": "2025-01-18T05:57:55.251864Z",
     "shell.execute_reply.started": "2025-01-18T05:57:55.245196Z"
    }
   },
   "outputs": [],
   "source": [
    "def best_action_for_hand(hand: Hand, rules: Rules, hand_calc: HandCalculator) -> Action:\n",
    "  \"\"\"Return the best action for the hand according to the calculator.\"\"\"\n",
    "  return max((hh.assert_not_none(hand_calc(hand, action, rules)), action) for action in Action)[1]"
   ]
  },
  {
   "cell_type": "code",
   "execution_count": 179,
   "id": "bdbad6ba",
   "metadata": {
    "execution": {
     "iopub.execute_input": "2025-01-18T05:57:55.253352Z",
     "iopub.status.busy": "2025-01-18T05:57:55.253196Z",
     "iopub.status.idle": "2025-01-18T05:57:55.261961Z",
     "shell.execute_reply": "2025-01-18T05:57:55.261302Z",
     "shell.execute_reply.started": "2025-01-18T05:57:55.253338Z"
    }
   },
   "outputs": [],
   "source": [
    "def post_peek_from_initial_reward_and_sdv(\n",
    "    initial_reward: float,\n",
    "    initial_reward_sdv: float,\n",
    "    hand: Hand,\n",
    "    action: Action,\n",
    "    rules: Rules,\n",
    ") -> tuple[float, float]:\n",
    "  \"\"\"Return the post-peek expected reward and reward_sdv, removing dealer bj if OBO.\"\"\"\n",
    "  state = hand[0], hand[1], ()\n",
    "  prob_dealer_bj = probability_dealer_bj(state, rules) if rules.obo else 0.0\n",
    "  player_cards, _ = hand\n",
    "  player_bj = sorted(player_cards) == [1, 10] and action is Action.STAND\n",
    "  player_reward_if_dealer_bj = 0.0 if player_bj else -1.0\n",
    "  post_peek_reward = (initial_reward - player_reward_if_dealer_bj * prob_dealer_bj) / (\n",
    "      1.0 - prob_dealer_bj\n",
    "  )\n",
    "  post_peek_reward_sdv = initial_reward_sdv / (1.0 - prob_dealer_bj)\n",
    "  return post_peek_reward, post_peek_reward_sdv"
   ]
  },
  {
   "cell_type": "code",
   "execution_count": 180,
   "id": "2930cca3",
   "metadata": {
    "execution": {
     "iopub.execute_input": "2025-01-18T05:57:55.263076Z",
     "iopub.status.busy": "2025-01-18T05:57:55.262751Z",
     "iopub.status.idle": "2025-01-18T05:57:55.271251Z",
     "shell.execute_reply": "2025-01-18T05:57:55.270619Z",
     "shell.execute_reply.started": "2025-01-18T05:57:55.263063Z"
    }
   },
   "outputs": [],
   "source": [
    "def post_peek_reward_from_initial_reward(\n",
    "    initial_reward: float,\n",
    "    hand: Hand,\n",
    "    action: Action,\n",
    "    rules: Rules,\n",
    ") -> float:\n",
    "  \"\"\"Return the post-peek expected reward, removing dealer bj if OBO.\"\"\"\n",
    "  return post_peek_from_initial_reward_and_sdv(initial_reward, 0.0, hand, action, rules)[0]"
   ]
  },
  {
   "cell_type": "code",
   "execution_count": 181,
   "id": "6da99e2d",
   "metadata": {
    "execution": {
     "iopub.execute_input": "2025-01-18T05:57:55.272228Z",
     "iopub.status.busy": "2025-01-18T05:57:55.272001Z",
     "iopub.status.idle": "2025-01-18T05:57:55.281602Z",
     "shell.execute_reply": "2025-01-18T05:57:55.280794Z",
     "shell.execute_reply.started": "2025-01-18T05:57:55.272210Z"
    }
   },
   "outputs": [],
   "source": [
    "def post_peek_reward_for_action(\n",
    "    state: State,\n",
    "    rules: Rules,\n",
    "    strategy: Strategy,\n",
    "    action: Action,\n",
    ") -> float:\n",
    "  \"\"\"Return the post-peek expected reward, removing dealer bj if OBO.\"\"\"\n",
    "  hand = state[:2]\n",
    "  player_cards, _ = hand\n",
    "  is_initial_hand = len(player_cards) == 2\n",
    "  if is_initial_hand:\n",
    "    initial_reward = reward_for_initial_hand(state, rules, strategy, action)\n",
    "    reward = post_peek_reward_from_initial_reward(initial_reward, hand, action, rules)\n",
    "  else:\n",
    "    reward = reward_for_action(state, rules, strategy, action)\n",
    "  return reward"
   ]
  },
  {
   "cell_type": "code",
   "execution_count": 182,
   "id": "f668e9d8",
   "metadata": {
    "execution": {
     "iopub.execute_input": "2025-01-18T05:57:55.282637Z",
     "iopub.status.busy": "2025-01-18T05:57:55.282446Z",
     "iopub.status.idle": "2025-01-18T05:57:55.295824Z",
     "shell.execute_reply": "2025-01-18T05:57:55.295023Z",
     "shell.execute_reply.started": "2025-01-18T05:57:55.282621Z"
    }
   },
   "outputs": [],
   "source": [
    "def initial_reward_from_post_peek_reward(\n",
    "    post_peek_reward: float,\n",
    "    hand: Hand,\n",
    "    action: Action,\n",
    "    rules: Rules,\n",
    ") -> float:\n",
    "  \"\"\"Return the initial expected reward, adding dealer bj if OBO.\"\"\"\n",
    "  state = hand[0], hand[1], ()\n",
    "  prob_dealer_bj = probability_dealer_bj(state, rules) if rules.obo else 0.0\n",
    "  (card1, card2), _ = hand\n",
    "  assert card1 <= card2\n",
    "  player_bj = (card1, card2) == (1, 10) and action is Action.STAND\n",
    "  player_reward_if_dealer_bj = 0.0 if player_bj else -1.0\n",
    "  initial_reward = (\n",
    "      post_peek_reward * (1.0 - prob_dealer_bj) + player_reward_if_dealer_bj * prob_dealer_bj\n",
    "  )\n",
    "  return initial_reward"
   ]
  },
  {
   "cell_type": "code",
   "execution_count": 183,
   "id": "d6b14cb4",
   "metadata": {
    "execution": {
     "iopub.execute_input": "2025-01-18T05:57:55.296906Z",
     "iopub.status.busy": "2025-01-18T05:57:55.296709Z",
     "iopub.status.idle": "2025-01-18T05:57:55.306525Z",
     "shell.execute_reply": "2025-01-18T05:57:55.305860Z",
     "shell.execute_reply.started": "2025-01-18T05:57:55.296891Z"
    }
   },
   "outputs": [],
   "source": [
    "def analyze_hand(\n",
    "    hand: Hand,\n",
    "    rules: Rules,\n",
    "    *,\n",
    "    actions: Iterable[Action] = (),\n",
    "    prefix: str = '',\n",
    ") -> None:\n",
    "  \"\"\"Compare action reward values for a specific hand.  If OBO, assumes post-peek and dealer does\n",
    "  not have blackjack.\n",
    "\n",
    "  We report: `bs`: basic strategy, `id`: initial-card-dependent strategy,\n",
    "  `cd`: composition-dependent strategy, `wiz`: WizardOfOdds, `bjstrat`: bjstrat.net.\"\"\"\n",
    "  check_hand(hand)\n",
    "  state = hand[0], hand[1], ()\n",
    "  player_cards, _, _ = state\n",
    "  is_initial_hand = len(player_cards) == 2\n",
    "  # Skip SURRENDER if OBO because the reward is always -0.5.\n",
    "  default_actions = tuple(\n",
    "      action for action in Action if not (rules.obo and action is Action.SURRENDER)\n",
    "  )\n",
    "  actions = tuple(actions) or default_actions\n",
    "  n1 = 10_000_000 if multiprocessing_is_available() else 2_000_000\n",
    "  num_hands = [n1 // 2, n1, 100_000_000, 1_000_000_000, 10_000_000_000][EFFORT]\n",
    "  if cuda.is_available():\n",
    "    num_hands *= 10\n",
    "  if not prefix:\n",
    "    print(f'# {hand=}  {EFFORT=}')\n",
    "\n",
    "  if len(actions) > 1:\n",
    "    bs_best_action = get_best_action(state, rules, BASIC_STRATEGY)\n",
    "    id_best_action = get_best_action(state, rules, INITIAL_DEPENDENT_STRATEGY)\n",
    "    cd_best_action = get_best_action(state, rules, COMPOSITION_DEPENDENT_STRATEGY)\n",
    "    s = ' '.join(\n",
    "        f'{name}={best_action_for_hand(hand, rules, hand_calc).name}'\n",
    "        for name, hand_calc in HAND_CALCULATORS.items()\n",
    "    )\n",
    "    print(\n",
    "        f'# Best_actions: bs={bs_best_action.name} id={id_best_action.name}'\n",
    "        f' cd={cd_best_action.name} {s}'\n",
    "    )\n",
    "\n",
    "  for action in actions:\n",
    "    # bs_reward = post_peek_reward_for_action(state, rules, BASIC_STRATEGY, action)\n",
    "    id_reward = post_peek_reward_for_action(state, rules, INITIAL_DEPENDENT_STRATEGY, action)\n",
    "    if id_reward == DISALLOWED:\n",
    "      continue\n",
    "    cd_reward = post_peek_reward_for_action(state, rules, COMPOSITION_DEPENDENT_STRATEGY, action)\n",
    "\n",
    "    if is_initial_hand or action is id_best_action:\n",
    "      sim_strategy = Strategy(\n",
    "          attention=Attention.INITIAL_CARDS_AND_TOTAL, first_actions=frozenset({action})\n",
    "      )\n",
    "      # Ideally, we would compute only the subset of the action_table that corresponds to the set\n",
    "      # of possible hands simulated here.  However, that would make memoization difficult.\n",
    "      sim_reward, sim_reward_sdv = monte_carlo_hand(hand, rules, sim_strategy, num_hands)\n",
    "      sim_reward, sim_reward_sdv = post_peek_from_initial_reward_and_sdv(\n",
    "          sim_reward, sim_reward_sdv, hand, action, rules\n",
    "      )\n",
    "      sim_sdv_of_average = sim_reward_sdv / num_hands**0.5\n",
    "      sim_plus_minus = sim_sdv_of_average * PLUS_MINUS_STANDARD_DEVIATIONS\n",
    "      sim_precision_s = f'{PLUS_MINUS_CHAR}{sim_plus_minus:.6f}'\n",
    "      sim_warning = sim_sdv_of_average * WARNING_STANDARD_DEVIATIONS\n",
    "      sim_is_close = abs(sim_reward - id_reward) <= sim_warning\n",
    "      sim_warning_s = ' ' if sim_is_close else '*'\n",
    "      sim_s = f' sim={sim_reward: .6f}{sim_precision_s}{sim_warning_s}'\n",
    "    else:\n",
    "      sim_s = ''\n",
    "\n",
    "    online_s = ''\n",
    "    for name, hand_calc in HAND_CALCULATORS.items():\n",
    "      reward = hand_calc(hand, action, rules)\n",
    "      if reward is None:\n",
    "        continue\n",
    "      # Because there is no cut-card effect, cd_reward is accurate; however, for a SPLIT action,\n",
    "      # other calculators may be considering a different Attention setting.\n",
    "      cd_threshold = {\n",
    "          'wiz': 1e-6 if EFFORT >= 3 else 1e-4,\n",
    "          'bjstrat': 1e-4 if abs(reward) < 1 else 1e-3,\n",
    "      }[name]\n",
    "      cd_is_close = abs(cd_reward - reward) <= cd_threshold\n",
    "      s_warning = ' ' if cd_is_close else '*'\n",
    "      online_s += f' {name}:{reward: .6f}{s_warning}'\n",
    "\n",
    "    prefix_s = prefix or f' {action.name:<7.7}'\n",
    "    print(f'# {prefix_s} id={id_reward: .6f}{sim_s}  cd={cd_reward: .6f} {online_s}'.rstrip())"
   ]
  },
  {
   "cell_type": "code",
   "execution_count": 184,
   "id": "8d3b236e",
   "metadata": {
    "execution": {
     "iopub.execute_input": "2025-01-18T05:57:55.307576Z",
     "iopub.status.busy": "2025-01-18T05:57:55.307331Z",
     "iopub.status.idle": "2025-01-18T05:57:55.318672Z",
     "shell.execute_reply": "2025-01-18T05:57:55.317927Z",
     "shell.execute_reply.started": "2025-01-18T05:57:55.307559Z"
    },
    "lines_to_next_cell": 2
   },
   "outputs": [],
   "source": [
    "if 0:\n",
    "  # In `analyze_hand()`, it is not that interesting to report a (basic strategy) `bs_reward`\n",
    "  # because it tends to be almost identical to `id_reward`.  Also, it is confusing that the\n",
    "  # action recommended by basic strategy is not the action with highest `bs_reward` because\n",
    "  # `bs_reward` measures the reward using the particular card composition of the hand.\n",
    "  analyze_hand(((5, 10), 10), Rules(num_decks=1))\n",
    "  analyze_hand(((7, 9), 1), Rules(num_decks=1, hit_soft17=False))\n",
    "\n",
    "# hand=((5, 10), 10)  EFFORT=3\n",
    "# Best_actions: bs=HIT id=SURRENDER cd=SURRENDER wiz=SURRENDER bjstrat=SURRENDER\n",
    "#  STAND   bs=-0.538433 id=-0.538433 sim=-0.538440±0.000056   cd=-0.538433  wiz:-0.538433  bjstrat:-0.538400\n",
    "#  HIT     bs=-0.502225 id=-0.501091 sim=-0.501146±0.000056   cd=-0.501091  wiz:-0.501091  bjstrat:-0.501100\n",
    "#  DOUBLE  bs=-1.002183 id=-1.002183 sim=-1.002312±0.000110   cd=-1.002183  wiz:-1.002183  bjstrat:-1.002000\n",
    "#\n",
    "# hand=((7, 9), 1)  EFFORT=3\n",
    "# Best_actions: bs=SURRENDER id=HIT cd=HIT wiz=HIT bjstrat=HIT\n",
    "#  STAND   bs=-0.643247 id=-0.643247 sim=-0.643260±0.000061   cd=-0.643247  wiz:-0.643247  bjstrat:-0.643200\n",
    "#  HIT     bs=-0.495493 id=-0.495493 sim=-0.495524±0.000068   cd=-0.495493  wiz:-0.495493  bjstrat:-0.495500\n",
    "#  DOUBLE  bs=-0.990987 id=-0.990987 sim=-0.991046±0.000128   cd=-0.990987  wiz:-0.990987  bjstrat:-0.991000\n",
    "# [keep line for pylint]"
   ]
  },
  {
   "cell_type": "code",
   "execution_count": 185,
   "id": "dce13dd9",
   "metadata": {
    "execution": {
     "iopub.execute_input": "2025-01-18T05:57:55.319720Z",
     "iopub.status.busy": "2025-01-18T05:57:55.319442Z",
     "iopub.status.idle": "2025-01-18T05:57:55.331453Z",
     "shell.execute_reply": "2025-01-18T05:57:55.330726Z",
     "shell.execute_reply.started": "2025-01-18T05:57:55.319706Z"
    }
   },
   "outputs": [],
   "source": [
    "def look_for_hands_with_differences_in_calculated_optimal_actions(\n",
    "    rules: Rules,\n",
    "    *,\n",
    "    expected_differences: list[Hand] | None = None,\n",
    ") -> None:\n",
    "  \"\"\"Look for differences in optimal actions across hand calculators on all initial hands.\"\"\"\n",
    "  for name, hand_calc in HAND_CALCULATORS.items():\n",
    "    if not hand_calc.is_downloaded(rules):\n",
    "      print(f'(Skipping {name} which is not downloaded.)')\n",
    "\n",
    "  cd_hand_calc = ProbHandCalculator()\n",
    "  differences: list[Hand] = []\n",
    "  for card1, card2 in generate_all_initial_cards():\n",
    "    for dealer1 in range(1, 11):\n",
    "      hand = (card1, card2), dealer1\n",
    "      cd_reward_actions = sorted(\n",
    "          ((cd_hand_calc(hand, action, rules), action) for action in Action),\n",
    "          key=lambda t: (t[0], t[1].value),\n",
    "          reverse=True,\n",
    "      )\n",
    "      cd_best_action = cd_reward_actions[0][1]\n",
    "\n",
    "      all_reward_actions = {}\n",
    "      found_unexpected = False\n",
    "      for name, hand_calc in HAND_CALCULATORS.items():\n",
    "        if not hand_calc.is_downloaded(rules):\n",
    "          continue\n",
    "        all_reward_actions[name] = reward_actions = sorted(\n",
    "            ((hh.assert_not_none(hand_calc(hand, action, rules)), action) for action in Action),\n",
    "            key=lambda t: (t[0], t[1].value),\n",
    "            reverse=True,\n",
    "        )\n",
    "        best_action = reward_actions[0][1]\n",
    "        # (Bjstrat has a reward tie for ((2, 6), 5) on Rules(num_decks=1, hit_soft17=False).)\n",
    "        if not (\n",
    "            best_action is cd_best_action\n",
    "            or (\n",
    "                len(reward_actions) > 1\n",
    "                and reward_actions[1][0] == reward_actions[0][0]\n",
    "                and reward_actions[1][1] is cd_best_action\n",
    "            )\n",
    "        ):\n",
    "          found_unexpected = True\n",
    "\n",
    "      if found_unexpected:\n",
    "        if differences:\n",
    "          print()\n",
    "        print(f'# {hand=}  {EFFORT=}')\n",
    "        text = ' '.join(\n",
    "            f'{action.name}:{reward: .6f}'\n",
    "            for reward, action in cd_reward_actions\n",
    "            if reward != DISALLOWED\n",
    "        )\n",
    "        print(f'#  {\"cd\":7}: {text}'.rstrip())\n",
    "        for name, reward_actions in all_reward_actions.items():\n",
    "          text = ' '.join(\n",
    "              f'{action.name}:{reward: .6f}'\n",
    "              for reward, action in reward_actions\n",
    "              if reward != DISALLOWED\n",
    "          )\n",
    "          print(f'#  {name:7}: {text}'.rstrip())\n",
    "        differences.append(hand)\n",
    "\n",
    "  if expected_differences is not None and differences != expected_differences:\n",
    "    print(f'{differences} != {expected_differences}', file=sys.stderr)"
   ]
  },
  {
   "cell_type": "code",
   "execution_count": 186,
   "id": "ab2ab637",
   "metadata": {
    "execution": {
     "iopub.execute_input": "2025-01-18T05:57:55.332842Z",
     "iopub.status.busy": "2025-01-18T05:57:55.332454Z",
     "iopub.status.idle": "2025-01-18T05:57:55.343003Z",
     "shell.execute_reply": "2025-01-18T05:57:55.342313Z",
     "shell.execute_reply.started": "2025-01-18T05:57:55.332823Z"
    },
    "lines_to_next_cell": 2
   },
   "outputs": [],
   "source": [
    "if 0:\n",
    "  look_for_hands_with_differences_in_calculated_optimal_actions(Rules(num_decks=1))"
   ]
  },
  {
   "cell_type": "markdown",
   "id": "fed45c08",
   "metadata": {},
   "source": [
    "## House edge calculators\n",
    "<a name=\"House-edge-calculators\"></a>"
   ]
  },
  {
   "cell_type": "markdown",
   "id": "2e910f32",
   "metadata": {
    "lines_to_next_cell": 2
   },
   "source": [
    "**References**:\n",
    "- https://wizardofodds.com/games/blackjack/calculator/ &mdash; 9D table for CD strategy;\n",
    "  1D offsets for basic strategy and use of cut-card; nice.\n",
    "- https://members.blackjackapprenticeship.com/wp-content/BJA_apps/BJACALC/ &mdash; less precise.\n",
    "- https://blackjackdoc.com/edge-calculator.htm &mdash; results closely match BJA.\n",
    "- [https://www.beatingbonuses.com/houseedge.htm](https://www.beatingbonuses.com/bjstrategy.php?decks2=1&h17=stand&doubleon2=any2cards&das2=on&peek2=on&surrender2=late&charlie2=no&resplits2=4&bj=3to2&opt2=1&btn2=Generate+Strategy)\n",
    "  &mdash; same house edge % as WizardOfOdds including `hit_split_aces=True`.\n",
    "- https://www.blackjackinfo.com/blackjack-basic-strategy-engine/\n",
    "  &mdash; basic strategy table and shows house edge %.\n",
    "- https://thepogg.com/guides/blackjack/\n",
    "  &mdash; sum of 1D tables; identical to the \"Basic Calc\" of\n",
    "  [beatingbonuses.com](https://www.beatingbonuses.com/houseedge.htm).\n",
    "- https://www.blackjackgala.com/blackjack-calculator.html\n",
    "  &mdash; successive branched sums; overly simple.\n",
    "- https://easymoneyblackjack.com/blackjack-house-edge-calculator/\n",
    "  &mdash; successive branched sums; overly simple."
   ]
  },
  {
   "cell_type": "code",
   "execution_count": 187,
   "id": "bdedb10b",
   "metadata": {
    "execution": {
     "iopub.execute_input": "2025-01-18T05:57:55.344109Z",
     "iopub.status.busy": "2025-01-18T05:57:55.343830Z",
     "iopub.status.idle": "2025-01-18T05:57:55.352319Z",
     "shell.execute_reply": "2025-01-18T05:57:55.351669Z",
     "shell.execute_reply.started": "2025-01-18T05:57:55.344095Z"
    }
   },
   "outputs": [],
   "source": [
    "class HouseEdgeCalculator:\n",
    "  \"\"\"Provider of expected house edge for specified rules and player strategy.\"\"\"\n",
    "\n",
    "  def __init__(self, name: str) -> None:\n",
    "    self.name = name\n",
    "\n",
    "  def __call__(self, rules: Rules, strategy: Strategy) -> float | None:\n",
    "    \"\"\"Return the house edge, or None if unknown.\"\"\"\n",
    "\n",
    "  def is_available(self) -> bool:\n",
    "    \"\"\"Return True if the house edge calculator is available.\"\"\"\n",
    "    return True\n",
    "\n",
    "  def test(self) -> None:\n",
    "    \"\"\"Run self-tests.\"\"\""
   ]
  },
  {
   "cell_type": "code",
   "execution_count": 188,
   "id": "215c4b41",
   "metadata": {
    "execution": {
     "iopub.execute_input": "2025-01-18T05:57:55.353641Z",
     "iopub.status.busy": "2025-01-18T05:57:55.353228Z",
     "iopub.status.idle": "2025-01-18T05:57:55.366512Z",
     "shell.execute_reply": "2025-01-18T05:57:55.365796Z",
     "shell.execute_reply.started": "2025-01-18T05:57:55.353619Z"
    }
   },
   "outputs": [],
   "source": [
    "class WizardHouseEdgeCalculator(HouseEdgeCalculator):\n",
    "  \"\"\"Results of https://wizardofodds.com/games/blackjack/calculator/.\n",
    "  \"Last updated: April 16, 2015.  Written by: Michael Shackleford.\"\n",
    "\n",
    "  The *WizardOfOdds* results do not specify the cut-card placement.\n",
    "  - For 1 deck, the values most closely align with our `cut_card=24` results (i.e., two cards\n",
    "    closer to the front of the shoe than the halfway point).\n",
    "  - For 2 decks, the values also align with our `cut_card=24` results; however, this seems too\n",
    "    close to the shoe front.\n",
    "  \"\"\"\n",
    "\n",
    "  def __init__(self) -> None:\n",
    "    super().__init__('wiz')\n",
    "    # Table (9-dim) of house edge percent for composition-dependent strategy\n",
    "    # with continuous shuffler and assuming blackjack payout of 1.5.\n",
    "    self.table = self._read_table()\n",
    "    self.axes: list[tuple[str, tuple[Any, Any]]] = [\n",
    "        # ('rules_field_name', (value_high_edge, value_low_edge))\n",
    "        ('num_decks', (8, 1)),\n",
    "        ('hit_soft17', (True, False)),\n",
    "        ('double_after_split', (False, True)),\n",
    "        ('double_min_total', (10, 0)),\n",
    "        ('split_to_num_hands', (2, 4)),\n",
    "        ('resplit_aces', (False, True)),\n",
    "        ('hit_split_aces', (False, True)),\n",
    "        ('obo', (False, True)),\n",
    "        ('late_surrender', (False, True)),\n",
    "        ('blackjack_payout', (6 / 5, 1.5)),\n",
    "    ]\n",
    "    self.percent_offset_if_blackjack_payout65 = {\n",
    "        1: 1.394773,\n",
    "        2: 1.373499,\n",
    "        4: 1.363115,\n",
    "        5: 1.361057,\n",
    "        6: 1.359690,\n",
    "        8: 1.357984,\n",
    "    }  # [num_decks].\n",
    "    # Offset for basic strategy and use of cut_card (at unspecified position).\n",
    "    self.percent_offset_if_bs_and_cut_card = {\n",
    "        1: 0.1517,\n",
    "        2: 0.0770,\n",
    "        4: 0.0395,\n",
    "        5: 0.0320,\n",
    "        6: 0.0231,\n",
    "        8: 0.0159,\n",
    "    }\n",
    "    # Offset to basic strategy edge if not using a cut-card.\n",
    "    self.percent_offset_if_continuous_shuffler = {\n",
    "        1: -0.113,\n",
    "        2: -0.063,\n",
    "        4: -0.034,\n",
    "        5: -0.028,\n",
    "        6: -0.020,\n",
    "        8: -0.014,\n",
    "    }\n",
    "\n",
    "  @staticmethod\n",
    "  def _read_table() -> _NDArray:\n",
    "    \"\"\"Return the table of house edges.\"\"\"\n",
    "    path = pathlib.Path('data/Blackjack House Edge - Wizard of Odds.html')\n",
    "    if path.is_file():\n",
    "      text = path.read_text(encoding='utf-8')\n",
    "    else:\n",
    "      try:\n",
    "        url = 'https://wizardofodds.com/games/blackjack/calculator/'\n",
    "        with urllib.request.urlopen(\n",
    "            urllib.request.Request(url, headers={'User-Agent': 'Chrome'})\n",
    "        ) as response:\n",
    "          text = response.read().decode('utf-8')\n",
    "      except urllib.error.URLError:\n",
    "        table = np.full((), math.inf)\n",
    "        return table\n",
    "\n",
    "    table = np.full((6, 2, 2, 3, 3, 2, 2, 2, 2), math.inf)\n",
    "    regex = re.compile(r'^edgeTable' + r'\\[(\\d)\\]' * 9 + r'=([-\\d.eE]+);$')\n",
    "    for line in text.splitlines():\n",
    "      if match := regex.match(line):\n",
    "        table[tuple(map(int, match.groups()[:9]))] = match.groups()[-1]\n",
    "    assert np.all(table != math.inf)\n",
    "    return table\n",
    "\n",
    "  def __call__(self, rules: Rules, strategy: Strategy) -> float | None:\n",
    "    \"\"\"Return the house edge, or None if unknown from tables.\"\"\"\n",
    "    unsupported = (\n",
    "        strategy not in (BASIC_STRATEGY, COMPOSITION_DEPENDENT_STRATEGY)\n",
    "        or (strategy == COMPOSITION_DEPENDENT_STRATEGY and rules.cut_card != 0)\n",
    "        or rules.double_split_aces\n",
    "        or self.table.ndim == 0\n",
    "    )\n",
    "    if unsupported:\n",
    "      return None\n",
    "\n",
    "    try:\n",
    "      num_decks = int(rules.num_decks)  # (OverflowError if it equals math.inf)\n",
    "      edge_percent: float = self.table[\n",
    "          {1: 0, 2: 1, 4: 2, 5: 3, 6: 4, 8: 5}[num_decks],\n",
    "          int(rules.hit_soft17),\n",
    "          int(rules.double_after_split),\n",
    "          {0: 0, 9: 1, 10: 2}[rules.double_min_total],\n",
    "          {2.0: 0, 3.0: 1, 4.0: 2}[rules.split_to_num_hands],\n",
    "          int(rules.resplit_aces),\n",
    "          int(rules.hit_split_aces),\n",
    "          int(rules.obo),\n",
    "          int(rules.late_surrender),\n",
    "      ]\n",
    "      edge_percent += {1.5: 0.0, 6 / 5: self.percent_offset_if_blackjack_payout65[num_decks]}[\n",
    "          rules.blackjack_payout\n",
    "      ]\n",
    "    except (OverflowError, KeyError):\n",
    "      return None\n",
    "\n",
    "    if strategy.attention is Attention.TOTAL_OF_CARDS:\n",
    "      edge_percent += self.percent_offset_if_bs_and_cut_card[num_decks]\n",
    "      if rules.cut_card == 0:\n",
    "        edge_percent += self.percent_offset_if_continuous_shuffler[num_decks]\n",
    "\n",
    "    return edge_percent / 100\n",
    "\n",
    "  def is_available(self) -> bool:\n",
    "    \"\"\"Return True if the house edge calculator is available.\"\"\"\n",
    "    return self(Rules(late_surrender=False), Strategy()) is not None\n",
    "\n",
    "  def test(self) -> None:\n",
    "    \"\"\"Run self-tests.\"\"\"\n",
    "    cd_strategy = COMPOSITION_DEPENDENT_STRATEGY\n",
    "    assert self(Rules(), Strategy()) is not None\n",
    "    assert self(Rules(num_decks=6), Strategy()) is not None\n",
    "    assert self(Rules(num_decks=6, cut_card=0), Strategy()) is not None\n",
    "    assert self(Rules(num_decks=6, cut_card=0), cd_strategy) is not None\n",
    "    assert self(Rules(num_decks=6), cd_strategy) is None\n",
    "    assert self(Rules(num_decks=7), Strategy()) is None\n",
    "    assert self(Rules(split_to_num_hands=math.inf), Strategy()) is None\n",
    "    assert self(Rules(blackjack_payout=1), Strategy()) is None\n",
    "\n",
    "    # Validate that the expected rules are extrema in the table.\n",
    "    table_axes = [axis for axis in self.axes if axis[0] != 'blackjack_payout']\n",
    "    rules_max = Rules(**{name: h for name, (h, l) in table_axes}, cut_card=0)\n",
    "    rules_min = Rules(**{name: l for name, (h, l) in table_axes}, cut_card=0)\n",
    "    check_eq(hh.assert_not_none(self(rules_max, cd_strategy)) * 100, self.table.max())\n",
    "    check_eq(hh.assert_not_none(self(rules_min, cd_strategy)) * 100, self.table.min())\n",
    "\n",
    "    # Check a few data points.\n",
    "    rules = Rules(num_decks=6, hit_soft17=False, resplit_aces=True)\n",
    "    rules_with_shuffler = dataclasses.replace(rules, cut_card=0)\n",
    "    check_eq(self(rules_with_shuffler, cd_strategy), 0.26197 / 100)\n",
    "    check_eq(self(rules, Strategy()), 0.28507 / 100)\n",
    "    check_eq(self(rules_with_shuffler, Strategy()), 0.26507 / 100)"
   ]
  },
  {
   "cell_type": "code",
   "execution_count": 189,
   "id": "2480e038",
   "metadata": {
    "execution": {
     "iopub.execute_input": "2025-01-18T05:57:55.367611Z",
     "iopub.status.busy": "2025-01-18T05:57:55.367300Z",
     "iopub.status.idle": "2025-01-18T05:57:55.389329Z",
     "shell.execute_reply": "2025-01-18T05:57:55.388605Z",
     "shell.execute_reply.started": "2025-01-18T05:57:55.367597Z"
    }
   },
   "outputs": [],
   "source": [
    "wizard_edge_calc = WizardHouseEdgeCalculator()"
   ]
  },
  {
   "cell_type": "code",
   "execution_count": 190,
   "id": "7fb53885",
   "metadata": {
    "execution": {
     "iopub.execute_input": "2025-01-18T05:57:55.390556Z",
     "iopub.status.busy": "2025-01-18T05:57:55.390207Z",
     "iopub.status.idle": "2025-01-18T05:57:55.395891Z",
     "shell.execute_reply": "2025-01-18T05:57:55.395167Z",
     "shell.execute_reply.started": "2025-01-18T05:57:55.390538Z"
    }
   },
   "outputs": [],
   "source": [
    "class HouseEdgeFromHandCalculator(HouseEdgeCalculator):\n",
    "  \"\"\"Compute house edge by evaluating a hand calculator over all possible initial cards.\"\"\"\n",
    "\n",
    "  def __init__(self, hand_calc: HandCalculator, name: str) -> None:\n",
    "    super().__init__(name)\n",
    "    self.hand_calc = hand_calc\n",
    "\n",
    "  def __call__(self, rules: Rules, strategy: Strategy) -> float | None:\n",
    "    \"\"\"Return the house edge, or None if unknown.\"\"\"\n",
    "    if rules.cut_card != 0 or strategy != COMPOSITION_DEPENDENT_STRATEGY:\n",
    "      return None\n",
    "    rules = normalize_rules_for_probabilistic_analysis(rules)\n",
    "    if not self.hand_calc.read_downloaded(rules):  # Only operate if data is downloaded.\n",
    "      return None\n",
    "\n",
    "    def get_initial_reward(hand: Hand, action: Action) -> float:\n",
    "      \"\"\"Return the initial reward given the hand-calculator post-peek reward.\"\"\"\n",
    "      post_peek_reward = hh.assert_not_none(self.hand_calc(hand, action, rules))\n",
    "      return initial_reward_from_post_peek_reward(post_peek_reward, hand, action, rules)\n",
    "\n",
    "    # Compute the expected reward over all possible 3 dealt cards.\n",
    "    sum_reward = 0.0\n",
    "    for dealer1, prob0 in UNIFORM_CARD_PROB.items():\n",
    "      recent_cards0 = make_recent((dealer1,), rules)\n",
    "      for card1, prob1 in card_probabilities(recent_cards0, rules, None).items():\n",
    "        recent_cards1 = add_recent(recent_cards0, card1)\n",
    "        for card2, prob2 in card_probabilities(recent_cards1, rules, None).items():\n",
    "          prob = prob0 * prob1 * prob2\n",
    "          hand = order_cards(card1, card2), dealer1\n",
    "          hand_reward = max(get_initial_reward(hand, action) for action in Action)\n",
    "          sum_reward += prob * hand_reward\n",
    "\n",
    "    return -sum_reward  # The house edge is the negative of the expected reward."
   ]
  },
  {
   "cell_type": "code",
   "execution_count": 191,
   "id": "32eb8dc4",
   "metadata": {
    "execution": {
     "iopub.execute_input": "2025-01-18T05:57:55.397099Z",
     "iopub.status.busy": "2025-01-18T05:57:55.396760Z",
     "iopub.status.idle": "2025-01-18T05:57:55.407438Z",
     "shell.execute_reply": "2025-01-18T05:57:55.406701Z",
     "shell.execute_reply.started": "2025-01-18T05:57:55.397084Z"
    }
   },
   "outputs": [],
   "source": [
    "class BjstratHouseEdgeCalculator(HouseEdgeFromHandCalculator):\n",
    "  \"\"\"Use the BjstratHandCalculator to compute house edge.\"\"\"\n",
    "\n",
    "  def __init__(self) -> None:\n",
    "    super().__init__(HAND_CALCULATORS['bjstrat'], 'bjstrat')\n",
    "\n",
    "  def test(self) -> None:\n",
    "    \"\"\"Run self-tests.\"\"\"\n",
    "    # Required data may not yet have been downloaded."
   ]
  },
  {
   "cell_type": "code",
   "execution_count": 192,
   "id": "75af8d69",
   "metadata": {
    "execution": {
     "iopub.execute_input": "2025-01-18T05:57:55.408835Z",
     "iopub.status.busy": "2025-01-18T05:57:55.408412Z",
     "iopub.status.idle": "2025-01-18T05:57:55.417923Z",
     "shell.execute_reply": "2025-01-18T05:57:55.417227Z",
     "shell.execute_reply.started": "2025-01-18T05:57:55.408813Z"
    }
   },
   "outputs": [],
   "source": [
    "class BjaHouseEdgeCalculator(HouseEdgeCalculator):\n",
    "  \"\"\"House edge from https://www.blackjackapprenticeship.com/blackjack-calculator/.\n",
    "  The resulting values suggest that they are for continuous reshuffling (cut_card == 0) and are\n",
    "  computed using a probabilistic analysis.\"\"\"\n",
    "\n",
    "  def __init__(self) -> None:\n",
    "    super().__init__('bja')\n",
    "    self._cached_call = functools.cache(self._uncached_call)\n",
    "\n",
    "  def _uncached_call(self, rules: Rules, strategy: Strategy) -> float | None:\n",
    "    \"\"\"Return the house edge (or None if unknown).\"\"\"\n",
    "    unsupported = (\n",
    "        rules.num_decks not in (1, 2, 4, 6, 8)\n",
    "        or rules.blackjack_payout != 1.5\n",
    "        or rules.double_min_total not in (0, 9, 10)\n",
    "        or rules.split_to_num_hands not in (2, 3, 4)\n",
    "        or rules.hit_split_aces\n",
    "        or rules.double_split_aces\n",
    "        or rules.cut_card != 0\n",
    "        or strategy != BASIC_STRATEGY\n",
    "    )\n",
    "    if unsupported:\n",
    "      return None\n",
    "\n",
    "    if rules.split_to_num_hands == 2 and rules.resplit_aces:\n",
    "      return None  # Response would contain \"HE\":\"\".\n",
    "\n",
    "    double = {0: 'DA2', 9: 'D9-11', 10: 'D10-11'}[rules.double_min_total]\n",
    "    url = (\n",
    "        'https://members.blackjackapprenticeship.com/wp-content/BJA_apps/BJACALC/app/api.php'\n",
    "        f'?decks={rules.num_decks}'\n",
    "        f'&SH17={\"H17\" if rules.hit_soft17 else \"S17\"}'\n",
    "        f'&DAS={\"Yes\" if rules.double_after_split else \"No\"}'\n",
    "        f'&DBL={double}&S_P={rules.split_to_num_hands}'\n",
    "        f'&S_A={\"Yes\" if rules.resplit_aces else \"No\"}'\n",
    "        f'&OB={\"Yes\" if rules.obo else \"No\"}'\n",
    "        f'&SUR={\"Yes\" if rules.late_surrender else \"No\"}'\n",
    "    )\n",
    "    try:\n",
    "      with urllib.request.urlopen(\n",
    "          urllib.request.Request(url, headers={'User-Agent': 'Chrome'})\n",
    "      ) as response:\n",
    "        text = response.read().decode('utf-8')  # {\"decks\":\"6\",\"HE\":\"0.529\"}\n",
    "    except urllib.error.URLError:\n",
    "      return None\n",
    "\n",
    "    match = re.search(r'\"HE\":\"([-\\d.eE]+)\"', text)\n",
    "    if not match:\n",
    "      raise RuntimeError(f'Cannot parse {text} from {url}')\n",
    "    edge_percent = float(match[1])\n",
    "    return edge_percent / 100\n",
    "\n",
    "  def __call__(self, rules: Rules, strategy: Strategy) -> float | None:\n",
    "    \"\"\"Return the house edge (or None if unknown).\"\"\"\n",
    "    return self._cached_call(rules, strategy)\n",
    "\n",
    "  def is_available(self) -> bool:\n",
    "    \"\"\"Return True if the house edge calculator is available.\"\"\"\n",
    "    return self(Rules(cut_card=0), Strategy()) is not None\n",
    "\n",
    "  def test(self) -> None:\n",
    "    \"\"\"Run self-tests.\"\"\"\n",
    "    check_eq(self(Rules(cut_card=0), Strategy()), 0.529 / 100)"
   ]
  },
  {
   "cell_type": "code",
   "execution_count": 193,
   "id": "9218f520",
   "metadata": {
    "execution": {
     "iopub.execute_input": "2025-01-18T05:57:55.418819Z",
     "iopub.status.busy": "2025-01-18T05:57:55.418644Z",
     "iopub.status.idle": "2025-01-18T05:57:55.429643Z",
     "shell.execute_reply": "2025-01-18T05:57:55.428949Z",
     "shell.execute_reply.started": "2025-01-18T05:57:55.418803Z"
    }
   },
   "outputs": [],
   "source": [
    "class WikipediaHouseEdgeCalculator(HouseEdgeCalculator):\n",
    "  \"\"\"House edge (None if unknown) from those listed in https://en.wikipedia.org/wiki/Blackjack/.\"\"\"\n",
    "\n",
    "  def __init__(self) -> None:\n",
    "    super().__init__('wiki')\n",
    "\n",
    "  def __call__(self, rules: Rules, strategy: Strategy) -> float | None:\n",
    "    \"\"\"Return the house edge, or None if unknown.\"\"\"\n",
    "    known_rules = [\n",
    "        Rules(num_decks=num_decks, late_surrender=False) for num_decks in (1, 2, 4, 6, 8)\n",
    "    ]\n",
    "    if rules not in known_rules or strategy != Strategy():\n",
    "      return None\n",
    "    num_decks = int(rules.num_decks)\n",
    "    return {1: 0.17, 2: 0.46, 4: 0.60, 6: 0.64, 8: 0.66}[num_decks] / 100\n",
    "\n",
    "  def test(self) -> None:\n",
    "    \"\"\"Run self-tests.\"\"\"\n",
    "    check_eq(self(Rules(late_surrender=False), Strategy()), 0.64 / 100)"
   ]
  },
  {
   "cell_type": "code",
   "execution_count": 194,
   "id": "a6327b90",
   "metadata": {
    "execution": {
     "iopub.execute_input": "2025-01-18T05:57:55.431065Z",
     "iopub.status.busy": "2025-01-18T05:57:55.430855Z",
     "iopub.status.idle": "2025-01-18T05:57:55.562049Z",
     "shell.execute_reply": "2025-01-18T05:57:55.561386Z",
     "shell.execute_reply.started": "2025-01-18T05:57:55.431047Z"
    }
   },
   "outputs": [
    {
     "name": "stdout",
     "output_type": "stream",
     "text": [
      "['wiz', 'bjstrat', 'bja', 'wiki']\n"
     ]
    }
   ],
   "source": [
    "EDGE_CALCULATORS = {\n",
    "    edge_calc.name: edge_calc\n",
    "    for edge_calc in [\n",
    "        wizard_edge_calc,\n",
    "        BjstratHouseEdgeCalculator(),\n",
    "        BjaHouseEdgeCalculator(),\n",
    "        WikipediaHouseEdgeCalculator(),\n",
    "    ]\n",
    "    if edge_calc.is_available()\n",
    "}\n",
    "print(list(EDGE_CALCULATORS))"
   ]
  },
  {
   "cell_type": "code",
   "execution_count": 195,
   "id": "cc362cf7",
   "metadata": {
    "execution": {
     "iopub.execute_input": "2025-01-18T05:57:55.563508Z",
     "iopub.status.busy": "2025-01-18T05:57:55.563101Z",
     "iopub.status.idle": "2025-01-18T05:57:55.567038Z",
     "shell.execute_reply": "2025-01-18T05:57:55.566327Z",
     "shell.execute_reply.started": "2025-01-18T05:57:55.563485Z"
    },
    "lines_to_next_cell": 2
   },
   "outputs": [],
   "source": [
    "for _edge_calc in EDGE_CALCULATORS.values():\n",
    "  _edge_calc.test()"
   ]
  },
  {
   "cell_type": "markdown",
   "id": "cbf79ec9",
   "metadata": {
    "lines_to_next_cell": 2
   },
   "source": [
    "### Our house edge calculator\n",
    "<a name=\"Our-house-edge-calculator\"></a>"
   ]
  },
  {
   "cell_type": "code",
   "execution_count": 196,
   "id": "fab9b22a",
   "metadata": {
    "execution": {
     "iopub.execute_input": "2025-01-18T05:57:55.568186Z",
     "iopub.status.busy": "2025-01-18T05:57:55.567853Z",
     "iopub.status.idle": "2025-01-18T05:57:55.576947Z",
     "shell.execute_reply": "2025-01-18T05:57:55.576213Z",
     "shell.execute_reply.started": "2025-01-18T05:57:55.568170Z"
    }
   },
   "outputs": [],
   "source": [
    "def configuration_text(rules: Rules, strategy: Strategy, verbose: bool = False) -> str:\n",
    "  \"\"\"Return a multiline summary of rules and strategy.\"\"\"\n",
    "  text = (f'# {rules!r} {strategy}' if verbose else f'# {rules} {strategy}') + f' {EFFORT=}:'\n",
    "  return '\\n'.join(textwrap.wrap(text, 100, subsequent_indent='#   '))"
   ]
  },
  {
   "cell_type": "code",
   "execution_count": 197,
   "id": "2c8e109e",
   "metadata": {
    "execution": {
     "iopub.execute_input": "2025-01-18T05:57:55.578060Z",
     "iopub.status.busy": "2025-01-18T05:57:55.577794Z",
     "iopub.status.idle": "2025-01-18T05:57:55.587105Z",
     "shell.execute_reply": "2025-01-18T05:57:55.586470Z",
     "shell.execute_reply.started": "2025-01-18T05:57:55.578045Z"
    }
   },
   "outputs": [],
   "source": [
    "def report_edge(\n",
    "    rules: Rules,\n",
    "    strategy: Strategy = Strategy(),\n",
    "    *,\n",
    "    prefix: str | None = None,\n",
    ") -> None:\n",
    "  \"\"\"Print comparison of different computed house edges.\n",
    "\n",
    "  We report: `prob`: probabilistic analysis, `sim`: Monte Carlo simulation, `wiz`: WizardOfOdds,\n",
    "  `bjstrat`: bjstrat.net, `bja`: blackjackapprenticeship.com, `wiki`: wikipedia.org.\"\"\"\n",
    "  if prefix is None:\n",
    "    print(configuration_text(rules, strategy))\n",
    "    prefix = '#  house edge: '\n",
    "\n",
    "  prob_is_accurate = rules.cut_card == 0  # Otherwise we fail to account for cut-card effect.\n",
    "  start_time = time.monotonic()\n",
    "  prob_house_edge = probabilistic_house_edge(rules, strategy)\n",
    "  prob_elapsed = time.monotonic() - start_time\n",
    "  prob_accuracy_s = ':' if prob_is_accurate else '~'\n",
    "  prob_s = f'prob{prob_accuracy_s}{prob_house_edge*100:6.3f}% ({prob_elapsed:.0f}s)'\n",
    "  prob_tolerance = 0.001 / 100 if prob_is_accurate else math.inf\n",
    "\n",
    "  sim_is_accurate = strategy.attention in (\n",
    "      Attention.TOTAL_OF_CARDS,\n",
    "      Attention.INITIAL_CARDS_AND_TOTAL,\n",
    "  )\n",
    "  start_time = time.monotonic()\n",
    "  strategy2 = (\n",
    "      strategy\n",
    "      if sim_is_accurate\n",
    "      else dataclasses.replace(strategy, attention=Attention.INITIAL_CARDS_AND_TOTAL)\n",
    "  )\n",
    "  sim_house_edge, played_hands, sim_house_edge_sdv = monte_carlo_house_edge(\n",
    "      rules, strategy2, get_num_hands()\n",
    "  )\n",
    "  sim_elapsed = time.monotonic() - start_time\n",
    "  sdv_of_average = sim_house_edge_sdv / played_hands**0.5\n",
    "  sim_plus_minus = sdv_of_average * PLUS_MINUS_STANDARD_DEVIATIONS\n",
    "  sim_precision_s = f'{PLUS_MINUS_CHAR}{sim_plus_minus*100:.3f}%'\n",
    "  sim_accuracy_s = ':' if sim_is_accurate else '~'\n",
    "  sim_s = f'sim{sim_accuracy_s}{sim_house_edge*100:6.3f}% {sim_precision_s}({sim_elapsed:.0f}s)'\n",
    "  sim_tolerance = sdv_of_average * WARNING_STANDARD_DEVIATIONS if sim_is_accurate else math.inf\n",
    "\n",
    "  ref_s = ''\n",
    "  for name, edge_calc in EDGE_CALCULATORS.items():\n",
    "    house_edge = edge_calc(rules, strategy)\n",
    "    if house_edge is None:\n",
    "      continue\n",
    "    is_close = (\n",
    "        abs(house_edge - prob_house_edge) <= prob_tolerance\n",
    "        and abs(house_edge - sim_house_edge) <= sim_tolerance\n",
    "    )\n",
    "    warning_s = ' ' if is_close else '*' if name in ('wiz', 'bjstrat') else '+'\n",
    "    ref_s += f' {name}:{house_edge*100:6.3f}%{warning_s}'\n",
    "\n",
    "  print(f'{prefix}{prob_s:<19} {sim_s:<26}{ref_s}'.rstrip())"
   ]
  },
  {
   "cell_type": "code",
   "execution_count": 198,
   "id": "a2bb7d69",
   "metadata": {
    "execution": {
     "iopub.execute_input": "2025-01-18T05:57:55.588103Z",
     "iopub.status.busy": "2025-01-18T05:57:55.587803Z",
     "iopub.status.idle": "2025-01-18T05:57:55.601454Z",
     "shell.execute_reply": "2025-01-18T05:57:55.600744Z",
     "shell.execute_reply.started": "2025-01-18T05:57:55.588088Z"
    }
   },
   "outputs": [],
   "source": [
    "def analyze_number_of_decks(rules: Rules, strategy: Strategy = Strategy()) -> None:\n",
    "  \"\"\"Tabulate the house edge as a function of the number of decks.\"\"\"\n",
    "  print(f'# {rules} {EFFORT=}')\n",
    "  for num_decks in [1, 2, 4, 6, 8, 20, math.inf] if EFFORT > 0 else [1, 6]:\n",
    "    cut_card = 0 if rules.cut_card == 0 else default_cut_card(num_decks)\n",
    "    modified_rules = dataclasses.replace(rules, num_decks=num_decks, cut_card=cut_card)\n",
    "    report_edge(modified_rules, strategy, prefix=f'# ndecks={num_decks:<3} ')"
   ]
  },
  {
   "cell_type": "code",
   "execution_count": 199,
   "id": "285ba103",
   "metadata": {
    "execution": {
     "iopub.execute_input": "2025-01-18T05:57:55.602696Z",
     "iopub.status.busy": "2025-01-18T05:57:55.602334Z",
     "iopub.status.idle": "2025-01-18T05:57:55.611486Z",
     "shell.execute_reply": "2025-01-18T05:57:55.610781Z",
     "shell.execute_reply.started": "2025-01-18T05:57:55.602678Z"
    }
   },
   "outputs": [],
   "source": [
    "def explore_rule_variations(rules: Rules, strategy: Strategy = Strategy()) -> None:\n",
    "  \"\"\"Given base rules, report house edge change as each parameter is varied from the base rules.\"\"\"\n",
    "  if 0:\n",
    "    print(configuration_text(rules, strategy, verbose=True))\n",
    "  report_edge(rules, strategy, prefix=f'{\"# original\":26}: ')\n",
    "\n",
    "  for name, (high, low) in wizard_edge_calc.axes:\n",
    "    current_value: Any = getattr(rules, name)\n",
    "    if name == 'num_decks':\n",
    "      continue\n",
    "    for new_value in [high, low]:\n",
    "      if new_value == current_value:\n",
    "        continue\n",
    "      text = f'# {name}={new_value}'\n",
    "      variation = {name: new_value}\n",
    "      if variation == {'obo': False}:\n",
    "        variation.update(late_surrender=False)\n",
    "        text += ', ls=False'\n",
    "      if name == 'num_decks' and rules.cut_card != 0:\n",
    "        variation.update(cut_card=default_cut_card(new_value))\n",
    "      new_rules = dataclasses.replace(rules, **variation)\n",
    "      report_edge(new_rules, strategy, prefix=f'{text:26.26}: ')"
   ]
  },
  {
   "cell_type": "code",
   "execution_count": 200,
   "id": "79c558af",
   "metadata": {
    "execution": {
     "iopub.execute_input": "2025-01-18T05:57:55.613084Z",
     "iopub.status.busy": "2025-01-18T05:57:55.612568Z",
     "iopub.status.idle": "2025-01-18T05:57:55.620852Z",
     "shell.execute_reply": "2025-01-18T05:57:55.620184Z",
     "shell.execute_reply.started": "2025-01-18T05:57:55.613063Z"
    }
   },
   "outputs": [],
   "source": [
    "if 0:  # Quick check on accuracy of probabilistic analysis and simulation.\n",
    "  with temporary_effort(1):\n",
    "    report_edge(Rules())\n",
    "    # report_edge(Rules(num_decks=math.inf))\n",
    "\n",
    "# Rules() Strategy() EFFORT=1:\n",
    "#  house edge: prob: 0.545% (0s)   sim: 0.538% ±0.072%(0s)    wiz: 0.551%\n",
    "# Rules() Strategy() EFFORT=2:\n",
    "#  house edge: prob~ 0.530% (6s)   sim: 0.561% ±0.007%(8s)    wiz: 0.551%\n",
    "# Rules() Strategy() EFFORT=3:\n",
    "#  house edge: prob~ 0.530% (53s)  sim: 0.556% ±0.002%(73s)   wiz: 0.551%*"
   ]
  },
  {
   "cell_type": "code",
   "execution_count": 201,
   "id": "51482b2a",
   "metadata": {
    "execution": {
     "iopub.execute_input": "2025-01-18T05:57:55.632685Z",
     "iopub.status.busy": "2025-01-18T05:57:55.632263Z",
     "iopub.status.idle": "2025-01-18T05:57:55.635947Z",
     "shell.execute_reply": "2025-01-18T05:57:55.635338Z",
     "shell.execute_reply.started": "2025-01-18T05:57:55.632664Z"
    }
   },
   "outputs": [],
   "source": [
    "if 0:\n",
    "  check_eq(\n",
    "      EDGE_CALCULATORS['bjstrat'](Rules(num_decks=8, cut_card=0), COMPOSITION_DEPENDENT_STRATEGY)\n",
    "      * 100,\n",
    "      0.5530080610784475,\n",
    "  )"
   ]
  },
  {
   "cell_type": "markdown",
   "id": "8c1c8627",
   "metadata": {},
   "source": [
    "# Results"
   ]
  },
  {
   "cell_type": "markdown",
   "id": "d2fd35f3",
   "metadata": {},
   "source": [
    "## Tables for basic strategy\n",
    "<a name=\"Tables-for-basic-strategy\"></a>\n",
    "\n",
    "In blackjack, **basic strategy** refers to using some optimal-action tables based on\n",
    "the dealer's upcard,\n",
    "the total of the player cards, and whether the player total is hard or soft.\n",
    "The basic strategy does not consider the particular card values that contribute\n",
    "to the player total."
   ]
  },
  {
   "cell_type": "markdown",
   "id": "b75e1f76",
   "metadata": {},
   "source": [
    "**References**:\n",
    "- https://en.wikipedia.org/wiki/Blackjack#Basic_strategy\n",
    "- https://wizardofodds.com/games/blackjack/strategy/calculator/\n",
    "- https://www.vegas-aces.com/charts/blackjack-strategy-guides/\n",
    "- https://www.blackjackinfo.com/blackjack-basic-strategy-engine\n",
    "- https://www.beatingbonuses.com/bjstrategy.php\n",
    "- https://blackjackdoc.com/blackjack-basic-strategy.htm\n",
    "- https://www.blackjackreview.com/wp/encyclopedia/single-deck/\n",
    "- https://blog.mbitcasino.com/tips-to-win-multi-hand-blackjack/"
   ]
  },
  {
   "cell_type": "markdown",
   "id": "68a49a15",
   "metadata": {},
   "source": [
    "### 4 or more decks"
   ]
  },
  {
   "cell_type": "markdown",
   "id": "c05d2098",
   "metadata": {},
   "source": [
    "- Dealer hits on soft 17\n",
    "\n",
    "When the dealer has a soft total of 17,\n",
    "the usual rule is to HIT (rather than STAND) &mdash; this is unfavorable to the player.\n",
    "\n",
    "The basic strategy varies with the number of decks in the shoe,\n",
    "because the probability of drawing 10s or Aces changes slightly after the 3 dealt cards.\n",
    "\n",
    "Here we use the default of 6 decks:"
   ]
  },
  {
   "cell_type": "code",
   "execution_count": 202,
   "id": "1b5c2c2b",
   "metadata": {
    "execution": {
     "iopub.execute_input": "2025-01-18T05:57:55.636750Z",
     "iopub.status.busy": "2025-01-18T05:57:55.636596Z",
     "iopub.status.idle": "2025-01-18T05:57:56.813941Z",
     "shell.execute_reply": "2025-01-18T05:57:56.813238Z",
     "shell.execute_reply.started": "2025-01-18T05:57:55.636737Z"
    }
   },
   "outputs": [
    {
     "name": "stdout",
     "output_type": "stream",
     "text": [
      "Rules(cut_card=234)\n",
      "Legend: (S)stand, (H)hit, (D)double, (P)split, (U)surrender; (Xy) means do X if allowed else Y.\n"
     ]
    },
    {
     "data": {
      "image/png": "[encoded data removed]",
      "text/plain": [
       "<Figure size 864x576 with 3 Axes>"
      ]
     },
     "metadata": {
      "needs_background": "light"
     },
     "output_type": "display_data"
    }
   ],
   "source": [
    "show_basic_strategy_tables(Rules())\n",
    "verify_action_tables(Rules(), expected=EXPECTED_BASIC_STRATEGY_ACTION_6DECKS_H17)"
   ]
  },
  {
   "cell_type": "markdown",
   "id": "8322c173",
   "metadata": {},
   "source": [
    "The optimal actions exactly match those in the *basic strategy* tables shown in\n",
    "[Wikipedia](https://en.wikipedia.org/wiki/Blackjack#Basic_strategy),\n",
    "[WizardOfOdds](https://wizardofodds.com/games/blackjack/strategy/calculator/),\n",
    "[VegasAces](https://www.vegas-aces.com/charts/blackjack-strategy-guides/), and\n",
    "[BlackjackInfo](https://www.blackjackinfo.com/blackjack-basic-strategy-engine/?numdecks=6&soft17=h17&dbl=all&das=yes&surr=ls&peek=yes)."
   ]
  },
  {
   "cell_type": "markdown",
   "id": "38cd8abb",
   "metadata": {},
   "source": [
    "- Dealer stands on soft 17\n",
    "\n",
    "We now consider the case where the dealer must **STAND on a soft 17** (which is favorable to\n",
    "the player), still with the default of 6 decks."
   ]
  },
  {
   "cell_type": "code",
   "execution_count": 203,
   "id": "5d848505",
   "metadata": {
    "execution": {
     "iopub.execute_input": "2025-01-18T05:57:56.815088Z",
     "iopub.status.busy": "2025-01-18T05:57:56.814819Z",
     "iopub.status.idle": "2025-01-18T05:57:58.232599Z",
     "shell.execute_reply": "2025-01-18T05:57:58.231929Z",
     "shell.execute_reply.started": "2025-01-18T05:57:56.815068Z"
    },
    "lines_to_next_cell": 2
   },
   "outputs": [
    {
     "name": "stdout",
     "output_type": "stream",
     "text": [
      "Rules(hit_soft17=False, cut_card=234)\n",
      "Legend: (S)stand, (H)hit, (D)double, (P)split, (U)surrender; (Xy) means do X if allowed else Y.\n"
     ]
    },
    {
     "data": {
      "image/png": "[encoded data removed]",
      "text/plain": [
       "<Figure size 864x576 with 3 Axes>"
      ]
     },
     "metadata": {
      "needs_background": "light"
     },
     "output_type": "display_data"
    }
   ],
   "source": [
    "show_basic_strategy_tables(Rules(hit_soft17=False))\n",
    "verify_action_tables(Rules(hit_soft17=False), expected=EXPECTED_BASIC_STRATEGY_ACTION_6DECKS_S17)"
   ]
  },
  {
   "cell_type": "markdown",
   "id": "b5b9a4cd",
   "metadata": {
    "lines_to_next_cell": 2
   },
   "source": [
    "The optimal actions exactly match those shown in\n",
    "[WizardOfOdds](https://wizardofodds.com/games/blackjack/strategy/calculator/),\n",
    "[VegasAces](https://www.vegas-aces.com/charts/blackjack-strategy-guides/), and\n",
    "[BlackjackInfo](https://www.blackjackinfo.com/blackjack-basic-strategy-engine/?numdecks=6&soft17=s17&dbl=all&das=yes&surr=ls&peek=yes).\n",
    "\n",
    "Compared to the \"hit soft 17\" case, the optimal actions for \"stand soft 17\" change in\n",
    "exactly *6 cells*, in agreement with the\n",
    "[Wikipedia](https://en.wikipedia.org/wiki/Blackjack#Basic_strategy)\n",
    "description: \"only 6 cells are changed: hit on 11 vs. A, hit on 15 vs. A, stand on 17 vs. A,\n",
    "stand on A,7 vs. 2, stand on A,8 vs. 6, and split on 8,8 vs. A\"."
   ]
  },
  {
   "cell_type": "code",
   "execution_count": 204,
   "id": "0cfd596c",
   "metadata": {
    "execution": {
     "iopub.execute_input": "2025-01-18T05:57:58.233821Z",
     "iopub.status.busy": "2025-01-18T05:57:58.233372Z",
     "iopub.status.idle": "2025-01-18T05:57:58.237337Z",
     "shell.execute_reply": "2025-01-18T05:57:58.236729Z",
     "shell.execute_reply.started": "2025-01-18T05:57:58.233807Z"
    }
   },
   "outputs": [],
   "source": [
    "def table_difference_locations(\n",
    "    tables1: Mapping[str, _NDArray],\n",
    "    tables2: Mapping[str, _NDArray],\n",
    ") -> dict[str, list[tuple[int, int]]]:\n",
    "  \"\"\"Identify the locations of any differing entries in table sets.\"\"\"\n",
    "  differences = {}\n",
    "  for (name1, table1), (name2, table2) in zip(tables1.items(), tables2.items(), strict=True):\n",
    "    check_eq(name1, name2)\n",
    "    differences[name1] = np.argwhere(table1 != table2).tolist()\n",
    "  return differences"
   ]
  },
  {
   "cell_type": "code",
   "execution_count": 205,
   "id": "9b63197b",
   "metadata": {
    "execution": {
     "iopub.execute_input": "2025-01-18T05:57:58.238285Z",
     "iopub.status.busy": "2025-01-18T05:57:58.238004Z",
     "iopub.status.idle": "2025-01-18T05:57:58.247746Z",
     "shell.execute_reply": "2025-01-18T05:57:58.247009Z",
     "shell.execute_reply.started": "2025-01-18T05:57:58.238272Z"
    }
   },
   "outputs": [],
   "source": [
    "check_eq(\n",
    "    table_difference_locations(\n",
    "        basic_strategy_tables(Rules()), basic_strategy_tables(Rules(hit_soft17=False))\n",
    "    ),\n",
    "    {'hard': [[6, 9], [10, 9], [12, 9]], 'soft': [[5, 0], [6, 4]], 'pair': [[6, 9]]},\n",
    ")"
   ]
  },
  {
   "cell_type": "markdown",
   "id": "97973c95",
   "metadata": {},
   "source": [
    "- The same actions computed above for 6 decks are also optimal for 4 decks and 8 decks,\n",
    "as documented in Wikipedia:"
   ]
  },
  {
   "cell_type": "code",
   "execution_count": 206,
   "id": "35c1b779",
   "metadata": {
    "execution": {
     "iopub.execute_input": "2025-01-18T05:57:58.248817Z",
     "iopub.status.busy": "2025-01-18T05:57:58.248627Z",
     "iopub.status.idle": "2025-01-18T05:57:58.257227Z",
     "shell.execute_reply": "2025-01-18T05:57:58.256562Z",
     "shell.execute_reply.started": "2025-01-18T05:57:58.248800Z"
    }
   },
   "outputs": [],
   "source": [
    "if EFFORT >= 2:\n",
    "  verify_action_tables(Rules(num_decks=4), expected=EXPECTED_BASIC_STRATEGY_ACTION_6DECKS_H17)\n",
    "  verify_action_tables(Rules(num_decks=8), expected=EXPECTED_BASIC_STRATEGY_ACTION_6DECKS_H17)"
   ]
  },
  {
   "cell_type": "markdown",
   "id": "e588f312",
   "metadata": {},
   "source": [
    "- Interestingly, when moving to an infinite shoe, a single cell changes:\n",
    "'soft 13 vs 5' changes from DOUBLE-OR-HIT `Dh` to HIT `H`.\n",
    "(We are not aware of online house edge calculators that analyze the \"infinite-shoe\" case.)"
   ]
  },
  {
   "cell_type": "code",
   "execution_count": 207,
   "id": "09f0602e",
   "metadata": {
    "execution": {
     "iopub.execute_input": "2025-01-18T05:57:58.258356Z",
     "iopub.status.busy": "2025-01-18T05:57:58.258010Z",
     "iopub.status.idle": "2025-01-18T05:57:58.554341Z",
     "shell.execute_reply": "2025-01-18T05:57:58.553646Z",
     "shell.execute_reply.started": "2025-01-18T05:57:58.258342Z"
    }
   },
   "outputs": [],
   "source": [
    "if 0:\n",
    "  show_basic_strategy_tables(Rules(num_decks=math.inf))\n",
    "\n",
    "\n",
    "def verify_strategy_table_for_infinite_decks() -> None:\n",
    "  \"\"\"Check that the infinite-deck action table has a single differing entry.\"\"\"\n",
    "  tables_6 = basic_strategy_tables(Rules(num_decks=6))\n",
    "  tables_inf = basic_strategy_tables(Rules(num_decks=math.inf))\n",
    "  check_eq(\n",
    "      table_difference_locations(tables_6, tables_inf), {'hard': [], 'soft': [[0, 3]], 'pair': []}\n",
    "  )\n",
    "  check_eq(tables_6['soft'][0, 3], 'Dh')\n",
    "  check_eq(tables_inf['soft'][0, 3], 'H')\n",
    "\n",
    "\n",
    "verify_strategy_table_for_infinite_decks()"
   ]
  },
  {
   "cell_type": "markdown",
   "id": "efc69f76",
   "metadata": {},
   "source": [
    "### Single deck"
   ]
  },
  {
   "cell_type": "markdown",
   "id": "351fd799",
   "metadata": {},
   "source": [
    "If using a single deck, many optimal actions change compared to the 6-deck setting.\n",
    "\n",
    "- For the case **Dealer hits on soft 17**, 18 (5 + 4 + 9) table cells differ:"
   ]
  },
  {
   "cell_type": "code",
   "execution_count": 208,
   "id": "9b0f47dd",
   "metadata": {
    "execution": {
     "iopub.execute_input": "2025-01-18T05:57:58.555560Z",
     "iopub.status.busy": "2025-01-18T05:57:58.555383Z",
     "iopub.status.idle": "2025-01-18T05:57:58.558704Z",
     "shell.execute_reply": "2025-01-18T05:57:58.558026Z",
     "shell.execute_reply.started": "2025-01-18T05:57:58.555545Z"
    }
   },
   "outputs": [],
   "source": [
    "if EFFORT >= 2:\n",
    "  show_basic_strategy_tables(Rules(num_decks=1))\n",
    "  verify_action_tables(Rules(num_decks=1), expected=EXPECTED_BASIC_STRATEGY_ACTION_1DECK_H17)"
   ]
  },
  {
   "cell_type": "markdown",
   "id": "62ad4b46",
   "metadata": {},
   "source": [
    "The results are identical to those reported in\n",
    "[WizardOfOdds](https://wizardofodds.com/games/blackjack/strategy/calculator/)\n",
    "\\(also [here](https://wizardofodds.com/games/blackjack/strategy/1-deck/)),\n",
    "as well as\n",
    "[BlackjackInfo](https://www.blackjackinfo.com/blackjack-basic-strategy-engine/?numdecks=1&soft17=h17&dbl=all&das=yes&surr=ls&peek=yes),\n",
    "[BlackjackDoc](https://blackjackdoc.com/blackjack-basic-strategy.htm),\n",
    "and [BlackjackReview](https://www.blackjackreview.com/wp/encyclopedia/single-deck/).\n",
    "\n",
    "The table in\n",
    "[mBitCasino](https://blog.mbitcasino.com/tips-to-win-multi-hand-blackjack/)\n",
    "has a few obvious typos (some `Dh` should be `Ds`) and otherwise differs in only one cell:\n",
    "- For 9-9 vs A, we have `SPLIT` (`P`) and they have `STAND` (`S`).\n",
    "\n",
    "Let us take a closer look at this particular hand:"
   ]
  },
  {
   "cell_type": "code",
   "execution_count": 209,
   "id": "247564f2",
   "metadata": {
    "execution": {
     "iopub.execute_input": "2025-01-18T05:57:58.559592Z",
     "iopub.status.busy": "2025-01-18T05:57:58.559449Z",
     "iopub.status.idle": "2025-01-18T05:58:00.297962Z",
     "shell.execute_reply": "2025-01-18T05:58:00.297282Z",
     "shell.execute_reply.started": "2025-01-18T05:57:58.559579Z"
    }
   },
   "outputs": [
    {
     "name": "stdout",
     "output_type": "stream",
     "text": [
      "# hand=((9, 9), 1)  EFFORT=1\n",
      "# Best_actions: bs=STAND id=STAND cd=STAND wiz=STAND bjstrat=SPLIT\n",
      "#  STAND   id=-0.186581 sim=-0.186161±0.000239*  cd=-0.186581  wiz:-0.186130* bjstrat:-0.186100*\n",
      "#  HIT     id=-0.636956 sim=-0.636969±0.000189   cd=-0.636956  wiz:-0.637010  bjstrat:-0.637000\n",
      "#  DOUBLE  id=-1.273913 sim=-1.273862±0.000367   cd=-1.273913  wiz:-1.274020* bjstrat:-1.274000\n",
      "#  SPLIT   id=-0.231366 sim=-0.184387±0.000391*  cd=-0.231366  wiz:-0.189759* bjstrat:-0.183900*\n"
     ]
    }
   ],
   "source": [
    "analyze_hand(((9, 9), 1), Rules(num_decks=1))\n",
    "\n",
    "# hand=((9, 9), 1)  EFFORT=3\n",
    "# Best_actions: bs=SPLIT id=SPLIT cd=SPLIT wiz=STAND bjstrat=SPLIT\n",
    "#  STAND   id=-0.186130 sim=-0.186104±0.000076   cd=-0.186130  wiz:-0.186130  bjstrat:-0.186100\n",
    "#  HIT     id=-0.637010 sim=-0.636997±0.000060   cd=-0.637010  wiz:-0.637010  bjstrat:-0.637000\n",
    "#  DOUBLE  id=-1.274020 sim=-1.273988±0.000116   cd=-1.274020  wiz:-1.274020  bjstrat:-1.274000\n",
    "#  SPLIT   id=-0.183912 sim=-0.183876±0.000124   cd=-0.183912  wiz:-0.189759* bjstrat:-0.183900\n",
    "\n",
    "# We find SPLIT to be optimal when using basic strategy.  The rewards computed using the\n",
    "# initial-dependent probabilistic analysis (id) and Monte Carlo simulation (sim) are close to each\n",
    "# other and also to Bjstrat's hand calculator &mdash; all showing SPLIT as optimal (by a small\n",
    "# margin).\n",
    "\n",
    "# We exactly match the Bjstrat SPLIT result.\n",
    "\n",
    "# The Wizard strategy table has SPLIT as the optimal basic-strategy action, whereas its hand\n",
    "# calculator has STAND as the optimal composition-dependent action, mostly because the computed\n",
    "# SPLIT reward differs significantly."
   ]
  },
  {
   "cell_type": "code",
   "execution_count": 210,
   "id": "e5bceb01",
   "metadata": {
    "execution": {
     "iopub.execute_input": "2025-01-18T05:58:00.299122Z",
     "iopub.status.busy": "2025-01-18T05:58:00.298790Z",
     "iopub.status.idle": "2025-01-18T05:58:00.302333Z",
     "shell.execute_reply": "2025-01-18T05:58:00.301716Z",
     "shell.execute_reply.started": "2025-01-18T05:58:00.299108Z"
    }
   },
   "outputs": [],
   "source": [
    "if 0:\n",
    "  with temporary_effort(3):\n",
    "    analyze_hand(((9, 9), 1), Rules(num_decks=1), actions=[Action.SPLIT])\n",
    "# hand=((9, 9), 1)  EFFORT=4\n",
    "#  SPLIT   id=-0.183940 sim=-0.183914±0.000039   cd=-0.183940  wiz:-0.189759* bjstrat:-0.183900"
   ]
  },
  {
   "cell_type": "code",
   "execution_count": 211,
   "id": "f8fc0cc0",
   "metadata": {
    "execution": {
     "iopub.execute_input": "2025-01-18T05:58:00.303336Z",
     "iopub.status.busy": "2025-01-18T05:58:00.303060Z",
     "iopub.status.idle": "2025-01-18T05:58:00.315078Z",
     "shell.execute_reply": "2025-01-18T05:58:00.314394Z",
     "shell.execute_reply.started": "2025-01-18T05:58:00.303322Z"
    }
   },
   "outputs": [],
   "source": [
    "# Verify the 18 table cell differences with respect to the 6-deck strategy.\n",
    "if EFFORT >= 2:\n",
    "  check_eq(\n",
    "      table_difference_locations(\n",
    "          basic_strategy_tables(Rules(num_decks=6)), basic_strategy_tables(Rules(num_decks=1))\n",
    "      ),\n",
    "      {\n",
    "          'hard': [[3, 3], [3, 4], [4, 0], [10, 8], [11, 7]],\n",
    "          'soft': [[0, 2], [1, 2], [4, 0], [5, 0]],\n",
    "          'pair': [[1, 6], [2, 2], [4, 1], [4, 5], [5, 6], [5, 8], [5, 9], [6, 9], [7, 9]],\n",
    "      },\n",
    "  )"
   ]
  },
  {
   "cell_type": "markdown",
   "id": "a991b3c1",
   "metadata": {},
   "source": [
    "- For the case **dealer stands on soft 17**:"
   ]
  },
  {
   "cell_type": "code",
   "execution_count": 212,
   "id": "691f317b",
   "metadata": {
    "execution": {
     "iopub.execute_input": "2025-01-18T05:58:00.316221Z",
     "iopub.status.busy": "2025-01-18T05:58:00.315854Z",
     "iopub.status.idle": "2025-01-18T05:58:00.324898Z",
     "shell.execute_reply": "2025-01-18T05:58:00.324186Z",
     "shell.execute_reply.started": "2025-01-18T05:58:00.316203Z"
    }
   },
   "outputs": [],
   "source": [
    "if EFFORT >= 2:\n",
    "  show_basic_strategy_tables(Rules(num_decks=1, hit_soft17=False))\n",
    "  verify_action_tables(\n",
    "      Rules(num_decks=1, hit_soft17=False), expected=EXPECTED_BASIC_STRATEGY_ACTION_1DECK_S17\n",
    "  )"
   ]
  },
  {
   "cell_type": "markdown",
   "id": "90dc282f",
   "metadata": {
    "execution": {
     "iopub.execute_input": "2022-05-18T21:55:37.818853Z",
     "iopub.status.busy": "2022-05-18T21:55:37.818620Z",
     "iopub.status.idle": "2022-05-18T21:55:37.822110Z",
     "shell.execute_reply": "2022-05-18T21:55:37.821612Z",
     "shell.execute_reply.started": "2022-05-18T21:55:37.818838Z"
    }
   },
   "source": [
    "These results are identical to those reported in\n",
    "[WizardOfOdds](https://wizardofodds.com/games/blackjack/strategy/calculator/)\n",
    "\\(also [here](https://wizardofodds.com/games/blackjack/strategy/1-deck/)),\n",
    "[BlackjackInfo](https://www.blackjackinfo.com/blackjack-basic-strategy-engine/?numdecks=1&soft17=s17&dbl=all&das=yes&surr=ls&peek=yes), and\n",
    "[BlackjackReview](https://www.blackjackreview.com/wp/encyclopedia/single-deck/).\n",
    "\n",
    "Compared to\n",
    "[BeatingBonuses](https://www.beatingbonuses.com/bjstrategy.php?decks2=1&h17=stand&doubleon2=any2cards&das2=on&peek2=on&surrender2=late&charlie2=no&resplits2=4&bj=3to2&opt2=1&btn2=Generate+Strategy),\n",
    "there is just one differences:\n",
    "- For hard 16 vs 10, we have `Uh` and they have `Us`.\n",
    "\n",
    "The table in\n",
    "[mBitCasino](https://blog.mbitcasino.com/tips-to-win-multi-hand-blackjack/)\n",
    "has a few obvious typos (some `Dh` should be `Ds`) and otherwise differs in only one cell:\n",
    "- For 7-7 vs 10, we have `Us` and they have `Uh`."
   ]
  },
  {
   "cell_type": "code",
   "execution_count": 213,
   "id": "e51e44df",
   "metadata": {
    "execution": {
     "iopub.execute_input": "2025-01-18T05:58:00.325941Z",
     "iopub.status.busy": "2025-01-18T05:58:00.325659Z",
     "iopub.status.idle": "2025-01-18T05:58:01.899367Z",
     "shell.execute_reply": "2025-01-18T05:58:01.898738Z",
     "shell.execute_reply.started": "2025-01-18T05:58:00.325927Z"
    }
   },
   "outputs": [
    {
     "name": "stdout",
     "output_type": "stream",
     "text": [
      "# hand=((6, 10), 10)  EFFORT=1\n",
      "# Best_actions: bs=SURRENDER id=SURRENDER cd=SURRENDER wiz=SURRENDER bjstrat=SURRENDER\n",
      "#  STAND   id=-0.543055 sim=-0.542992±0.000177   cd=-0.543055  wiz:-0.542952* bjstrat:-0.543000\n",
      "#  HIT     id=-0.507014 sim=-0.506971±0.000175   cd=-0.507014  wiz:-0.506929  bjstrat:-0.506900*\n",
      "#  DOUBLE  id=-1.014028 sim=-1.013930±0.000344   cd=-1.014028  wiz:-1.013858* bjstrat:-1.014000\n"
     ]
    }
   ],
   "source": [
    "if EFFORT >= 1:\n",
    "  analyze_hand(((6, 10), 10), Rules(num_decks=1, hit_soft17=False))\n",
    "# As a fallback action (if SURRENDER is unavailable),  BeatingBonuses suggests STAND, which seems\n",
    "# incorrect because HIT has a much higher reward than STAND according to all calculators.\n",
    "\n",
    "# hand=((6, 10), 10)  EFFORT=3\n",
    "# Best_actions: bs=SURRENDER id=SURRENDER cd=SURRENDER wiz=SURRENDER bjstrat=SURRENDER\n",
    "#  STAND   id=-0.542952 sim=-0.542952±0.000056   cd=-0.542952  wiz:-0.542952  bjstrat:-0.543000\n",
    "#  HIT     id=-0.506929 sim=-0.506970±0.000055   cd=-0.506929  wiz:-0.506929  bjstrat:-0.506900\n",
    "#  DOUBLE  id=-1.013858 sim=-1.013959±0.000109   cd=-1.013858  wiz:-1.013858  bjstrat:-1.014000"
   ]
  },
  {
   "cell_type": "code",
   "execution_count": 214,
   "id": "a4ca7f2b",
   "metadata": {
    "execution": {
     "iopub.execute_input": "2025-01-18T05:58:01.900434Z",
     "iopub.status.busy": "2025-01-18T05:58:01.900143Z",
     "iopub.status.idle": "2025-01-18T05:58:02.950280Z",
     "shell.execute_reply": "2025-01-18T05:58:02.949667Z",
     "shell.execute_reply.started": "2025-01-18T05:58:01.900418Z"
    }
   },
   "outputs": [
    {
     "name": "stdout",
     "output_type": "stream",
     "text": [
      "# hand=((7, 7), 10)  EFFORT=1\n",
      "# Best_actions: bs=SURRENDER id=SURRENDER cd=SURRENDER wiz=SURRENDER bjstrat=SURRENDER\n",
      "#  STAND   id=-0.509842 sim=-0.509745±0.000182   cd=-0.509842  wiz:-0.509739* bjstrat:-0.509700*\n",
      "#  HIT     id=-0.515010 sim=-0.514903±0.000173   cd=-0.515010  wiz:-0.514818* bjstrat:-0.514800*\n",
      "#  DOUBLE  id=-1.035276 sim=-1.034833±0.000342   cd=-1.035276  wiz:-1.034724* bjstrat:-1.035000\n",
      "#  SPLIT   id=-0.626518 sim=-0.623577±0.000336*  cd=-0.626518  wiz:-0.620390* bjstrat:-0.619800*\n"
     ]
    }
   ],
   "source": [
    "if EFFORT >= 1:\n",
    "  analyze_hand(((7, 7), 10), Rules(num_decks=1, hit_soft17=False))\n",
    "# As a fallback action (if SURRENDER is unavailable),  mBitCasino suggests HIT, which seems\n",
    "# incorrect because STAND has a higher reward than HIT according to all calculators.\n",
    "\n",
    "# hand=((7, 7), 10)  EFFORT=3\n",
    "# Best_actions: bs=SURRENDER id=SURRENDER cd=SURRENDER wiz=SURRENDER bjstrat=SURRENDER\n",
    "#  STAND   id=-0.509739 sim=-0.509714±0.000058   cd=-0.509739  wiz:-0.509739  bjstrat:-0.509700\n",
    "#  HIT     id=-0.514818 sim=-0.514789±0.000055   cd=-0.514818  wiz:-0.514818  bjstrat:-0.514800\n",
    "#  DOUBLE  id=-1.034724 sim=-1.034703±0.000108   cd=-1.034724  wiz:-1.034724  bjstrat:-1.035000\n",
    "#  SPLIT   id=-0.622662 sim=-0.622647±0.000107   cd=-0.619716  wiz:-0.620390* bjstrat:-0.619800"
   ]
  },
  {
   "cell_type": "markdown",
   "id": "baf35b83",
   "metadata": {
    "execution": {
     "iopub.execute_input": "2022-04-06T05:21:03.064559Z",
     "iopub.status.busy": "2022-04-06T05:21:03.064323Z",
     "iopub.status.idle": "2022-04-06T05:21:03.066955Z",
     "shell.execute_reply": "2022-04-06T05:21:03.066533Z",
     "shell.execute_reply.started": "2022-04-06T05:21:03.064539Z"
    },
    "lines_to_next_cell": 2
   },
   "source": [
    "### No dealer peek for bj\n",
    "\n",
    "(I.e. `obo=False` &mdash; the player loss is not limited to \"original bet only\".)\n",
    "\n",
    "From [WizardOfOdds](https://wizardofodds.com/play/blackjack/),\n",
    "\"the only time you should put more money out on the table against a\n",
    "potential dealer blackjack is to split two aces against a dealer 10.\"\n",
    "\n",
    "This\n",
    "[calculator](https://wizardofodds.com/games/blackjack/strategy/calculator/)\n",
    "shows that one should often surrender when the dealer upcard is 1 (ace)\n",
    "unless surrender is constrained to be \"Surrender against 2 to 10\".\n",
    "This\n",
    "[site](https://www.blackjackclassroom.com/blackjack-games/european-blackjack)\n",
    "explains that for European Blackjack (where `obo=False`),\n",
    "\"Players cannot usually surrender if the dealer's face card is an Ace\".\n",
    "\n",
    "Our implementation assumes a \"late surrender\" whereby a dealer bj still wins\n",
    "over a player surrender.  This could be incorrect for European blackjack if the\n",
    "dealer hole card is never dealt after the player surrenders;\n",
    "the situation is unclear."
   ]
  },
  {
   "cell_type": "code",
   "execution_count": 215,
   "id": "986be5dc",
   "metadata": {
    "execution": {
     "iopub.execute_input": "2025-01-18T05:58:02.951366Z",
     "iopub.status.busy": "2025-01-18T05:58:02.951062Z",
     "iopub.status.idle": "2025-01-18T05:58:02.955448Z",
     "shell.execute_reply": "2025-01-18T05:58:02.954794Z",
     "shell.execute_reply.started": "2025-01-18T05:58:02.951352Z"
    },
    "lines_to_next_cell": 2
   },
   "outputs": [],
   "source": [
    "def show_and_check_obo_false() -> None:\n",
    "  \"\"\"Show strategy when player loses added bets (SPLIT/DOUBLE) to dealer bj.\"\"\"\n",
    "  rules = Rules(num_decks=6, obo=False)\n",
    "  show_basic_strategy_tables(rules)\n",
    "  for name, table in basic_strategy_tables(rules).items():\n",
    "    code = np.array2string(table[:, -2:]).lower()\n",
    "    # Verify that there is no DOUBLE action against dealer1 1 or 10.\n",
    "    assert 'd' not in code\n",
    "    # There is only one SPLIT action (two aces against dealer 10):\n",
    "    check_eq(code.count('p'), {'hard': 0, 'soft': 0, 'pair': 1}[name])\n",
    "\n",
    "\n",
    "if EFFORT >= 2:\n",
    "  show_and_check_obo_false()"
   ]
  },
  {
   "cell_type": "markdown",
   "id": "32d19463",
   "metadata": {
    "lines_to_next_cell": 2
   },
   "source": [
    "## Composition-dependent strategy\n",
    "\n",
    "When determining the best action, it is slightly beneficial to consider\n",
    "the individual card values `(card1, card2)` rather than just `(player_total, player_soft)`\n",
    "as in basic strategy, particularly when the number of decks is small.\n",
    "\n",
    "From Wikipedia: \"For example, players should ordinarily STAND when holding 12 against a dealer 4.\n",
    "But in a single deck game, players should HIT if their 12 consists of a 10 and a 2.\""
   ]
  },
  {
   "cell_type": "code",
   "execution_count": 216,
   "id": "919303d2",
   "metadata": {
    "execution": {
     "iopub.execute_input": "2025-01-18T05:58:02.956388Z",
     "iopub.status.busy": "2025-01-18T05:58:02.956222Z",
     "iopub.status.idle": "2025-01-18T05:58:04.219770Z",
     "shell.execute_reply": "2025-01-18T05:58:04.219107Z",
     "shell.execute_reply.started": "2025-01-18T05:58:02.956372Z"
    }
   },
   "outputs": [
    {
     "name": "stdout",
     "output_type": "stream",
     "text": [
      "# For num_decks=6:\n",
      "#   card1  card2  dealer_up  basic_strategy  composition_dependent\n",
      "#     7      8       10        SURRENDER            HIT\n",
      "\n",
      "# For num_decks=4:\n",
      "#   card1  card2  dealer_up  basic_strategy  composition_dependent\n",
      "#     7      8       10        SURRENDER            HIT\n",
      "\n",
      "# For num_decks=2:\n",
      "#   card1  card2  dealer_up  basic_strategy  composition_dependent\n",
      "#     2     10        4          STAND              HIT\n",
      "#     4      8        3           HIT              STAND\n",
      "#     5      7        3           HIT              STAND\n",
      "#     7      8        1        SURRENDER            HIT\n",
      "#     7      8       10        SURRENDER            HIT\n"
     ]
    }
   ],
   "source": [
    "def analyze_differences_using_composition_dependent_strategy(\n",
    "    rules: Rules,\n",
    "    verbose: bool = True,\n",
    ") -> None:\n",
    "  \"\"\"Find any hands where a composition-dependent strategy has optimal actions that differ from\n",
    "  those in the basic strategy, for various numbers of decks.\"\"\"\n",
    "  for index, num_decks in enumerate([6, 4, 2, 1]):\n",
    "    if EFFORT <= 1 and num_decks == 1:\n",
    "      continue\n",
    "    modified_rules = dataclasses.replace(\n",
    "        rules, num_decks=num_decks, cut_card=default_cut_card(num_decks)\n",
    "    )\n",
    "    if verbose:\n",
    "      if index:\n",
    "        print()\n",
    "      print(f'# For {num_decks=}:')\n",
    "      print('#   card1  card2  dealer_up  basic_strategy  composition_dependent')\n",
    "    differences = []\n",
    "\n",
    "    for card1, card2 in generate_all_initial_cards():\n",
    "      for dealer1 in range(1, 11):\n",
    "        hand = (card1, card2), dealer1\n",
    "        state = hand[0], hand[1], ()\n",
    "        bs_action = get_best_action(state, modified_rules, BASIC_STRATEGY)\n",
    "        cd_action = get_best_action(state, modified_rules, COMPOSITION_DEPENDENT_STRATEGY)\n",
    "        if bs_action is cd_action:\n",
    "          continue\n",
    "        if verbose:\n",
    "          print(\n",
    "              f'#    {card1:2} {card2:6} {dealer1:8}'\n",
    "              f'        {bs_action.name:^9}         {cd_action.name:^9}'.rstrip()\n",
    "          )\n",
    "        differences.append((hand, bs_action, cd_action))\n",
    "\n",
    "    if EFFORT >= 1:\n",
    "      expected = EXPECTED_COMPOSITION_DEPENDENT_DIFFERENCES[num_decks]\n",
    "      if differences != expected:\n",
    "        print(f'{differences} != {expected}', file=sys.stderr)\n",
    "\n",
    "\n",
    "analyze_differences_using_composition_dependent_strategy(Rules())\n",
    "# For num_decks=6:\n",
    "#   card1  card2  dealer_up  basic_strategy  composition_dependent\n",
    "#     7      8       10        SURRENDER            HIT\n",
    "\n",
    "# For num_decks=4:\n",
    "#   card1  card2  dealer_up  basic_strategy  composition_dependent\n",
    "#     7      8       10        SURRENDER            HIT\n",
    "\n",
    "# For num_decks=2:\n",
    "#   card1  card2  dealer_up  basic_strategy  composition_dependent\n",
    "#     2     10        4          STAND              HIT\n",
    "#     4      8        3           HIT              STAND\n",
    "#     5      7        3           HIT              STAND\n",
    "#     7      8        1        SURRENDER            HIT\n",
    "#     7      8       10        SURRENDER            HIT\n",
    "\n",
    "# For num_decks=1:\n",
    "#   card1  card2  dealer_up  basic_strategy  composition_dependent\n",
    "#     2      6        6         DOUBLE              HIT\n",
    "#     2     10        4          STAND              HIT\n",
    "#     4      8        3           HIT              STAND\n",
    "#     5      7        3           HIT              STAND\n",
    "#     5     10       10           HIT            SURRENDER\n",
    "#     6      9       10           HIT            SURRENDER\n",
    "#     7      8        1        SURRENDER            HIT\n",
    "#     8      9        1        SURRENDER           STAND"
   ]
  },
  {
   "cell_type": "markdown",
   "id": "cf893277",
   "metadata": {},
   "source": [
    "- We take a closer look at three of these hands:\n",
    "\n",
    "Here, `bs` is basic strategy, `id` is initial-card-dependent strategy,\n",
    "`cd` is composition-dependent strategy, `wiz` is WizardOfOdds, and `bjstrat` is bjstrat.net."
   ]
  },
  {
   "cell_type": "code",
   "execution_count": 217,
   "id": "78919760",
   "metadata": {
    "execution": {
     "iopub.execute_input": "2025-01-18T05:58:04.220948Z",
     "iopub.status.busy": "2025-01-18T05:58:04.220621Z",
     "iopub.status.idle": "2025-01-18T05:58:04.224146Z",
     "shell.execute_reply": "2025-01-18T05:58:04.223556Z",
     "shell.execute_reply.started": "2025-01-18T05:58:04.220935Z"
    }
   },
   "outputs": [],
   "source": [
    "if EFFORT >= 2:\n",
    "  analyze_hand(((7, 8), 10), Rules(num_decks=6))\n",
    "# For this hand, the basic strategy (total-dependent) optimal action is SURRENDER, whereas the\n",
    "# initial-dependent and composition-dependent strategies show the optimal action to be HIT.\n",
    "\n",
    "# hand=((7, 8), 10)  EFFORT=3\n",
    "# Best_actions: bs=SURRENDER id=HIT cd=HIT wiz=HIT bjstrat=HIT\n",
    "#  STAND   id=-0.536220 sim=-0.536267±0.000056   cd=-0.536220  wiz:-0.536220  bjstrat:-0.536200\n",
    "#  HIT     id=-0.499763 sim=-0.499757±0.000055   cd=-0.499763  wiz:-0.499763  bjstrat:-0.499800\n",
    "#  DOUBLE  id=-0.999525 sim=-0.999494±0.000109   cd=-0.999525  wiz:-0.999525  bjstrat:-0.999500"
   ]
  },
  {
   "cell_type": "code",
   "execution_count": 218,
   "id": "24b14237",
   "metadata": {
    "execution": {
     "iopub.execute_input": "2025-01-18T05:58:04.224968Z",
     "iopub.status.busy": "2025-01-18T05:58:04.224834Z",
     "iopub.status.idle": "2025-01-18T05:58:04.234386Z",
     "shell.execute_reply": "2025-01-18T05:58:04.233676Z",
     "shell.execute_reply.started": "2025-01-18T05:58:04.224956Z"
    }
   },
   "outputs": [],
   "source": [
    "if EFFORT >= 2:\n",
    "  analyze_hand(((2, 10), 4), Rules(num_decks=2))\n",
    "# For this hand, the basic strategy (total-dependent) optimal action is STAND, whereas the\n",
    "# initial-dependent and composition-dependent strategies show the optimal action to be HIT.\n",
    "\n",
    "# hand=((2, 10), 4)  EFFORT=3\n",
    "# Best_actions: bs=STAND id=HIT cd=HIT wiz=HIT bjstrat=HIT\n",
    "#  STAND   id=-0.206125 sim=-0.206140±0.000062   cd=-0.206125  wiz:-0.206125  bjstrat:-0.206100\n",
    "#  HIT     id=-0.204205 sim=-0.204185±0.000060   cd=-0.204205  wiz:-0.204205  bjstrat:-0.204200\n",
    "#  DOUBLE  id=-0.408411 sim=-0.408371±0.000121   cd=-0.408411  wiz:-0.408411  bjstrat:-0.408400"
   ]
  },
  {
   "cell_type": "code",
   "execution_count": 219,
   "id": "43811284",
   "metadata": {
    "execution": {
     "iopub.execute_input": "2025-01-18T05:58:04.235331Z",
     "iopub.status.busy": "2025-01-18T05:58:04.235147Z",
     "iopub.status.idle": "2025-01-18T05:58:04.243862Z",
     "shell.execute_reply": "2025-01-18T05:58:04.243177Z",
     "shell.execute_reply.started": "2025-01-18T05:58:04.235315Z"
    }
   },
   "outputs": [],
   "source": [
    "if EFFORT >= 2:\n",
    "  analyze_hand(((2, 6), 6), Rules(num_decks=1))\n",
    "# For this hand, the basic strategy (total-dependent) optimal action is DOUBLE, whereas the\n",
    "# initial-dependent and composition-dependent strategies show the optimal action to be HIT.\n",
    "\n",
    "# hand=((2, 6), 6)  EFFORT=3\n",
    "# Best_actions: bs=DOUBLE id=HIT cd=HIT wiz=HIT bjstrat=HIT\n",
    "#  STAND   id=-0.108450 sim=-0.108444±0.000063   cd=-0.108450  wiz:-0.108450  bjstrat:-0.108500\n",
    "#  HIT     id= 0.119677 sim= 0.119727±0.000061   cd= 0.119677  wiz: 0.119677  bjstrat: 0.119700\n",
    "#  DOUBLE  id= 0.111237 sim= 0.111310±0.000123   cd= 0.111237  wiz: 0.111237  bjstrat: 0.111200"
   ]
  },
  {
   "cell_type": "code",
   "execution_count": 220,
   "id": "7eb965c4",
   "metadata": {
    "execution": {
     "iopub.execute_input": "2025-01-18T05:58:04.245016Z",
     "iopub.status.busy": "2025-01-18T05:58:04.244686Z",
     "iopub.status.idle": "2025-01-18T05:58:04.332938Z",
     "shell.execute_reply": "2025-01-18T05:58:04.332317Z",
     "shell.execute_reply.started": "2025-01-18T05:58:04.245001Z"
    },
    "lines_to_next_cell": 2
   },
   "outputs": [
    {
     "name": "stdout",
     "output_type": "stream",
     "text": [
      "0.11192360826737106 1.942388486966489\n"
     ]
    }
   ],
   "source": [
    "# Quick sanity check on Monte Carlo simulation.\n",
    "_value, _value_sdv = monte_carlo_hand(((2, 6), 6), Rules(num_decks=1), Strategy(), 10_000_000)\n",
    "print(_value, _value_sdv)  # 0.11065 1.9423796114003709  EFFORT=0,1,2,3\n",
    "assert 0.10 < _value < 0.12\n",
    "assert 1.94 < _value_sdv < 1.95"
   ]
  },
  {
   "cell_type": "markdown",
   "id": "17ba7b32",
   "metadata": {
    "lines_to_next_cell": 2
   },
   "source": [
    "## Hand calculator results\n",
    "<a name=\"Hand-calculator-results\"></a>"
   ]
  },
  {
   "cell_type": "code",
   "execution_count": 221,
   "id": "cd8c9de5",
   "metadata": {
    "execution": {
     "iopub.execute_input": "2025-01-18T05:58:04.334118Z",
     "iopub.status.busy": "2025-01-18T05:58:04.333687Z",
     "iopub.status.idle": "2025-01-18T05:58:04.338763Z",
     "shell.execute_reply": "2025-01-18T05:58:04.338121Z",
     "shell.execute_reply.started": "2025-01-18T05:58:04.334103Z"
    }
   },
   "outputs": [],
   "source": [
    "def find_significant_reward_differences_across_hand_calculators(rules: Rules) -> None:\n",
    "  \"\"\"Look for differences across hand calculators on all initial hands.\"\"\"\n",
    "  strategy = COMPOSITION_DEPENDENT_STRATEGY\n",
    "  num_differences = 0\n",
    "  for action, (card1, card2), dealer1 in itertools.product(\n",
    "      Action, generate_all_initial_cards(), range(1, 11)\n",
    "  ):\n",
    "    hand = (card1, card2), dealer1\n",
    "    state = hand[0], hand[1], ()\n",
    "    cd_reward = post_peek_reward_for_action(state, rules, strategy, action)\n",
    "    for name, hand_calc in HAND_CALCULATORS.items():\n",
    "      reward = hh.assert_not_none(hand_calc(hand, action, rules))\n",
    "      # The Bjstrat results report exactly 4 digits.\n",
    "      # The Wizard results report 16 digits, and seem precise up to 6 digits.\n",
    "      # The SPLIT rewards have large differences, so we increase their tolerance.\n",
    "      tolerance = (\n",
    "          {'bjstrat': 0.0003, 'wiz': 0.004}[name]\n",
    "          if action is Action.SPLIT\n",
    "          else {'bjstrat': (0.00056 if abs(reward) > 1.0 else 0.000056), 'wiz': 0.6e-6}[name]\n",
    "      )\n",
    "      difference = reward - cd_reward\n",
    "      if abs(difference) > tolerance:\n",
    "        if num_differences < 40:\n",
    "          print(\n",
    "              f'# For {hand!s:<14} {action.name:<9}: cd={cd_reward: .6f}'\n",
    "              f' {name:>7}={reward: .6f}  diff={difference: .6f}'\n",
    "          )\n",
    "        num_differences += 1\n",
    "  print(f'# Found {num_differences=}')"
   ]
  },
  {
   "cell_type": "code",
   "execution_count": 222,
   "id": "eba1a783",
   "metadata": {
    "execution": {
     "iopub.execute_input": "2025-01-18T05:58:04.339864Z",
     "iopub.status.busy": "2025-01-18T05:58:04.339583Z",
     "iopub.status.idle": "2025-01-18T05:58:04.351010Z",
     "shell.execute_reply": "2025-01-18T05:58:04.350451Z",
     "shell.execute_reply.started": "2025-01-18T05:58:04.339849Z"
    }
   },
   "outputs": [],
   "source": [
    "if EFFORT >= 3:\n",
    "  with temporary_effort(3):  # ~300 s  (EFFORT=3 ~42 s)\n",
    "    find_significant_reward_differences_across_hand_calculators(Rules(num_decks=1))\n",
    "\n",
    "# Great: for all actions except SPLIT, we exactly reproduce the rewards of Wizard\n",
    "# with 6 digits of precision,\n",
    "# and we reproduce the rewards of Bjstrat (with their 4 digits of precision)!\n",
    "\n",
    "# For the SPLIT actions, there are differences.\n",
    "# Setting our strategy to COMPOSITION_DEPENDENT_STRATEGY (Attention.HAND_AND_NUM_PRIOR_SPLITS),\n",
    "# our results are close to the 'bjstrat' results &mdash;- with only 8 reward values\n",
    "# having differences exceeding 0.0003.\n",
    "# And for all those 8 numbers, at EFFORT=4, our rewards are consistently a little higher.\n",
    "# The differences are likely due to details in state-tracking between the multiple split hands.\n",
    "\n",
    "# The Wizard SPLIT results are significantly different and moreover they differ from our\n",
    "# Monte Carlo simulation results.  (See for example `test_some_split_hands1()` and\n",
    "# `analyze_hand(((9, 9), 1), Rules(num_decks=1))` later in this section.)\n",
    "\n",
    "# For ((3, 3), 1)    SPLIT    : cd=-0.536496 bjstrat=-0.536800  diff=-0.000304\n",
    "# For ((4, 4), 1)    SPLIT    : cd=-0.608214     wiz=-0.604158  diff= 0.004056\n",
    "# For ((4, 4), 1)    SPLIT    : cd=-0.608214 bjstrat=-0.608600  diff=-0.000386\n",
    "# For ((4, 4), 7)    SPLIT    : cd=-0.178137 bjstrat=-0.178500  diff=-0.000363\n",
    "# For ((6, 6), 1)    SPLIT    : cd=-0.678721     wiz=-0.673866  diff= 0.004855\n",
    "# For ((6, 6), 1)    SPLIT    : cd=-0.678721 bjstrat=-0.679300  diff=-0.000579\n",
    "# For ((6, 6), 10)   SPLIT    : cd=-0.658883 bjstrat=-0.659300  diff=-0.000417\n",
    "# For ((7, 7), 1)    SPLIT    : cd=-0.674180     wiz=-0.669831  diff= 0.004349\n",
    "# For ((9, 9), 1)    SPLIT    : cd=-0.183940     wiz=-0.189759  diff=-0.005819\n",
    "# For ((10, 10), 1)  SPLIT    : cd=-0.495613     wiz=-0.445244  diff= 0.050369\n",
    "# For ((10, 10), 2)  SPLIT    : cd= 0.045064     wiz= 0.079724  diff= 0.034660\n",
    "# For ((10, 10), 2)  SPLIT    : cd= 0.045064 bjstrat= 0.044630  diff=-0.000434\n",
    "# For ((10, 10), 3)  SPLIT    : cd= 0.127314     wiz= 0.159177  diff= 0.031864\n",
    "# For ((10, 10), 4)  SPLIT    : cd= 0.224754     wiz= 0.252190  diff= 0.027436\n",
    "# For ((10, 10), 4)  SPLIT    : cd= 0.224754 bjstrat= 0.224200  diff=-0.000554\n",
    "# For ((10, 10), 5)  SPLIT    : cd= 0.332634     wiz= 0.358542  diff= 0.025908\n",
    "# For ((10, 10), 6)  SPLIT    : cd= 0.354632     wiz= 0.379925  diff= 0.025294\n",
    "# For ((10, 10), 6)  SPLIT    : cd= 0.354632 bjstrat= 0.351500  diff=-0.003132\n",
    "# For ((10, 10), 7)  SPLIT    : cd= 0.251783     wiz= 0.304030  diff= 0.052247\n",
    "# For ((10, 10), 8)  SPLIT    : cd= 0.011765     wiz= 0.076675  diff= 0.064910\n",
    "# For ((10, 10), 9)  SPLIT    : cd=-0.255830     wiz=-0.183090  diff= 0.072740\n",
    "# For ((10, 10), 10) SPLIT    : cd=-0.315144     wiz=-0.262691  diff= 0.052453\n",
    "# Found num_differences=22"
   ]
  },
  {
   "cell_type": "code",
   "execution_count": 223,
   "id": "cab00a0f",
   "metadata": {
    "execution": {
     "iopub.execute_input": "2025-01-18T05:58:04.351910Z",
     "iopub.status.busy": "2025-01-18T05:58:04.351628Z",
     "iopub.status.idle": "2025-01-18T05:58:04.362891Z",
     "shell.execute_reply": "2025-01-18T05:58:04.362050Z",
     "shell.execute_reply.started": "2025-01-18T05:58:04.351898Z"
    }
   },
   "outputs": [],
   "source": [
    "if 0:\n",
    "  with temporary_effort(3):  # ~300 s\n",
    "    find_significant_reward_differences_across_hand_calculators(\n",
    "        Rules(num_decks=1, obo=False, late_surrender=False)\n",
    "    )\n",
    "# [The results are very similar to the set of differences above.]\n",
    "# Found num_differences=18"
   ]
  },
  {
   "cell_type": "code",
   "execution_count": 224,
   "id": "27fcd9bb",
   "metadata": {
    "execution": {
     "iopub.execute_input": "2025-01-18T05:58:04.364131Z",
     "iopub.status.busy": "2025-01-18T05:58:04.363746Z",
     "iopub.status.idle": "2025-01-18T05:58:04.371720Z",
     "shell.execute_reply": "2025-01-18T05:58:04.371147Z",
     "shell.execute_reply.started": "2025-01-18T05:58:04.364115Z"
    }
   },
   "outputs": [],
   "source": [
    "if 0:\n",
    "  with temporary_effort(3):  # ~300 s\n",
    "    find_significant_reward_differences_across_hand_calculators(\n",
    "        Rules(num_decks=1, hit_soft17=False)\n",
    "    )\n",
    "# [The results are again very similar to the set of differences above.]\n",
    "# Found num_differences=19"
   ]
  },
  {
   "cell_type": "markdown",
   "id": "f47cdca7",
   "metadata": {
    "lines_to_next_cell": 2
   },
   "source": [
    "<a name=\"analyze-hand-action-wrt-attention\"><a>\n",
    "- Here we see how the hand reward increases monotonically with the increase in `Attention`\n",
    "  of the player strategy:"
   ]
  },
  {
   "cell_type": "code",
   "execution_count": 225,
   "id": "a1d1da7e",
   "metadata": {
    "execution": {
     "iopub.execute_input": "2025-01-18T05:58:04.372614Z",
     "iopub.status.busy": "2025-01-18T05:58:04.372343Z",
     "iopub.status.idle": "2025-01-18T05:58:04.381397Z",
     "shell.execute_reply": "2025-01-18T05:58:04.380804Z",
     "shell.execute_reply.started": "2025-01-18T05:58:04.372602Z"
    },
    "lines_to_next_cell": 2
   },
   "outputs": [],
   "source": [
    "def analyze_hand_action_wrt_attention(hand: Hand, action: Action, rules: Rules) -> None:\n",
    "  \"\"\"Show reward for `action` on `hand` with progressively more expansive attention settings.\"\"\"\n",
    "  state = hand[0], hand[1], ()\n",
    "  print(f'# Hand={hand!s:<14} {EFFORT=}:')\n",
    "  for attention in Attention:\n",
    "    strategy = Strategy(attention=attention)\n",
    "    reward = post_peek_reward_for_action(state, rules, strategy, action)\n",
    "    print(f'# {attention.name:38.38} {reward: .6f}')\n",
    "  for name, hand_calc in HAND_CALCULATORS.items():\n",
    "    hand_calc_reward = hand_calc(hand, action, rules)\n",
    "    if hand_calc_reward is not None:\n",
    "      print(f'# {name:38} {hand_calc_reward: .6f}')\n",
    "\n",
    "\n",
    "if EFFORT >= 3:\n",
    "  analyze_hand_action_wrt_attention(((10, 10), 4), Action.SPLIT, Rules(num_decks=1))\n",
    "  with temporary_effort(3):\n",
    "    print()\n",
    "    analyze_hand_action_wrt_attention(((10, 10), 4), Action.SPLIT, Rules(num_decks=1))\n",
    "\n",
    "# Observations:\n",
    "# (1) The computed rewards can depend significantly on pruning heuristics (e.g., EFFORT).\n",
    "#     At EFFORT=3, our result with HAND_AND_NUM_PRIOR_SPLITS lies below the Bjstrat reward.\n",
    "#     At EFFORT=4, our result with HAND_AND_NUM_PRIOR_SPLITS lies above the Bjstrat reward.\n",
    "# (2) Our results with Attention.HAND_AND_INITIAL_CARDS_IN_PRIOR_SPLITS show a small increase\n",
    "#     compared to Attention.HAND_AND_NUM_PRIOR_SPLITS.\n",
    "\n",
    "# Hand=((10, 10), 4)  EFFORT=3:\n",
    "# TOTAL_OF_CARDS                          0.205199\n",
    "# INITIAL_CARDS_OR_TOTAL                  0.221038\n",
    "# INITIAL_CARDS_AND_TOTAL                 0.221038\n",
    "# HAND_CARDS_ONLY                         0.221038\n",
    "# HAND_AND_NUM_PRIOR_SPLITS               0.221787\n",
    "# HAND_AND_INITIAL_CARDS_IN_PRIOR_SPLITS  0.222017\n",
    "# wiz                                     0.252190\n",
    "# bjstrat                                 0.224200\n",
    "\n",
    "# Hand=((10, 10), 4)  EFFORT=4:\n",
    "# TOTAL_OF_CARDS                          0.208732\n",
    "# INITIAL_CARDS_OR_TOTAL                  0.224162\n",
    "# INITIAL_CARDS_AND_TOTAL                 0.224162\n",
    "# HAND_CARDS_ONLY                         0.224162\n",
    "# HAND_AND_NUM_PRIOR_SPLITS               0.224754\n",
    "# HAND_AND_INITIAL_CARDS_IN_PRIOR_SPLITS  0.225450\n",
    "# wiz                                     0.252190\n",
    "# bjstrat                                 0.224200"
   ]
  },
  {
   "cell_type": "code",
   "execution_count": 226,
   "id": "4cf06f53",
   "metadata": {
    "execution": {
     "iopub.execute_input": "2025-01-18T05:58:04.382155Z",
     "iopub.status.busy": "2025-01-18T05:58:04.382002Z",
     "iopub.status.idle": "2025-01-18T05:58:04.396143Z",
     "shell.execute_reply": "2025-01-18T05:58:04.395372Z",
     "shell.execute_reply.started": "2025-01-18T05:58:04.382135Z"
    }
   },
   "outputs": [
    {
     "name": "stdout",
     "output_type": "stream",
     "text": [
      "# hand=((3, 10), 2)   split_cards=()                        reward=-0.306082\n",
      "# hand=((3, 10), 2)   split_cards=(3,)                      reward=-0.304669\n",
      "# hand=((3, 10), 2)   split_cards=(3, 3)                    reward=-0.304713\n",
      "# hand=((3, 10), 2)   split_cards=(3, 3, 3)                 reward=-0.304759\n",
      "# hand=((3, 10), 2)   split_cards=(3, 9)                    reward=-0.289874\n",
      "# hand=((3, 10), 2)   split_cards=(3, 3, 9, 9)              reward=-0.273811\n",
      "# hand=((3, 10), 2)   split_cards=(3, 3, 3, 9, 9, 9)        reward=-0.256254\n",
      "# hand=((3, 10), 2)   split_cards=(3, 3, 3, 6, 6, 6)        reward=-0.350762\n"
     ]
    }
   ],
   "source": [
    "def demonstrate_importance_of_knowing_prior_split_cards(\n",
    "    hand: Hand,\n",
    "    rules: Rules = Rules(num_decks=1),\n",
    "    strategy: Strategy = Strategy(attention=Attention.HAND_AND_INITIAL_CARDS_IN_PRIOR_SPLITS),\n",
    "    action: Action = Action.HIT,\n",
    ") -> None:\n",
    "  \"\"\"Show that the hand reward depends greatly on knowledge of cards from prior splits.\"\"\"\n",
    "  card1, card2, card3 = hand[0][0], 9, 6\n",
    "  for split_cards in [\n",
    "      (),\n",
    "      (card1,),\n",
    "      (card1, card1),\n",
    "      (card1, card1, card1),\n",
    "      (card1, card2),\n",
    "      (card1, card1, card2, card2),\n",
    "      (card1, card1, card1, card2, card2, card2),\n",
    "      (card1, card1, card1, card3, card3, card3),\n",
    "  ]:\n",
    "    state = hand[0], hand[1], split_cards\n",
    "    reward = reward_for_action(state, rules, strategy, action)\n",
    "    print(f'# {hand=!s:14} {split_cards=!s:25} {reward=: .6f}')\n",
    "\n",
    "\n",
    "demonstrate_importance_of_knowing_prior_split_cards(((3, 10), 2))\n",
    "# We consider the case that the initial hand is a pair (3, 3) and we split the pair (and\n",
    "# split again if we draw another 3.)\n",
    "# The results below show that when the initial cards of prior split hand(s) are (3, 9), the\n",
    "# expected reward on the current hand increases significantly.\n",
    "# In contrast, when the initial cards of prior split hand(s) are (3, 6), the expected reward\n",
    "# on the current hand decreases significantly.\n",
    "# This provides motivation for including `split_cards` as an entry in the `state` used in the\n",
    "# probabilistic analysis.\n",
    "\n",
    "# For EFFORT=3:\n",
    "# hand=((3, 10), 2)   split_cards=()                        reward=-0.305033\n",
    "# hand=((3, 10), 2)   split_cards=(3,)                      reward=-0.306271\n",
    "# hand=((3, 10), 2)   split_cards=(3, 3)                    reward=-0.307826\n",
    "# hand=((3, 10), 2)   split_cards=(3, 3, 3)                 reward=-0.309679\n",
    "# hand=((3, 10), 2)   split_cards=(3, 9)                    reward=-0.284842\n",
    "# hand=((3, 10), 2)   split_cards=(3, 3, 9, 9)              reward=-0.262627\n",
    "# hand=((3, 10), 2)   split_cards=(3, 3, 3, 9, 9, 9)        reward=-0.234007\n",
    "# hand=((3, 10), 2)   split_cards=(3, 3, 3, 6, 6, 6)        reward=-0.344034"
   ]
  },
  {
   "cell_type": "code",
   "execution_count": 227,
   "id": "f6befd1e",
   "metadata": {
    "execution": {
     "iopub.execute_input": "2025-01-18T05:58:04.397323Z",
     "iopub.status.busy": "2025-01-18T05:58:04.396968Z",
     "iopub.status.idle": "2025-01-18T05:58:04.523599Z",
     "shell.execute_reply": "2025-01-18T05:58:04.522879Z",
     "shell.execute_reply.started": "2025-01-18T05:58:04.397307Z"
    }
   },
   "outputs": [
    {
     "name": "stdout",
     "output_type": "stream",
     "text": [
      "# hand=((1, 3), 4)  EFFORT=1\n",
      "#  cd     : HIT: 0.085273 DOUBLE: 0.084958 STAND:-0.186165 SURRENDER:-0.500000\n",
      "#  wiz    : DOUBLE: 0.087059 HIT: 0.086531 STAND:-0.185697 SURRENDER:-0.500000\n",
      "#  bjstrat: DOUBLE: 0.087060 HIT: 0.086530 STAND:-0.185700 SURRENDER:-0.500000\n",
      "\n",
      "# hand=((1, 7), 2)  EFFORT=1\n",
      "#  cd     : STAND: 0.118600 DOUBLE: 0.117594 HIT: 0.060657 SURRENDER:-0.500000\n",
      "#  wiz    : DOUBLE: 0.119481 STAND: 0.118882 HIT: 0.061594 SURRENDER:-0.500000\n",
      "#  bjstrat: DOUBLE: 0.119500 STAND: 0.118900 HIT: 0.061590 SURRENDER:-0.500000\n",
      "\n",
      "# hand=((8, 8), 1)  EFFORT=1\n",
      "#  cd     : SURRENDER:-0.500000 SPLIT:-0.513809 HIT:-0.531275 STAND:-0.587368 DOUBLE:-1.062549\n",
      "#  wiz    : SPLIT:-0.493681 SURRENDER:-0.500000 HIT:-0.531321 STAND:-0.586903 DOUBLE:-1.062642\n",
      "#  bjstrat: SPLIT:-0.493900 SURRENDER:-0.500000 HIT:-0.531300 STAND:-0.586900 DOUBLE:-1.063000\n"
     ]
    }
   ],
   "source": [
    "look_for_hands_with_differences_in_calculated_optimal_actions(\n",
    "    Rules(num_decks=2), expected_differences=([] if EFFORT >= 2 else None)\n",
    ")\n",
    "\n",
    "# Wonderful: for a 2-deck shoe, with EFFORT>=2, there are no differences in optimal\n",
    "# full-composition-strategy actions wrt to Wizard and Bjstrat.\n",
    "# (For EFFORT=1, there are about 3 differences.)"
   ]
  },
  {
   "cell_type": "code",
   "execution_count": 228,
   "id": "fc8002d9",
   "metadata": {
    "execution": {
     "iopub.execute_input": "2025-01-18T05:58:04.524741Z",
     "iopub.status.busy": "2025-01-18T05:58:04.524585Z",
     "iopub.status.idle": "2025-01-18T05:58:05.243996Z",
     "shell.execute_reply": "2025-01-18T05:58:05.243304Z",
     "shell.execute_reply.started": "2025-01-18T05:58:04.524727Z"
    }
   },
   "outputs": [
    {
     "name": "stdout",
     "output_type": "stream",
     "text": [
      "# hand=((2, 6), 5)  EFFORT=1\n",
      "#  cd     : HIT: 0.126272 DOUBLE: 0.126186 STAND:-0.102192 SURRENDER:-0.500000\n",
      "#  wiz    : DOUBLE: 0.130021 HIT: 0.129947 STAND:-0.101494 SURRENDER:-0.500000\n",
      "#  bjstrat: DOUBLE: 0.130000 HIT: 0.129900 STAND:-0.101500 SURRENDER:-0.500000\n",
      "\n",
      "# hand=((3, 3), 8)  EFFORT=1\n",
      "#  cd     : HIT:-0.227026 SPLIT:-0.249818 SURRENDER:-0.500000 STAND:-0.510607 DOUBLE:-1.002879\n",
      "#  wiz    : SPLIT:-0.220566 HIT:-0.230703 SURRENDER:-0.500000 STAND:-0.510419 DOUBLE:-0.999660\n",
      "#  bjstrat: SPLIT:-0.221800 HIT:-0.230700 SURRENDER:-0.500000 STAND:-0.510400 DOUBLE:-0.999700\n",
      "\n",
      "# hand=((3, 10), 2)  EFFORT=1\n",
      "#  cd     : HIT:-0.306082 STAND:-0.306369 SURRENDER:-0.500000 DOUBLE:-0.612163\n",
      "#  wiz    : STAND:-0.304909 HIT:-0.305033 SURRENDER:-0.500000 DOUBLE:-0.610067\n",
      "#  bjstrat: STAND:-0.304900 HIT:-0.305000 SURRENDER:-0.500000 DOUBLE:-0.610100\n",
      "\n",
      "# hand=((4, 4), 4)  EFFORT=1\n",
      "#  cd     : HIT: 0.093618 SPLIT: 0.078543 DOUBLE: 0.039178 STAND:-0.145619 SURRENDER:-0.500000\n",
      "#  wiz    : SPLIT: 0.134942 HIT: 0.096628 DOUBLE: 0.043836 STAND:-0.144654 SURRENDER:-0.500000\n",
      "#  bjstrat: SPLIT: 0.133900 HIT: 0.096630 DOUBLE: 0.043840 STAND:-0.144700 SURRENDER:-0.500000\n",
      "\n",
      "# hand=((8, 8), 1)  EFFORT=1\n",
      "#  cd     : SURRENDER:-0.500000 SPLIT:-0.502640 HIT:-0.520006 STAND:-0.575423 DOUBLE:-1.040013\n",
      "#  wiz    : SPLIT:-0.464023 SURRENDER:-0.500000 HIT:-0.520115 STAND:-0.574417 DOUBLE:-1.040230\n",
      "#  bjstrat: SPLIT:-0.464100 SURRENDER:-0.500000 HIT:-0.520100 STAND:-0.574400 DOUBLE:-1.040000\n",
      "\n",
      "# hand=((9, 9), 1)  EFFORT=1\n",
      "#  cd     : STAND:-0.186581 SPLIT:-0.231366 SURRENDER:-0.500000 HIT:-0.636956 DOUBLE:-1.273913\n",
      "#  wiz    : STAND:-0.186130 SPLIT:-0.189759 SURRENDER:-0.500000 HIT:-0.637010 DOUBLE:-1.274020\n",
      "#  bjstrat: SPLIT:-0.183900 STAND:-0.186100 SURRENDER:-0.500000 HIT:-0.637000 DOUBLE:-1.274000\n"
     ]
    }
   ],
   "source": [
    "look_for_hands_with_differences_in_calculated_optimal_actions(\n",
    "    Rules(num_decks=1), expected_differences=([((9, 9), 1)] if EFFORT >= 2 else None)\n",
    ")\n",
    "\n",
    "# Wonderful: for a 1-deck shoe, with EFFORT>=2, the only difference in optimal\n",
    "# full-composition-strategy actions wrt to Wizard and Bjstrat is a single hand:\n",
    "#\n",
    "# hand=((9, 9), 1)  EFFORT=3\n",
    "#  cd     : SPLIT:-0.183912 STAND:-0.186130 SURRENDER:-0.500000 HIT:-0.637010 DOUBLE:-1.274020\n",
    "#  wiz    : STAND:-0.186130 SPLIT:-0.189759 SURRENDER:-0.500000 HIT:-0.637010 DOUBLE:-1.274020\n",
    "#  bjstrat: SPLIT:-0.183900 STAND:-0.186100 SURRENDER:-0.500000 HIT:-0.637000 DOUBLE:-1.274000\n",
    "\n",
    "# This seems to be due to the imprecise reward computation for SPLIT by Wizard.\n",
    "\n",
    "# Our SPLIT reward -0.1839 is higher than Wizard -0.1898 but equal to Bjstrat.\n",
    "# The sim=-0.1839±0.0001 in the cell below provides additional support that Bjstrat and our cd\n",
    "# are likely correct.  (Bjstrat shows SPL1=-0.1860 SPL2=-0.1841 SPL3=-0.1839).\n",
    "\n",
    "# (With EFFORT=1 there are about 6 differences.)"
   ]
  },
  {
   "cell_type": "code",
   "execution_count": 229,
   "id": "8c72d4a4",
   "metadata": {
    "execution": {
     "iopub.execute_input": "2025-01-18T05:58:05.245043Z",
     "iopub.status.busy": "2025-01-18T05:58:05.244744Z",
     "iopub.status.idle": "2025-01-18T05:58:05.582111Z",
     "shell.execute_reply": "2025-01-18T05:58:05.581473Z",
     "shell.execute_reply.started": "2025-01-18T05:58:05.245030Z"
    }
   },
   "outputs": [
    {
     "name": "stdout",
     "output_type": "stream",
     "text": [
      "# hand=((9, 9), 1)  EFFORT=1\n",
      "# Best_actions: bs=STAND id=STAND cd=STAND wiz=STAND bjstrat=SPLIT\n",
      "#  STAND   id=-0.186581 sim=-0.186161±0.000239*  cd=-0.186581  wiz:-0.186130* bjstrat:-0.186100*\n",
      "#  HIT     id=-0.636956 sim=-0.636969±0.000189   cd=-0.636956  wiz:-0.637010  bjstrat:-0.637000\n",
      "#  DOUBLE  id=-1.273913 sim=-1.273862±0.000367   cd=-1.273913  wiz:-1.274020* bjstrat:-1.274000\n",
      "#  SPLIT   id=-0.231366 sim=-0.184387±0.000391*  cd=-0.231366  wiz:-0.189759* bjstrat:-0.183900*\n"
     ]
    }
   ],
   "source": [
    "# Here is a closer look at that particular hand:\n",
    "analyze_hand(((9, 9), 1), Rules(num_decks=1))\n",
    "\n",
    "# Our results accurately match Bjstrat.\n",
    "\n",
    "# hand=((9, 9), 1)  EFFORT=3\n",
    "# Best_actions: bs=SPLIT id=SPLIT cd=SPLIT wiz=STAND bjstrat=SPLIT\n",
    "#  STAND   id=-0.186130 sim=-0.186104±0.000076   cd=-0.186130  wiz:-0.186130  bjstrat:-0.186100\n",
    "#  HIT     id=-0.637010 sim=-0.636997±0.000060   cd=-0.637010  wiz:-0.637010  bjstrat:-0.637000\n",
    "#  DOUBLE  id=-1.274020 sim=-1.273988±0.000116   cd=-1.274020  wiz:-1.274020  bjstrat:-1.274000\n",
    "#  SPLIT   id=-0.183912 sim=-0.183876±0.000124   cd=-0.183912  wiz:-0.189759* bjstrat:-0.183900"
   ]
  },
  {
   "cell_type": "code",
   "execution_count": 230,
   "id": "ea5f336d",
   "metadata": {
    "execution": {
     "iopub.execute_input": "2025-01-18T05:58:05.583117Z",
     "iopub.status.busy": "2025-01-18T05:58:05.582809Z",
     "iopub.status.idle": "2025-01-18T05:58:05.586294Z",
     "shell.execute_reply": "2025-01-18T05:58:05.585729Z",
     "shell.execute_reply.started": "2025-01-18T05:58:05.583103Z"
    }
   },
   "outputs": [],
   "source": [
    "if 0:\n",
    "  with temporary_effort(3):  # ~1700 s.\n",
    "    analyze_hand(((9, 9), 1), Rules(num_decks=1))\n",
    "# hand=((9, 9), 1)  EFFORT=4\n",
    "# Best_actions: bs=SPLIT id=SPLIT cd=SPLIT wiz=STAND bjstrat=SPLIT\n",
    "#  STAND   id=-0.186130 sim=-0.186118±0.000024   cd=-0.186130  wiz:-0.186130  bjstrat:-0.186100\n",
    "#  HIT     id=-0.637010 sim=-0.636995±0.000019   cd=-0.637010  wiz:-0.637010  bjstrat:-0.637000\n",
    "#  DOUBLE  id=-1.274020 sim=-1.273989±0.000037   cd=-1.274020  wiz:-1.274020  bjstrat:-1.274000\n",
    "#  SPLIT   id=-0.183940 sim=-0.183914±0.000039   cd=-0.183940  wiz:-0.189759* bjstrat:-0.183900"
   ]
  },
  {
   "cell_type": "code",
   "execution_count": 231,
   "id": "a2d96499",
   "metadata": {
    "execution": {
     "iopub.execute_input": "2025-01-18T05:58:05.587325Z",
     "iopub.status.busy": "2025-01-18T05:58:05.586979Z",
     "iopub.status.idle": "2025-01-18T05:58:05.926599Z",
     "shell.execute_reply": "2025-01-18T05:58:05.925882Z",
     "shell.execute_reply.started": "2025-01-18T05:58:05.587312Z"
    },
    "lines_to_next_cell": 2
   },
   "outputs": [
    {
     "name": "stdout",
     "output_type": "stream",
     "text": [
      "# hand=((1, 8), 6)  EFFORT=1\n",
      "#  cd     : STAND: 0.482295 DOUBLE: 0.479845 HIT: 0.239922 SURRENDER:-0.500000\n",
      "#  wiz    : DOUBLE: 0.482626 STAND: 0.482354 HIT: 0.241313 SURRENDER:-0.500000\n",
      "#  bjstrat: DOUBLE: 0.482600 STAND: 0.482400 HIT: 0.241300 SURRENDER:-0.500000\n",
      "\n",
      "# hand=((3, 3), 8)  EFFORT=1\n",
      "#  cd     : HIT:-0.227026 SPLIT:-0.249818 SURRENDER:-0.500000 STAND:-0.510607 DOUBLE:-1.002879\n",
      "#  wiz    : SPLIT:-0.220566 HIT:-0.230703 SURRENDER:-0.500000 STAND:-0.510419 DOUBLE:-0.999660\n",
      "#  bjstrat: SPLIT:-0.221800 HIT:-0.230700 SURRENDER:-0.500000 STAND:-0.510400 DOUBLE:-0.999700\n",
      "\n",
      "# hand=((4, 4), 4)  EFFORT=1\n",
      "#  cd     : HIT: 0.095062 SPLIT: 0.070647 DOUBLE: 0.039993 STAND:-0.152584 SURRENDER:-0.500000\n",
      "#  wiz    : SPLIT: 0.125674 HIT: 0.097855 DOUBLE: 0.044128 STAND:-0.151694 SURRENDER:-0.500000\n",
      "#  bjstrat: SPLIT: 0.124600 HIT: 0.097860 DOUBLE: 0.044130 STAND:-0.151700 SURRENDER:-0.500000\n",
      "\n",
      "# hand=((4, 4), 6)  EFFORT=1\n",
      "#  cd     : DOUBLE: 0.189916 SPLIT: 0.181401 HIT: 0.171166 STAND:-0.114506 SURRENDER:-0.500000\n",
      "#  wiz    : SPLIT: 0.251637 DOUBLE: 0.193184 HIT: 0.175290 STAND:-0.114034 SURRENDER:-0.500000\n",
      "#  bjstrat: SPLIT: 0.248800 DOUBLE: 0.193200 HIT: 0.175300 STAND:-0.114000 SURRENDER:-0.500000\n"
     ]
    }
   ],
   "source": [
    "look_for_hands_with_differences_in_calculated_optimal_actions(\n",
    "    Rules(num_decks=1, hit_soft17=False), expected_differences=([] if EFFORT >= 2 else None)\n",
    ")\n",
    "\n",
    "# This time, we consider the case of 1 deck with \"dealer stand on soft 17\".\n",
    "# Wonderful: with EFFORT>=2, there are *no* differences in optimal composition-dependent actions\n",
    "# wrt to both Wizard and Bjstrat.\n",
    "\n",
    "# (With EFFORT=1 there are about 4 differences.)"
   ]
  },
  {
   "cell_type": "code",
   "execution_count": 232,
   "id": "cd2c6fb7",
   "metadata": {
    "execution": {
     "iopub.execute_input": "2025-01-18T05:58:05.927962Z",
     "iopub.status.busy": "2025-01-18T05:58:05.927638Z",
     "iopub.status.idle": "2025-01-18T05:58:05.931404Z",
     "shell.execute_reply": "2025-01-18T05:58:05.930813Z",
     "shell.execute_reply.started": "2025-01-18T05:58:05.927944Z"
    }
   },
   "outputs": [],
   "source": [
    "def test_some_split_hands1(actions: Iterable[Action] = ()) -> None:\n",
    "  \"\"\"Compare split rewards on (10, 10) hands with other hand calculators.\"\"\"\n",
    "  for dealer1 in [9, 10, 1]:\n",
    "    print()\n",
    "    analyze_hand(((10, 10), dealer1), Rules(num_decks=1), actions=actions)"
   ]
  },
  {
   "cell_type": "code",
   "execution_count": 233,
   "id": "70034fb8",
   "metadata": {
    "execution": {
     "iopub.execute_input": "2025-01-18T05:58:05.932325Z",
     "iopub.status.busy": "2025-01-18T05:58:05.932054Z",
     "iopub.status.idle": "2025-01-18T05:58:06.931641Z",
     "shell.execute_reply": "2025-01-18T05:58:06.930998Z",
     "shell.execute_reply.started": "2025-01-18T05:58:05.932312Z"
    }
   },
   "outputs": [
    {
     "name": "stdout",
     "output_type": "stream",
     "text": [
      "\n",
      "# hand=((10, 10), 9)  EFFORT=1\n",
      "# Best_actions: bs=STAND id=STAND cd=STAND wiz=STAND bjstrat=STAND\n",
      "#  STAND   id= 0.743997 sim= 0.743834±0.000113   cd= 0.743997  wiz: 0.743970  bjstrat: 0.744000\n",
      "#  HIT     id=-0.842057 sim=-0.842037±0.000107   cd=-0.842057  wiz:-0.842055  bjstrat:-0.842100\n",
      "#  DOUBLE  id=-1.684113 sim=-1.684074±0.000214   cd=-1.684113  wiz:-1.684111  bjstrat:-1.684000\n",
      "#  SPLIT   id=-0.246909 sim=-0.255959±0.000333*  cd=-0.246909  wiz:-0.183090* bjstrat:-0.255800*\n",
      "\n",
      "# hand=((10, 10), 10)  EFFORT=1\n",
      "# Best_actions: bs=STAND id=STAND cd=STAND wiz=STAND bjstrat=STAND\n",
      "#  STAND   id= 0.583176 sim= 0.583113±0.000153   cd= 0.583176  wiz: 0.583154  bjstrat: 0.583200\n",
      "#  HIT     id=-0.836961 sim=-0.837021±0.000114   cd=-0.836961  wiz:-0.836969  bjstrat:-0.837000\n",
      "#  DOUBLE  id=-1.673923 sim=-1.674023±0.000231   cd=-1.673923  wiz:-1.673938  bjstrat:-1.674000\n",
      "#  SPLIT   id=-0.337742 sim=-0.316196±0.000361*  cd=-0.337742  wiz:-0.262691* bjstrat:-0.315300*\n",
      "\n",
      "# hand=((10, 10), 1)  EFFORT=1\n",
      "# Best_actions: bs=STAND id=STAND cd=STAND wiz=STAND bjstrat=STAND\n",
      "#  STAND   id= 0.593710 sim= 0.593608±0.000255   cd= 0.593710  wiz: 0.593596* bjstrat: 0.593600*\n",
      "#  HIT     id=-0.884331 sim=-0.884386±0.000110   cd=-0.884331  wiz:-0.884336  bjstrat:-0.884300\n",
      "#  DOUBLE  id=-1.768662 sim=-1.768744±0.000239   cd=-1.768662  wiz:-1.768673  bjstrat:-1.769000\n",
      "#  SPLIT   id=-0.452196 sim=-0.495824±0.000380*  cd=-0.452196  wiz:-0.445244* bjstrat:-0.495800*\n"
     ]
    }
   ],
   "source": [
    "if EFFORT >= 1:\n",
    "  test_some_split_hands1()\n",
    "# The rewards only differ for SPLIT, where both the 'cd' (probabilistic) and 'sim' (Monte Carlo)\n",
    "# results are a reasonably close match to Bjstrat.  The 'sim' result has only a limited attention\n",
    "# (INITIAL_CARDS_AND_TOTAL) and the probabilistic 'cd' and Bjstrat results do not consider\n",
    "# all cards from prior split hands, so both types of results have small inaccuracies.\n",
    "\n",
    "# hand=((10, 10), 9)  EFFORT=3\n",
    "# Best_actions: bs=STAND id=STAND cd=STAND wiz=STAND bjstrat=STAND\n",
    "#  STAND   id= 0.743970 sim= 0.743986±0.000036   cd= 0.743970  wiz: 0.743970  bjstrat: 0.744000\n",
    "#  HIT     id=-0.842055 sim=-0.842059±0.000034   cd=-0.842055  wiz:-0.842055  bjstrat:-0.842100\n",
    "#  DOUBLE  id=-1.684111 sim=-1.684118±0.000068   cd=-1.684111  wiz:-1.684111  bjstrat:-1.684000\n",
    "#  SPLIT   id=-0.255864 sim=-0.255824±0.000105   cd=-0.255864  wiz:-0.183090* bjstrat:-0.255800\n",
    "\n",
    "# hand=((10, 10), 10)  EFFORT=3\n",
    "# Best_actions: bs=STAND id=STAND cd=STAND wiz=STAND bjstrat=STAND\n",
    "#  STAND   id= 0.583154 sim= 0.583212±0.000048   cd= 0.583154  wiz: 0.583154  bjstrat: 0.583200\n",
    "#  HIT     id=-0.836969 sim=-0.836965±0.000036   cd=-0.836969  wiz:-0.836969  bjstrat:-0.837000\n",
    "#  DOUBLE  id=-1.673938 sim=-1.673949±0.000073   cd=-1.673938  wiz:-1.673938  bjstrat:-1.674000\n",
    "#  SPLIT   id=-0.315639 sim=-0.316433±0.000114*  cd=-0.314259  wiz:-0.262691* bjstrat:-0.315300*\n",
    "\n",
    "# hand=((10, 10), 1)  EFFORT=3\n",
    "# Best_actions: bs=STAND id=STAND cd=STAND wiz=STAND bjstrat=STAND\n",
    "#  STAND   id= 0.593596 sim= 0.593605±0.000081   cd= 0.593596  wiz: 0.593596  bjstrat: 0.593600\n",
    "#  HIT     id=-0.884336 sim=-0.884326±0.000035   cd=-0.884336  wiz:-0.884336  bjstrat:-0.884300\n",
    "#  DOUBLE  id=-1.768673 sim=-1.768660±0.000075   cd=-1.768673  wiz:-1.768673  bjstrat:-1.769000\n",
    "#  SPLIT   id=-0.497143 sim=-0.495826±0.000120*  cd=-0.497141  wiz:-0.445244* bjstrat:-0.495800*"
   ]
  },
  {
   "cell_type": "code",
   "execution_count": 234,
   "id": "d472ce4d",
   "metadata": {
    "execution": {
     "iopub.execute_input": "2025-01-18T05:58:06.932666Z",
     "iopub.status.busy": "2025-01-18T05:58:06.932392Z",
     "iopub.status.idle": "2025-01-18T05:58:06.935742Z",
     "shell.execute_reply": "2025-01-18T05:58:06.935170Z",
     "shell.execute_reply.started": "2025-01-18T05:58:06.932652Z"
    },
    "lines_to_next_cell": 2
   },
   "outputs": [],
   "source": [
    "if 0:\n",
    "  with temporary_effort(3):\n",
    "    test_some_split_hands1(actions=[Action.SPLIT])\n",
    "# hand=((10, 10), 9)  EFFORT=4\n",
    "#  SPLIT   id=-0.255830 sim=-0.255837±0.000033   cd=-0.255830  wiz:-0.183090* bjstrat:-0.255800\n",
    "# hand=((10, 10), 10)  EFFORT=4\n",
    "#  SPLIT   id=-0.316452 sim=-0.316442±0.000036   cd=-0.315144  wiz:-0.262691* bjstrat:-0.315300*\n",
    "# hand=((10, 10), 1)  EFFORT=4\n",
    "#  SPLIT   id=-0.495792 sim=-0.495781±0.000038   cd=-0.495613  wiz:-0.445244* bjstrat:-0.495800*"
   ]
  },
  {
   "cell_type": "code",
   "execution_count": 235,
   "id": "d5b5fef4",
   "metadata": {
    "execution": {
     "iopub.execute_input": "2025-01-18T05:58:06.936510Z",
     "iopub.status.busy": "2025-01-18T05:58:06.936359Z",
     "iopub.status.idle": "2025-01-18T05:58:06.947518Z",
     "shell.execute_reply": "2025-01-18T05:58:06.946880Z",
     "shell.execute_reply.started": "2025-01-18T05:58:06.936497Z"
    }
   },
   "outputs": [],
   "source": [
    "def test_some_split_hands2(dealer1: int = 10) -> None:\n",
    "  \"\"\"Compare split rewards with other hand calculators, for a specified dealer upcard.\"\"\"\n",
    "  for card1 in range(1, 11):\n",
    "    card2 = card1\n",
    "    # Only the SPLIT results differ.\n",
    "    analyze_hand(((card1, card2), dealer1), Rules(num_decks=1), actions=[Action.SPLIT])"
   ]
  },
  {
   "cell_type": "code",
   "execution_count": 236,
   "id": "4d5c0a8f",
   "metadata": {
    "execution": {
     "iopub.execute_input": "2025-01-18T05:58:06.948542Z",
     "iopub.status.busy": "2025-01-18T05:58:06.948227Z",
     "iopub.status.idle": "2025-01-18T05:58:07.913325Z",
     "shell.execute_reply": "2025-01-18T05:58:07.912666Z",
     "shell.execute_reply.started": "2025-01-18T05:58:06.948528Z"
    }
   },
   "outputs": [
    {
     "name": "stdout",
     "output_type": "stream",
     "text": [
      "# hand=((1, 1), 10)  EFFORT=1\n",
      "#  SPLIT   id= 0.167672 sim= 0.194211±0.000297*  cd= 0.167672  wiz: 0.194251* bjstrat: 0.194300*\n",
      "# hand=((2, 2), 10)  EFFORT=1\n",
      "#  SPLIT   id=-0.465282 sim=-0.467503±0.000335*  cd=-0.465282  wiz:-0.467223* bjstrat:-0.466400*\n",
      "# hand=((3, 3), 10)  EFFORT=1\n",
      "#  SPLIT   id=-0.508765 sim=-0.507492±0.000332*  cd=-0.508765  wiz:-0.506252* bjstrat:-0.505600*\n",
      "# hand=((4, 4), 10)  EFFORT=1\n",
      "#  SPLIT   id=-0.584481 sim=-0.587268±0.000328*  cd=-0.584481  wiz:-0.587695* bjstrat:-0.586700*\n",
      "# hand=((5, 5), 10)  EFFORT=1\n",
      "#  SPLIT   id=-0.708592 sim=-0.724323±0.000325*  cd=-0.708592  wiz:-0.724627* bjstrat:-0.723400*\n",
      "# hand=((6, 6), 10)  EFFORT=1\n",
      "#  SPLIT   id=-0.668267 sim=-0.661175±0.000324*  cd=-0.668267  wiz:-0.659371* bjstrat:-0.659300*\n",
      "# hand=((7, 7), 10)  EFFORT=1\n",
      "#  SPLIT   id=-0.626518 sim=-0.623577±0.000336*  cd=-0.626518  wiz:-0.620390* bjstrat:-0.619800*\n",
      "# hand=((8, 8), 10)  EFFORT=1\n",
      "#  SPLIT   id=-0.451017 sim=-0.447614±0.000355*  cd=-0.451017  wiz:-0.448160* bjstrat:-0.446900*\n",
      "# hand=((9, 9), 10)  EFFORT=1\n",
      "#  SPLIT   id=-0.282684 sim=-0.272312±0.000354*  cd=-0.282684  wiz:-0.274520* bjstrat:-0.271900*\n",
      "# hand=((10, 10), 10)  EFFORT=1\n",
      "#  SPLIT   id=-0.337742 sim=-0.316196±0.000361*  cd=-0.337742  wiz:-0.262691* bjstrat:-0.315300*\n"
     ]
    }
   ],
   "source": [
    "if EFFORT >= 1:\n",
    "  test_some_split_hands2()\n",
    "# The paired tens against dealer 10 is particularly challenging to compute accurately.\n",
    "\n",
    "# hand=((1, 1), 10)  EFFORT=3\n",
    "#  SPLIT   id= 0.194251 sim= 0.194307±0.000094   cd= 0.194251  wiz: 0.194251  bjstrat: 0.194300\n",
    "# hand=((2, 2), 10)  EFFORT=3\n",
    "#  SPLIT   id=-0.466571 sim=-0.466530±0.000106   cd=-0.466378  wiz:-0.467223* bjstrat:-0.466400\n",
    "# hand=((3, 3), 10)  EFFORT=3\n",
    "#  SPLIT   id=-0.506204 sim=-0.506173±0.000105   cd=-0.505608  wiz:-0.506252* bjstrat:-0.505600\n",
    "# hand=((4, 4), 10)  EFFORT=3\n",
    "#  SPLIT   id=-0.586839 sim=-0.586779±0.000104   cd=-0.586720  wiz:-0.587695* bjstrat:-0.586700\n",
    "# hand=((5, 5), 10)  EFFORT=3\n",
    "#  SPLIT   id=-0.723690 sim=-0.723627±0.000103   cd=-0.723160  wiz:-0.724627* bjstrat:-0.723400*\n",
    "# hand=((6, 6), 10)  EFFORT=3\n",
    "#  SPLIT   id=-0.659949 sim=-0.659947±0.000103   cd=-0.658869  wiz:-0.659371* bjstrat:-0.659300*\n",
    "# hand=((7, 7), 10)  EFFORT=3\n",
    "#  SPLIT   id=-0.622662 sim=-0.622647±0.000107   cd=-0.619716  wiz:-0.620390* bjstrat:-0.619800\n",
    "# hand=((8, 8), 10)  EFFORT=3\n",
    "#  SPLIT   id=-0.446966 sim=-0.446965±0.000112   cd=-0.446830  wiz:-0.448160* bjstrat:-0.446900\n",
    "# hand=((9, 9), 10)  EFFORT=3\n",
    "#  SPLIT   id=-0.271944 sim=-0.271932±0.000112   cd=-0.271940  wiz:-0.274520* bjstrat:-0.271900\n",
    "# hand=((10, 10), 10)  EFFORT=3\n",
    "#  SPLIT   id=-0.315639 sim=-0.316433±0.000114*  cd=-0.314259  wiz:-0.262691* bjstrat:-0.315300*"
   ]
  },
  {
   "cell_type": "markdown",
   "id": "50b88b66",
   "metadata": {},
   "source": [
    "- Here is an experiment where the player already has 3 cards:"
   ]
  },
  {
   "cell_type": "code",
   "execution_count": 237,
   "id": "6f09f0b8-11c4-4ed1-bd4a-b37f6199319f",
   "metadata": {
    "execution": {
     "iopub.execute_input": "2025-01-18T05:58:07.914465Z",
     "iopub.status.busy": "2025-01-18T05:58:07.914134Z",
     "iopub.status.idle": "2025-01-18T05:58:08.795453Z",
     "shell.execute_reply": "2025-01-18T05:58:08.794810Z",
     "shell.execute_reply.started": "2025-01-18T05:58:07.914450Z"
    }
   },
   "outputs": [
    {
     "name": "stdout",
     "output_type": "stream",
     "text": [
      "# hand=((2, 3, 6), 9)  EFFORT=1\n",
      "# Best_actions: bs=HIT id=HIT cd=HIT wiz=HIT bjstrat=HIT\n",
      "#  STAND   id=-0.543347  cd=-0.543347  wiz:-0.541969* bjstrat:-0.542000*\n",
      "#  HIT     id= 0.180444 sim=-0.261815±0.000184*  cd= 0.180444  wiz: 0.167563* bjstrat: 0.167600*\n"
     ]
    }
   ],
   "source": [
    "if EFFORT >= 1:\n",
    "  analyze_hand(((2, 3, 6), 9), Rules(num_decks=1))\n",
    "\n",
    "# hand=((2, 3, 6), 9)  EFFORT=3\n",
    "# Best_actions: bs=HIT id=HIT cd=HIT wiz=HIT bjstrat=HIT\n",
    "#  STAND   id=-0.541969  cd=-0.541969  wiz:-0.541969  bjstrat:-0.542000\n",
    "#  HIT     id= 0.167507 sim= 0.167524±0.000059   cd= 0.167563  wiz: 0.167563  bjstrat: 0.167600"
   ]
  },
  {
   "cell_type": "markdown",
   "id": "3e1bc0fc",
   "metadata": {},
   "source": [
    "- We analyze what happens if the player does not STAND on blackjack (if that is even allowed):"
   ]
  },
  {
   "cell_type": "code",
   "execution_count": 238,
   "id": "ba9b1384",
   "metadata": {
    "execution": {
     "iopub.execute_input": "2025-01-18T05:58:08.797016Z",
     "iopub.status.busy": "2025-01-18T05:58:08.796254Z",
     "iopub.status.idle": "2025-01-18T05:58:09.032664Z",
     "shell.execute_reply": "2025-01-18T05:58:09.031941Z",
     "shell.execute_reply.started": "2025-01-18T05:58:08.797000Z"
    }
   },
   "outputs": [
    {
     "name": "stdout",
     "output_type": "stream",
     "text": [
      "# hand=((1, 10), 9)  EFFORT=1\n",
      "# Best_actions: bs=STAND id=STAND cd=STAND wiz=STAND bjstrat=STAND\n",
      "#  STAND   id= 1.500000 sim= 1.500000±0.000000   cd= 1.500000  wiz: 1.500000  bjstrat: 1.500000\n",
      "#  HIT     id= 0.146733 sim= 0.148827±0.000187*  cd= 0.146733  wiz: 0.148864* bjstrat: 0.148900*\n",
      "#  DOUBLE  id= 0.214817 sim= 0.216330±0.000382*  cd= 0.214817  wiz: 0.216490* bjstrat: 0.216500*\n"
     ]
    }
   ],
   "source": [
    "if EFFORT >= 1:\n",
    "  analyze_hand(((1, 10), 9), Rules(num_decks=1))\n",
    "\n",
    "# hand=((1, 10), 9)  EFFORT=3\n",
    "# Best_actions: bs=STAND id=STAND cd=STAND wiz=STAND bjstrat=STAND\n",
    "#  STAND   id= 1.500000 sim= 1.500000±0.000000   cd= 1.500000  wiz: 1.500000  bjstrat: 1.500000\n",
    "#  HIT     id= 0.148864 sim= 0.148891±0.000059   cd= 0.148864  wiz: 0.148864  bjstrat: 0.148900\n",
    "#  DOUBLE  id= 0.216490 sim= 0.216476±0.000121   cd= 0.216490  wiz: 0.216490  bjstrat: 0.216500"
   ]
  },
  {
   "cell_type": "code",
   "execution_count": 239,
   "id": "745ff88b",
   "metadata": {
    "execution": {
     "iopub.execute_input": "2025-01-18T05:58:09.033836Z",
     "iopub.status.busy": "2025-01-18T05:58:09.033502Z",
     "iopub.status.idle": "2025-01-18T05:58:09.546314Z",
     "shell.execute_reply": "2025-01-18T05:58:09.545646Z",
     "shell.execute_reply.started": "2025-01-18T05:58:09.033820Z"
    }
   },
   "outputs": [
    {
     "name": "stdout",
     "output_type": "stream",
     "text": [
      "# hand=((1, 10), 1)  EFFORT=1\n",
      "# Best_actions: bs=STAND id=STAND cd=STAND wiz=STAND bjstrat=STAND\n",
      "#  STAND   id= 1.500000 sim= 1.499902±0.000199   cd= 1.500000  wiz: 1.500000  bjstrat: 1.500000\n",
      "#  HIT     id= 0.112462 sim= 0.112331±0.000269   cd= 0.112462  wiz: 0.112270* bjstrat: 0.112300*\n",
      "#  DOUBLE  id= 0.137513 sim= 0.137170±0.000483   cd= 0.137513  wiz: 0.137215* bjstrat: 0.137200*\n",
      "#  SURREND id=-0.500000 sim=-0.500033±0.000066   cd=-0.500000  wiz:-0.500000  bjstrat:-0.500000\n"
     ]
    }
   ],
   "source": [
    "if EFFORT >= 1:\n",
    "  analyze_hand(((1, 10), 1), Rules(num_decks=1), actions=Action)\n",
    "\n",
    "# hand=((1, 10), 1)  EFFORT=3\n",
    "# Best_actions: bs=STAND id=STAND cd=STAND wiz=STAND bjstrat=STAND\n",
    "#  STAND   id= 1.500000 sim= 1.500020±0.000063   cd= 1.500000  wiz: 1.500000  bjstrat: 1.500000\n",
    "#  HIT     id= 0.112270 sim= 0.112273±0.000085   cd= 0.112270  wiz: 0.112270  bjstrat: 0.112300\n",
    "#  DOUBLE  id= 0.137215 sim= 0.137194±0.000153   cd= 0.137215  wiz: 0.137215  bjstrat: 0.137200\n",
    "#  SURREND id=-0.500000 sim=-0.499993±0.000021   cd=-0.500000  wiz:-0.500000  bjstrat:-0.500000"
   ]
  },
  {
   "cell_type": "code",
   "execution_count": 240,
   "id": "e116179a",
   "metadata": {
    "execution": {
     "iopub.execute_input": "2025-01-18T05:58:09.547695Z",
     "iopub.status.busy": "2025-01-18T05:58:09.547517Z",
     "iopub.status.idle": "2025-01-18T05:58:10.578405Z",
     "shell.execute_reply": "2025-01-18T05:58:10.577773Z",
     "shell.execute_reply.started": "2025-01-18T05:58:09.547680Z"
    }
   },
   "outputs": [
    {
     "name": "stdout",
     "output_type": "stream",
     "text": [
      "# hand=((1, 10), 1)  EFFORT=1\n",
      "# Best_actions: bs=STAND id=STAND cd=STAND wiz=STAND bjstrat=STAND\n",
      "#  STAND   id= 1.040816 sim= 1.040748±0.000138   cd= 1.040816  wiz: 1.040816  bjstrat: 1.041000\n",
      "#  HIT     id=-0.225405 sim=-0.228178±0.000187*  cd=-0.225405  wiz:-0.228221* bjstrat:-0.228200*\n",
      "#  DOUBLE  id=-0.516828 sim=-0.517111±0.000375   cd=-0.516828  wiz:-0.517035* bjstrat:-0.517000*\n"
     ]
    }
   ],
   "source": [
    "if EFFORT >= 1:\n",
    "  analyze_hand(((1, 10), 1), Rules(num_decks=1, obo=False, late_surrender=False))\n",
    "\n",
    "# hand=((1, 10), 1)  EFFORT=3\n",
    "# Best_actions: bs=STAND id=STAND cd=STAND wiz=STAND bjstrat=STAND\n",
    "#  STAND   id= 1.040816 sim= 1.040830±0.000044   cd= 1.040816  wiz: 1.040816  bjstrat: 1.041000\n",
    "#  HIT     id=-0.228221 sim=-0.228219±0.000059   cd=-0.228221  wiz:-0.228221  bjstrat:-0.228200\n",
    "#  DOUBLE  id=-0.517035 sim=-0.517040±0.000118   cd=-0.517035  wiz:-0.517035  bjstrat:-0.517000"
   ]
  },
  {
   "cell_type": "code",
   "execution_count": 241,
   "id": "4ca157b2",
   "metadata": {
    "execution": {
     "iopub.execute_input": "2025-01-18T05:58:10.579673Z",
     "iopub.status.busy": "2025-01-18T05:58:10.579380Z",
     "iopub.status.idle": "2025-01-18T05:58:12.329242Z",
     "shell.execute_reply": "2025-01-18T05:58:12.328609Z",
     "shell.execute_reply.started": "2025-01-18T05:58:10.579660Z"
    }
   },
   "outputs": [
    {
     "name": "stdout",
     "output_type": "stream",
     "text": [
      "# hand=((1, 10), 1)  EFFORT=1\n",
      "# Best_actions: bs=STAND id=STAND cd=STAND wiz=STAND bjstrat=STAND\n",
      "#  STAND   id= 1.040816 sim= 1.040748±0.000138   cd= 1.040816  wiz: 1.040816  bjstrat: 1.041000\n",
      "#  HIT     id=-0.225405 sim=-0.228178±0.000187*  cd=-0.225405  wiz:-0.228221* bjstrat: 0.077900*\n",
      "#  DOUBLE  id=-0.516828 sim=-0.517111±0.000375   cd=-0.516828  wiz:-0.517035* bjstrat:-0.517000*\n",
      "#  SURREND id=-0.653061 sim=-0.653084±0.000046   cd=-0.653061  wiz:-0.500000* bjstrat:-0.346900*\n"
     ]
    }
   ],
   "source": [
    "if EFFORT >= 1:\n",
    "  analyze_hand(((1, 10), 1), Rules(num_decks=1, obo=False))\n",
    "# The situation is unclear if the player surrenders and the dealer then reveals a blackjack.\n",
    "# It could make sense that the player would then lose to the dealer blackjack because it is a\n",
    "# late surrender.  Our result agrees with Bjstrat on this.\n",
    "\n",
    "# hand=((1, 10), 1)  EFFORT=3\n",
    "# Best_actions: bs=STAND id=STAND cd=STAND wiz=STAND bjstrat=STAND\n",
    "#  STAND   id= 1.040816 sim= 1.040830±0.000044   cd= 1.040816  wiz: 1.040816  bjstrat: 1.041000\n",
    "#  HIT     id=-0.228221 sim=-0.228219±0.000059   cd=-0.228221  wiz:-0.228221  bjstrat:-0.228200\n",
    "#  DOUBLE  id=-0.517035 sim=-0.517040±0.000118   cd=-0.517035  wiz:-0.517035  bjstrat:-0.517000\n",
    "#  SURREND id=-0.653061 sim=-0.653057±0.000015   cd=-0.653061  wiz:-0.500000* bjstrat:-0.653100"
   ]
  },
  {
   "cell_type": "markdown",
   "id": "23d1b8f2",
   "metadata": {},
   "source": [
    "## House edge results\n",
    "<a name=\"House-edge-results\"></a>"
   ]
  },
  {
   "cell_type": "markdown",
   "id": "f4b501a8",
   "metadata": {},
   "source": [
    "The \"house edge\" is the fraction of the action lost over\n",
    "the long run.  Thus it is the negative of the expected reward.\n",
    "\n",
    "Wikipedia: \"Most blackjack games have a house edge of between 0.5% and 1%\"."
   ]
  },
  {
   "cell_type": "markdown",
   "id": "47a8046b",
   "metadata": {
    "lines_to_next_cell": 2
   },
   "source": [
    "<a name=\"analyze-edge-wrt-attention\"><a>\n",
    "- We first see how the house edge decreases monotonically with increased `Attention` in the\n",
    "  player strategy:"
   ]
  },
  {
   "cell_type": "code",
   "execution_count": 242,
   "id": "66d8efdc",
   "metadata": {
    "execution": {
     "iopub.execute_input": "2025-01-18T05:58:12.330367Z",
     "iopub.status.busy": "2025-01-18T05:58:12.330050Z",
     "iopub.status.idle": "2025-01-18T05:58:14.254798Z",
     "shell.execute_reply": "2025-01-18T05:58:14.254132Z",
     "shell.execute_reply.started": "2025-01-18T05:58:12.330353Z"
    }
   },
   "outputs": [
    {
     "name": "stdout",
     "output_type": "stream",
     "text": [
      "# For EFFORT=1:\n",
      "# TOTAL_OF_CARDS            prob: 0.094% (0s)   sim: 0.011% ±0.023%(0s)    wiz: 0.008%* bja: 0.021%+\n",
      "# INITIAL_CARDS_OR_TOTAL    prob: 0.077% (0s)   sim~-0.019% ±0.023%(1s)\n",
      "# INITIAL_CARDS_AND_TOTAL   prob: 0.061% (0s)   sim:-0.019% ±0.023%(0s)\n",
      "# HAND_CARDS_ONLY           prob: 0.061% (0s)   sim~-0.019% ±0.023%(0s)\n",
      "# HAND_AND_NUM_PRIOR_SPLITS prob: 0.061% (0s)   sim~-0.019% ±0.023%(0s)    wiz:-0.030%* bjstrat:-0.030%*\n",
      "# HAND_AND_INITIAL_CARDS_IN prob: 0.061% (0s)   sim~-0.019% ±0.023%(0s)\n"
     ]
    }
   ],
   "source": [
    "def analyze_edge_wrt_attention(rules: Rules) -> None:\n",
    "  \"\"\"Compare computed house edge values for different attention settings.\"\"\"\n",
    "  print(f'# For {EFFORT=}:')\n",
    "  for attention in Attention:\n",
    "    report_edge(rules, Strategy(attention=attention), prefix=f'# {attention.name:<25.25} ')\n",
    "\n",
    "\n",
    "analyze_edge_wrt_attention(Rules(num_decks=1, cut_card=0))\n",
    "\n",
    "# For EFFORT=3:\n",
    "# TOTAL_OF_CARDS            prob: 0.013% (15s)  sim: 0.012% ±0.002%(93s)   wiz: 0.008%* bja: 0.021%+\n",
    "# INITIAL_CARDS_OR_TOTAL    prob:-0.005% (15s)  sim~-0.026% ±0.002%(95s)\n",
    "# INITIAL_CARDS_AND_TOTAL   prob:-0.026% (0s)   sim:-0.026% ±0.002%(94s)\n",
    "# HAND_CARDS_ONLY           prob:-0.029% (26s)  sim~-0.026% ±0.002%(93s)\n",
    "# HAND_AND_NUM_PRIOR_SPLITS prob:-0.030% (0s)   sim~-0.026% ±0.002%(94s)   wiz:-0.030%  bjstrat:-0.030%\n",
    "# HAND_AND_INITIAL_CARDS_IN prob:-0.030% (54s)  sim~-0.026% ±0.002%(93s)"
   ]
  },
  {
   "cell_type": "markdown",
   "id": "fe130618",
   "metadata": {},
   "source": [
    "### Common casino rules"
   ]
  },
  {
   "cell_type": "markdown",
   "id": "0d62a41a",
   "metadata": {},
   "source": [
    "Some low house edges from https://wizardofvegas.com/guides/blackjack-survey/\n",
    "include:\n",
    "\n",
    "- Caesars Palace Casino; 0.26%; 6 decks; cut 1.3; \"s17,ds,ls,rsa\"\n",
    "- Cosmopolitan Casino;   0.28%; 8 decks; cut 0.5; \"s17,ds,ls,rsa\":\n",
    "\n",
    "The results computed here (0.29% and 0.306%) are higher,\n",
    "but are close to the results of WizardOfOdds:"
   ]
  },
  {
   "cell_type": "code",
   "execution_count": 243,
   "id": "e4bdcfad",
   "metadata": {
    "execution": {
     "iopub.execute_input": "2025-01-18T05:58:14.255848Z",
     "iopub.status.busy": "2025-01-18T05:58:14.255528Z",
     "iopub.status.idle": "2025-01-18T05:58:14.821720Z",
     "shell.execute_reply": "2025-01-18T05:58:14.821065Z",
     "shell.execute_reply.started": "2025-01-18T05:58:14.255833Z"
    }
   },
   "outputs": [
    {
     "name": "stdout",
     "output_type": "stream",
     "text": [
      "# Rules(hit_soft17=False, resplit_aces=True, cut_card=244) Strategy() EFFORT=1:\n",
      "#  house edge: prob~ 0.275% (0s)   sim: 0.285% ±0.023%(0s)    wiz: 0.285%\n"
     ]
    }
   ],
   "source": [
    "report_edge(Rules(num_decks=6, hit_soft17=False, resplit_aces=True, cut_card=244))\n",
    "# Rules(hit_soft17=False, resplit_aces=True, cut_card=244) Strategy() EFFORT=3:\n",
    "#  house edge: prob~ 0.264% (48s)  sim: 0.290% ±0.002%(62s)   wiz: 0.285%*\n",
    "\n",
    "# Rules(hit_soft17=False, resplit_aces=True, cut_card=244) Strategy() EFFORT=2:\n",
    "#  house edge: prob~ 0.264% (2s)   sim: 0.292% ±0.007%(9s)    wiz: 0.285%"
   ]
  },
  {
   "cell_type": "code",
   "execution_count": 244,
   "id": "38fb9639",
   "metadata": {
    "execution": {
     "iopub.execute_input": "2025-01-18T05:58:14.822716Z",
     "iopub.status.busy": "2025-01-18T05:58:14.822425Z",
     "iopub.status.idle": "2025-01-18T05:58:16.133018Z",
     "shell.execute_reply": "2025-01-18T05:58:16.132401Z",
     "shell.execute_reply.started": "2025-01-18T05:58:14.822702Z"
    }
   },
   "outputs": [
    {
     "name": "stdout",
     "output_type": "stream",
     "text": [
      "# Rules(num_decks=8, hit_soft17=False, resplit_aces=True, cut_card=390) Strategy() EFFORT=1:\n",
      "#  house edge: prob~ 0.294% (1s)   sim: 0.300% ±0.022%(1s)    wiz: 0.301%\n"
     ]
    }
   ],
   "source": [
    "report_edge(Rules(num_decks=8, hit_soft17=False, resplit_aces=True, cut_card=390))\n",
    "# Rules(num_decks=8, hit_soft17=False, resplit_aces=True, cut_card=390) Strategy() EFFORT=3:\n",
    "#  house edge: prob~ 0.286% (53s)  sim: 0.306% ±0.002%(55s)   wiz: 0.301%*\n",
    "\n",
    "# Rules(num_decks=8, hit_soft17=False, resplit_aces=True, cut_card=390) Strategy() EFFORT=2:\n",
    "#  house edge: prob~ 0.285% (5s)   sim: 0.303% ±0.007%(7s)    wiz: 0.301%"
   ]
  },
  {
   "cell_type": "markdown",
   "id": "0055d715",
   "metadata": {},
   "source": [
    "A larger house edge is:\n",
    "- Mirage Casino; 0.49%; 8 decks; \"h17,ds,ls,rsa\":\n",
    "\n",
    "The result computed here (0.504%) is a tiny bit higher but again agrees with the\n",
    "results of WizardOfOdds:"
   ]
  },
  {
   "cell_type": "code",
   "execution_count": 245,
   "id": "a46eaedd",
   "metadata": {
    "execution": {
     "iopub.execute_input": "2025-01-18T05:58:16.133927Z",
     "iopub.status.busy": "2025-01-18T05:58:16.133745Z",
     "iopub.status.idle": "2025-01-18T05:58:16.957530Z",
     "shell.execute_reply": "2025-01-18T05:58:16.956889Z",
     "shell.execute_reply.started": "2025-01-18T05:58:16.133912Z"
    }
   },
   "outputs": [
    {
     "name": "stdout",
     "output_type": "stream",
     "text": [
      "# Rules(num_decks=8, resplit_aces=True, cut_card=312) Strategy() EFFORT=1:\n",
      "#  house edge: prob~ 0.494% (1s)   sim: 0.498% ±0.023%(0s)    wiz: 0.500%\n"
     ]
    }
   ],
   "source": [
    "report_edge(Rules(num_decks=8, hit_soft17=True, resplit_aces=True, cut_card=312))\n",
    "# Rules(num_decks=8, resplit_aces=True, cut_card=312) Strategy() EFFORT=3:\n",
    "#  house edge: prob~ 0.485% (45s)  sim: 0.508% ±0.002%(63s)   wiz: 0.500%*\n",
    "\n",
    "# Rules(num_decks=8, resplit_aces=True, cut_card=312) Strategy() EFFORT=2:\n",
    "#  house edge: prob~ 0.484% (2s)   sim: 0.506% ±0.007%(8s)    wiz: 0.500%"
   ]
  },
  {
   "cell_type": "code",
   "execution_count": 246,
   "id": "17a606d3",
   "metadata": {
    "execution": {
     "iopub.execute_input": "2025-01-18T05:58:16.958403Z",
     "iopub.status.busy": "2025-01-18T05:58:16.958233Z",
     "iopub.status.idle": "2025-01-18T05:58:17.536856Z",
     "shell.execute_reply": "2025-01-18T05:58:17.536207Z",
     "shell.execute_reply.started": "2025-01-18T05:58:16.958388Z"
    }
   },
   "outputs": [
    {
     "name": "stdout",
     "output_type": "stream",
     "text": [
      "# Rules(num_decks=8, hit_soft17=False, obo=False, late_surrender=False, split_to_num_hands=2,\n",
      "#   cut_card=208) Strategy() EFFORT=1:\n",
      "#  house edge: prob~ 0.609% (0s)   sim: 0.603% ±0.023%(0s)    wiz: 0.611%\n"
     ]
    }
   ],
   "source": [
    "# https://wizardofodds.com/play/blackjack/ \"live dealer casino online rules\":\n",
    "TYPICAL_ONLINE_DEALER_RULES = Rules(\n",
    "    num_decks=8,\n",
    "    hit_soft17=False,\n",
    "    obo=False,\n",
    "    late_surrender=False,\n",
    "    split_to_num_hands=2,\n",
    "    cut_card=(8 // 2) * DECK_SIZE,\n",
    ")\n",
    "report_edge(TYPICAL_ONLINE_DEALER_RULES)\n",
    "# Rules(num_decks=8, hit_soft17=False, obo=False, late_surrender=False, split_to_num_hands=2,\n",
    "#   cut_card=208) Strategy() EFFORT=3:\n",
    "#  house edge: prob~ 0.598% (24s)  sim: 0.613% ±0.002%(82s)   wiz: 0.611%\n",
    "\n",
    "# Rules(num_decks=8, hit_soft17=False, obo=False, late_surrender=False, split_to_num_hands=2,\n",
    "#   cut_card=208) Strategy() EFFORT=2:\n",
    "#  house edge: prob~ 0.598% (1s)   sim: 0.611% ±0.007%(10s)   wiz: 0.611%"
   ]
  },
  {
   "cell_type": "code",
   "execution_count": 247,
   "id": "b6263a26",
   "metadata": {
    "execution": {
     "iopub.execute_input": "2025-01-18T05:58:17.538062Z",
     "iopub.status.busy": "2025-01-18T05:58:17.537707Z",
     "iopub.status.idle": "2025-01-18T05:58:18.183855Z",
     "shell.execute_reply": "2025-01-18T05:58:18.183195Z",
     "shell.execute_reply.started": "2025-01-18T05:58:17.538044Z"
    }
   },
   "outputs": [
    {
     "name": "stdout",
     "output_type": "stream",
     "text": [
      "# Rules(hit_soft17=False, late_surrender=False, split_to_num_hands=2, cut_card=0) Strategy()\n",
      "#   EFFORT=1:\n",
      "#  house edge: prob: 0.474% (0s)   sim: 0.458% ±0.023%(0s)    wiz: 0.460%* bja: 0.458%+\n"
     ]
    }
   ],
   "source": [
    "# https://wizardofodds.com/online-gambling/playn-go/\n",
    "PLAYNGO_STANDARD_RULES = Rules(\n",
    "    num_decks=6, hit_soft17=False, split_to_num_hands=2, late_surrender=False, cut_card=0\n",
    ")\n",
    "report_edge(PLAYNGO_STANDARD_RULES)\n",
    "# Rules(hit_soft17=False, late_surrender=False, split_to_num_hands=2, cut_card=0) Strategy()\n",
    "#   EFFORT=3:\n",
    "#  house edge: prob: 0.460% (7s)   sim: 0.461% ±0.002%(73s)   wiz: 0.460%  bja: 0.458%+"
   ]
  },
  {
   "cell_type": "code",
   "execution_count": 248,
   "id": "e5447611",
   "metadata": {
    "execution": {
     "iopub.execute_input": "2025-01-18T05:58:18.184805Z",
     "iopub.status.busy": "2025-01-18T05:58:18.184639Z",
     "iopub.status.idle": "2025-01-18T05:58:18.861848Z",
     "shell.execute_reply": "2025-01-18T05:58:18.861160Z",
     "shell.execute_reply.started": "2025-01-18T05:58:18.184788Z"
    },
    "lines_to_next_cell": 2
   },
   "outputs": [
    {
     "name": "stdout",
     "output_type": "stream",
     "text": [
      "# Rules(hit_soft17=False, obo=False, late_surrender=False, double_min_total=9, split_to_num_hands=2,\n",
      "#   cut_card=0) Strategy() EFFORT=1:\n",
      "#  house edge: prob: 0.678% (0s)   sim: 0.674% ±0.022%(0s)    wiz: 0.664%* bja: 0.656%+\n"
     ]
    }
   ],
   "source": [
    "PLAYNGO_EUROPEAN_RULES = Rules(\n",
    "    num_decks=6,\n",
    "    hit_soft17=False,\n",
    "    double_min_total=9,\n",
    "    obo=False,\n",
    "    late_surrender=False,\n",
    "    split_to_num_hands=2,\n",
    "    cut_card=0,\n",
    ")\n",
    "report_edge(PLAYNGO_EUROPEAN_RULES)\n",
    "# Rules(hit_soft17=False, obo=False, late_surrender=False, double_min_total=9, split_to_num_hands=2,\n",
    "#   cut_card=0) Strategy() EFFORT=3:\n",
    "#  house edge: prob: 0.665% (11s)  sim: 0.667% ±0.002%(74s)   wiz: 0.664%  bja: 0.656%+"
   ]
  },
  {
   "cell_type": "code",
   "execution_count": 249,
   "id": "1edf3ce8",
   "metadata": {
    "execution": {
     "iopub.execute_input": "2025-01-18T05:58:18.863098Z",
     "iopub.status.busy": "2025-01-18T05:58:18.862786Z",
     "iopub.status.idle": "2025-01-18T05:58:19.427574Z",
     "shell.execute_reply": "2025-01-18T05:58:19.426923Z",
     "shell.execute_reply.started": "2025-01-18T05:58:18.863082Z"
    }
   },
   "outputs": [
    {
     "name": "stdout",
     "output_type": "stream",
     "text": [
      "# Rules(num_decks=1, blackjack_payout=1.2, hit_soft17=False, split_to_num_hands=2, cut_card=0)\n",
      "#   Strategy() EFFORT=1:\n",
      "#  house edge: prob: 1.344% (0s)   sim: 1.266% ±0.022%(0s)    wiz: 1.258%*\n"
     ]
    }
   ],
   "source": [
    "PLAYNGO_SINGLE_DECK_RULES = Rules(\n",
    "    num_decks=1, blackjack_payout=6 / 5, hit_soft17=False, split_to_num_hands=2, cut_card=0\n",
    ")\n",
    "report_edge(PLAYNGO_SINGLE_DECK_RULES)\n",
    "# Rules(num_decks=1, blackjack_payout=1.2, hit_soft17=False, split_to_num_hands=2, cut_card=0)\n",
    "#   Strategy() EFFORT=3:\n",
    "#  house edge: prob: 1.263% (7s)   sim: 1.261% ±0.002%(94s)   wiz: 1.258%*"
   ]
  },
  {
   "cell_type": "code",
   "execution_count": 250,
   "id": "31d5f914",
   "metadata": {
    "execution": {
     "iopub.execute_input": "2025-01-18T05:58:19.428599Z",
     "iopub.status.busy": "2025-01-18T05:58:19.428402Z",
     "iopub.status.idle": "2025-01-18T05:58:20.028859Z",
     "shell.execute_reply": "2025-01-18T05:58:20.028115Z",
     "shell.execute_reply.started": "2025-01-18T05:58:19.428581Z"
    }
   },
   "outputs": [
    {
     "name": "stdout",
     "output_type": "stream",
     "text": [
      "# Rules(num_decks=1, hit_soft17=False, double_after_split=False, cut_card=24) Strategy() EFFORT=1:\n",
      "#  house edge: prob~ 0.040% (0s)   sim: 0.082% ±0.023%(0s)    wiz: 0.088%\n"
     ]
    }
   ],
   "source": [
    "# Pitch Blackjack https://www.countingedge.com/blackjack-variations/pitch-blackjack/\n",
    "# We are uncertain what `obo` should be set to.\n",
    "PITCH_BLACKJACK_SINGLE_DECK_RULES = Rules(\n",
    "    num_decks=1, hit_soft17=False, double_after_split=False, cut_card=24\n",
    ")\n",
    "report_edge(PITCH_BLACKJACK_SINGLE_DECK_RULES)\n",
    "# Rules(num_decks=1, hit_soft17=False, double_after_split=False, cut_card=24) Strategy() EFFORT=3:\n",
    "#  house edge: prob~-0.020% (13s)  sim: 0.082% ±0.002%(79s)   wiz: 0.088%*"
   ]
  },
  {
   "cell_type": "code",
   "execution_count": 251,
   "id": "a41d8122",
   "metadata": {
    "execution": {
     "iopub.execute_input": "2025-01-18T05:58:20.030122Z",
     "iopub.status.busy": "2025-01-18T05:58:20.029737Z",
     "iopub.status.idle": "2025-01-18T05:58:21.381955Z",
     "shell.execute_reply": "2025-01-18T05:58:21.381300Z",
     "shell.execute_reply.started": "2025-01-18T05:58:20.030104Z"
    }
   },
   "outputs": [
    {
     "name": "stdout",
     "output_type": "stream",
     "text": [
      "# Rules(num_decks=2, hit_soft17=False, double_after_split=False, cut_card=52) Strategy() EFFORT=1:\n",
      "#  house edge: prob~ 0.318% (1s)   sim: 0.363% ±0.022%(0s)    wiz: 0.347%\n"
     ]
    }
   ],
   "source": [
    "# Pitch Blackjack https://www.countingedge.com/blackjack-variations/pitch-blackjack/\n",
    "PITCH_BLACKJACK_DOUBLE_DECK_RULES = Rules(\n",
    "    num_decks=2, hit_soft17=False, double_after_split=False, cut_card=DECK_SIZE\n",
    ")\n",
    "report_edge(PITCH_BLACKJACK_DOUBLE_DECK_RULES)\n",
    "# Rules(num_decks=2, hit_soft17=False, double_after_split=False, cut_card=52) Strategy() EFFORT=3:\n",
    "#  house edge: prob~ 0.287% (59s)  sim: 0.355% ±0.002%(83s)   wiz: 0.347%*"
   ]
  },
  {
   "cell_type": "markdown",
   "id": "1bca580d",
   "metadata": {},
   "source": [
    "### Best and worst house edge\n",
    "\n",
    "Here we consider the best rules and strategies (i.e., most favorable to the player),\n",
    "as well as the worst ones.\n",
    "\n",
    "In the rosiest scenario (not offered in any casino), the player would gain 0.2% of\n",
    "the initial bet, on average.\n",
    "\n",
    "With the most house-friendly rules and restricting the player actions to just\n",
    "`{Action.HIT, Action.STAND}`,\n",
    "the house edge increases to about 5%.\n",
    "Realistically, an average player may not carefully follow the basic strategy and\n",
    "therefore might do even worse."
   ]
  },
  {
   "cell_type": "code",
   "execution_count": 252,
   "id": "5c0b11a1",
   "metadata": {
    "execution": {
     "iopub.execute_input": "2025-01-18T05:58:21.383081Z",
     "iopub.status.busy": "2025-01-18T05:58:21.382743Z",
     "iopub.status.idle": "2025-01-18T05:58:22.418695Z",
     "shell.execute_reply": "2025-01-18T05:58:22.418061Z",
     "shell.execute_reply.started": "2025-01-18T05:58:21.383064Z"
    }
   },
   "outputs": [
    {
     "name": "stdout",
     "output_type": "stream",
     "text": [
      "# Rules(num_decks=1, split_to_num_hands=inf, resplit_aces=True, hit_split_aces=True,\n",
      "#   double_split_aces=True, cut_card=0)\n",
      "#   Strategy(attention=Attention.HAND_AND_INITIAL_CARDS_IN_PRIOR_SPLITS) EFFORT=1:\n",
      "#  house edge: prob:-0.125% (0s)   sim~-0.187% ±0.023%(1s)\n"
     ]
    }
   ],
   "source": [
    "report_edge(BEST_RULES, BEST_STRATEGY)\n",
    "# Rules(num_decks=1, split_to_num_hands=inf, resplit_aces=True, hit_split_aces=True,\n",
    "#   double_split_aces=True, cut_card=0)\n",
    "#   Strategy(attention=Attention.HAND_AND_INITIAL_CARDS_IN_PRIOR_SPLITS) EFFORT=3:\n",
    "#  house edge: prob:-0.197% (83s)  sim~-0.192% ±0.002%(117s)"
   ]
  },
  {
   "cell_type": "code",
   "execution_count": 253,
   "id": "9092ceb9",
   "metadata": {
    "execution": {
     "iopub.execute_input": "2025-01-18T05:58:22.419556Z",
     "iopub.status.busy": "2025-01-18T05:58:22.419411Z",
     "iopub.status.idle": "2025-01-18T05:58:25.084298Z",
     "shell.execute_reply": "2025-01-18T05:58:25.083662Z",
     "shell.execute_reply.started": "2025-01-18T05:58:22.419543Z"
    }
   },
   "outputs": [
    {
     "name": "stdout",
     "output_type": "stream",
     "text": [
      "# Rules(num_decks=inf, blackjack_payout=1, hit_soft17=False, obo=False, late_surrender=False,\n",
      "#   double_min_total=10, double_after_split=False, split_to_num_hands=2, cut_card=0)\n",
      "#   Strategy(first_actions={STAND,HIT}) EFFORT=1:\n",
      "#  house edge: prob: 4.676% (0s)   sim: 4.673% ±0.019%(2s)\n"
     ]
    }
   ],
   "source": [
    "report_edge(WORST_RULES, WORST_STRATEGY)\n",
    "# Rules(num_decks=inf, blackjack_payout=1, hit_soft17=False, obo=False, late_surrender=False,\n",
    "#   double_min_total=10, double_after_split=False, split_to_num_hands=2, cut_card=0)\n",
    "#   Strategy(first_actions={STAND,HIT}) EFFORT=3:\n",
    "#  house edge: prob: 4.676% (17s)  sim: 4.675% ±0.002%(62s)"
   ]
  },
  {
   "cell_type": "markdown",
   "id": "495584af",
   "metadata": {},
   "source": [
    "### Number of decks"
   ]
  },
  {
   "cell_type": "markdown",
   "id": "540b142f",
   "metadata": {},
   "source": [
    "Wikipedia gives house edge results for various numbers of decks (given the rules\n",
    "\"double after split allowed, resplit to four hands allowed, no hitting split aces, no surrender,\n",
    "double on any two cards, original bets only lost on dealer blackjack, dealer hits soft 17,\n",
    "and cut-card used\"):\n",
    "\n",
    "| Number of decks | House edge % |\n",
    "|:---:|:---:|\n",
    "| 1 | 0.17% |\n",
    "| 2 | 0.46% |\n",
    "| 4 | 0.60% |\n",
    "| 6 | 0.64% |\n",
    "| 8 | 0.66% |\n",
    "\n",
    "We obtain results with a similar pattern showing that the house edge is much diminished when\n",
    "the number of decks is reduced to 1.\n",
    "The Monte Carlo simulation results are very close to the online numbers.\n",
    "\n",
    "It is surprising that 8 decks is still quite different from an infinite shoe:"
   ]
  },
  {
   "cell_type": "code",
   "execution_count": 254,
   "id": "2e6d3535",
   "metadata": {
    "execution": {
     "iopub.execute_input": "2025-01-18T05:58:25.085535Z",
     "iopub.status.busy": "2025-01-18T05:58:25.085149Z",
     "iopub.status.idle": "2025-01-18T05:58:28.341780Z",
     "shell.execute_reply": "2025-01-18T05:58:28.341152Z",
     "shell.execute_reply.started": "2025-01-18T05:58:25.085514Z"
    }
   },
   "outputs": [
    {
     "name": "stdout",
     "output_type": "stream",
     "text": [
      "# Rules(late_surrender=False, cut_card=234) EFFORT=1\n",
      "# ndecks=1   prob~ 0.126% (0s)   sim: 0.164% ±0.023%(0s)    wiz: 0.159%  wiki: 0.170%\n",
      "# ndecks=2   prob~ 0.435% (0s)   sim: 0.461% ±0.023%(0s)    wiz: 0.457%  wiki: 0.460%\n",
      "# ndecks=4   prob~ 0.584% (0s)   sim: 0.612% ±0.023%(0s)    wiz: 0.597%  wiki: 0.600%\n",
      "# ndecks=6   prob~ 0.633% (0s)   sim: 0.641% ±0.023%(0s)    wiz: 0.639%  wiki: 0.640%\n",
      "# ndecks=8   prob~ 0.658% (0s)   sim: 0.656% ±0.023%(1s)    wiz: 0.661%  wiki: 0.660%\n",
      "# ndecks=20  prob~ 0.702% (1s)   sim: 0.706% ±0.023%(0s)\n",
      "# ndecks=inf prob: 0.731% (0s)   sim: 0.729% ±0.023%(0s)\n"
     ]
    }
   ],
   "source": [
    "analyze_number_of_decks(Rules(late_surrender=False))\n",
    "# The simulation results match the Wikipedia table very well, more so than WizardOfOdds for\n",
    "# num_decks=1.\n",
    "# For an infinite shoe, the probabilistic and simulated house edges are nearly in agreement.\n",
    "\n",
    "# Rules(late_surrender=False) EFFORT=3\n",
    "# ndecks=1   prob~ 0.044% (10s)  sim: 0.168% ±0.002%(81s)   wiz: 0.159%* wiki: 0.170%\n",
    "# ndecks=2   prob~ 0.392% (37s)  sim: 0.459% ±0.002%(63s)   wiz: 0.457%  wiki: 0.460%\n",
    "# ndecks=4   prob~ 0.562% (47s)  sim: 0.591% ±0.002%(75s)   wiz: 0.597%* wiki: 0.600%+\n",
    "# ndecks=6   prob~ 0.618% (68s)  sim: 0.642% ±0.002%(64s)   wiz: 0.639%  wiki: 0.640%\n",
    "# ndecks=8   prob~ 0.646% (35s)  sim: 0.666% ±0.002%(61s)   wiz: 0.661%* wiki: 0.660%+\n",
    "# ndecks=20  prob~ 0.697% (70s)  sim: 0.704% ±0.002%(56s)\n",
    "# ndecks=inf prob: 0.731% (33s)  sim: 0.727% ±0.002%(63s)"
   ]
  },
  {
   "cell_type": "markdown",
   "id": "3c00dc84",
   "metadata": {},
   "source": [
    "With a single deck and the rule \"dealer stands on soft17\", the house edge is negative:"
   ]
  },
  {
   "cell_type": "code",
   "execution_count": 255,
   "id": "4bfff671",
   "metadata": {
    "execution": {
     "iopub.execute_input": "2025-01-18T05:58:28.342825Z",
     "iopub.status.busy": "2025-01-18T05:58:28.342545Z",
     "iopub.status.idle": "2025-01-18T05:58:28.866818Z",
     "shell.execute_reply": "2025-01-18T05:58:28.866180Z",
     "shell.execute_reply.started": "2025-01-18T05:58:28.342811Z"
    }
   },
   "outputs": [
    {
     "name": "stdout",
     "output_type": "stream",
     "text": [
      "# Rules(num_decks=1, hit_soft17=False, cut_card=24) Strategy() EFFORT=1:\n",
      "#  house edge: prob~-0.089% (0s)   sim:-0.055% ±0.023%(0s)    wiz:-0.053%\n"
     ]
    }
   ],
   "source": [
    "report_edge(Rules(num_decks=1, hit_soft17=False, cut_card=24))\n",
    "# Rules(num_decks=1, hit_soft17=False, cut_card=24) Strategy() EFFORT=3:\n",
    "#  house edge: prob~-0.161% (13s)  sim:-0.057% ±0.002%(79s)   wiz:-0.053%"
   ]
  },
  {
   "cell_type": "code",
   "execution_count": 256,
   "id": "8fc7f579",
   "metadata": {
    "execution": {
     "iopub.execute_input": "2025-01-18T05:58:28.867702Z",
     "iopub.status.busy": "2025-01-18T05:58:28.867540Z",
     "iopub.status.idle": "2025-01-18T05:58:28.871063Z",
     "shell.execute_reply": "2025-01-18T05:58:28.870430Z",
     "shell.execute_reply.started": "2025-01-18T05:58:28.867689Z"
    }
   },
   "outputs": [],
   "source": [
    "if EFFORT >= 2:\n",
    "  analyze_number_of_decks(Rules(hit_soft17=False, late_surrender=False))\n",
    "# Rules(hit_soft17=False, late_surrender=False) EFFORT=3\n",
    "# ndecks=1   prob~-0.144% (11s)  sim:-0.021% ±0.002%(99s)   wiz:-0.031%*\n",
    "# ndecks=2   prob~ 0.193% (19s)  sim: 0.257% ±0.002%(63s)   wiz: 0.255%\n",
    "# ndecks=4   prob~ 0.353% (67s)  sim: 0.382% ±0.002%(76s)   wiz: 0.387%*\n",
    "# ndecks=6   prob~ 0.406% (35s)  sim: 0.429% ±0.002%(64s)   wiz: 0.426%\n",
    "# ndecks=8   prob~ 0.432% (19s)  sim: 0.451% ±0.002%(60s)   wiz: 0.447%*\n",
    "# ndecks=20  prob~ 0.480% (68s)  sim: 0.486% ±0.002%(57s)\n",
    "# ndecks=inf prob: 0.512% (35s)  sim: 0.510% ±0.002%(63s)"
   ]
  },
  {
   "cell_type": "code",
   "execution_count": 257,
   "id": "36aafb31",
   "metadata": {
    "execution": {
     "iopub.execute_input": "2025-01-18T05:58:28.872000Z",
     "iopub.status.busy": "2025-01-18T05:58:28.871785Z",
     "iopub.status.idle": "2025-01-18T05:58:28.880626Z",
     "shell.execute_reply": "2025-01-18T05:58:28.880058Z",
     "shell.execute_reply.started": "2025-01-18T05:58:28.871987Z"
    }
   },
   "outputs": [],
   "source": [
    "if EFFORT >= 2:\n",
    "  analyze_number_of_decks(Rules(cut_card=0))\n",
    "# Rules(cut_card=0) EFFORT=3\n",
    "# ndecks=1   prob: 0.013% (11s)  sim: 0.012% ±0.002%(94s)   wiz: 0.008%* bja: 0.021%+\n",
    "# ndecks=2   prob: 0.328% (34s)  sim: 0.329% ±0.002%(75s)   wiz: 0.328%  bja: 0.316%+\n",
    "# ndecks=4   prob: 0.480% (35s)  sim: 0.478% ±0.002%(76s)   wiz: 0.481%  bja: 0.476%+\n",
    "# ndecks=6   prob: 0.530% (16s)  sim: 0.530% ±0.002%(82s)   wiz: 0.531%  bja: 0.529%\n",
    "# ndecks=8   prob: 0.555% (35s)  sim: 0.558% ±0.002%(73s)   wiz: 0.555%  bja: 0.554%+\n",
    "# ndecks=20  prob: 0.600% (35s)  sim: 0.600% ±0.002%(73s)\n",
    "# ndecks=inf prob: 0.629% (15s)  sim: 0.627% ±0.002%(63s)"
   ]
  },
  {
   "cell_type": "code",
   "execution_count": 258,
   "id": "748c90dd",
   "metadata": {
    "execution": {
     "iopub.execute_input": "2025-01-18T05:58:28.881528Z",
     "iopub.status.busy": "2025-01-18T05:58:28.881275Z",
     "iopub.status.idle": "2025-01-18T05:58:28.889573Z",
     "shell.execute_reply": "2025-01-18T05:58:28.889016Z",
     "shell.execute_reply.started": "2025-01-18T05:58:28.881517Z"
    }
   },
   "outputs": [],
   "source": [
    "if EFFORT >= 2:\n",
    "  analyze_number_of_decks(Rules(hit_soft17=False, cut_card=0))\n",
    "# Rules(hit_soft17=False, cut_card=0) EFFORT=3\n",
    "# ndecks=1   prob:-0.161% (30s)  sim:-0.162% ±0.002%(94s)   wiz:-0.166%* bja:-0.197%+\n",
    "# ndecks=2   prob: 0.144% (17s)  sim: 0.144% ±0.002%(74s)   wiz: 0.141%* bja: 0.130%+\n",
    "# ndecks=4   prob: 0.287% (36s)  sim: 0.285% ±0.002%(76s)   wiz: 0.286%  bja: 0.282%+\n",
    "# ndecks=6   prob: 0.333% (36s)  sim: 0.333% ±0.002%(78s)   wiz: 0.334%  bja: 0.331%+\n",
    "# ndecks=8   prob: 0.357% (16s)  sim: 0.358% ±0.002%(72s)   wiz: 0.357%  bja: 0.335%+\n",
    "# ndecks=20  prob: 0.398% (36s)  sim: 0.399% ±0.002%(74s)\n",
    "# ndecks=inf prob: 0.426% (35s)  sim: 0.425% ±0.002%(63s)"
   ]
  },
  {
   "cell_type": "markdown",
   "id": "e6bdaee8",
   "metadata": {
    "lines_to_next_cell": 2
   },
   "source": [
    "### Subset of player actions"
   ]
  },
  {
   "cell_type": "code",
   "execution_count": 259,
   "id": "d819c928",
   "metadata": {
    "execution": {
     "iopub.execute_input": "2025-01-18T05:58:28.890486Z",
     "iopub.status.busy": "2025-01-18T05:58:28.890195Z",
     "iopub.status.idle": "2025-01-18T05:58:28.901186Z",
     "shell.execute_reply": "2025-01-18T05:58:28.900628Z",
     "shell.execute_reply.started": "2025-01-18T05:58:28.890470Z"
    }
   },
   "outputs": [],
   "source": [
    "def analyze_subset_of_player_actions(rules: Rules) -> None:\n",
    "  \"\"\"Tabulate the house edge as a function of the subset of player actions.\"\"\"\n",
    "  print(f'# {rules} {EFFORT=}')\n",
    "  empty_set = set[Action]()\n",
    "  for omit_actions in [\n",
    "      empty_set,\n",
    "      {Action.SURRENDER},\n",
    "      {Action.SURRENDER, Action.SPLIT},\n",
    "      {Action.SURRENDER, Action.DOUBLE},\n",
    "      {Action.SURRENDER, Action.SPLIT, Action.DOUBLE},\n",
    "  ]:\n",
    "    actions = set(Action) - omit_actions\n",
    "    strategy = Strategy(first_actions=frozenset(actions))\n",
    "    sorted_omit_actions = sorted(actions, key=lambda action: action.value)\n",
    "    name = (\n",
    "        'all (default)'\n",
    "        if actions == set(Action)\n",
    "        else f'no {\",\".join(action.name for action in sorted_omit_actions)}'\n",
    "    )\n",
    "    report_edge(rules, strategy, prefix=f'# {name:<25} ')"
   ]
  },
  {
   "cell_type": "markdown",
   "id": "fb5b119e",
   "metadata": {},
   "source": [
    "We see that omitting the \"SURRENDER\" action only increases the house edge by about 0.09%.\n",
    "\n",
    "In contrast, omitting either the \"DOUBLE\" or \"SPLIT\" actions significantly\n",
    "increases the house edge.\n",
    "\n",
    "Restricting the strategy to only making the binary \"STAND or HIT\" decision boosts the house edge\n",
    "to more than 2.5% :"
   ]
  },
  {
   "cell_type": "code",
   "execution_count": 260,
   "id": "3300382f",
   "metadata": {
    "execution": {
     "iopub.execute_input": "2025-01-18T05:58:28.902019Z",
     "iopub.status.busy": "2025-01-18T05:58:28.901750Z",
     "iopub.status.idle": "2025-01-18T05:58:30.295518Z",
     "shell.execute_reply": "2025-01-18T05:58:30.294866Z",
     "shell.execute_reply.started": "2025-01-18T05:58:28.902007Z"
    }
   },
   "outputs": [
    {
     "name": "stdout",
     "output_type": "stream",
     "text": [
      "# Rules(cut_card=234) EFFORT=1\n",
      "# all (default)             prob~ 0.545% (0s)   sim: 0.554% ±0.023%(0s)    wiz: 0.551%\n",
      "# no STAND,HIT,DOUBLE,SPLIT prob~ 0.633% (0s)   sim: 0.641% ±0.023%(0s)\n",
      "# no STAND,HIT,DOUBLE       prob~ 1.191% (0s)   sim: 1.192% ±0.023%(0s)\n",
      "# no STAND,HIT,SPLIT        prob~ 2.154% (0s)   sim: 2.172% ±0.020%(0s)\n",
      "# no STAND,HIT              prob~ 2.571% (0s)   sim: 2.581% ±0.020%(0s)\n"
     ]
    }
   ],
   "source": [
    "analyze_subset_of_player_actions(Rules())\n",
    "# Rules() EFFORT=3\n",
    "# all (default)             prob~ 0.530% (16s)  sim: 0.556% ±0.002%(64s)   wiz: 0.551%*\n",
    "# no SURRENDER              prob~ 0.618% (1s)   sim: 0.642% ±0.002%(65s)\n",
    "# no SPLIT,SURRENDER        prob~ 1.184% (0s)   sim: 1.203% ±0.002%(62s)\n",
    "# no DOUBLE,SURRENDER       prob~ 2.143% (43s)  sim: 2.163% ±0.002%(64s)\n",
    "# no DOUBLE,SPLIT,SURRENDER prob~ 2.565% (0s)   sim: 2.582% ±0.002%(62s)"
   ]
  },
  {
   "cell_type": "markdown",
   "id": "39e536c0",
   "metadata": {
    "lines_to_next_cell": 2
   },
   "source": [
    "### Rule variations"
   ]
  },
  {
   "cell_type": "code",
   "execution_count": 261,
   "id": "03784fac",
   "metadata": {
    "execution": {
     "iopub.execute_input": "2025-01-18T05:58:30.296623Z",
     "iopub.status.busy": "2025-01-18T05:58:30.296293Z",
     "iopub.status.idle": "2025-01-18T05:58:30.302933Z",
     "shell.execute_reply": "2025-01-18T05:58:30.302295Z",
     "shell.execute_reply.started": "2025-01-18T05:58:30.296609Z"
    }
   },
   "outputs": [],
   "source": [
    "def analyze_rule_variations(rules: Rules, pattern: str = '.') -> None:\n",
    "  \"\"\"Compute the effect of rule variations on the house edge.\"\"\"\n",
    "  report_edge(rules)\n",
    "  strategy = Strategy()\n",
    "  num_hands = get_num_hands()\n",
    "  prob_house_edge0 = probabilistic_house_edge(rules, strategy)\n",
    "  sim_house_edge0 = monte_carlo_house_edge(rules, strategy, num_hands)[0]\n",
    "  wiz_house_edge0 = wizard_edge_calc(rules, strategy)\n",
    "  print('# Rule variation               Prob change  Sim change  Wizard change  Wikipedia')\n",
    "\n",
    "  def run(name: str, expected: str = '', **variation: Any) -> None:\n",
    "    \"\"\"Consider a particular rule variation.\"\"\"\n",
    "    if not re.search(pattern, name):\n",
    "      return\n",
    "    modified_rules = dataclasses.replace(rules, **variation)\n",
    "    prob_house_edge = probabilistic_house_edge(modified_rules, strategy)\n",
    "    sim_house_edge = monte_carlo_house_edge(modified_rules, strategy, num_hands)[0]\n",
    "    wiz_house_edge = wizard_edge_calc(modified_rules, strategy)\n",
    "    prob_edge_change = prob_house_edge - prob_house_edge0\n",
    "    sim_edge_change = sim_house_edge - sim_house_edge0\n",
    "    wiz_defined, wiz_edge_change = False, -1.0\n",
    "    if wiz_house_edge0 is not None and wiz_house_edge is not None:\n",
    "      wiz_defined, wiz_edge_change = True, wiz_house_edge - wiz_house_edge0\n",
    "    s_wiz = f'{wiz_edge_change*100:+13.3f}' if wiz_defined else ''\n",
    "    s_expected = f'       {expected}' if expected else ''\n",
    "    print(\n",
    "        f'#  {name:29} {prob_edge_change*100:+4.3f}'\n",
    "        f' {sim_edge_change*100:+12.3f}{s_wiz:14}{s_expected}'.rstrip()\n",
    "    )\n",
    "\n",
    "  # Casino promotions such as 2:1 bj allow the player to acquire an advantage.\n",
    "  run('blackjack payout 2/1', blackjack_payout=2 / 1)\n",
    "\n",
    "  # \"the 6:5 game adds 1.4% to the house edge\"\n",
    "  run('blackjack payout 6/5', blackjack_payout=6 / 5, expected='+1.4')\n",
    "\n",
    "  # \"the 1:1 game increases the house edge by 2.3%\"\n",
    "  run('blackjack payout 1/1', blackjack_payout=1 / 1, expected='+2.3')\n",
    "\n",
    "  # \"decreases the house edge by about 0.2%\"\n",
    "  run('dealer stands soft 17', hit_soft17=False, expected='-0.2')\n",
    "\n",
    "  # \"The no hole card rule adds approximately 0.11% to the house edge.\"\n",
    "  # (Adding late_surrender=False here increases change in % from 0.10 to 0.20.)\n",
    "  run('no hole card (no OBO)', obo=False, expected='+0.11')\n",
    "\n",
    "  # \"Reno rule increases the house edge by around 0.1%\"\n",
    "  run('min 9 for double (Reno)', double_min_total=9, expected='+0.1')\n",
    "\n",
    "  # \"European version increases the house edge by around 0.2%\"\n",
    "  run('min 10 for double (European)', double_min_total=10, expected='+0.2')\n",
    "\n",
    "  # \"Disallowing doubling after a split increases the house edge by about 0.12%\"\n",
    "  run('no double after split', double_after_split=False, expected='+0.12')\n",
    "\n",
    "  # Surrender disallowed.  (We never allow \"early surrender\".)\n",
    "  run('no surrender', late_surrender=False)\n",
    "\n",
    "  # Splits are never allowed.\n",
    "  run('no splitting', split_to_num_hands=0)\n",
    "\n",
    "  # No more than one split allowed.\n",
    "  run('no resplitting', split_to_num_hands=2)\n",
    "\n",
    "  # No more than two splits allowed.\n",
    "  run('resplit only to 3 hands', split_to_num_hands=3)\n",
    "\n",
    "  # Any number of splits allowed.\n",
    "  run('unlimited resplit', split_to_num_hands=math.inf)\n",
    "\n",
    "  # \"allowing resplitting of aces reduces house edge by about 0.03%\"\n",
    "  run('resplit aces', resplit_aces=True, expected='-0.03')\n",
    "\n",
    "  # \"hit hands resulting from split aces reduces the house edge by about 0.13%\"\n",
    "  run('hit after split aces', hit_split_aces=True, expected='-0.13')\n",
    "\n",
    "  # Allow double after splitting aces.\n",
    "  run('double after split aces', double_split_aces=True)"
   ]
  },
  {
   "cell_type": "markdown",
   "id": "a56774be",
   "metadata": {},
   "source": [
    "The effects for most rule variations agree well with those in Wikipedia.\n",
    "(The exceptions are discussed next.)"
   ]
  },
  {
   "cell_type": "code",
   "execution_count": 262,
   "id": "dfbd1037",
   "metadata": {
    "execution": {
     "iopub.execute_input": "2025-01-18T05:58:30.304358Z",
     "iopub.status.busy": "2025-01-18T05:58:30.303967Z",
     "iopub.status.idle": "2025-01-18T05:58:39.647778Z",
     "shell.execute_reply": "2025-01-18T05:58:39.647129Z",
     "shell.execute_reply.started": "2025-01-18T05:58:30.304339Z"
    }
   },
   "outputs": [
    {
     "name": "stdout",
     "output_type": "stream",
     "text": [
      "# Rules(cut_card=234) Strategy() EFFORT=1:\n",
      "#  house edge: prob~ 0.545% (0s)   sim: 0.554% ±0.023%(0s)    wiz: 0.551%\n",
      "# Rule variation               Prob change  Sim change  Wizard change  Wikipedia\n",
      "#  blackjack payout 2/1          -2.266       -2.264\n",
      "#  blackjack payout 6/5          +1.360       +1.359       +1.360        +1.4\n",
      "#  blackjack payout 1/1          +2.266       +2.264                     +2.3\n",
      "#  dealer stands soft 17         -0.198       -0.197       -0.197        -0.2\n",
      "#  no hole card (no OBO)         +0.106       +0.106       +0.105        +0.11\n",
      "#  min 9 for double (Reno)       +0.105       +0.108       +0.106        +0.1\n",
      "#  min 10 for double (European)  +0.199       +0.205       +0.201        +0.2\n",
      "#  no double after split         +0.142       +0.139       +0.144        +0.12\n",
      "#  no surrender                  +0.089       +0.087       +0.088\n",
      "#  no splitting                  +0.551       +0.546\n",
      "#  no resplitting                +0.054       +0.050       +0.053\n",
      "#  resplit only to 3 hands       +0.008       +0.007       +0.009\n",
      "#  unlimited resplit             -0.002       -0.002\n",
      "#  resplit aces                  -0.071       -0.068       -0.068        -0.03\n",
      "#  hit after split aces          -0.179       -0.178       -0.185        -0.13\n",
      "#  double after split aces       -0.079       -0.080\n"
     ]
    }
   ],
   "source": [
    "if EFFORT >= 1:\n",
    "  analyze_rule_variations(Rules())\n",
    "# Rules() Strategy() EFFORT=3:\n",
    "#  house edge: prob~ 0.530% (0s)   sim: 0.556% ±0.002%(64s)   wiz: 0.551%*\n",
    "# Rule variation               Prob change  Sim change  Wizard change  Wikipedia\n",
    "#  blackjack payout 2/1          -2.266       -2.263\n",
    "#  blackjack payout 6/5          +1.360       +1.358       +1.360        +1.4\n",
    "#  blackjack payout 1/1          +2.266       +2.263                     +2.3\n",
    "#  dealer stands soft 17         -0.197       -0.197       -0.197        -0.2\n",
    "#  no hole card (no OBO)         +0.106       +0.104       +0.105        +0.11\n",
    "#  min 9 for double (Reno)       +0.106       +0.105       +0.106        +0.1\n",
    "#  min 10 for double (European)  +0.201       +0.199       +0.201        +0.2\n",
    "#  no double after split         +0.144       +0.143       +0.144        +0.12\n",
    "#  no surrender                  +0.088       +0.085       +0.088\n",
    "#  no splitting                  +0.559       +0.556\n",
    "#  no resplitting                +0.053       +0.053       +0.053\n",
    "#  resplit only to 3 hands       +0.008       +0.008       +0.009\n",
    "#  unlimited resplit             -0.002       -0.002\n",
    "#  resplit aces                  -0.068       -0.068       -0.068        -0.03\n",
    "#  hit after split aces          -0.177       -0.178       -0.185        -0.13\n",
    "#  double after split aces       -0.080       -0.080"
   ]
  },
  {
   "cell_type": "markdown",
   "id": "11b6ce19",
   "metadata": {},
   "source": [
    "When disallowing resplitting, the effect of \"no double after split\" (0.12%) exactly matches that\n",
    "reported in Wikipedia, so perhaps this was the context of that reported number:"
   ]
  },
  {
   "cell_type": "code",
   "execution_count": 263,
   "id": "d1c72d7b",
   "metadata": {
    "execution": {
     "iopub.execute_input": "2025-01-18T05:58:39.648639Z",
     "iopub.status.busy": "2025-01-18T05:58:39.648491Z",
     "iopub.status.idle": "2025-01-18T05:58:40.363523Z",
     "shell.execute_reply": "2025-01-18T05:58:40.362883Z",
     "shell.execute_reply.started": "2025-01-18T05:58:39.648625Z"
    }
   },
   "outputs": [
    {
     "name": "stdout",
     "output_type": "stream",
     "text": [
      "# Rules(split_to_num_hands=2, cut_card=234) Strategy() EFFORT=1:\n",
      "#  house edge: prob~ 0.599% (0s)   sim: 0.603% ±0.023%(0s)    wiz: 0.604%\n",
      "# Rule variation               Prob change  Sim change  Wizard change  Wikipedia\n",
      "#  no double after split         +0.122       +0.120       +0.124        +0.12\n"
     ]
    }
   ],
   "source": [
    "analyze_rule_variations(Rules(split_to_num_hands=2), pattern='no double after split')\n",
    "# Rules(split_to_num_hands=2) Strategy() EFFORT=3:\n",
    "#  house edge: prob~ 0.583% (7s)   sim: 0.609% ±0.002%(66s)   wiz: 0.604%*\n",
    "# Rule variation               Prob change  Sim change  Wizard change  Wikipedia\n",
    "#  no double after split         +0.124       +0.123       +0.124        +0.12"
   ]
  },
  {
   "cell_type": "markdown",
   "id": "bbd05dee",
   "metadata": {},
   "source": [
    "It looks like the Wikipedia house edges changes for \"resplit aces\" and \"hit after split aces\"\n",
    "may have been obtained for a single deck:"
   ]
  },
  {
   "cell_type": "code",
   "execution_count": 264,
   "id": "b16a6930",
   "metadata": {
    "execution": {
     "iopub.execute_input": "2025-01-18T05:58:40.364435Z",
     "iopub.status.busy": "2025-01-18T05:58:40.364267Z",
     "iopub.status.idle": "2025-01-18T05:58:41.772272Z",
     "shell.execute_reply": "2025-01-18T05:58:41.771657Z",
     "shell.execute_reply.started": "2025-01-18T05:58:40.364420Z"
    }
   },
   "outputs": [
    {
     "name": "stdout",
     "output_type": "stream",
     "text": [
      "# Rules(num_decks=1, cut_card=26) Strategy() EFFORT=1:\n",
      "#  house edge: prob~ 0.094% (0s)   sim: 0.149% ±0.022%(0s)    wiz: 0.121%\n",
      "# Rule variation               Prob change  Sim change  Wizard change  Wikipedia\n",
      "#  resplit aces                  -0.046       -0.032       -0.032        -0.03\n",
      "#  hit after split aces          -0.137       -0.131       -0.140        -0.13\n"
     ]
    }
   ],
   "source": [
    "analyze_rule_variations(Rules(num_decks=1), pattern='resplit aces|hit after split aces')\n",
    "# Rules(num_decks=1, cut_card=26) Strategy() EFFORT=3:\n",
    "#  house edge: prob~ 0.013% (11s)  sim: 0.149% ±0.002%(82s)   wiz: 0.121%*\n",
    "# Rule variation               Prob change  Sim change  Wizard change  Wikipedia\n",
    "#  resplit aces                  -0.031       -0.031       -0.032        -0.03\n",
    "#  hit after split aces          -0.130       -0.131       -0.140        -0.13"
   ]
  },
  {
   "cell_type": "markdown",
   "id": "17fe9a5d",
   "metadata": {
    "execution": {
     "iopub.execute_input": "2022-05-17T16:55:15.163439Z",
     "iopub.status.busy": "2022-05-17T16:55:15.163235Z",
     "iopub.status.idle": "2022-05-17T16:55:15.165939Z",
     "shell.execute_reply": "2022-05-17T16:55:15.165519Z",
     "shell.execute_reply.started": "2022-05-17T16:55:15.163419Z"
    }
   },
   "source": [
    "### Versus online calculators"
   ]
  },
  {
   "cell_type": "markdown",
   "id": "e8cc9306",
   "metadata": {
    "execution": {
     "iopub.execute_input": "2022-05-17T19:29:41.454161Z",
     "iopub.status.busy": "2022-05-17T19:29:41.453862Z",
     "iopub.status.idle": "2022-05-17T19:32:10.904225Z",
     "shell.execute_reply": "2022-05-17T19:32:10.903620Z",
     "shell.execute_reply.started": "2022-05-17T19:29:41.454144Z"
    }
   },
   "source": [
    "- For **basic strategy**, with 8 decks and continuous reshuffling,\n",
    "our results match other online calculators well:"
   ]
  },
  {
   "cell_type": "code",
   "execution_count": 265,
   "id": "40498608",
   "metadata": {
    "execution": {
     "iopub.execute_input": "2025-01-18T05:58:41.773093Z",
     "iopub.status.busy": "2025-01-18T05:58:41.772948Z",
     "iopub.status.idle": "2025-01-18T05:58:41.776559Z",
     "shell.execute_reply": "2025-01-18T05:58:41.775973Z",
     "shell.execute_reply.started": "2025-01-18T05:58:41.773080Z"
    }
   },
   "outputs": [],
   "source": [
    "if EFFORT >= 2:\n",
    "  explore_rule_variations(Rules(num_decks=8, cut_card=0))\n",
    "# original                : prob: 0.555% (38s)  sim: 0.558% ±0.002%(73s)   wiz: 0.555%  bja: 0.554%+\n",
    "# hit_soft17=False        : prob: 0.357% (18s)  sim: 0.358% ±0.002%(74s)   wiz: 0.357%  bja: 0.335%+\n",
    "# double_after_split=False: prob: 0.699% (50s)  sim: 0.702% ±0.002%(73s)   wiz: 0.699%  bja: 0.698%+\n",
    "# double_min_total=10     : prob: 0.751% (17s)  sim: 0.754% ±0.002%(99s)   wiz: 0.752%  bja: 0.732%+\n",
    "# split_to_num_hands=2    : prob: 0.609% (12s)  sim: 0.612% ±0.002%(74s)   wiz: 0.610%  bja: 0.608%+\n",
    "# resplit_aces=True       : prob: 0.485% (17s)  sim: 0.487% ±0.002%(73s)   wiz: 0.486%  bja: 0.484%+\n",
    "# hit_split_aces=True     : prob: 0.375% (50s)  sim: 0.377% ±0.002%(74s)   wiz: 0.368%*\n",
    "# obo=False, ls=False     : prob: 0.758% (75s)  sim: 0.760% ±0.002%(74s)   wiz: 0.758%  bja: 0.756%+\n",
    "# late_surrender=False    : prob: 0.646% (18s)  sim: 0.648% ±0.002%(73s)   wiz: 0.647%  bja: 0.646%\n",
    "# blackjack_payout=1.2    : prob: 1.913% (42s)  sim: 1.916% ±0.002%(73s)   wiz: 1.913%"
   ]
  },
  {
   "cell_type": "markdown",
   "id": "7a238540",
   "metadata": {},
   "source": [
    "- Moving from continuous reshuffling to a cut-card results in some inaccuracy.\n",
    "Possibly the 1D offset tables in Wizard are approximate."
   ]
  },
  {
   "cell_type": "code",
   "execution_count": 266,
   "id": "16989145",
   "metadata": {
    "execution": {
     "iopub.execute_input": "2025-01-18T05:58:41.777541Z",
     "iopub.status.busy": "2025-01-18T05:58:41.777267Z",
     "iopub.status.idle": "2025-01-18T05:58:41.789194Z",
     "shell.execute_reply": "2025-01-18T05:58:41.788424Z",
     "shell.execute_reply.started": "2025-01-18T05:58:41.777527Z"
    }
   },
   "outputs": [],
   "source": [
    "if EFFORT >= 2:\n",
    "  explore_rule_variations(Rules(num_decks=8))\n",
    "# original                : prob~ 0.555% (39s)  sim: 0.578% ±0.002%(62s)   wiz: 0.569%*\n",
    "# hit_soft17=False        : prob~ 0.357% (18s)  sim: 0.377% ±0.002%(62s)   wiz: 0.371%*\n",
    "# double_after_split=False: prob~ 0.699% (42s)  sim: 0.721% ±0.002%(62s)   wiz: 0.713%*\n",
    "# double_min_total=10     : prob~ 0.751% (17s)  sim: 0.773% ±0.002%(63s)   wiz: 0.766%*\n",
    "# split_to_num_hands=2    : prob~ 0.609% (31s)  sim: 0.632% ±0.002%(62s)   wiz: 0.624%*\n",
    "# resplit_aces=True       : prob~ 0.485% (17s)  sim: 0.508% ±0.002%(61s)   wiz: 0.500%*\n",
    "# hit_split_aces=True     : prob~ 0.375% (43s)  sim: 0.397% ±0.002%(62s)   wiz: 0.382%*\n",
    "# obo=False, ls=False     : prob~ 0.758% (18s)  sim: 0.776% ±0.002%(61s)   wiz: 0.772%*\n",
    "# late_surrender=False    : prob~ 0.646% (17s)  sim: 0.666% ±0.002%(62s)   wiz: 0.661%* wiki: 0.660%+\n",
    "# blackjack_payout=1.2    : prob~ 1.913% (41s)  sim: 1.934% ±0.002%(61s)   wiz: 1.927%*"
   ]
  },
  {
   "cell_type": "markdown",
   "id": "411b0b75",
   "metadata": {},
   "source": [
    "- For a single deck and continuous reshuffling, our house edge results are about 0.005% higher\n",
    "than WizardOfOdds.\n",
    "The BJA results are not close."
   ]
  },
  {
   "cell_type": "code",
   "execution_count": 267,
   "id": "20e2e197",
   "metadata": {
    "execution": {
     "iopub.execute_input": "2025-01-18T05:58:41.790245Z",
     "iopub.status.busy": "2025-01-18T05:58:41.790025Z",
     "iopub.status.idle": "2025-01-18T05:58:41.801357Z",
     "shell.execute_reply": "2025-01-18T05:58:41.800634Z",
     "shell.execute_reply.started": "2025-01-18T05:58:41.790230Z"
    }
   },
   "outputs": [],
   "source": [
    "if EFFORT >= 2:\n",
    "  explore_rule_variations(Rules(num_decks=1, cut_card=0))\n",
    "# original                : prob: 0.013% (12s)  sim: 0.012% ±0.002%(96s)   wiz: 0.008%* bja: 0.021%+\n",
    "# hit_soft17=False        : prob:-0.161% (12s)  sim:-0.162% ±0.002%(96s)   wiz:-0.166%* bja:-0.197%+\n",
    "# double_after_split=False: prob: 0.156% (36s)  sim: 0.155% ±0.002%(96s)   wiz: 0.152%* bja: 0.123%+\n",
    "# double_min_total=10     : prob: 0.314% (12s)  sim: 0.314% ±0.002%(96s)   wiz: 0.311%* bja: 0.255%+\n",
    "# split_to_num_hands=2    : prob: 0.041% (10s)  sim: 0.040% ±0.002%(96s)   wiz: 0.038%* bja: 0.008%+\n",
    "# resplit_aces=True       : prob:-0.019% (36s)  sim:-0.020% ±0.002%(94s)   wiz:-0.024%* bja:-0.052%+\n",
    "# hit_split_aces=True     : prob:-0.117% (14s)  sim:-0.118% ±0.002%(95s)   wiz:-0.132%*\n",
    "# obo=False, ls=False     : prob: 0.162% (70s)  sim: 0.160% ±0.002%(95s)   wiz: 0.160%* bja: 0.130%+\n",
    "# late_surrender=False    : prob: 0.044% (11s)  sim: 0.042% ±0.002%(96s)   wiz: 0.046%* bja: 0.018%+\n",
    "# blackjack_payout=1.2    : prob: 1.407% (38s)  sim: 1.406% ±0.002%(95s)   wiz: 1.403%*"
   ]
  },
  {
   "cell_type": "markdown",
   "id": "5876527b",
   "metadata": {
    "execution": {
     "iopub.execute_input": "2022-05-17T19:24:42.634517Z",
     "iopub.status.busy": "2022-05-17T19:24:42.634321Z",
     "iopub.status.idle": "2022-05-17T19:27:17.951311Z",
     "shell.execute_reply": "2022-05-17T19:27:17.950749Z",
     "shell.execute_reply.started": "2022-05-17T19:24:42.634504Z"
    }
   },
   "source": [
    "- When the shoe has few decks (especially just a single deck) and a cut-card is used,\n",
    "the position of the cut-card has a significant effect on the house edge\n",
    "(see [this section](#Effect-of-using-a-cut-card)).\n",
    "We find that changing the default `cut_card=26` to `cut_card=24` comes\n",
    "closest to the WizardOfOdds results:"
   ]
  },
  {
   "cell_type": "code",
   "execution_count": 268,
   "id": "64265ae7",
   "metadata": {
    "execution": {
     "iopub.execute_input": "2025-01-18T05:58:41.802586Z",
     "iopub.status.busy": "2025-01-18T05:58:41.802277Z",
     "iopub.status.idle": "2025-01-18T05:58:41.816669Z",
     "shell.execute_reply": "2025-01-18T05:58:41.815892Z",
     "shell.execute_reply.started": "2025-01-18T05:58:41.802573Z"
    }
   },
   "outputs": [],
   "source": [
    "if EFFORT >= 2:\n",
    "  explore_rule_variations(Rules(num_decks=1, cut_card=24))\n",
    "# Observations: late_surrender=False introduces the greatest divergence.\n",
    "\n",
    "# original                : prob~ 0.013% (12s)  sim: 0.122% ±0.002%(82s)   wiz: 0.121%\n",
    "# hit_soft17=False        : prob~-0.161% (11s)  sim:-0.057% ±0.002%(80s)   wiz:-0.053%\n",
    "# double_after_split=False: prob~ 0.156% (37s)  sim: 0.263% ±0.002%(80s)   wiz: 0.265%\n",
    "# double_min_total=10     : prob~ 0.314% (12s)  sim: 0.416% ±0.002%(80s)   wiz: 0.424%*\n",
    "# split_to_num_hands=2    : prob~ 0.041% (6s)   sim: 0.149% ±0.002%(81s)   wiz: 0.151%\n",
    "# resplit_aces=True       : prob~-0.019% (35s)  sim: 0.090% ±0.002%(80s)   wiz: 0.089%\n",
    "# hit_split_aces=True     : prob~-0.117% (14s)  sim:-0.011% ±0.002%(81s)   wiz:-0.019%*\n",
    "# obo=False, ls=False     : prob~ 0.162% (12s)  sim: 0.248% ±0.002%(81s)   wiz: 0.273%*\n",
    "# late_surrender=False    : prob~ 0.044% (36s)  sim: 0.141% ±0.002%(81s)   wiz: 0.159%*\n",
    "# blackjack_payout=1.2    : prob~ 1.407% (13s)  sim: 1.509% ±0.002%(81s)   wiz: 1.516%*"
   ]
  },
  {
   "cell_type": "markdown",
   "id": "b10a68d5",
   "metadata": {},
   "source": [
    "### Composition-dep. strategy"
   ]
  },
  {
   "cell_type": "markdown",
   "id": "6ac2cfd0-3c89-490c-b48f-fa8a5be4759a",
   "metadata": {},
   "source": [
    "Implementation note: for the simulation results below, the simulation strategy is restricted to `Attention.INITIAL_CARDS_AND_TOTAL` (rather than `Attention.HAND_AND_NUM_PRIOR_SPLITS`),\n",
    "so the simulation results are less accurate.\n",
    "\n",
    "Moreover, the construction of the `action_table` prior to simulation often needs to recalculate\n",
    "new probabilities based on the altered strategy,\n",
    "and this step can account for more than half of the reported `sim` times."
   ]
  },
  {
   "cell_type": "markdown",
   "id": "f5640461",
   "metadata": {},
   "source": [
    "- Because the 9D tables used by WizardOfOdds are computed for the case of a\n",
    "  **composition-dependent strategy** and no cut-card,\n",
    "  we expect and obtain consistent alignment of results there:"
   ]
  },
  {
   "cell_type": "code",
   "execution_count": 269,
   "id": "d160d249",
   "metadata": {
    "execution": {
     "iopub.execute_input": "2025-01-18T05:58:41.817759Z",
     "iopub.status.busy": "2025-01-18T05:58:41.817451Z",
     "iopub.status.idle": "2025-01-18T05:58:48.512510Z",
     "shell.execute_reply": "2025-01-18T05:58:48.511856Z",
     "shell.execute_reply.started": "2025-01-18T05:58:41.817746Z"
    }
   },
   "outputs": [
    {
     "name": "stdout",
     "output_type": "stream",
     "text": [
      "# Rules(cut_card=0) EFFORT=1\n",
      "# ndecks=1   prob: 0.061% (0s)   sim~-0.019% ±0.023%(0s)    wiz:-0.030%* bjstrat:-0.030%*\n",
      "# ndecks=2   prob: 0.361% (0s)   sim~ 0.318% ±0.023%(1s)    wiz: 0.314%* bjstrat: 0.314%*\n",
      "# ndecks=4   prob: 0.499% (0s)   sim~ 0.493% ±0.023%(1s)    wiz: 0.475%*\n",
      "# ndecks=6   prob: 0.543% (0s)   sim~ 0.527% ±0.023%(1s)    wiz: 0.527%*\n",
      "# ndecks=8   prob: 0.565% (1s)   sim~ 0.541% ±0.023%(1s)    wiz: 0.553%* bjstrat: 0.553%*\n",
      "# ndecks=20  prob: 0.604% (0s)   sim~ 0.603% ±0.023%(1s)\n",
      "# ndecks=inf prob: 0.629% (0s)   sim~ 0.634% ±0.023%(1s)\n"
     ]
    }
   ],
   "source": [
    "analyze_number_of_decks(Rules(cut_card=0), COMPOSITION_DEPENDENT_STRATEGY)\n",
    "# (Here the simulation results are less accurate because they can only use the\n",
    "# `Attention.INITIAL_CARDS_AND_TOTAL` strategy and not the more favorable\n",
    "# `Attention.HAND_AND_NUM_PRIOR_SPLITS` used by our probabilistic analysis and Wizard.)\n",
    "\n",
    "# Rules(cut_card=0) EFFORT=3\n",
    "# ndecks=1   prob:-0.030% (21s)  sim~-0.026% ±0.002%(96s)   wiz:-0.030%  bjstrat:-0.030%\n",
    "# ndecks=2   prob: 0.314% (59s)  sim~ 0.315% ±0.002%(136s)  wiz: 0.314%  bjstrat: 0.314%\n",
    "# ndecks=4   prob: 0.475% (54s)  sim~ 0.473% ±0.002%(137s)  wiz: 0.475%\n",
    "# ndecks=6   prob: 0.527% (72s)  sim~ 0.528% ±0.002%(108s)  wiz: 0.527%  bjstrat: 0.527%\n",
    "# ndecks=8   prob: 0.553% (70s)  sim~ 0.557% ±0.002%(136s)  wiz: 0.553%  bjstrat: 0.553%\n",
    "# ndecks=20  prob: 0.599% (51s)  sim~ 0.600% ±0.002%(139s)\n",
    "# ndecks=inf prob: 0.629% (61s)  sim~ 0.627% ±0.002%(96s)"
   ]
  },
  {
   "cell_type": "code",
   "execution_count": 270,
   "id": "4a531b13",
   "metadata": {
    "execution": {
     "iopub.execute_input": "2025-01-18T05:58:48.513756Z",
     "iopub.status.busy": "2025-01-18T05:58:48.513381Z",
     "iopub.status.idle": "2025-01-18T05:58:48.517491Z",
     "shell.execute_reply": "2025-01-18T05:58:48.516887Z",
     "shell.execute_reply.started": "2025-01-18T05:58:48.513739Z"
    }
   },
   "outputs": [],
   "source": [
    "if EFFORT >= 2:\n",
    "  explore_rule_variations(Rules(num_decks=8, cut_card=0), COMPOSITION_DEPENDENT_STRATEGY)\n",
    "\n",
    "# Our probabilistic results are an almost perfect match to the Wizard results, except for one\n",
    "# discrepancy: `hit_split_aces=True`.  For this one exception, our result agrees with Bjstrat and\n",
    "# with the simulation result, so we have some confidence that it is correct.\n",
    "\n",
    "# (Again, our simulation results are less accurate here because the simulation strategy is\n",
    "# limited to `Attention.INITIAL_CARDS_AND_TOTAL`.)\n",
    "\n",
    "# original                : prob: 0.553% (64s)  sim~ 0.557% ±0.002%(73s)   wiz: 0.553%  bjstrat: 0.553%\n",
    "# hit_soft17=False        : prob: 0.355% (81s)  sim~ 0.357% ±0.002%(107s)  wiz: 0.355%\n",
    "# double_after_split=False: prob: 0.697% (70s)  sim~ 0.700% ±0.002%(141s)  wiz: 0.698%\n",
    "# double_min_total=10     : prob: 0.749% (41s)  sim~ 0.753% ±0.002%(133s)  wiz: 0.750%\n",
    "# split_to_num_hands=2    : prob: 0.608% (23s)  sim~ 0.611% ±0.002%(90s)   wiz: 0.608%\n",
    "# resplit_aces=True       : prob: 0.483% (66s)  sim~ 0.486% ±0.002%(108s)  wiz: 0.484%\n",
    "# hit_split_aces=True     : prob: 0.373% (82s)  sim~ 0.376% ±0.002%(138s)  wiz: 0.366%* bjstrat: 0.373%\n",
    "# obo=False, ls=False     : prob: 0.756% (46s)  sim~ 0.758% ±0.002%(136s)  wiz: 0.756%\n",
    "# late_surrender=False    : prob: 0.645% (67s)  sim~ 0.646% ±0.002%(108s)  wiz: 0.645%\n",
    "# blackjack_payout=1.2    : prob: 1.911% (65s)  sim~ 1.915% ±0.002%(107s)  wiz: 1.911%"
   ]
  },
  {
   "cell_type": "code",
   "execution_count": 271,
   "id": "2479dbe4",
   "metadata": {
    "execution": {
     "iopub.execute_input": "2025-01-18T05:58:48.518636Z",
     "iopub.status.busy": "2025-01-18T05:58:48.518309Z",
     "iopub.status.idle": "2025-01-18T05:58:48.530066Z",
     "shell.execute_reply": "2025-01-18T05:58:48.529379Z",
     "shell.execute_reply.started": "2025-01-18T05:58:48.518619Z"
    }
   },
   "outputs": [],
   "source": [
    "if 0:\n",
    "  explore_rule_variations(\n",
    "      Rules(num_decks=8, cut_card=0),\n",
    "      Strategy(attention=Attention.HAND_AND_INITIAL_CARDS_IN_PRIOR_SPLITS),\n",
    "  )\n",
    "# There are no discernible changes wrt to the cell above."
   ]
  },
  {
   "cell_type": "markdown",
   "id": "a6aa8d85",
   "metadata": {},
   "source": [
    "- A shoe containing only a single deck amplifies the effects of rule variations:"
   ]
  },
  {
   "cell_type": "code",
   "execution_count": 272,
   "id": "ca77b693",
   "metadata": {
    "execution": {
     "iopub.execute_input": "2025-01-18T05:58:48.531501Z",
     "iopub.status.busy": "2025-01-18T05:58:48.531045Z",
     "iopub.status.idle": "2025-01-18T05:58:48.539436Z",
     "shell.execute_reply": "2025-01-18T05:58:48.538747Z",
     "shell.execute_reply.started": "2025-01-18T05:58:48.531479Z"
    }
   },
   "outputs": [],
   "source": [
    "if EFFORT >= 2:\n",
    "  explore_rule_variations(Rules(num_decks=1, cut_card=0), COMPOSITION_DEPENDENT_STRATEGY)\n",
    "\n",
    "# Our probabilistic results are a near-perfect match to both the WizardOfOdds and the Bjstrat\n",
    "# results, except for `hit_split_aces=True` where the Wizard result differs (as also observed\n",
    "# above for num_decks=8.)\n",
    "\n",
    "# (Again, our simulation results are less accurate here because the simulation strategy is\n",
    "# limited to `Attention.INITIAL_CARDS_AND_TOTAL`.)\n",
    "\n",
    "# original                : prob:-0.030% (47s)  sim~-0.026% ±0.002%(95s)   wiz:-0.030%  bjstrat:-0.030%\n",
    "# hit_soft17=False        : prob:-0.205% (23s)  sim~-0.202% ±0.002%(150s)  wiz:-0.205%  bjstrat:-0.205%\n",
    "# double_after_split=False: prob: 0.114% (25s)  sim~ 0.117% ±0.002%(122s)  wiz: 0.114%  bjstrat: 0.114%\n",
    "# double_min_total=10     : prob: 0.272% (23s)  sim~ 0.276% ±0.002%(119s)  wiz: 0.272%  bjstrat: 0.272%\n",
    "# split_to_num_hands=2    : prob:-0.001% (14s)  sim~ 0.002% ±0.002%(140s)  wiz:-0.001%  bjstrat:-0.001%\n",
    "# resplit_aces=True       : prob:-0.061% (22s)  sim~-0.058% ±0.002%(144s)  wiz:-0.062%  bjstrat:-0.062%\n",
    "# hit_split_aces=True     : prob:-0.160% (28s)  sim~-0.156% ±0.002%(123s)  wiz:-0.170%* bjstrat:-0.160%\n",
    "# obo=False, ls=False     : prob: 0.121% (56s)  sim~ 0.124% ±0.002%(120s)  wiz: 0.121%  bjstrat: 0.122%\n",
    "# late_surrender=False    : prob: 0.008% (50s)  sim~ 0.011% ±0.002%(119s)  wiz: 0.008%  bjstrat: 0.008%\n",
    "# blackjack_payout=1.2    : prob: 1.365% (22s)  sim~ 1.369% ±0.002%(145s)  wiz: 1.365%  bjstrat: 1.365%\n",
    "# [keep line for pylint]"
   ]
  },
  {
   "cell_type": "markdown",
   "id": "09199581",
   "metadata": {},
   "source": [
    "- If we further broaden the strategy attention to `HAND_AND_INITIAL_CARDS_IN_PRIOR_SPLIT`,\n",
    "  the results are largely unchanged, suggesting that this additional effort in strategy is not\n",
    "  worthwhile:"
   ]
  },
  {
   "cell_type": "code",
   "execution_count": 273,
   "id": "47fcb66a",
   "metadata": {
    "execution": {
     "iopub.execute_input": "2025-01-18T05:58:48.540587Z",
     "iopub.status.busy": "2025-01-18T05:58:48.540259Z",
     "iopub.status.idle": "2025-01-18T05:58:48.550915Z",
     "shell.execute_reply": "2025-01-18T05:58:48.550207Z",
     "shell.execute_reply.started": "2025-01-18T05:58:48.540571Z"
    }
   },
   "outputs": [],
   "source": [
    "if 0:\n",
    "  explore_rule_variations(\n",
    "      Rules(num_decks=1, cut_card=0),\n",
    "      Strategy(attention=Attention.HAND_AND_INITIAL_CARDS_IN_PRIOR_SPLITS),\n",
    "  )\n",
    "# The results are nearly identical to the above.  The reported probabilistic house edge is reduced\n",
    "# by 0.001% in about half of the instances."
   ]
  },
  {
   "cell_type": "markdown",
   "id": "e5a00110",
   "metadata": {
    "lines_to_next_cell": 2
   },
   "source": [
    "- Next we try to reproduce the Wikipedia results on the progressively decreasing benefits\n",
    "of composition-dependent strategy as function of an increasing number of decks."
   ]
  },
  {
   "cell_type": "code",
   "execution_count": 274,
   "id": "2e3a4d22",
   "metadata": {
    "execution": {
     "iopub.execute_input": "2025-01-18T05:58:48.551961Z",
     "iopub.status.busy": "2025-01-18T05:58:48.551680Z",
     "iopub.status.idle": "2025-01-18T05:58:48.560399Z",
     "shell.execute_reply": "2025-01-18T05:58:48.559799Z",
     "shell.execute_reply.started": "2025-01-18T05:58:48.551946Z"
    }
   },
   "outputs": [],
   "source": [
    "def analyze_composition_dependent_strategy_with_number_of_decks(rules: Rules) -> None:\n",
    "  \"\"\"Show that CDS reduces the house edge, particularly for few decks.\"\"\"\n",
    "  for solver in ['Probabilistic', 'Simulated', 'Wizard']:\n",
    "    print(f'# {solver} house edge % using {rules} and {EFFORT=}:')\n",
    "    if solver == 'Wizard' and rules.cut_card != 0:\n",
    "      print('#  (No data for composition-dependent strategy with cut-card.)')\n",
    "      continue\n",
    "    print('#  Number of decks   Basic strategy   Composition-dependent   Change')\n",
    "\n",
    "    for num_decks in [1, 2, 4, 6, math.inf]:\n",
    "      cut_card = 0 if rules.cut_card == 0 else default_cut_card(num_decks)\n",
    "      modified_rules = dataclasses.replace(rules, num_decks=num_decks, cut_card=cut_card)\n",
    "\n",
    "      match solver:\n",
    "\n",
    "        case 'Wizard':\n",
    "          bs_edge = wizard_edge_calc(modified_rules, Strategy())\n",
    "          cd_edge = wizard_edge_calc(modified_rules, COMPOSITION_DEPENDENT_STRATEGY)\n",
    "          if bs_edge is None or cd_edge is None:\n",
    "            continue\n",
    "\n",
    "        case 'Probabilistic':\n",
    "          bs_edge = probabilistic_house_edge(modified_rules, BASIC_STRATEGY)\n",
    "          cd_edge = probabilistic_house_edge(modified_rules, COMPOSITION_DEPENDENT_STRATEGY)\n",
    "\n",
    "        case 'Simulated':\n",
    "          num_hands = get_num_hands()\n",
    "          bs_edge = monte_carlo_house_edge(modified_rules, BASIC_STRATEGY, num_hands)[0]\n",
    "          cd_edge = monte_carlo_house_edge(modified_rules, INITIAL_DEPENDENT_STRATEGY, num_hands)[0]\n",
    "\n",
    "        case _:\n",
    "          raise ValueError(solver)\n",
    "\n",
    "      change = cd_edge - bs_edge\n",
    "      print(f'# {num_decks:8} {bs_edge*100:20.3f} {cd_edge*100:18.3f} {change*100:17.4f}')\n",
    "      if num_decks == math.inf:\n",
    "        # For a shoe with infinite decks, the card probability distribution is always uniform,\n",
    "        # so a composition-dependent strategy offers no benefit.\n",
    "        check_eq(change, 0.0)"
   ]
  },
  {
   "cell_type": "markdown",
   "id": "64a4867c",
   "metadata": {},
   "source": [
    "From Wikipedia,\n",
    "\"Using a composition-dependent strategy rather than basic strategy in a single deck game reduces\n",
    "the house edge by 4 in 10,000 (0.04%), which falls to 3 in 100,000 (0.003%) for a six-deck game.\"\n",
    "\n",
    "* Our results (0.038% and 0.002%) are close to those numbers\n",
    "in the case of continuous reshuffling (`cut_card=0`):"
   ]
  },
  {
   "cell_type": "code",
   "execution_count": 275,
   "id": "083f4679",
   "metadata": {
    "execution": {
     "iopub.execute_input": "2025-01-18T05:58:48.561434Z",
     "iopub.status.busy": "2025-01-18T05:58:48.561129Z",
     "iopub.status.idle": "2025-01-18T05:58:50.411721Z",
     "shell.execute_reply": "2025-01-18T05:58:50.411064Z",
     "shell.execute_reply.started": "2025-01-18T05:58:48.561418Z"
    }
   },
   "outputs": [
    {
     "name": "stdout",
     "output_type": "stream",
     "text": [
      "# Probabilistic house edge % using Rules(cut_card=0) and EFFORT=1:\n",
      "#  Number of decks   Basic strategy   Composition-dependent   Change\n",
      "#        1                0.094              0.061           -0.0326\n",
      "#        2                0.371              0.361           -0.0106\n",
      "#        4                0.502              0.499           -0.0032\n",
      "#        6                0.545              0.543           -0.0015\n",
      "#      inf                0.629              0.629            0.0000\n",
      "# Simulated house edge % using Rules(cut_card=0) and EFFORT=1:\n",
      "#  Number of decks   Basic strategy   Composition-dependent   Change\n",
      "#        1                0.011             -0.019           -0.0303\n",
      "#        2                0.337              0.318           -0.0190\n",
      "#        4                0.496              0.493           -0.0031\n",
      "#        6                0.522              0.527            0.0059\n",
      "#      inf                0.634              0.634            0.0000\n",
      "# Wizard house edge % using Rules(cut_card=0) and EFFORT=1:\n",
      "#  Number of decks   Basic strategy   Composition-dependent   Change\n",
      "#        1                0.008             -0.030           -0.0387\n",
      "#        2                0.328              0.314           -0.0140\n",
      "#        4                0.481              0.475           -0.0055\n",
      "#        6                0.531              0.527           -0.0031\n"
     ]
    }
   ],
   "source": [
    "analyze_composition_dependent_strategy_with_number_of_decks(Rules(cut_card=0))\n",
    "# Probabilistic house edge % using Rules(cut_card=0) and EFFORT=3:\n",
    "#  Number of decks   Basic strategy   Composition-dependent   Change\n",
    "#        1                0.013             -0.030           -0.0426\n",
    "#        2                0.328              0.314           -0.0144\n",
    "#        4                0.480              0.475           -0.0052\n",
    "#        6                0.530              0.527           -0.0027\n",
    "#      inf                0.629              0.629            0.0000\n",
    "# Simulated house edge % using Rules(cut_card=0) and EFFORT=3:\n",
    "#  Number of decks   Basic strategy   Composition-dependent   Change\n",
    "#        1                0.012             -0.026           -0.0378\n",
    "#        2                0.329              0.315           -0.0132\n",
    "#        4                0.478              0.473           -0.0048\n",
    "#        6                0.530              0.528           -0.0022\n",
    "#      inf                0.627              0.627            0.0000\n",
    "# Wizard house edge % using Rules(cut_card=0) and EFFORT=3:\n",
    "#  Number of decks   Basic strategy   Composition-dependent   Change\n",
    "#        1                0.008             -0.030           -0.0387\n",
    "#        2                0.328              0.314           -0.0140\n",
    "#        4                0.481              0.475           -0.0055\n",
    "#        6                0.531              0.527           -0.0031"
   ]
  },
  {
   "cell_type": "markdown",
   "id": "d03ff29f",
   "metadata": {},
   "source": [
    "* When a cut-card is used, the benefit of a composition-dependent strategy\n",
    "is slightly reduced (e.g., from 0.038% to 0.026% on 1 deck)."
   ]
  },
  {
   "cell_type": "code",
   "execution_count": 276,
   "id": "ccf740d7",
   "metadata": {
    "execution": {
     "iopub.execute_input": "2025-01-18T05:58:50.412850Z",
     "iopub.status.busy": "2025-01-18T05:58:50.412533Z",
     "iopub.status.idle": "2025-01-18T05:58:51.473502Z",
     "shell.execute_reply": "2025-01-18T05:58:51.472846Z",
     "shell.execute_reply.started": "2025-01-18T05:58:50.412835Z"
    }
   },
   "outputs": [
    {
     "name": "stdout",
     "output_type": "stream",
     "text": [
      "# Probabilistic house edge % using Rules(cut_card=234) and EFFORT=1:\n",
      "#  Number of decks   Basic strategy   Composition-dependent   Change\n",
      "#        1                0.094              0.061           -0.0326\n",
      "#        2                0.371              0.361           -0.0106\n",
      "#        4                0.502              0.499           -0.0032\n",
      "#        6                0.545              0.543           -0.0015\n",
      "#      inf                0.629              0.629            0.0000\n",
      "# Simulated house edge % using Rules(cut_card=234) and EFFORT=1:\n",
      "#  Number of decks   Basic strategy   Composition-dependent   Change\n",
      "#        1                0.149              0.125           -0.0246\n",
      "#        2                0.416              0.397           -0.0195\n",
      "#        4                0.536              0.533           -0.0032\n",
      "#        6                0.554              0.558            0.0047\n",
      "#      inf                0.634              0.634            0.0000\n",
      "# Wizard house edge % using Rules(cut_card=234) and EFFORT=1:\n",
      "#  (No data for composition-dependent strategy with cut-card.)\n"
     ]
    }
   ],
   "source": [
    "if EFFORT >= 1:\n",
    "  analyze_composition_dependent_strategy_with_number_of_decks(Rules())\n",
    "# Probabilistic house edge % using Rules() and EFFORT=3:\n",
    "#  Number of decks   Basic strategy   Composition-dependent   Change\n",
    "#        1                0.013             -0.030           -0.0426\n",
    "#        2                0.328              0.314           -0.0144\n",
    "#        4                0.480              0.475           -0.0052\n",
    "#        6                0.530              0.527           -0.0027\n",
    "#      inf                0.629              0.629            0.0000\n",
    "# Simulated house edge % using Rules() and EFFORT=3:\n",
    "#  Number of decks   Basic strategy   Composition-dependent   Change\n",
    "#        1                0.149              0.123           -0.0263\n",
    "#        2                0.406              0.392           -0.0133\n",
    "#        4                0.517              0.512           -0.0045\n",
    "#        6                0.556              0.554           -0.0023\n",
    "#      inf                0.627              0.627            0.0000\n",
    "# Wizard house edge % using Rules() and EFFORT=3:\n",
    "#  (No data for composition-dependent strategy with cut-card.)"
   ]
  },
  {
   "cell_type": "markdown",
   "id": "b88daef3",
   "metadata": {},
   "source": [
    "* When the dealer stands on a soft total of 17, the numbers are close to\n",
    "the Wikipedia values;\n",
    "We obtain a benefit of 0.040% on 1 deck and 0.002% on 6 decks:"
   ]
  },
  {
   "cell_type": "code",
   "execution_count": 277,
   "id": "efe9585d",
   "metadata": {
    "execution": {
     "iopub.execute_input": "2025-01-18T05:58:51.474900Z",
     "iopub.status.busy": "2025-01-18T05:58:51.474382Z",
     "iopub.status.idle": "2025-01-18T05:58:51.478582Z",
     "shell.execute_reply": "2025-01-18T05:58:51.477919Z",
     "shell.execute_reply.started": "2025-01-18T05:58:51.474882Z"
    }
   },
   "outputs": [],
   "source": [
    "if EFFORT >= 2:\n",
    "  analyze_composition_dependent_strategy_with_number_of_decks(Rules(hit_soft17=False, cut_card=0))\n",
    "# Probabilistic house edge % using Rules(hit_soft17=False, cut_card=0) and EFFORT=3:\n",
    "#  Number of decks   Basic strategy   Composition-dependent   Change\n",
    "#        1               -0.161             -0.205           -0.0443\n",
    "#        2                0.144              0.127           -0.0170\n",
    "#        4                0.287              0.281           -0.0062\n",
    "#        6                0.333              0.330           -0.0030\n",
    "#      inf                0.426              0.426            0.0000\n",
    "# Simulated house edge % using Rules(hit_soft17=False, cut_card=0) and EFFORT=3:\n",
    "#  Number of decks   Basic strategy   Composition-dependent   Change\n",
    "#        1               -0.162             -0.202           -0.0395\n",
    "#        2                0.144              0.129           -0.0155\n",
    "#        4                0.285              0.279           -0.0056\n",
    "#        6                0.333              0.331           -0.0023\n",
    "#      inf                0.425              0.425            0.0000\n",
    "# Wizard house edge % using Rules(hit_soft17=False, cut_card=0) and EFFORT=3:\n",
    "#  Number of decks   Basic strategy   Composition-dependent   Change\n",
    "#        1               -0.166             -0.205           -0.0387\n",
    "#        2                0.141              0.127           -0.0140\n",
    "#        4                0.286              0.281           -0.0055\n",
    "#        6                0.334              0.331           -0.0031"
   ]
  },
  {
   "cell_type": "markdown",
   "id": "375dd1ef",
   "metadata": {},
   "source": [
    "## Effect of using a cut-card\n",
    "<a name=\"Effect-of-using-a-cut-card\"></a>"
   ]
  },
  {
   "cell_type": "markdown",
   "id": "ba5768a8",
   "metadata": {},
   "source": [
    "A cut-card is often added to the shoe (e.g. 0.5 to 2.0 decks from the back), and the shoe is\n",
    "reshuffled after completion of the hand during which the cut-card appears.\n",
    "We let the parameter `rules.cut_card` specify the number of shoe cards in front of the cut card.\n",
    "\n",
    "Note that placing the cut-card at the front of the shoe (`cut_card=0`) is equivalent to\n",
    "*continuous reshuffling*, i.e., reshuffling the shoe after every hand.\n",
    "\n",
    "Some initial effects of using a cut-card are:\n",
    "\n",
    "- With shallow penetration (i.e., few cards played and many remaining shoe cards),\n",
    "card counting is ineffective because there is little advantage to exploit.\n",
    "\n",
    "- More shuffles means fewer hands dealt per hour, decreasing the player's exposure to the\n",
    "house edge.\n",
    "\n",
    "An important observation is that the house edge for continuous reshuffling\n",
    "(i.e., playing a *single* hand per shoe)\n",
    "is *identical* to that when playing any *fixed number* of hands per shoe\n",
    "(as long as that number is not so large as to exhaust the shoe).\n",
    "\n",
    "A key effect of introducing a cut-card in the middle of the shoe is to *vary the number* of\n",
    "hands played per shoe, i.e., as a function of the card values in front of the cut-card.\n",
    "\n",
    "Somewhat unintuitively, the effect of the cut-card is to *increase* the house edge\n",
    "(assuming no card counting).\n",
    "[This description](https://www.blackjackinfo.com/community/threads/the-cut-card-effect.16954)\n",
    "explains that the player has an advantage if the remaining shoe cards have a greater\n",
    "distribution of high values\n",
    "(i.e., high True Count), but that this is only reached if the prior hands involved a greater\n",
    "distribution of low cards,\n",
    "in which case more cards are used per hand and the cut-card is reached in fewer hands,\n",
    "so that the player's beneficial condition is \"cut short\".\n",
    "\n",
    "With intuition waning, the best approach is to actually run simulations.\n",
    "This notebook computes a separate house edge value for each possible position of the\n",
    "cut-card in the shoe.\n",
    "The resulting empirical graph is extremely interesting,\n",
    "particularly for a single deck where it reveals unexpectedly strong oscillations.\n",
    "See the further discussion below.\n",
    "\n",
    "Additional references:\n",
    "- https://www.blackjackincolor.com/blackjackeffects1.htm\n",
    "- Some [discussion](https://wizardofvegas.com/forum/gambling/blackjack/31457-cut-card-effect/)\n",
    "  \\(and [here](https://wizardofvegas.com/forum/gambling/blackjack/13138-cut-card-effect/))\n",
    "  argues that if the subset of cards in front of the cut-card has more tens than average,\n",
    "  then the dealt hands involve fewer cards and more hands are played\n",
    "  using those cards (relative to the case that the cards have fewer tens than average).\n",
    "  Because hands with tens are favorable to the player, this should *reduce* the house edge.\n",
    "  It's still unclear why this argument is invalid."
   ]
  },
  {
   "cell_type": "code",
   "execution_count": 278,
   "id": "4f69cd33",
   "metadata": {
    "execution": {
     "iopub.execute_input": "2025-01-18T05:58:51.479443Z",
     "iopub.status.busy": "2025-01-18T05:58:51.479308Z",
     "iopub.status.idle": "2025-01-18T05:58:51.489985Z",
     "shell.execute_reply": "2025-01-18T05:58:51.489383Z",
     "shell.execute_reply.started": "2025-01-18T05:58:51.479431Z"
    }
   },
   "outputs": [],
   "source": [
    "cut_card_analysis_results: dict[int, CutCardAnalysisResult] = {}"
   ]
  },
  {
   "cell_type": "code",
   "execution_count": 279,
   "id": "9be46112",
   "metadata": {
    "execution": {
     "iopub.execute_input": "2025-01-18T05:58:51.490986Z",
     "iopub.status.busy": "2025-01-18T05:58:51.490702Z",
     "iopub.status.idle": "2025-01-18T05:58:51.498802Z",
     "shell.execute_reply": "2025-01-18T05:58:51.498221Z",
     "shell.execute_reply.started": "2025-01-18T05:58:51.490973Z"
    }
   },
   "outputs": [],
   "source": [
    "def get_cut_card_analysis(rules: Rules, strategy: Strategy = Strategy()) -> CutCardAnalysisResult:\n",
    "  \"\"\"Run shoe simulations to compute reward as function of cut-card position.\"\"\"\n",
    "  num_decks = int(rules.num_decks)\n",
    "  path = pathlib.Path(f'data/cut_card_analysis_for_{num_decks}_decks.pickle')\n",
    "\n",
    "  if RECOMPUTE_CUT_CARD_ANALYSIS:\n",
    "    num_shoes = [5_000_000, 10_000_000, 100_000_000, 10_000_000_000, 50_000_000_000][EFFORT]\n",
    "    if cuda.is_available():\n",
    "      num_shoes *= 10\n",
    "    cut_card_analysis_result = run_simulations_all_cut_cards(rules, strategy, num_shoes)\n",
    "    if EFFORT >= 3:\n",
    "      path.write_bytes(pickle.dumps(cut_card_analysis_result))\n",
    "\n",
    "  elif path.is_file():\n",
    "    print('Loading precomputed result.')\n",
    "    cut_card_analysis_result = pickle.loads(path.read_bytes())\n",
    "\n",
    "  else:\n",
    "    print('Skipping cut-card analysis.')\n",
    "    cut_card_analysis_result = CutCardAnalysisResult(rules, strategy, 0, 0, {})\n",
    "\n",
    "  return cut_card_analysis_result"
   ]
  },
  {
   "cell_type": "code",
   "execution_count": 280,
   "id": "99ba2dcc",
   "metadata": {
    "execution": {
     "iopub.execute_input": "2025-01-18T05:58:51.499721Z",
     "iopub.status.busy": "2025-01-18T05:58:51.499457Z",
     "iopub.status.idle": "2025-01-18T05:58:51.510856Z",
     "shell.execute_reply": "2025-01-18T05:58:51.510267Z",
     "shell.execute_reply.started": "2025-01-18T05:58:51.499709Z"
    }
   },
   "outputs": [],
   "source": [
    "def plot_cut_card_analysis_result(\n",
    "    result: CutCardAnalysisResult,\n",
    "    *,\n",
    "    annotate: bool = True,\n",
    "    legend: bool = True,\n",
    ") -> None:\n",
    "  \"\"\"Create a plot of the house edge as a function of the cut-card position.\"\"\"\n",
    "  num_decks = int(result.rules.num_decks)\n",
    "  cut_card = result.rules.cut_card\n",
    "  graph = {cut_card: edge * 100 for cut_card, edge in result.house_edge_from_cut_card.items()}\n",
    "  max_house_edge, max_cut_card = max((v, k) for k, v in graph.items())\n",
    "\n",
    "  unused_fig, ax = plt.subplots(figsize=(7, 4), dpi=110)\n",
    "\n",
    "  ax.plot(*zip(*tuple(graph.items())))\n",
    "  dots = {k: v for k, v in graph.items() if k in [1, 2, 3, 4, max_cut_card, cut_card]}\n",
    "  ax.plot(*zip(*tuple(dots.items())), 'o')\n",
    "  ax.set_title(\n",
    "      'House edge as function of cut-card depth'\n",
    "      f' for {num_decks} deck{\"s\" if num_decks != 1 else \"\"}'\n",
    "  )\n",
    "  ax.set(\n",
    "      ylabel='House edge %',\n",
    "      xlabel='Number of shoe cards in front of cut-card',\n",
    "      xlim=[0, num_decks * DECK_SIZE + 1],\n",
    "  )\n",
    "  # ax.set(ylim=[0, ax.get_ylim()[1] + 0.02])\n",
    "  yptp = ax.get_ylim()[1] - ax.get_ylim()[0]\n",
    "  ax.set(ylim=[0 if num_decks == 1 else ax.get_ylim()[0], ax.get_ylim()[1] + yptp * 0.1])\n",
    "\n",
    "  if annotate:\n",
    "    ax.annotate(\n",
    "        f'default: {graph[cut_card]:.3f}%',\n",
    "        xy=(cut_card, graph[cut_card]),\n",
    "        xytext=(cut_card, graph[cut_card] + yptp * 0.12),\n",
    "        horizontalalignment='center',\n",
    "        arrowprops=dict(arrowstyle='->', lw=1),\n",
    "    )\n",
    "    ax.annotate(\n",
    "        f'continuous shuffle: {graph[4]:.3f}%',\n",
    "        xy=(4, graph[4]),\n",
    "        xytext=(7 * num_decks, graph[4]),\n",
    "        ha='left',\n",
    "        va='center',\n",
    "        arrowprops=dict(arrowstyle='->', lw=1),\n",
    "    )\n",
    "    ax.annotate(\n",
    "        f'{max_cut_card} front cards: {max_house_edge:.3f}%',\n",
    "        xy=(max_cut_card, max_house_edge),\n",
    "        xytext=(3 + 13 * num_decks, max_house_edge + yptp * 0.05),\n",
    "        ha='center',\n",
    "        arrowprops=dict(arrowstyle='->', lw=1),\n",
    "    )\n",
    "    last = num_decks * DECK_SIZE - 1\n",
    "    ax.annotate(\n",
    "        '(mid-hand shoe reshuffle)',\n",
    "        xy=(last, graph[last]),\n",
    "        xytext=(43 * num_decks, graph[last] - yptp * 0.18),\n",
    "        ha='center',\n",
    "        arrowprops=dict(arrowstyle='->', lw=1),\n",
    "    )\n",
    "\n",
    "  if legend:\n",
    "    sorted_first_actions = sorted(result.strategy.first_actions, key=lambda action: action.value)\n",
    "    first_actions_s = '{' + ','.join(action.name for action in sorted_first_actions) + '}'\n",
    "    legend_text = [\n",
    "        repr(result.rules).replace(f', {cut_card=}', ''),\n",
    "        re.sub(r'frozenset\\(.*?\\)', first_actions_s, repr(result.strategy)),\n",
    "        f'Simulation(num_shoes={result.num_shoes:_})',\n",
    "    ]\n",
    "\n",
    "    def wrap(text: str) -> str:\n",
    "      return '\\n'.join(textwrap.wrap(text, 90, subsequent_indent='  '))\n",
    "\n",
    "    text = '\\n\\n'.join([wrap(s) for s in legend_text])\n",
    "    ax.text(0.30, 0.15, text, transform=ax.transAxes, fontsize=5.5)\n",
    "\n",
    "  if EFFORT >= 3:\n",
    "    plt.savefig(f'house_edge_from_cut_card_{num_decks}_decks.pdf', bbox_inches='tight')\n",
    "  plt.show()"
   ]
  },
  {
   "cell_type": "code",
   "execution_count": 281,
   "id": "c201ddab",
   "metadata": {
    "execution": {
     "iopub.execute_input": "2025-01-18T05:58:51.511746Z",
     "iopub.status.busy": "2025-01-18T05:58:51.511609Z",
     "iopub.status.idle": "2025-01-18T05:58:51.521896Z",
     "shell.execute_reply": "2025-01-18T05:58:51.521309Z",
     "shell.execute_reply.started": "2025-01-18T05:58:51.511734Z"
    }
   },
   "outputs": [],
   "source": [
    "def compute_and_plot_cut_card_analysis_result(num_decks: int) -> None:\n",
    "  \"\"\"Run a simulation if not already computed and then plot the results.\"\"\"\n",
    "  if num_decks not in cut_card_analysis_results:\n",
    "    if num_decks <= 2 or EFFORT >= 2:\n",
    "      cut_card_analysis_results[num_decks] = get_cut_card_analysis(Rules(num_decks=num_decks))\n",
    "\n",
    "  if num_decks in cut_card_analysis_results:\n",
    "    result = cut_card_analysis_results[num_decks]\n",
    "    if result.house_edge_from_cut_card:\n",
    "      plot_cut_card_analysis_result(result)\n",
    "\n",
    "\n",
    "def compute_and_plot_cut_card_analysis_results() -> None:\n",
    "  \"\"\"Run simulations and plot the results.\"\"\"\n",
    "  for num_decks in [1, 2, 4, 6, 8]:\n",
    "    compute_and_plot_cut_card_analysis_result(num_decks)"
   ]
  },
  {
   "cell_type": "markdown",
   "id": "52934b8f",
   "metadata": {},
   "source": [
    "<a name=\"cut-card-graph\" id=\"cut-card-graph\"></a>\n",
    "The graphs below show how the house edge varies depending on\n",
    "the position of the cut-card in the shoe.\n",
    "\n",
    "We first consider a **single deck**, where the effect is most pronounced.\n",
    "\n",
    "Because a blackjack hand requires at least 4 cards (2 for player and 2 for dealer),\n",
    "the case of `cut_card <= 4` corresponds to continuous reshuffling,\n",
    "which is least beneficial to the house.\n",
    "\n",
    "For `cut_card=5`, a second hand is played from the shoe if and only if the\n",
    "first hand used only 4 cards, which occurs more frequently when both the player and\n",
    "dealer have high-valued cards.\n",
    "Because the first hand has a greater proportion of high cards,\n",
    "the remaining cards in the shoe have a smaller proportion of high cards,\n",
    "and therefore the second hand is *disadvantageous* to the player,\n",
    "resulting in an upward spike in the house edge.\n",
    "The situation is similar for `cut_card == 6`.\n",
    "\n",
    "For `cut_card=8`, it is still impossible for a third hand to be played (as it would require\n",
    "`cut_card > 2 * 4`),\n",
    "so it is most likely that two hands are played.\n",
    "If *exactly* two hands were played, the house edge would again correspond to\n",
    "continuous reshuffling.\n",
    "However, we must consider the (low-probability) case that only one hand is played because it uses\n",
    "up all 8 cards.\n",
    "This occurs when the first hand involves low-valued cards,\n",
    "which is *disadvantageous* to the player.\n",
    "Therefore, the overall house edge is slightly higher than continuous reshuffling,\n",
    "as shown at the bottom of the first trough in the plot.\n",
    "\n",
    "It's important to note that both effects discussed above are disadvantageous to the player.\n",
    "Although the trough at `cut_card=8` looks promising,\n",
    "it is in some sense a \"best-case scenario\" and still does not approach continuous reshuffling.\n",
    "\n",
    "As the cut card is placed further back in the shoe,\n",
    "the oscillation continues,\n",
    "with a period that should correspond to the average number 5.42 of cards per hand,\n",
    "but is dampened due to averaging across out-of-phase hands.\n",
    "\n",
    "For a single deck, the dampened oscillation is still significant enough\n",
    "that the precise position of the cut-card matters.\n",
    "As an example, we notice that the \"Wizards of Odds\" results align most closely with our\n",
    "simulation at `cut_card=24` rather than the default `cut_card=26` for a single deck.\n",
    "\n",
    "For **two decks or more**, the oscillations are still evident near the front\n",
    "of the shoe but become insignificant in the region where the cut-card is usually placed\n",
    "(e.g., 1-2 decks from the rear of the shoe).\n",
    "However, it is still important to distinguish the separate case of\n",
    "continuous reshuffling (`cut_card=0`).\n",
    "\n",
    "If the cut-card is placed near the end of the shoe,\n",
    "it is possible that the last hand exhausts all cards in the shoe.\n",
    "In this case, the pre-hand cards are reshuffled to finish the hand.\n",
    "This mid-hand reshuffling results in a tiny dip in house edge."
   ]
  },
  {
   "cell_type": "code",
   "execution_count": 282,
   "id": "4c018282",
   "metadata": {
    "execution": {
     "iopub.execute_input": "2025-01-18T05:58:51.522574Z",
     "iopub.status.busy": "2025-01-18T05:58:51.522424Z",
     "iopub.status.idle": "2025-01-18T05:58:51.766018Z",
     "shell.execute_reply": "2025-01-18T05:58:51.765388Z",
     "shell.execute_reply.started": "2025-01-18T05:58:51.522560Z"
    },
    "lines_to_next_cell": 2
   },
   "outputs": [
    {
     "name": "stdout",
     "output_type": "stream",
     "text": [
      "Loading precomputed result.\n"
     ]
    },
    {
     "data": {
      "image/png": "[encoded data removed]",
      "text/plain": [
       "<Figure size 770x440 with 1 Axes>"
      ]
     },
     "metadata": {
      "needs_background": "light"
     },
     "output_type": "display_data"
    },
    {
     "name": "stdout",
     "output_type": "stream",
     "text": [
      "Loading precomputed result.\n"
     ]
    },
    {
     "data": {
      "image/png": "[encoded data removed]",
      "text/plain": [
       "<Figure size 770x440 with 1 Axes>"
      ]
     },
     "metadata": {
      "needs_background": "light"
     },
     "output_type": "display_data"
    }
   ],
   "source": [
    "compute_and_plot_cut_card_analysis_results()\n",
    "# EFFORT=3: 11_000 s (500 s for num_decks=1)\n",
    "# EFFORT=4: ~15 h (2_500 s for num_decks=1)"
   ]
  },
  {
   "cell_type": "code",
   "execution_count": 283,
   "id": "a0572303",
   "metadata": {
    "execution": {
     "iopub.execute_input": "2025-01-18T05:58:51.767114Z",
     "iopub.status.busy": "2025-01-18T05:58:51.766819Z",
     "iopub.status.idle": "2025-01-18T05:58:51.770874Z",
     "shell.execute_reply": "2025-01-18T05:58:51.770210Z",
     "shell.execute_reply.started": "2025-01-18T05:58:51.767100Z"
    }
   },
   "outputs": [],
   "source": [
    "def compute_house_edge_when_playing_a_fixed_number_of_hands() -> None:\n",
    "  \"\"\"Obtain this number to compare with \"continuous reshuffle\" in the plots.\"\"\"\n",
    "  print(f'# {EFFORT=}:')\n",
    "  for num_decks in [1, 2, 4, 6, 8]:\n",
    "    report_edge(Rules(num_decks=num_decks, cut_card=0), prefix=f'# ndecks={num_decks:<3} ')\n",
    "\n",
    "\n",
    "if EFFORT >= 2:\n",
    "  compute_house_edge_when_playing_a_fixed_number_of_hands()\n",
    "# EFFORT=3:\n",
    "# ndecks=1   prob: 0.013% (42s)  sim: 0.012% ±0.002%(97s)   wiz: 0.008%* bja: 0.021%+\n",
    "# ndecks=2   prob: 0.328% (19s)  sim: 0.329% ±0.002%(75s)   wiz: 0.328%  bja: 0.316%+\n",
    "# ndecks=4   prob: 0.480% (20s)  sim: 0.478% ±0.002%(77s)   wiz: 0.481%  bja: 0.476%+\n",
    "# ndecks=6   prob: 0.530% (19s)  sim: 0.530% ±0.002%(75s)   wiz: 0.531%  bja: 0.529%\n",
    "# ndecks=8   prob: 0.555% (45s)  sim: 0.558% ±0.002%(74s)   wiz: 0.555%  bja: 0.554%+"
   ]
  },
  {
   "cell_type": "markdown",
   "id": "2a66b39d",
   "metadata": {},
   "source": [
    "These simulation results confirm that playing *any fixed* number of hands\n",
    "gives the same house edge value as when playing a *single hand* per shoe\n",
    "(which is indicated by the *continuous reshuffle* datapoint in the plots above)."
   ]
  },
  {
   "cell_type": "code",
   "execution_count": 284,
   "id": "e0bee9d6",
   "metadata": {
    "execution": {
     "iopub.execute_input": "2025-01-18T05:58:51.771653Z",
     "iopub.status.busy": "2025-01-18T05:58:51.771514Z",
     "iopub.status.idle": "2025-01-18T05:58:51.780447Z",
     "shell.execute_reply": "2025-01-18T05:58:51.779780Z",
     "shell.execute_reply.started": "2025-01-18T05:58:51.771641Z"
    }
   },
   "outputs": [],
   "source": [
    "# In https://wizardofodds.com/games/blackjack/cut-card-effect/, use of a cut-off card is reported\n",
    "# to increase the house edge by 0.113% for a single deck; however the position of the cut-card\n",
    "# is not specified.  We see ~0.11-0.14% depending on the position of the cut-card.\n",
    "\n",
    "# For 6 decks, the increase in house edge is reported as 0.020%.  We see 0.027% (0.040% for 4 decks\n",
    "# and 0.020% for 8 decks)."
   ]
  },
  {
   "cell_type": "markdown",
   "id": "9ad34281",
   "metadata": {},
   "source": [
    "# Analysis summary"
   ]
  },
  {
   "cell_type": "markdown",
   "id": "5237eb00",
   "metadata": {},
   "source": [
    "- For a single-deck shoe, introducing a cut-card has an effect on house edge that\n",
    "  varies significantly with the precise cut-card position.\n",
    "\n",
    "- Our results reproduce the WizardOfOdds hand calculator with 6 digits of accuracy,\n",
    "  except for SPLIT actions.\n",
    "  For SPLIT actions, we reproduce the Bjstrat hand calculator results\n",
    "  (up to small differences due to search pruning).\n",
    "\n",
    "- Our house edge results closely match the WizardOfOdds results,\n",
    "  particularly for a composition-dependent strategy.\n",
    "  The largest differences are in the rule variation `hit_split_aces=True`.\n",
    "  Computing a house edge using the Bjstrat hand calculator does match our results.\n",
    "\n",
    "- Our 6 levels of `Attention` in player strategy\n",
    "  [progressively increase the individual hand rewards](#analyze-hand-action-wrt-attention) and\n",
    "  [progressively decrease the house edge](#analyze-edge-wrt-attention)."
   ]
  },
  {
   "cell_type": "markdown",
   "id": "3d04f529",
   "metadata": {},
   "source": [
    "# References"
   ]
  },
  {
   "cell_type": "markdown",
   "id": "528dddcc",
   "metadata": {},
   "source": [
    "**General**:\n",
    "- https://en.wikipedia.org/wiki/Blackjack\n",
    "- https://wizardofodds.com/games/blackjack/basics/#rules\n",
    "- https://www.casinoguardian.co.uk/blackjack/\n",
    "- https://wizardofvegas.com/guides/blackjack-survey/\n",
    "- https://www.blackjackinfo.com/\n",
    "- https://www.onlinegambling.com/blackjack/odds/\n",
    "- https://www.onlineunitedstatescasinos.com/las-vegas/blackjack/\n",
    "- https://en.wikipedia.org/wiki/Gambling_mathematics\n",
    "- https://www.gamingtheodds.com/blackjack/house-edge/\n",
    "  &mdash; looks like truncated results of WizardOfOdds assuming no late surrender.\n",
    "- https://github.com/johntelforduk/blackjack\n",
    "  &mdash; Python simulator to evaluate house edge for various strategies.\n",
    "- [First reddit post](\n",
    " https://www.reddit.com/r/blackjack/comments/t9ygkm/python_notebook_to_analyze_blackjack_optimal/)\n",
    "\n",
    "(See also references in\n",
    " [Tables for basic strategy](#Tables-for-basic-strategy),\n",
    " [Hand calculators](#Hand-calculators), and\n",
    " [House edge calculators](#House-edge-calculators).)"
   ]
  },
  {
   "cell_type": "markdown",
   "id": "b13531da",
   "metadata": {},
   "source": [
    "# Epilog"
   ]
  },
  {
   "cell_type": "code",
   "execution_count": 285,
   "id": "da7e3979",
   "metadata": {
    "execution": {
     "iopub.execute_input": "2025-01-18T05:58:51.781660Z",
     "iopub.status.busy": "2025-01-18T05:58:51.781516Z",
     "iopub.status.idle": "2025-01-18T05:58:51.793226Z",
     "shell.execute_reply": "2025-01-18T05:58:51.792518Z",
     "shell.execute_reply.started": "2025-01-18T05:58:51.781647Z"
    },
    "lines_to_next_cell": 2
   },
   "outputs": [
    {
     "name": "stdout",
     "output_type": "stream",
     "text": [
      "# get_canonical_h..ards_and_total         879/inf        0.996 hit=      249_673 miss=          879\n",
      "# get_canonical_h..ards_and_total       4_792/inf        0.999 hit=    6_953_048 miss=        4_792\n",
      "# card_probabilities_helper            33_355/5_000_000  0.987 hit=    2_504_186 miss=       33_355\n",
      "# reward_after_de.._upcard_helper      41_793/10_000_000 0.984 hit=    2_566_177 miss=       41_793\n",
      "# reward_after_dealer_hits            651_295/22_000_000 0.721 hit=    1_679_245 miss=      651_295\n",
      "# best_reward_est..on_first_total      32_153/inf        0.913 hit=      337_817 miss=       32_153\n",
      "# best_reward_est..total_of_cards      95_672/inf        0.130 hit=       14_293 miss=       95_672\n",
      "# best_reward_and_action            1_030_192/10_000_000 0.891 hit=    8_406_883 miss=    1_030_192\n",
      "# reward_for_basic_strategy_total      38_227/inf        0.978 hit=    1_707_886 miss=       38_227\n",
      "# basic_strategy_tables                     5/inf        0.375 hit=            3 miss=            5\n",
      "# create_tables                            69/inf        0.092 hit=            7 miss=           69\n",
      "# create_tables_cuda                       69/inf        0.531 hit=           78 miss=           69\n"
     ]
    }
   ],
   "source": [
    "if 0:  # Run a single Rules rather than the full notebook.\n",
    "  hh.clear_functools_caches(globals())\n",
    "  report_edge(Rules())\n",
    "\n",
    "# Note that these numbers only reflect usage since the last call to temporary_effort(); that is\n",
    "# the reason that basic_strategy_tables() shows zero hits.\n",
    "hh.analyze_functools_caches(globals())\n",
    "\n",
    "# EFFORT=3 single report_edge(Rules())\n",
    "# Rules() Strategy() EFFORT=3:\n",
    "#  house edge: prob~ 0.530% (51s)  sim: 0.556% ±0.002%(67s)   wiz: 0.551%*\n",
    "# get_canonical_h..ards_and_total         707/inf        0.938 hit=       10_761 miss=          707\n",
    "# get_canonical_h..ards_and_total      11_468/inf        0.836 hit=       58_573 miss=       11_468\n",
    "# card_probabilities_helper           259_716/5_000_000  0.956 hit=    5_693_238 miss=      259_716\n",
    "# reward_after_de.._upcard_helper     444_190/10_000_000 0.718 hit=    1_130_653 miss=      444_190\n",
    "# reward_after_dealer_hits          5_028_159/22_000_000 0.751 hit=   15_162_636 miss=    5_028_159\n",
    "# best_reward_est..on_first_total         738/inf        1.000 hit=    1_701_033 miss=          738\n",
    "# best_reward_est..total_of_cards      26_190/inf        0.033 hit=          900 miss=       26_190\n",
    "# best_reward_and_action            1_804_822/10_000_000 0.372 hit=    1_070_536 miss=    1_804_822\n",
    "# reward_for_basic_strategy_total       1_000/inf        0.991 hit=      110_766 miss=        1_000\n",
    "# basic_strategy_tables                     0/inf        0.000 hit=            0 miss=            0\n",
    "# create_tables                             1/inf        0.000 hit=            0 miss=            1\n",
    "\n",
    "# EFFORT=3 whole notebook:\n",
    "# get_canonical_h..ards_and_total         879/inf        0.999 hit=      586_257 miss=          879\n",
    "# get_canonical_h..ards_and_total      14_496/inf        1.000 hit=   48_360_339 miss=       14_496\n",
    "# card_probabilities_helper         2_551_957/5_000_000  0.992 hit=  301_571_518 miss=    2_551_957\n",
    "# reward_after_de.._upcard_helper   8_879_960/10_000_000 0.979 hit=  418_689_504 miss=    8_879_960\n",
    "# reward_after_dealer_hits         22_000_000/22_000_000 0.754 hit=  256_240_189 miss=   83_520_236\n",
    "# best_reward_est..on_first_total      49_778/inf        1.000 hit=  184_425_375 miss=       49_778\n",
    "# best_reward_est..total_of_cards   1_623_151/inf        0.472 hit=    1_450_263 miss=    1_623_151\n",
    "# best_reward_and_action           10_000_000/10_000_000 0.629 hit=  560_633_057 miss=  330_054_234\n",
    "# reward_for_basic_strategy_total      60_784/inf        0.991 hit=    6_832_516 miss=       60_784\n",
    "# basic_strategy_tables                     0/inf        0.000 hit=            0 miss=            0\n",
    "# create_tables                           112/inf        0.385 hit=           70 miss=          112\n",
    "# create_tables_cuda                      100/inf        0.438 hit=           78 miss=          100\n",
    "# 18.6 GiB Mem; 1.2 GiB CUDA Mem; 16_000 s\n",
    "\n",
    "# EFFORT=2 whole notebook:\n",
    "# get_canonical_h..ards_and_total         879/inf        0.999 hit=      655_058 miss=          879\n",
    "# get_canonical_h..ards_and_total      14_337/inf        1.000 hit=   30_288_804 miss=       14_337\n",
    "# card_probabilities_helper           760_829/5_000_000  0.981 hit=   38_544_676 miss=      760_829\n",
    "# reward_after_de.._upcard_helper   1_247_097/10_000_000 0.967 hit=   36_249_872 miss=    1_247_097\n",
    "# reward_after_dealer_hits         15_771_331/22_000_000 0.727 hit=   42_088_958 miss=   15_771_331\n",
    "# best_reward_est..on_first_total      53_278/inf        0.994 hit=    8_500_464 miss=       53_278\n",
    "# best_reward_est..total_of_cards     235_006/inf        0.334 hit=      117_957 miss=      235_006\n",
    "# best_reward_and_action           10_000_000/10_000_000 0.765 hit=   77_730_692 miss=   23_847_264\n",
    "# reward_for_basic_strategy_total      60_784/inf        0.980 hit=    2_950_703 miss=       60_784\n",
    "# basic_strategy_tables                    13/inf        0.278 hit=            5 miss=           13\n",
    "# create_tables                           122/inf        0.492 hit=          118 miss=          122\n",
    "# 10.2 GiB Mem; 2_450 s"
   ]
  },
  {
   "cell_type": "code",
   "execution_count": 286,
   "id": "da6613bd-6ca4-47c9-965d-c89d6b3095b1",
   "metadata": {
    "execution": {
     "iopub.execute_input": "2025-01-18T05:58:51.794081Z",
     "iopub.status.busy": "2025-01-18T05:58:51.793932Z",
     "iopub.status.idle": "2025-01-18T05:58:51.805002Z",
     "shell.execute_reply": "2025-01-18T05:58:51.804186Z",
     "shell.execute_reply.started": "2025-01-18T05:58:51.794067Z"
    }
   },
   "outputs": [],
   "source": [
    "def show_added_global_variables_sorted_by_type() -> None:\n",
    "  \"\"\"Report any new global variables introduced by this notebook.\"\"\"\n",
    "  ok_typenames = (\n",
    "      'ABCMeta EnumMeta EnumType type function partial'\n",
    "      ' _lru_cache_wrapper CPUDispatcher CUDADispatcher'\n",
    "  ).split()\n",
    "  for typename, name in sorted((type(value).__name__, name) for name, value in globals().items()):\n",
    "    is_ok = (\n",
    "        name in _ORIGINAL_GLOBALS\n",
    "        or name.startswith(('_',))\n",
    "        or 'GenericAlias' in typename\n",
    "        or typename in ok_typenames\n",
    "        or (len(name) >= 6 and name.upper() == name)\n",
    "        or name in 'wizard_edge_calc cut_card_analysis_results'.split()\n",
    "    )\n",
    "    if not is_ok:\n",
    "      print(f'{typename:24} {name}')"
   ]
  },
  {
   "cell_type": "code",
   "execution_count": 287,
   "id": "23cd8463-ad15-4fb8-8df7-98694c745012",
   "metadata": {
    "execution": {
     "iopub.execute_input": "2025-01-18T05:58:51.806318Z",
     "iopub.status.busy": "2025-01-18T05:58:51.805959Z",
     "iopub.status.idle": "2025-01-18T05:58:51.816877Z",
     "shell.execute_reply": "2025-01-18T05:58:51.816214Z",
     "shell.execute_reply.started": "2025-01-18T05:58:51.806301Z"
    }
   },
   "outputs": [],
   "source": [
    "show_added_global_variables_sorted_by_type()"
   ]
  },
  {
   "cell_type": "code",
   "execution_count": 288,
   "id": "86a9eb97",
   "metadata": {
    "execution": {
     "iopub.execute_input": "2025-01-18T05:58:51.817997Z",
     "iopub.status.busy": "2025-01-18T05:58:51.817680Z",
     "iopub.status.idle": "2025-01-18T05:58:51.827700Z",
     "shell.execute_reply": "2025-01-18T05:58:51.827021Z",
     "shell.execute_reply.started": "2025-01-18T05:58:51.817981Z"
    }
   },
   "outputs": [
    {
     "name": "stdout",
     "output_type": "stream",
     "text": [
      "# Total time: 74.31 s\n",
      "# In[262] if EFFORT >= 1:\\n  analyze_rule_variations(Rules())\\n#       9.341 s\n",
      "# In[269] analyze_number_of_decks(Rules(cut_card=0), COMPOSITION_      6.692 s\n",
      "# In[107] if 1:\\n  test_simulate_single_shoe()  # ~6-14 s for jit      5.833 s\n",
      "# In[139] if cuda.is_available():\\n  test_run_simulations_cuda()  # ~  4.347 s\n",
      "# In[254] analyze_number_of_decks(Rules(late_surrender=False))\\n#      3.254 s\n",
      "# In[253] report_edge(WORST_RULES, WORST_STRATEGY)\\n# Rules(num_       2.662 s\n",
      "# In[160] test_all_cut_cards(run_simulations_all_cut_cards_cpu, 0.001  2.542 s\n",
      "# In[150] if cuda.is_available():\\n  print(f'# With {EFFORT=}:')\\n     2.441 s\n",
      "# In[242] def analyze_edge_wrt_attention(rules: Rules) -> None:\\n  \"\"  1.922 s\n",
      "# In[275] analyze_composition_dependent_strategy_with_number_of_       1.848 s\n",
      "# In[241] if EFFORT >= 1:\\n  analyze_hand(((1, 10), 1), Rules(num_     1.747 s\n",
      "# In[209] analyze_hand(((9, 9), 1), Rules(num_decks=1))\\n\\n# hand=((9  1.736 s\n",
      "# In[213] if EFFORT >= 1:\\n  analyze_hand(((6, 10), 10), Rules(num_    1.571 s\n",
      "# In[203] show_basic_strategy_tables(Rules(hit_soft17=False))          1.415 s\n",
      "# In[264] analyze_rule_variations(Rules(num_decks=1), pattern='        1.405 s\n",
      "# In[260] analyze_subset_of_player_actions(Rules())\\n# Rules()         1.391 s\n",
      "# In[251] # Pitch Blackjack https://www.countingedge.com/blackjack-    1.349 s\n",
      "# In[244] report_edge(Rules(num_decks=8, hit_soft17=False, resplit_    1.308 s\n",
      "# In[216] def analyze_differences_using_composition_dependent_         1.259 s\n",
      "# In[202] show_basic_strategy_tables(Rules())\\nverify_action_tables(   1.175 s\n"
     ]
    }
   ],
   "source": [
    "hh.show_notebook_cell_top_times()\n",
    "# EFFORT=0: ~52 s (0.8 GiB)\n",
    "# EFFORT=1: ~80 s (1.1 GiB) (bottleneck is prob. computations)\n",
    "#      Colab: ~250 s with 100% num_hands; max 12 GB mem; table of contents.\n",
    "#  SageMaker: ~870 s with 100% num_hands; max 16 GB mem; 4x multiprocessing; jupyter lab; must login.\n",
    "#     Kaggle: ~740 s with 100% num_hands; max 16 GB mem; 8x multiprocessing; must login.\n",
    "#   MyBinder: ~480 s with 20% num_hands; max 2 GB mem; copies GitHub; slow start.\n",
    "#   DeepNote: ~550 s with 20% num_hands; max 5 GB mem; table of contents; copies GitHub; must login.\n",
    "# EFFORT=2: ~1020 s (+ ~130 s cut_card_analysis_results) (10.5 GiB; 1.2 GiB GPU)\n",
    "#      Colab: timed out.\n",
    "#     Kaggle: ~24_000 s\n",
    "# EFFORT=3: ~15_000 s (~4.5 hrs) with CUDA (18.5 GiB, 1.2 GiB GPU)\n",
    "#           ~25_000 s (~8 hrs) (+ ~11_000 s cut_card_analysis_results)\n",
    "# EFFORT=4: ~40 hrs or more."
   ]
  },
  {
   "cell_type": "code",
   "execution_count": 289,
   "id": "20355062",
   "metadata": {
    "execution": {
     "iopub.execute_input": "2025-01-18T05:58:51.829232Z",
     "iopub.status.busy": "2025-01-18T05:58:51.828817Z",
     "iopub.status.idle": "2025-01-18T05:58:51.861303Z",
     "shell.execute_reply": "2025-01-18T05:58:51.860561Z",
     "shell.execute_reply.started": "2025-01-18T05:58:51.829216Z"
    }
   },
   "outputs": [
    {
     "name": "stdout",
     "output_type": "stream",
     "text": [
      "1.1 GiB\n"
     ]
    }
   ],
   "source": [
    "show_kernel_memory_resident_set_size()"
   ]
  },
  {
   "cell_type": "code",
   "execution_count": 290,
   "id": "9d6677d9-98c0-489f-a756-c7c726d25497",
   "metadata": {
    "execution": {
     "iopub.execute_input": "2025-01-18T05:58:51.862631Z",
     "iopub.status.busy": "2025-01-18T05:58:51.862232Z",
     "iopub.status.idle": "2025-01-18T05:58:51.866691Z",
     "shell.execute_reply": "2025-01-18T05:58:51.866047Z",
     "shell.execute_reply.started": "2025-01-18T05:58:51.862612Z"
    }
   },
   "outputs": [
    {
     "name": "stdout",
     "output_type": "stream",
     "text": [
      "CUDA memory usage 1.2 GiB  (10.8 GiB free)\n"
     ]
    }
   ],
   "source": [
    "show_cuda_memory_usage()"
   ]
  },
  {
   "cell_type": "code",
   "execution_count": 291,
   "id": "ca06a7bd-a61a-4b59-a69c-3dbb0dc9bbd5",
   "metadata": {
    "execution": {
     "iopub.execute_input": "2025-01-18T05:58:51.867894Z",
     "iopub.status.busy": "2025-01-18T05:58:51.867549Z",
     "iopub.status.idle": "2025-01-18T05:58:51.875635Z",
     "shell.execute_reply": "2025-01-18T05:58:51.874835Z",
     "shell.execute_reply.started": "2025-01-18T05:58:51.867879Z"
    }
   },
   "outputs": [],
   "source": [
    "def run_lint(filename: str) -> None:\n",
    "  \"\"\"Run checks on *.py notebook code (saved using jupytext or from menu).\"\"\"\n",
    "  if not pathlib.Path(filename).is_file():\n",
    "    return\n",
    "  # On SageMaker Studio Lab, if autopep8 sees ~/.config/pycodestyle, ./pyproject.toml is ignored.\n",
    "  hh.run('echo autopep8; autopep8 --global-config skip -j8 -d .')\n",
    "  hh.run('echo mypy; mypy . || true')\n",
    "  hh.run('echo pylint; pylint -j8 . || true')"
   ]
  },
  {
   "cell_type": "code",
   "execution_count": 292,
   "id": "174dd40a-642c-49a3-8936-777ecb4186aa",
   "metadata": {
    "execution": {
     "iopub.execute_input": "2025-01-18T05:58:51.876727Z",
     "iopub.status.busy": "2025-01-18T05:58:51.876533Z",
     "iopub.status.idle": "2025-01-18T05:58:51.889597Z",
     "shell.execute_reply": "2025-01-18T05:58:51.888858Z",
     "shell.execute_reply.started": "2025-01-18T05:58:51.876713Z"
    }
   },
   "outputs": [],
   "source": [
    "if 0:\n",
    "  run_lint('blackjack.py')"
   ]
  },
  {
   "cell_type": "markdown",
   "id": "cad2ed84",
   "metadata": {},
   "source": [
    "From Windows Emacs, `compile` command:\n",
    "```shell\n",
    "c:/windows/sysnative/wsl -e bash -lc 'echo autopep8; autopep8 -j8 -d .; echo mypy; mypy .; echo pylint; pylint -j8 .; echo All ran.'\n",
    "```"
   ]
  },
  {
   "cell_type": "markdown",
   "id": "83062f09",
   "metadata": {},
   "source": [
    "# End"
   ]
  },
  {
   "cell_type": "markdown",
   "id": "67943f61-cd9c-4bd6-a82f-e4d5e6c66a0a",
   "metadata": {},
   "source": [
    "<!-- For Emacs:\n",
    "Local Variables:\n",
    "fill-column: 100\n",
    "End:\n",
    "-->"
   ]
  }
 ],
 "metadata": {
  "colab": {
   "collapsed_sections": [],
   "provenance": [],
   "toc_visible": true
  },
  "jupytext": {
   "cell_metadata_filter": "-all",
   "formats": "ipynb,py:percent",
   "notebook_metadata_filter": "-all"
  },
  "kernelspec": {
   "display_name": "Python 3 (ipykernel)",
   "language": "python",
   "name": "python3"
  },
  "language_info": {
   "codemirror_mode": {
    "name": "ipython",
    "version": 3
   },
   "file_extension": ".py",
   "mimetype": "text/x-python",
   "name": "python",
   "nbconvert_exporter": "python",
   "pygments_lexer": "ipython3",
   "version": "3.10.12"
  }
 },
 "nbformat": 4,
 "nbformat_minor": 5
}
