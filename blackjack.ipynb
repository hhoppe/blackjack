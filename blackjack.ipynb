{
  "nbformat": 4,
  "nbformat_minor": 0,
  "metadata": {
    "colab": {
      "name": "blackjack",
      "provenance": [],
      "collapsed_sections": [],
      "toc_visible": true,
      "authorship_tag": "ABX9TyMpLqA/EzRDxTcADlJO79aW",
      "include_colab_link": true
    },
    "kernelspec": {
      "name": "python3",
      "display_name": "Python 3"
    },
    "language_info": {
      "name": "python"
    }
  },
  "cells": [
    {
      "cell_type": "markdown",
      "metadata": {
        "id": "view-in-github",
        "colab_type": "text"
      },
      "source": [
        "<a href=\"https://colab.research.google.com/github/hhoppe/blackjack/blob/main/blackjack.ipynb\" target=\"_parent\"><img src=\"https://colab.research.google.com/assets/colab-badge.svg\" alt=\"Open In Colab\"/></a>"
      ]
    },
    {
      "cell_type": "markdown",
      "source": [
        "# Blackjack game probabilistic analysis\n",
        "\n",
        "[Hugues Hoppe](https://hhoppe.com/) &emsp; first version in March 2022\n",
        "&emsp;\n",
        "[![Open In Colab](https://colab.research.google.com/assets/colab-badge.svg)](https://colab.research.google.com/github/hhoppe/blackjack/blob/main/blackjack.ipynb)\n",
        "\n",
        "(I was taking a reinforcement learning course which considered a simplified version of the blackjack game &mdash; *&ldquo;the most widely played casino banking game in the world&rdquo;* &mdash; this became a side project.)\n",
        "\n",
        "**Goals**:\n",
        "\n",
        "- Probabilistic analysis of\n",
        "[blackjack](https://en.wikipedia.org/wiki/Blackjack) actions and outcomes\n",
        "(without Monte Carlo simulation).\n",
        "\n",
        "- Support for many rule variations, including:\n",
        "  - Number of decks (1, 2, 4, 6, 8, infinite shoe)\n",
        "  - Blackjack payout (e.g. 3:2, 6:5, 1:1)\n",
        "  - Dealer stand/hit on soft total of 17\n",
        "  - Loss of original bet or all bets to a dealer's blackjack.\n",
        "  - Double on any two cards or with mininum total\n",
        "  - Double after splitting (either any card or non-ace)\n",
        "  - Resplit to any number of hands\n",
        "  - Repslit aces\n",
        "\n",
        "- Optimal-action tables for [basic strategy](https://en.wikipedia.org/wiki/Blackjack#Basic_strategy) under any rules.\n",
        "\n",
        "- Composition-dependent strategy (considering not just player total but individual card values).\n",
        "\n",
        "- Computation of house edge under any rules, with either basic or composition-dependent strategy.\n",
        "\n",
        "- Reproduction of the\n",
        "[basic strategy tables](https://en.wikipedia.org/wiki/Blackjack#Basic_strategy) and\n",
        "[house edge results](https://en.wikipedia.org/wiki/Blackjack#Rule_variations_and_effects_on_house_edge)\n",
        "listed in online sources.\n",
        "\n",
        "**References**:\n",
        "- https://en.wikipedia.org/wiki/Blackjack\n",
        "- https://wizardofvegas.com/guides/blackjack-survey/\n",
        "- https://www.onlinegambling.com/blackjack/odds/\n",
        "- https://www.onlineunitedstatescasinos.com/las-vegas/blackjack/\n",
        "- https://vegasadvantage.com/best-las-vegas-blackjack-games/"
      ],
      "metadata": {
        "id": "KnKTxQEXNe0o"
      }
    },
    {
      "cell_type": "markdown",
      "source": [
        "## Notes\n",
        "\n",
        "- The term blackjack (abbreviated `bj`) refers to a natural (Ace, 10) hand\n",
        "and not to any set of cards whose total is 21."
      ],
      "metadata": {
        "id": "N_-IiWiBBgOe"
      }
    },
    {
      "cell_type": "markdown",
      "source": [
        "**TODO**:\n",
        "\n",
        "- Run a simulation to precisely verify the negative house edge\n",
        "   for `Rules(num_decks=1, stand_soft17=True)`."
      ],
      "metadata": {
        "id": "mnFqqtWgls-T"
      }
    },
    {
      "cell_type": "markdown",
      "source": [
        "## Imports"
      ],
      "metadata": {
        "id": "nOY7s7SLLhIp"
      }
    },
    {
      "cell_type": "code",
      "metadata": {
        "id": "NEtu33LDJgTH"
      },
      "source": [
        "import dataclasses\n",
        "import functools\n",
        "import math\n",
        "import re\n",
        "from typing import Any, FrozenSet, Iterable, List\n",
        "from typing import Mapping, Optional, Tuple\n",
        "\n",
        "import matplotlib.pyplot as plt\n",
        "import numpy as np"
      ],
      "execution_count": 1,
      "outputs": []
    },
    {
      "cell_type": "code",
      "source": [
        "Action = str  # 3.8: Literal['stand', 'hit', 'double', 'split', 'surrender']\n",
        "Actions = FrozenSet[Action]\n",
        "RecentCards = Tuple[int, ...]  # Empty tuple indicates no tracking of cards.\n",
        "\n",
        "UNIFORM_CARD_PROB = {\n",
        "    card: (4/13 if card == 10 else 1/13) for card in range(2, 12)}\n",
        "ACTIONS = frozenset({'stand', 'hit', 'double', 'split', 'surrender'})\n",
        "DISALLOWED = -1e10  # Large negative reward to prevent an action."
      ],
      "metadata": {
        "id": "Nw0SPNd539Qw"
      },
      "execution_count": 2,
      "outputs": []
    },
    {
      "cell_type": "code",
      "source": [
        "def check_eq(a: Any, b: Any) -> None:\n",
        "  \"\"\"Asserts that two values are equal.\"\"\"\n",
        "  if np.any(a != b):\n",
        "    raise AssertionError(f'{a!r} == {b!r}')"
      ],
      "metadata": {
        "id": "_Wt1kUzBYu2X"
      },
      "execution_count": 3,
      "outputs": []
    },
    {
      "cell_type": "code",
      "source": [
        "def terse_str(cls):\n",
        "  \"\"\"Decorator for a dataclasses.dataclass, which defines a custom str().\"\"\"\n",
        "  default_for_field = {\n",
        "      f.name: (f.default_factory() if callable(f.default_factory)\n",
        "               else f.default)\n",
        "      for f in dataclasses.fields(cls)\n",
        "  }\n",
        "\n",
        "  def __str__(self):\n",
        "    \"\"\"Returns a string containing only the non-default field values.\"\"\"\n",
        "    s = ', '.join(f'{name}={getattr(self, name)!r}'\n",
        "                  for name, default in default_for_field.items()\n",
        "                  if getattr(self, name) != default)\n",
        "    return f'{type(self).__name__}({s})'\n",
        "\n",
        "  setattr(cls, '__str__', __str__)\n",
        "  return cls"
      ],
      "metadata": {
        "id": "ftTYsdgGYydP"
      },
      "execution_count": 4,
      "outputs": []
    },
    {
      "cell_type": "markdown",
      "source": [
        "## Define `Rules`\n",
        "\n",
        "The `Rules` class below captures the many\n",
        "[variations in blackjack rules](https://en.wikipedia.org/wiki/Blackjack#Rule_variations_and_effects_on_house_edge).\n",
        "\n",
        "The class fields default to values used in\n",
        "the [Wikipedia page](https://en.wikipedia.org/wiki/Blackjack).\n",
        "\n",
        "Another useful reference is a\n",
        "[comparison of Las Vegas casinos](https://wizardofvegas.com/guides/blackjack-survey/)\n",
        "which uses the base rules:\n",
        "- BJ pays 3:2;\n",
        "- one bet lost to a dealer’s BJ;\n",
        "- you may double down on any two cards but not after splitting;\n",
        "- you may split any pair;\n",
        "- you may resplit any pair except aces to make up to four hands;\n",
        "- split aces receive one card each;\n",
        "- insurance;\n",
        "- no surrender.\n",
        "\n",
        "Those base rules correspond to\n",
        "`Rules(double_after_split=False, late_surrender=False)`.\n",
        "\n",
        "Their table of casinos (171 rows) lists common rule variations:\n",
        "- \"s17\": (`stand_soft17=True`): 28 out of 171 (opposite of \"h17\").\n",
        "- \"ds\": (`double_after_split=True`): 148 out of 171 (very frequent).\n",
        "- \"ls\": (`late_surrender=True`): 56 out of 171.\n",
        "- \"rsa\": (`resplit_aces=True`): 50 out of 171.\n",
        "\n",
        "The casino listed with the lowest house edge is:\n",
        "\"Caesars Palace; 0.26%; 6 decks; s17,ds,ls,rsa\". <br/>\n",
        "This corresponds to `Rules(stand_soft17=True, resplit_aces=True)`."
      ],
      "metadata": {
        "id": "iKPRoDH0LmA3"
      }
    },
    {
      "cell_type": "code",
      "source": [
        "@terse_str\n",
        "@dataclasses.dataclass(frozen=True)\n",
        "class Rules:\n",
        "  \"\"\"Blackjack rules.  There are many variations.\"\"\"\n",
        "\n",
        "  \"\"\"Number of 52-card decks in the shoe, e.g., 1, 2, 4, 6, 8, or math.inf.\"\"\"\n",
        "  num_decks: float = 6\n",
        "\n",
        "  \"\"\"1.5 is standard; 6/5 or 1 greatly increase the house edge.\"\"\"\n",
        "  blackjack_payout: float = 1.5\n",
        "\n",
        "  \"\"\"Whether dealer hits or stands on a soft total of 17 (\"s17\"/\"h17\").\n",
        "  True is favorable to player.\"\"\"\n",
        "  stand_soft17: bool = False\n",
        "\n",
        "  \"\"\"On dealer blackjack, lose Original Bet Only (not double or split).\n",
        "  Often, the dealer begins by checking the hole card if showing 10 or ace.\"\"\"\n",
        "  obo: bool = True\n",
        "\n",
        "  \"\"\"Minimum player total for a \"double\" action.  Value 9 is the \"Reno rule\";\n",
        "  value 10 is the \"European rule\"; value 0 allows double on any two cards.\"\"\"\n",
        "  double_min_total: int = 0  # 9:\"Reno rule\"; 10:\"European\"; 0:double_any.\n",
        "\n",
        "  \"\"\"Allows double as the first action of splitting a pair (\"ds\").\"\"\"\n",
        "  double_after_split: bool = True  # \"ds\".\n",
        "\n",
        "  \"\"\"Allows the player to surrender, i.e. forfeit 50% of the bet if the dealer\n",
        "  does not have blackjack (\"ls\").\"\"\"\n",
        "  late_surrender: bool = True\n",
        "\n",
        "  \"\"\"Total number of hands that can result from splitting pairs.  Values include\n",
        "  0 (no splitting), 2 (single split), 4, or math.inf.\"\"\"\n",
        "  split_to_num_hands: float = 4\n",
        "\n",
        "  \"\"\"Whether aces can be split more than once (\"rsa\").\"\"\"\n",
        "  resplit_aces: bool = False\n",
        "\n",
        "  \"\"\"Allows hitting after splitting aces.  Usually a single card is added to\n",
        "  each split ace and the player must stand.\"\"\"\n",
        "  hit_split_aces: bool = False\n",
        "\n",
        "  \"\"\"Allows doubling after splitting aces.  Rare.\"\"\"\n",
        "  double_split_aces: bool = False\n",
        "\n",
        "  \"\"\"Allows doubling with more than 2 cards.  Extremely rare.\"\"\"\n",
        "  double_after_hit: bool = False"
      ],
      "metadata": {
        "id": "YyZU6N9m4Hxy"
      },
      "execution_count": 5,
      "outputs": []
    },
    {
      "cell_type": "markdown",
      "source": [
        "## Define `Strategy`"
      ],
      "metadata": {
        "id": "HYIubP6goUQQ"
      }
    },
    {
      "cell_type": "code",
      "source": [
        "@terse_str\n",
        "@dataclasses.dataclass(frozen=True)\n",
        "class Strategy:\n",
        "  \"\"\"Player's strategy.\"\"\"\n",
        "\n",
        "  \"\"\"Consider the player's individual card values (not just their total).\n",
        "  If False, use the \"basic strategy\" involving the total of card values.\"\"\"\n",
        "  composition_dependent: bool = False\n",
        "\n",
        "  \"\"\"Subset of player actions to consider; default is all actions.\"\"\"\n",
        "  actions: Actions = ACTIONS"
      ],
      "metadata": {
        "id": "JtDDnRL9v_we"
      },
      "execution_count": 6,
      "outputs": []
    },
    {
      "cell_type": "markdown",
      "source": [
        "## Functions"
      ],
      "metadata": {
        "id": "0jbitM8zLrvb"
      }
    },
    {
      "cell_type": "markdown",
      "source": [
        "### Card totals"
      ],
      "metadata": {
        "id": "jn-_0WYKMWv2"
      }
    },
    {
      "cell_type": "code",
      "source": [
        "def combine_cards(card1: int, card2: int) -> Tuple[int, bool]:\n",
        "  \"\"\"Returns the total of two cards and whether that total is soft.\"\"\"\n",
        "  assert 2 <= card1 <= 11 and 2 <= card2 <= 11\n",
        "  player_total = card1 + card2\n",
        "  if player_total == 22:\n",
        "    player_total = 12\n",
        "  player_soft = card1 == 11 or card2 == 11\n",
        "  return player_total, player_soft"
      ],
      "metadata": {
        "id": "Ad4juEbFD2we"
      },
      "execution_count": 7,
      "outputs": []
    },
    {
      "cell_type": "code",
      "source": [
        "def add_card(player_total: int, player_soft: bool,\n",
        "             card: int) -> Tuple[int, bool]:\n",
        "  \"\"\"Returns a new total and softness state given an additional card.\"\"\"\n",
        "  assert 2 <= player_total <= 21 and 2 <= card <= 11\n",
        "  player_total += card\n",
        "\n",
        "  if card == 11:\n",
        "    if player_total > 21:\n",
        "      player_total -= 10\n",
        "    else:\n",
        "      player_soft = True\n",
        "\n",
        "  if player_total > 21 and player_soft:\n",
        "    player_total -= 10\n",
        "    player_soft = False\n",
        "\n",
        "  return player_total, player_soft"
      ],
      "metadata": {
        "id": "L6BeqmzMnCx6"
      },
      "execution_count": 8,
      "outputs": []
    },
    {
      "cell_type": "code",
      "source": [
        "def two_cards_reproducing_total(player_total: int, player_soft: bool,\n",
        "                                dealer_upcard: int) -> Tuple[int, int]:\n",
        "  \"\"\"Returns two cards to satisfy assertions (not used for probabilities).\"\"\"\n",
        "  if player_soft:\n",
        "    card1, card2 = 11, player_total - 11\n",
        "\n",
        "  elif player_total >= 12:\n",
        "    # The mode of the distribution has at least one card being a 10.\n",
        "    card1, card2 = 10, player_total - 10\n",
        "\n",
        "  else:\n",
        "    # The mode of the distribution has both cards being distinct from dealer's,\n",
        "    # so we prefer finding such two cards.\n",
        "    for card1 in range(2, (player_total + 1) // 2):\n",
        "      card2 = player_total - card1\n",
        "      if dealer_upcard not in (card1, card2):\n",
        "        break\n",
        "    else:\n",
        "      card1, card2 = 2, player_total - 2  # None preferable, so pick any two.\n",
        "\n",
        "  return card1, card2"
      ],
      "metadata": {
        "id": "bUHyF0Z_GapI"
      },
      "execution_count": 9,
      "outputs": []
    },
    {
      "cell_type": "markdown",
      "source": [
        "### Card probabilities"
      ],
      "metadata": {
        "id": "Sll0hKTHMSae"
      }
    },
    {
      "cell_type": "code",
      "source": [
        "def card_probabilities(recent_cards: RecentCards,\n",
        "                       rules: Rules) -> Mapping[int, float]:\n",
        "  \"\"\"Returns a mapping from card values (2-11) to their probabilities.\"\"\"\n",
        "  # Reduce memory usage by recognizing that num_decks is the only field used.\n",
        "  return card_probabilities_helper(recent_cards, rules.num_decks)"
      ],
      "metadata": {
        "id": "dQxIJdPWLi2H"
      },
      "execution_count": 10,
      "outputs": []
    },
    {
      "cell_type": "code",
      "source": [
        "@functools.lru_cache(maxsize=None)\n",
        "def card_probabilities_helper(recent_cards: RecentCards,\n",
        "                              num_decks: float) -> Mapping[int, float]:\n",
        "  \"\"\"Returns a mapping from card values (2-11) to their probabilities given\n",
        "  some recently seen cards (e.g., player card1 and card2 and dealer upcard).\n",
        "  (num_decks is of type float because it can be math.inf).\"\"\"\n",
        "  if not recent_cards:\n",
        "    return UNIFORM_CARD_PROB\n",
        "\n",
        "  assert num_decks != math.inf\n",
        "  # In a deck, there are 4 cards of each value, except 16 cards of value 10.\n",
        "  count_of_card = {card: (16 if card == 10 else 4) * num_decks\n",
        "                   for card in range(2, 12)}\n",
        "  num_cards = num_decks * 52\n",
        "  # If there are more recent cards of a given value than in the shoe, which\n",
        "  # should not be possible, we ignore those extra cards.\n",
        "  for card in recent_cards:\n",
        "    if count_of_card[card] > 0:\n",
        "      count_of_card[card] -= 1\n",
        "      num_cards -= 1\n",
        "\n",
        "  return {card: count / num_cards for card, count in count_of_card.items()}"
      ],
      "metadata": {
        "id": "Zjya7Qt5nFpK"
      },
      "execution_count": 11,
      "outputs": []
    },
    {
      "cell_type": "code",
      "source": [
        "def test_card_probabilities():\n",
        "  check_eq(card_probabilities((3, 3, 3), Rules(num_decks=1))[3], 1 / 49)\n",
        "  check_eq(card_probabilities((3, 3, 3, 3), Rules(num_decks=1))[3], 0)\n",
        "\n",
        "test_card_probabilities()"
      ],
      "metadata": {
        "id": "jjG4Rn8SfiWu"
      },
      "execution_count": 12,
      "outputs": []
    },
    {
      "cell_type": "code",
      "source": [
        "@functools.lru_cache(maxsize=None)\n",
        "def expected_num_split_hands(card1: int, recent_cards: RecentCards,\n",
        "                             rules: Rules) -> float:\n",
        "  \"\"\"Returns the expected number of hands resulting from splitting pairs.\"\"\"\n",
        "  # There is the issue of whether one is allowed to split any two cards with\n",
        "  # value 10, e.g. (Queen, Jack).  It is usually the case but may be disallowed.\n",
        "  # It would affect the probability of occurrence of splits and resplits.\n",
        "  # However, the optimal-actions tables show that is always favorable to\n",
        "  # stand on 10-10, so the issue is moot.\n",
        "  max_num_hands = (2 if card1 == 11 and not rules.resplit_aces\n",
        "                   else rules.split_to_num_hands)\n",
        "  if rules.num_decks == math.inf:\n",
        "    return {\n",
        "        2: 2.0,\n",
        "        3: 2 + 2/13,  # 2.153_846\n",
        "        4: 2 + 2/13 + 2/13*2/13,  # 2.177_515\n",
        "        math.inf: 2 + 2/13/(1 - 2/13),  # 2.181_818\n",
        "    }[max_num_hands]\n",
        "\n",
        "  expected = 2.0\n",
        "  if max_num_hands >= 3:\n",
        "    prob3 = card_probabilities(recent_cards, rules)[card1]\n",
        "    expected += 2 * prob3  # Each split brings two new cards.\n",
        "  if max_num_hands >= 4:\n",
        "    recent_cards2 = tuple(sorted(recent_cards + (card1,)))\n",
        "    prob4 = card_probabilities(recent_cards2, rules)[card1]\n",
        "    expected += (2 * prob3) * (2 * prob4)\n",
        "  if max_num_hands >= 5:\n",
        "    recent_cards3 = tuple(sorted(recent_cards2 + (card1,)))\n",
        "    prob5 = card_probabilities(recent_cards3, rules)[card1]\n",
        "    expected += (2 * prob3) * (2 * prob4) * (2 * prob5)\n",
        "  # For now, limit the analysis to 5 hands.  The error is likely small.\n",
        "  return expected"
      ],
      "metadata": {
        "id": "GY4stmirmv_c"
      },
      "execution_count": 13,
      "outputs": []
    },
    {
      "cell_type": "markdown",
      "source": [
        "### Probability of dealer blackjack"
      ],
      "metadata": {
        "id": "YZXqZcMmMccS"
      }
    },
    {
      "cell_type": "code",
      "source": [
        "def probability_dealer_bj(dealer_upcard: int, recent_cards: RecentCards,\n",
        "                          rules: Rules) -> float:\n",
        "  \"\"\"Returns the probability that the dealer holds an (ace, 10).\"\"\"\n",
        "  assert 2 <= dealer_upcard <= 11\n",
        "  sum_prob = 0.0\n",
        "  for card, prob in card_probabilities(recent_cards, rules).items():\n",
        "    dealer_bj = dealer_upcard + card == 21\n",
        "    sum_prob += prob * dealer_bj\n",
        "\n",
        "  return sum_prob"
      ],
      "metadata": {
        "id": "1q8_R7reLzDX"
      },
      "execution_count": 14,
      "outputs": []
    },
    {
      "cell_type": "code",
      "source": [
        "def test_probability_dealer_bj_with_no_recent_cards():\n",
        "  \"\"\"Verify the card distribution given no knowledge of recent_cards.\"\"\"\n",
        "  recent_cards = ()\n",
        "  for dealer_upcard in range(2, 12):\n",
        "    check_eq(probability_dealer_bj(dealer_upcard, recent_cards, Rules()),\n",
        "             (dealer_upcard == 11) * (4/13) + (dealer_upcard == 10) * (1/13))\n",
        "\n",
        "test_probability_dealer_bj_with_no_recent_cards()"
      ],
      "metadata": {
        "id": "Xhmo5eJOHhy4"
      },
      "execution_count": 15,
      "outputs": []
    },
    {
      "cell_type": "markdown",
      "source": [
        "### Reward on dealer draw"
      ],
      "metadata": {
        "id": "uJFZGYngMhnU"
      }
    },
    {
      "cell_type": "code",
      "source": [
        "@dataclasses.dataclass(frozen=True)\n",
        "class DealerRules:\n",
        "  \"\"\"Subset of the `Rules` fields that apply to the dealer draw.\"\"\"\n",
        "  num_decks: float\n",
        "  stand_soft17: bool\n",
        "  obo: bool"
      ],
      "metadata": {
        "id": "84VfYxoBgxZ-"
      },
      "execution_count": 16,
      "outputs": []
    },
    {
      "cell_type": "code",
      "source": [
        "def reward_after_dealer_upcard(\n",
        "    player_total: int, dealer_upcard: int,\n",
        "    recent_cards: RecentCards, rules: Rules) -> float:\n",
        "  \"\"\"Returns the expected reward after the player stands; assumes the player\n",
        "  does not have bj; handles dealer bj if not OBO else ignores it.\"\"\"\n",
        "  # We extract DealerRules to improve the memoization efficiency of lru_cache.\n",
        "  dealer_rules = DealerRules(\n",
        "      num_decks=rules.num_decks, stand_soft17=rules.stand_soft17, obo=rules.obo)\n",
        "  return reward_after_dealer_upcard_helper(\n",
        "      player_total, dealer_upcard, recent_cards, dealer_rules)\n"
      ],
      "metadata": {
        "id": "q7SrURMvm5V7"
      },
      "execution_count": 17,
      "outputs": []
    },
    {
      "cell_type": "code",
      "source": [
        "@functools.lru_cache(maxsize=None)\n",
        "def reward_after_dealer_upcard_helper(\n",
        "    player_total: int, dealer_upcard: int,\n",
        "    recent_cards: RecentCards, dealer_rules: DealerRules) -> float:\n",
        "  \"\"\"Returns the expected reward after the player stands; assumes the player\n",
        "  does not have bj; handles dealer bj if not OBO else ignores it.\"\"\"\n",
        "  assert 4 <= player_total <= 32 and 2 <= dealer_upcard <= 11\n",
        "\n",
        "  if player_total > 21:\n",
        "    return -1.0  # Player busts and therefore loses.\n",
        "\n",
        "  sum_reward = 0.0\n",
        "  sum_prob = 0.0\n",
        "  for card, prob in card_probabilities_helper(\n",
        "      recent_cards, dealer_rules.num_decks).items():\n",
        "    dealer_total, dealer_soft = combine_cards(dealer_upcard, card)\n",
        "    dealer_bj = dealer_total == 21\n",
        "    if dealer_bj:\n",
        "      if dealer_rules.obo:\n",
        "        pass  # dealer_bj already accounted for in reward_for_initial_action().\n",
        "      else:\n",
        "        sum_reward += prob * -1.0  # Dealer has blackjack and thus player loses.\n",
        "        sum_prob += prob\n",
        "\n",
        "    else:\n",
        "      recent_cards2 = (tuple(sorted(recent_cards + (card,))) if recent_cards\n",
        "                       else ())\n",
        "      sum_reward += prob * reward_after_dealer_total(\n",
        "          player_total, dealer_total, dealer_soft, recent_cards2, dealer_rules)\n",
        "      sum_prob += prob\n",
        "\n",
        "  return sum_reward / sum_prob"
      ],
      "metadata": {
        "id": "t3Myq3OVnM9j"
      },
      "execution_count": 18,
      "outputs": []
    },
    {
      "cell_type": "code",
      "source": [
        "@functools.lru_cache(maxsize=None)\n",
        "def reward_after_dealer_total(\n",
        "    player_total: int, dealer_total: int, dealer_soft: bool,\n",
        "    recent_cards: RecentCards, dealer_rules: DealerRules) -> float:\n",
        "  \"\"\"Returns expected reward after the player stands (given that neither\n",
        "  player nor dealer has bj).\"\"\"\n",
        "  assert 4 <= player_total <= 21 and 4 <= dealer_total <= 21\n",
        "\n",
        "  dealer_hits = dealer_total < 17 or (\n",
        "      dealer_total == 17 and dealer_soft and not dealer_rules.stand_soft17)\n",
        "  if dealer_hits:\n",
        "    sum_reward = 0.0\n",
        "    for card, prob in card_probabilities_helper(\n",
        "        recent_cards, dealer_rules.num_decks).items():\n",
        "      dealer_total2, dealer_soft2 = add_card(dealer_total, dealer_soft, card)\n",
        "      if dealer_total2 > 21:\n",
        "        reward = 1.0  # Dealer busts and thus player wins.\n",
        "      else:\n",
        "        recent_cards2 = (tuple(sorted(recent_cards + (card,))) if recent_cards\n",
        "                         else ())\n",
        "        reward = reward_after_dealer_total(\n",
        "            player_total, dealer_total2, dealer_soft2,\n",
        "            recent_cards2, dealer_rules)\n",
        "      sum_reward += prob * reward\n",
        "    return sum_reward\n",
        "\n",
        "  # Dealer stands.\n",
        "  return (1.0 if player_total > dealer_total  # Player wins.\n",
        "          else 0.0 if player_total == dealer_total  # Push; player gains zero.\n",
        "          else -1.0)  # Player loses."
      ],
      "metadata": {
        "id": "dkFeFlL0nAMi"
      },
      "execution_count": 19,
      "outputs": []
    },
    {
      "cell_type": "markdown",
      "source": [
        "### Reward on initial player cards"
      ],
      "metadata": {
        "id": "9qYi3aUNMzoN"
      }
    },
    {
      "cell_type": "code",
      "source": [
        "def reward_for_initial_action(\n",
        "    card1: int, card2: int, dealer_upcard: int,\n",
        "    rules: Rules, strategy: Strategy, action: Action) -> float:\n",
        "  \"\"\"Compures the expected reward for the first action.\n",
        "  Handles player blackjack, and if OBO, dealer blackjack as well.\n",
        "  (If not OBO, dealer bj is handled in reward_after_dealer_upcard_helper().)\"\"\"\n",
        "  player_bj = card1 + card2 == 21\n",
        "  recent_cards = (() if rules.num_decks == math.inf else\n",
        "                  tuple(sorted([card1, card2, dealer_upcard])))\n",
        "  prob_dealer_bj = probability_dealer_bj(dealer_upcard, recent_cards, rules)\n",
        "\n",
        "  if player_bj:\n",
        "    if action != 'stand':\n",
        "      return DISALLOWED\n",
        "    reward = rules.blackjack_payout\n",
        "    return (0.0 * prob_dealer_bj  # Push if both have blackjacks.\n",
        "            + reward * (1.0 - prob_dealer_bj))  # Player bj wins.\n",
        "\n",
        "  reward = reward_for_action(\n",
        "      card1, card2, None, None, dealer_upcard, rules, strategy, action)\n",
        "\n",
        "  if rules.obo:\n",
        "    # Dealer blackjack beats any player hand, including 21, except player bj.\n",
        "    # Player loses original bet only (obo) -- value 1.0.\n",
        "    reward = -1.0 * prob_dealer_bj + reward * (1.0 - prob_dealer_bj)\n",
        "\n",
        "  return reward"
      ],
      "metadata": {
        "id": "B88Sa5aLPTNx"
      },
      "execution_count": 20,
      "outputs": []
    },
    {
      "cell_type": "markdown",
      "source": [
        "### Reward on player action"
      ],
      "metadata": {
        "id": "UatP7WvtNC3G"
      }
    },
    {
      "cell_type": "code",
      "source": [
        "@functools.lru_cache(maxsize=None)\n",
        "def reward_for_action(\n",
        "    card1: int, card2: int, player_total: Optional[int],\n",
        "    player_soft: Optional[bool], dealer_upcard: int,\n",
        "    rules: Rules, strategy: Strategy, action: Action) -> float:\n",
        "  \"\"\"Returns the expected reward for either:\n",
        "  - the first action (i.e., if player_total is None) (using card1 and card2) or\n",
        "  - subsequent actions (using player_total and player_soft).\n",
        "  The reward does not account for player blackjack (and if OBO, dealer\n",
        "  blackjack).\"\"\"\n",
        "  assert action in strategy.actions\n",
        "\n",
        "  first_action = player_total is None\n",
        "  if first_action:\n",
        "    assert player_soft is None\n",
        "    player_total, player_soft = combine_cards(card1, card2)\n",
        "\n",
        "  assert player_total is not None and player_soft is not None\n",
        "  assert 2 <= card1 <= 11 or card1 == 0\n",
        "  assert 2 <= card2 <= 11 or card2 == 0\n",
        "  assert 4 <= player_total <= 21\n",
        "  recent_cards = (() if rules.num_decks == math.inf else\n",
        "                  tuple(sorted(card for card in [card1, card2, dealer_upcard]\n",
        "                               if card != 0)))\n",
        "\n",
        "  if action == 'stand':\n",
        "    return reward_after_dealer_upcard(\n",
        "        player_total, dealer_upcard, recent_cards, rules)\n",
        "\n",
        "  if action == 'hit':\n",
        "    sum_reward = 0.0\n",
        "    for card, prob in card_probabilities(recent_cards, rules).items():\n",
        "      player_total2, player_soft2 = add_card(player_total, player_soft, card)\n",
        "      if player_total2 > 21:\n",
        "        reward = -1.0  # Player busts and loses.\n",
        "      else:\n",
        "        # Ideally, we would recursively update recent_cards, but this would\n",
        "        # cause the lru_cache to become combinatorially large.\n",
        "        reward = best_reward_and_action(\n",
        "            card1, card2, player_total2, player_soft2, dealer_upcard,\n",
        "            rules, strategy)[0]\n",
        "      sum_reward += prob * reward\n",
        "    return sum_reward\n",
        "\n",
        "  if action == 'double':\n",
        "    if not first_action and not rules.double_after_hit:\n",
        "      return DISALLOWED\n",
        "    if (rules.double_min_total > 0 and\n",
        "        (player_soft or player_total < rules.double_min_total)):\n",
        "      return DISALLOWED\n",
        "    sum_reward = 0.0\n",
        "    for card, prob in card_probabilities(recent_cards, rules).items():\n",
        "      player_total2, player_soft2 = add_card(player_total, player_soft, card)\n",
        "      recent_cards2 = (tuple(sorted(recent_cards + (card,))) if recent_cards\n",
        "                       else ())\n",
        "      # Player must 'stand' after 'double'.\n",
        "      reward = reward_after_dealer_upcard(\n",
        "          player_total2, dealer_upcard, recent_cards2, rules)\n",
        "      sum_reward += prob * reward * 2.0\n",
        "    return sum_reward\n",
        "\n",
        "  if action == 'split':\n",
        "    # The approach is to compute the expected number of split hands (due to\n",
        "    # resplitting) and the expected reward per hand and multiply them.\n",
        "    if not first_action or card1 != card2 or rules.split_to_num_hands == 0:\n",
        "      return DISALLOWED\n",
        "    num_split_hands = expected_num_split_hands(card1, recent_cards, rules)\n",
        "    sum_reward = 0.0\n",
        "    sum_prob = 0.0\n",
        "    for card, prob in card_probabilities(recent_cards, rules).items():\n",
        "      if num_split_hands > 2.0 and card == card1:\n",
        "        # The resplit is already accounted for in num_split_hands.\n",
        "        continue\n",
        "      actions2 = strategy.actions - {'split', 'surrender'}\n",
        "      if card1 == 11 and not rules.hit_split_aces:\n",
        "        actions2 = actions2 - {'hit'}\n",
        "      if (not rules.double_after_split or\n",
        "          (card1 == 11 and not rules.double_split_aces)):\n",
        "        actions2 = actions2 - {'double'}\n",
        "      strategy2 = dataclasses.replace(strategy, actions=frozenset(actions2))\n",
        "      reward = best_reward_and_action(\n",
        "          card1, card, None, None, dealer_upcard, rules, strategy2)[0]\n",
        "      sum_reward += prob * reward\n",
        "      sum_prob += prob\n",
        "    return sum_reward / sum_prob * num_split_hands\n",
        "\n",
        "  if action == 'surrender':\n",
        "    if not first_action:\n",
        "      return DISALLOWED\n",
        "    if rules.late_surrender:\n",
        "      reward = -0.5  # Lose half the bet (unless dealer had bj).\n",
        "      if rules.obo:\n",
        "        pass  # dealer_bj already accounted for in reward_for_initial_action().\n",
        "      else:\n",
        "        prob_dealer_bj = probability_dealer_bj(\n",
        "            dealer_upcard, recent_cards, rules)\n",
        "        reward = -1.0 * prob_dealer_bj + reward * (1.0 - prob_dealer_bj)\n",
        "      return reward\n",
        "    return DISALLOWED\n",
        "\n",
        "  raise AssertionError(action)"
      ],
      "metadata": {
        "id": "WClWd9EuCyYl"
      },
      "execution_count": 21,
      "outputs": []
    },
    {
      "cell_type": "code",
      "source": [
        "@functools.lru_cache(maxsize=None)\n",
        "def best_reward_and_action(\n",
        "    card1: int, card2: int, player_total: Optional[int],\n",
        "    player_soft: Optional[bool], dealer_upcard: int,\n",
        "    rules: Rules, strategy: Strategy,\n",
        "    *, immediate_actions: Optional[Actions] = None) -> Tuple[float, Action]:\n",
        "  \"\"\"Determines the action with the best expected reward for either:\n",
        "  - the first action (i.e., if player_total is None) (using card1 and card2) or\n",
        "  - subsequent actions (using player_total and player_soft).\n",
        "  Returns both the reward and action.\n",
        "  \n",
        "  Note that best_reward_and_action() evaluates the action rewards using\n",
        "  reward_for_action() rather than reward_for_initial_action().\n",
        "  Therefore, the computed rewards ignore player bj (and dealer bj if OBO).\n",
        "  However, the ranking of the actions is unaffected, because the player bj\n",
        "  (and dealer bj if OBO) are effectively handled before any user action.\n",
        "  \"\"\"\n",
        "  immediate_actions = (\n",
        "      strategy.actions if immediate_actions is None else immediate_actions)\n",
        "\n",
        "  if not strategy.composition_dependent:\n",
        "    # Compute the best action using the basic strategy.\n",
        "    first_action = player_total is None\n",
        "    player_total2, player_soft2 = player_total, player_soft\n",
        "    if first_action:\n",
        "      player_total2, player_soft2 = combine_cards(card1, card2)\n",
        "    strategy2 = dataclasses.replace(strategy, composition_dependent=True)\n",
        "\n",
        "    def action_allowed(action: Action) -> bool:\n",
        "      \"\"\"Determines if the action is allowed given all the parameters.\"\"\"\n",
        "      return reward_for_action(\n",
        "          card1, card2, player_total, player_soft, dealer_upcard,\n",
        "          rules, strategy2, action) != DISALLOWED\n",
        "\n",
        "    args1 = (player_total2, player_soft2, dealer_upcard, rules, strategy)\n",
        "    best_reward, best_action = max(\n",
        "        (reward_for_basic_strategy_table(*args1, action), action)\n",
        "        for action in immediate_actions - {'split'}\n",
        "        if action_allowed(action))\n",
        "\n",
        "    action = 'split'\n",
        "    if (card1 == card2 and first_action and 'split' in immediate_actions and\n",
        "        action_allowed(action)):\n",
        "      reward = reward_for_action(\n",
        "          card1, card2, None, None, dealer_upcard, rules, strategy, action)\n",
        "      assert reward != DISALLOWED\n",
        "      if (reward, action) > (best_reward, best_action):\n",
        "        best_reward, best_action = reward, action\n",
        "\n",
        "    # Using the basic-strategy best_action, compute the expected reward on\n",
        "    # the specific (card1, card2) combination.\n",
        "    best_reward = reward_for_action(\n",
        "        card1, card2, player_total, player_soft, dealer_upcard,\n",
        "        rules, strategy2, best_action)\n",
        "    assert best_reward != DISALLOWED\n",
        "    return best_reward, best_action\n",
        "\n",
        "  args2 = (card1, card2, player_total, player_soft, dealer_upcard,\n",
        "           rules, strategy)\n",
        "  best_reward, best_action = max(\n",
        "      (reward_for_action(*args2, action), action)\n",
        "      for action in immediate_actions)\n",
        "  return best_reward, best_action"
      ],
      "metadata": {
        "id": "iszF9gWtnPwy"
      },
      "execution_count": 22,
      "outputs": []
    },
    {
      "cell_type": "markdown",
      "source": [
        "### Reward for basic strategy"
      ],
      "metadata": {
        "id": "B7TsER-yNoU8"
      }
    },
    {
      "cell_type": "code",
      "source": [
        "@functools.lru_cache(maxsize=None)\n",
        "def reward_for_basic_strategy_table(\n",
        "    player_total: int, player_soft: bool, dealer_upcard: int, rules: Rules,\n",
        "    strategy: Strategy, action: Action) -> float:\n",
        "  \"\"\"Computes the per-action expected reward for each cell (player_total,\n",
        "  dealer_upcard) of the two basic-strategy tables (player_soft=[False,True]).\"\"\"\n",
        "  assert not strategy.composition_dependent\n",
        "  assert action != 'split'\n",
        "  if player_total == 21:\n",
        "    player_soft = True  # To allow a card to be a 11 (ace).\n",
        "\n",
        "  # We compute the expected reward over all possible two dealt cards whose\n",
        "  # total matches the specified total.  (The reward for each dealt cards is\n",
        "  # evaluated using a composition-dependent analysis; otherwise the\n",
        "  # evaluation would recurse infinitely.)\n",
        "  strategy2 = dataclasses.replace(strategy, composition_dependent=True)\n",
        "  sum_reward = 0.0\n",
        "  sum_prob = 0.0\n",
        "  recent_cards = (dealer_upcard,) if rules.num_decks != math.inf else ()\n",
        "\n",
        "  for card1 in ((11,) if player_soft else\n",
        "                range(max(2, player_total - 10),\n",
        "                      min(10, player_total - 2) + 1)):\n",
        "    prob1 = card_probabilities(recent_cards, rules)[card1]\n",
        "    recent_cards2 = (tuple(sorted(recent_cards + (card1,))) if recent_cards\n",
        "                     else ())\n",
        "    card2 = 11 if player_soft and player_total == 12 else player_total - card1\n",
        "    assert 2 <= card2 <= 11, (player_total, card1, card2)\n",
        "    prob2 = card_probabilities(recent_cards2, rules)[card2]\n",
        "    prob = prob1 * prob2\n",
        "    reward = reward_for_action(\n",
        "        card1, card2, None, None, dealer_upcard, rules, strategy2, action)\n",
        "    sum_reward += prob * reward\n",
        "    sum_prob += prob\n",
        "\n",
        "  return sum_reward / sum_prob"
      ],
      "metadata": {
        "id": "WDYO2RhpkmKY"
      },
      "execution_count": 23,
      "outputs": []
    },
    {
      "cell_type": "markdown",
      "source": [
        "### Basic-strategy tables"
      ],
      "metadata": {
        "id": "ibI0F3Y0OL0N"
      }
    },
    {
      "cell_type": "code",
      "source": [
        "def action_tables_for_basic_strategy(\n",
        "    rules: Rules, *, strategy: Strategy = Strategy()) -> List[np.ndarray]:\n",
        "  \"\"\"Returns a list of three 2D arrays:\n",
        "  ((hard_player_total | soft_player_total | pair_value) vs dealer_upcard),\n",
        "  whose cell values are the optimal action codes under the basic strategy.\"\"\"\n",
        "  assert not strategy.composition_dependent\n",
        "  tables = []\n",
        "\n",
        "  def code_from_actions(action0: Action, action1: Action) -> str:\n",
        "    \"\"\"Returns a short table cell label given an action and fallback action.\"\"\"\n",
        "    CODE_FROM_ACTION = {'stand': 'S', 'hit': 'H', 'double': 'D',\n",
        "                        'split': 'SP', 'surrender': 'U'}\n",
        "    s = CODE_FROM_ACTION[action0]\n",
        "    if action0 != action1:\n",
        "      s += CODE_FROM_ACTION[action1].lower()\n",
        "    return s\n",
        "\n",
        "  for player_soft in [False, True]:\n",
        "    player_total_base = 13 if player_soft else 5\n",
        "    shape = (22 - player_total_base, 10)  # (5-21, 2-11) or (13-21, 2-11)\n",
        "    table = np.empty(shape, dtype=object)\n",
        "    for player_total in range(player_total_base, 22):\n",
        "      for dealer_upcard in range(2, 12):\n",
        "        card1, card2 = two_cards_reproducing_total(\n",
        "            player_total, player_soft, dealer_upcard)\n",
        "        args1 = (card1, card2, None, None, dealer_upcard,\n",
        "                 rules, strategy)\n",
        "        action0 = best_reward_and_action(*args1)[1]\n",
        "        fallback_actions = frozenset(strategy.actions & {'stand', 'hit'})\n",
        "        action1 = best_reward_and_action(\n",
        "            *args1, immediate_actions=fallback_actions)[1]\n",
        "        table[player_total - player_total_base, dealer_upcard - 2] = (\n",
        "            code_from_actions(action0, action1))\n",
        "    tables.append(table)\n",
        "\n",
        "  table = np.empty((10, 10), dtype=object)  # (2-11, 2-11)\n",
        "  for card in range(2, 12):\n",
        "    for dealer_upcard in range(2, 12):\n",
        "      args2 = (card, card, None, None, dealer_upcard, rules, strategy)\n",
        "      action0 = best_reward_and_action(*args2)[1]\n",
        "      fallback_actions = frozenset(strategy.actions & {'stand', 'hit', 'split'})\n",
        "      action1 = best_reward_and_action(\n",
        "          *args2, immediate_actions=fallback_actions)[1]\n",
        "      table[card - 2, dealer_upcard - 2] = code_from_actions(action0, action1)\n",
        "  tables.append(table)\n",
        "\n",
        "  return tables"
      ],
      "metadata": {
        "id": "rQ5G5tlSFcqR"
      },
      "execution_count": 24,
      "outputs": []
    },
    {
      "cell_type": "code",
      "source": [
        "def show_action_tables_for_basic_strategy(\n",
        "    rules: Rules, *, strategy: Strategy = Strategy()):\n",
        "  \"\"\"Draws 3 tables of optimal actions for the basic strategy.\"\"\"\n",
        "  print(rules)\n",
        "  print('Legend: (S)stand, (H)hit, (D)double, (SP)split, (U)surrender;'\n",
        "        ' (Xy) means do X if allowed else Y.')\n",
        "  tables = action_tables_for_basic_strategy(rules, strategy=strategy)\n",
        "  COLOR_FOR_CODE = {\n",
        "      'S': [1.0, 0.0, 0.0],  # Red.\n",
        "      'H': [0.0, 1.0, 0.0],  # Green.\n",
        "      'D': [0.0, 1.0, 1.0],  # Cyan.\n",
        "      'SP': [1.0, 1.0, 0.0],  # Yellow.\n",
        "      'U': [1.0, 1.0, 1.0],  # White.\n",
        "  }\n",
        "  gridspec = {'width_ratios': [1, 1, 1]}  # Same-width subplots.\n",
        "  fig, axs = plt.subplots(1, 3, figsize=(12, 8), gridspec_kw=gridspec)\n",
        "\n",
        "  def subplot(index: int, table: np.ndarray, title: str,\n",
        "              yticklabels: Iterable[Any]):\n",
        "    \"\"\"Draws one of the 3 tables.\"\"\"\n",
        "    ax = axs[index]\n",
        "    action_color = [[COLOR_FOR_CODE[re.sub(r'[a-z]*', '', a)] for a in row]\n",
        "                    for row in table]\n",
        "    ax.matshow(action_color)\n",
        "    ny, nx = table.shape\n",
        "    ax.hlines(y=np.arange(ny) + 0.5, xmin=-0.5, xmax=nx - 0.5, color='gray')\n",
        "    ax.vlines(x=np.arange(nx) + 0.5, ymin=-0.5, ymax=ny - 0.5, color='gray')\n",
        "\n",
        "    for yx in np.ndindex(table.shape):\n",
        "      code = table[yx]\n",
        "      ax.text(*yx[::-1], code, va='center', ha='center',\n",
        "              fontsize=13, bbox=dict(alpha=0))\n",
        "\n",
        "    ax.set_anchor('N')  # Align subplots at top (North).\n",
        "    ax.set_ylim(ax.get_ylim()[::-1])  # Flip the vertical axis.\n",
        "    ax.set_title(title, y=1.0, pad=10)\n",
        "    ax.set_ylabel('Player total' if index == 0 else None)\n",
        "    ax.set_xlabel('Dealer upcard')\n",
        "    ax.xaxis.set_ticks_position('top')\n",
        "    ax.xaxis.set_label_position('top')\n",
        "    ax.set_yticks(range(table.shape[0]))\n",
        "    ax.set_xticks(range(table.shape[1]))\n",
        "    ax.set_yticklabels(yticklabels)\n",
        "    ax.set_xticklabels(range(2, 12))\n",
        "\n",
        "  # Subplot (1) \"Player total is hard\" and Subplot (2) \"Player total is soft\".\n",
        "  for index, player_soft in enumerate([False, True]):\n",
        "    title = f'Player total is {\"soft\" if player_soft else \"hard\"}'\n",
        "    player_total_base = 13 if player_soft else 5\n",
        "    yticklabels: Iterable[Any] = range(player_total_base, 22)\n",
        "    subplot(index, tables[index], title, yticklabels)\n",
        "\n",
        "  # Subplot (3) \"Player holds a pair\".\n",
        "  title = 'Player holds a pair'\n",
        "  yticklabels = [f'{card},{card}' for card in range(2, 12)]\n",
        "  subplot(2, tables[2], title, yticklabels)\n",
        "\n",
        "  fig.tight_layout()\n",
        "  plt.show()"
      ],
      "metadata": {
        "id": "_2Krx1oyOhom"
      },
      "execution_count": 25,
      "outputs": []
    },
    {
      "cell_type": "code",
      "source": [
        "def verify_action_tables(rules: Rules, expected: List[str]):\n",
        "  \"\"\"Test that the generated action tables reproduce the expected values.\"\"\"\n",
        "  tables = action_tables_for_basic_strategy(rules)\n",
        "  for index, table in enumerate(tables):\n",
        "    s = np.array2string(table, formatter=dict(all=lambda x: f'{x:3}'))\n",
        "    check_eq(s, expected[index])"
      ],
      "metadata": {
        "id": "B9-6tJiuOmUm"
      },
      "execution_count": 26,
      "outputs": []
    },
    {
      "cell_type": "markdown",
      "source": [
        "For testing, we define two sets of tables (`TEST_BASIC_STRATEGY_ACTION_{H,S}17`)\n",
        "of the expected optimal actions using the basic strategy with the default rules."
      ],
      "metadata": {
        "id": "gB0mbxXrdAyl"
      }
    },
    {
      "cell_type": "code",
      "source": [
        "#@title\n",
        "\"\"\"Sanity check on expected result for \"dealer hits on soft 17\".\"\"\"\n",
        "TEST_BASIC_STRATEGY_ACTION_H17 = [\n",
        "    \"\"\"[[H   H   H   H   H   H   H   H   H   H  ]\n",
        " [H   H   H   H   H   H   H   H   H   H  ]\n",
        " [H   H   H   H   H   H   H   H   H   H  ]\n",
        " [H   H   H   H   H   H   H   H   H   H  ]\n",
        " [H   Dh  Dh  Dh  Dh  H   H   H   H   H  ]\n",
        " [Dh  Dh  Dh  Dh  Dh  Dh  Dh  Dh  H   H  ]\n",
        " [Dh  Dh  Dh  Dh  Dh  Dh  Dh  Dh  Dh  Dh ]\n",
        " [H   H   S   S   S   H   H   H   H   H  ]\n",
        " [S   S   S   S   S   H   H   H   H   H  ]\n",
        " [S   S   S   S   S   H   H   H   H   H  ]\n",
        " [S   S   S   S   S   H   H   H   Uh  Uh ]\n",
        " [S   S   S   S   S   H   H   Uh  Uh  Uh ]\n",
        " [S   S   S   S   S   S   S   S   S   Us ]\n",
        " [S   S   S   S   S   S   S   S   S   S  ]\n",
        " [S   S   S   S   S   S   S   S   S   S  ]\n",
        " [S   S   S   S   S   S   S   S   S   S  ]\n",
        " [S   S   S   S   S   S   S   S   S   S  ]]\"\"\",\n",
        "     \"\"\"[[H   H   H   Dh  Dh  H   H   H   H   H  ]\n",
        " [H   H   H   Dh  Dh  H   H   H   H   H  ]\n",
        " [H   H   Dh  Dh  Dh  H   H   H   H   H  ]\n",
        " [H   H   Dh  Dh  Dh  H   H   H   H   H  ]\n",
        " [H   Dh  Dh  Dh  Dh  H   H   H   H   H  ]\n",
        " [Ds  Ds  Ds  Ds  Ds  S   S   H   H   H  ]\n",
        " [S   S   S   S   Ds  S   S   S   S   S  ]\n",
        " [S   S   S   S   S   S   S   S   S   S  ]\n",
        " [S   S   S   S   S   S   S   S   S   S  ]]\"\"\",\n",
        "     \"\"\"[[SP  SP  SP  SP  SP  SP  H   H   H   H  ]\n",
        " [SP  SP  SP  SP  SP  SP  H   H   H   H  ]\n",
        " [H   H   H   SP  SP  H   H   H   H   H  ]\n",
        " [Dh  Dh  Dh  Dh  Dh  Dh  Dh  Dh  H   H  ]\n",
        " [SP  SP  SP  SP  SP  H   H   H   H   H  ]\n",
        " [SP  SP  SP  SP  SP  SP  H   H   H   H  ]\n",
        " [SP  SP  SP  SP  SP  SP  SP  SP  SP  Usp]\n",
        " [SP  SP  SP  SP  SP  S   SP  SP  S   S  ]\n",
        " [S   S   S   S   S   S   S   S   S   S  ]\n",
        " [SP  SP  SP  SP  SP  SP  SP  SP  SP  SP ]]\"\"\",\n",
        "]\n",
        "\n",
        "\"\"\"Sanity check on expected result for \"dealer stands on soft 17\".\"\"\"\n",
        "TEST_BASIC_STRATEGY_ACTION_S17 = [\n",
        "    \"\"\"[[H   H   H   H   H   H   H   H   H   H  ]\n",
        " [H   H   H   H   H   H   H   H   H   H  ]\n",
        " [H   H   H   H   H   H   H   H   H   H  ]\n",
        " [H   H   H   H   H   H   H   H   H   H  ]\n",
        " [H   Dh  Dh  Dh  Dh  H   H   H   H   H  ]\n",
        " [Dh  Dh  Dh  Dh  Dh  Dh  Dh  Dh  H   H  ]\n",
        " [Dh  Dh  Dh  Dh  Dh  Dh  Dh  Dh  Dh  H  ]\n",
        " [H   H   S   S   S   H   H   H   H   H  ]\n",
        " [S   S   S   S   S   H   H   H   H   H  ]\n",
        " [S   S   S   S   S   H   H   H   H   H  ]\n",
        " [S   S   S   S   S   H   H   H   Uh  H  ]\n",
        " [S   S   S   S   S   H   H   Uh  Uh  Uh ]\n",
        " [S   S   S   S   S   S   S   S   S   S  ]\n",
        " [S   S   S   S   S   S   S   S   S   S  ]\n",
        " [S   S   S   S   S   S   S   S   S   S  ]\n",
        " [S   S   S   S   S   S   S   S   S   S  ]\n",
        " [S   S   S   S   S   S   S   S   S   S  ]]\"\"\",\n",
        "     \"\"\"[[H   H   H   Dh  Dh  H   H   H   H   H  ]\n",
        " [H   H   H   Dh  Dh  H   H   H   H   H  ]\n",
        " [H   H   Dh  Dh  Dh  H   H   H   H   H  ]\n",
        " [H   H   Dh  Dh  Dh  H   H   H   H   H  ]\n",
        " [H   Dh  Dh  Dh  Dh  H   H   H   H   H  ]\n",
        " [S   Ds  Ds  Ds  Ds  S   S   H   H   H  ]\n",
        " [S   S   S   S   S   S   S   S   S   S  ]\n",
        " [S   S   S   S   S   S   S   S   S   S  ]\n",
        " [S   S   S   S   S   S   S   S   S   S  ]]\"\"\",\n",
        "     \"\"\"[[SP  SP  SP  SP  SP  SP  H   H   H   H  ]\n",
        " [SP  SP  SP  SP  SP  SP  H   H   H   H  ]\n",
        " [H   H   H   SP  SP  H   H   H   H   H  ]\n",
        " [Dh  Dh  Dh  Dh  Dh  Dh  Dh  Dh  H   H  ]\n",
        " [SP  SP  SP  SP  SP  H   H   H   H   H  ]\n",
        " [SP  SP  SP  SP  SP  SP  H   H   H   H  ]\n",
        " [SP  SP  SP  SP  SP  SP  SP  SP  SP  SP ]\n",
        " [SP  SP  SP  SP  SP  S   SP  SP  S   S  ]\n",
        " [S   S   S   S   S   S   S   S   S   S  ]\n",
        " [SP  SP  SP  SP  SP  SP  SP  SP  SP  SP ]]\"\"\",\n",
        "]"
      ],
      "metadata": {
        "id": "ptjTlqAvc-zY",
        "cellView": "form"
      },
      "execution_count": 27,
      "outputs": []
    },
    {
      "cell_type": "markdown",
      "source": [
        "## Table of actions for basic strategy\n",
        "\n",
        "In blackjack, **basic strategy** refers to using some optimal-action tables based on the dealer's upcard, the total of the player cards, and whether the player total is hard or soft.  The basic strategy does not consider the particular card values that contribute to the player total."
      ],
      "metadata": {
        "id": "f5M4TSpQdHKl"
      }
    },
    {
      "cell_type": "markdown",
      "source": [
        "### Dealer hits on soft 17 (unfavorable)\n",
        "\n",
        "Here we use the default of 6 decks.  The optimal actions exactly match those in the *basic strategy* tables shown in [Wikipedia](https://en.wikipedia.org/wiki/Blackjack#Basic_strategy)."
      ],
      "metadata": {
        "id": "mAyd67f9doad"
      }
    },
    {
      "cell_type": "code",
      "source": [
        "show_action_tables_for_basic_strategy(Rules())\n",
        "verify_action_tables(Rules(), expected=TEST_BASIC_STRATEGY_ACTION_H17)"
      ],
      "metadata": {
        "colab": {
          "base_uri": "https://localhost:8080/",
          "height": 518
        },
        "id": "xDdBMVTebHQu",
        "outputId": "cc8e852f-0b4f-43b6-e1bb-539590e2b727"
      },
      "execution_count": 28,
      "outputs": [
        {
          "output_type": "stream",
          "name": "stdout",
          "text": [
            "Rules()\n",
            "Legend: (S)stand, (H)hit, (D)double, (SP)split, (U)surrender; (Xy) means do X if allowed else Y.\n"
          ]
        },
        {
          "output_type": "display_data",
          "data": {
            "image/png": "[encoded data removed]",
            "text/plain": [
              "<Figure size 864x576 with 3 Axes>"
            ]
          },
          "metadata": {
            "needs_background": "light"
          }
        }
      ]
    },
    {
      "cell_type": "markdown",
      "source": [
        "### Dealer stands on soft 17 (favorable)\n",
        "\n",
        "We now consider the case where the dealer must **stand on a soft 17**, still with the default of 6 decks.  This results in the optimal actions changing for **6 cells**, in agreement with the description in [Wikipedia](https://en.wikipedia.org/wiki/Blackjack#Basic_strategy):\n",
        "\n",
        "\"only 6 cells are changed: hit on 11 vs. A, hit on 15 vs. A, stand on 17 vs. A, stand on A,7 vs. 2, stand on A,8 vs. 6, and split on 8,8 vs. A\"."
      ],
      "metadata": {
        "id": "u8r9NqhRdr4S"
      }
    },
    {
      "cell_type": "code",
      "source": [
        "show_action_tables_for_basic_strategy(Rules(stand_soft17=True))\n",
        "verify_action_tables(\n",
        "    Rules(stand_soft17=True), expected=TEST_BASIC_STRATEGY_ACTION_S17)"
      ],
      "metadata": {
        "colab": {
          "base_uri": "https://localhost:8080/",
          "height": 521
        },
        "id": "x5quSHAGY6Q-",
        "outputId": "b5e12c4f-35f2-4387-e73f-0160c065a1a5"
      },
      "execution_count": 29,
      "outputs": [
        {
          "output_type": "stream",
          "name": "stdout",
          "text": [
            "Rules(stand_soft17=True)\n",
            "Legend: (S)stand, (H)hit, (D)double, (SP)split, (U)surrender; (Xy) means do X if allowed else Y.\n"
          ]
        },
        {
          "output_type": "display_data",
          "data": {
            "image/png": "[encoded data removed]",
            "text/plain": [
              "<Figure size 864x576 with 3 Axes>"
            ]
          },
          "metadata": {
            "needs_background": "light"
          }
        }
      ]
    },
    {
      "cell_type": "code",
      "source": [
        "check_eq([np.argwhere(table1 != table2).tolist() for table1, table2 in zip(\n",
        "    action_tables_for_basic_strategy(Rules()),\n",
        "    action_tables_for_basic_strategy(Rules(stand_soft17=True)))],\n",
        "    [[[6, 9], [10, 9], [12, 9]], [[5, 0], [6, 4]], [[6, 9]]])"
      ],
      "metadata": {
        "id": "P2VBY1eOrOHz"
      },
      "execution_count": 30,
      "outputs": []
    },
    {
      "cell_type": "markdown",
      "source": [
        "### Varying the number of decks\n",
        "\n",
        "The basic strategy varies with the number of decks, because the probability of drawing 10s or Aces changes slightly after the 3 dealt cards.\n",
        "\n",
        "- The same actions computed above for 6 decks are also optimal across 4 to 8 decks, as documented in Wikipedia:"
      ],
      "metadata": {
        "id": "ABUoQ8oktmnk"
      }
    },
    {
      "cell_type": "code",
      "source": [
        "verify_action_tables(\n",
        "    Rules(num_decks=4), expected=TEST_BASIC_STRATEGY_ACTION_H17)\n",
        "verify_action_tables(\n",
        "    Rules(num_decks=8), expected=TEST_BASIC_STRATEGY_ACTION_H17)"
      ],
      "metadata": {
        "id": "ukrmSFR2dn8z"
      },
      "execution_count": 31,
      "outputs": []
    },
    {
      "cell_type": "markdown",
      "source": [
        "- If using a single deck, many optimal actions change.\n",
        "In fact, 14 (5 + 4 + 2) table cells differ:"
      ],
      "metadata": {
        "id": "RXuOeYiwgAW3"
      }
    },
    {
      "cell_type": "code",
      "source": [
        "show_action_tables_for_basic_strategy(Rules(num_decks=1))"
      ],
      "metadata": {
        "id": "0DvO7a_ichbm",
        "colab": {
          "base_uri": "https://localhost:8080/",
          "height": 521
        },
        "outputId": "0ee5a027-463e-4fdb-cf2b-d9203df242d3"
      },
      "execution_count": 32,
      "outputs": [
        {
          "output_type": "stream",
          "name": "stdout",
          "text": [
            "Rules(num_decks=1)\n",
            "Legend: (S)stand, (H)hit, (D)double, (SP)split, (U)surrender; (Xy) means do X if allowed else Y.\n"
          ]
        },
        {
          "output_type": "display_data",
          "data": {
            "image/png": "[encoded data removed]",
            "text/plain": [
              "<Figure size 864x576 with 3 Axes>"
            ]
          },
          "metadata": {
            "needs_background": "light"
          }
        }
      ]
    },
    {
      "cell_type": "code",
      "source": [
        "check_eq([np.count_nonzero(table1 != table2) for table1, table2 in zip(\n",
        "    action_tables_for_basic_strategy(Rules(num_decks=6)),\n",
        "    action_tables_for_basic_strategy(Rules(num_decks=1)))],\n",
        "    [5, 4, 3])"
      ],
      "metadata": {
        "id": "iNyu-HcPpOJX"
      },
      "execution_count": 33,
      "outputs": []
    },
    {
      "cell_type": "markdown",
      "source": [
        "- When moving from 4-8 decks to an infinite shoe, a single cell changes: 'soft13 vs 5' changes from `Dh` to `H`:"
      ],
      "metadata": {
        "id": "8BMWgan2gk5N"
      }
    },
    {
      "cell_type": "code",
      "source": [
        "if 0:\n",
        "  show_action_tables_for_basic_strategy(Rules(num_decks=math.inf))\n",
        "\n",
        "check_eq([np.argwhere(table1 != table2).tolist() for table1, table2 in zip(\n",
        "    action_tables_for_basic_strategy(Rules()),\n",
        "    action_tables_for_basic_strategy(Rules(num_decks=math.inf)))],\n",
        "    [[], [[0, 3]], []])\n",
        "check_eq(action_tables_for_basic_strategy(Rules())[1][0, 3], 'Dh')\n",
        "check_eq(action_tables_for_basic_strategy(Rules(num_decks=math.inf))[1][0, 3],\n",
        "         'H')"
      ],
      "metadata": {
        "id": "KOEA0Ox6fUy_"
      },
      "execution_count": 34,
      "outputs": []
    },
    {
      "cell_type": "markdown",
      "source": [
        "## Composition-dependent strategy\n",
        "\n",
        "For a small number of decks, it is slightly beneficial to consider the\n",
        "individual card values `(card1, card2)`\n",
        "rather than `(player_total, player_soft)` to determine the best action.\n",
        "\n",
        "From Wikipedia: \"For example, players should ordinarily stand when holding 12 against a dealer 4. But in a single deck game, players should hit if their 12 consists of a 10 and a 2.\""
      ],
      "metadata": {
        "id": "F3LOUO1uvlHD"
      }
    },
    {
      "cell_type": "code",
      "source": [
        "def show_differences_using_composition_dependent_strategy(rules: Rules):\n",
        "  \"\"\"Finds the card values where a composition-dependent strategy has\n",
        "  optimal actions that differ from the basic strategy.\"\"\"\n",
        "  for index, num_decks in enumerate([6, 4, 2, 1]):\n",
        "    new_rules = dataclasses.replace(rules, num_decks=num_decks)\n",
        "    newline = '\\n' if index > 0 else ''\n",
        "    print(f'{newline}* For num_decks={num_decks}:')\n",
        "    print('  card1  card2  dealer_up  basic_strategy  composition_dependent')\n",
        "    bs_strategy = Strategy()\n",
        "    cd_strategy = Strategy(composition_dependent=True)\n",
        "    for card1 in range(2, 12):\n",
        "      for card2 in range(card1, 12):  # Ignore (redundant) card2 < card1.\n",
        "        for dealer_upcard in range(2, 12):\n",
        "          bs_action = best_reward_and_action(\n",
        "            card1, card2, None, None, dealer_upcard, new_rules, bs_strategy)[1]\n",
        "          cd_action = best_reward_and_action(\n",
        "            card1, card2, None, None, dealer_upcard, new_rules, cd_strategy)[1]\n",
        "          if bs_action != cd_action:\n",
        "            print(f'   {card1:2} {card2:6} {dealer_upcard:8}'\n",
        "                  f'        {bs_action:^9}         {cd_action:^9}')\n",
        "\n",
        "\n",
        "show_differences_using_composition_dependent_strategy(Rules())"
      ],
      "metadata": {
        "id": "Ar-UQ9pRum7X",
        "colab": {
          "base_uri": "https://localhost:8080/"
        },
        "outputId": "567d3fc5-f04c-4444-d5c3-e55607de33cb"
      },
      "execution_count": 35,
      "outputs": [
        {
          "output_type": "stream",
          "name": "stdout",
          "text": [
            "* For num_decks=6:\n",
            "  card1  card2  dealer_up  basic_strategy  composition_dependent\n",
            "    7      8       10        surrender            hit   \n",
            "\n",
            "* For num_decks=4:\n",
            "  card1  card2  dealer_up  basic_strategy  composition_dependent\n",
            "    7      8       10        surrender            hit   \n",
            "\n",
            "* For num_decks=2:\n",
            "  card1  card2  dealer_up  basic_strategy  composition_dependent\n",
            "    4      8        3           hit              stand  \n",
            "    5      7        3           hit              stand  \n",
            "    6      6        7           hit              split  \n",
            "    7      7        8           hit              split  \n",
            "    7      8       10        surrender            hit   \n",
            "    7      8       11        surrender            hit   \n",
            "\n",
            "* For num_decks=1:\n",
            "  card1  card2  dealer_up  basic_strategy  composition_dependent\n",
            "    2      6        6         double              hit   \n",
            "    2     10        4          stand              hit   \n",
            "    3      9        3           hit              stand  \n",
            "    3     10        2          stand              hit   \n",
            "    4      4        4          split              hit   \n",
            "    4      8        3           hit              stand  \n",
            "    5      7        2           hit              stand  \n",
            "    5      7        3           hit              stand  \n",
            "    6      9       10           hit            surrender\n",
            "    7      7        8           hit              split  \n",
            "    7      7       10           hit            surrender\n",
            "    7      7       11           hit            surrender\n",
            "    7      8       11        surrender            hit   \n",
            "    8      9       11        surrender           stand  \n"
          ]
        }
      ]
    },
    {
      "cell_type": "markdown",
      "source": [
        "## House edge\n",
        "\n",
        "The \"house edge\" is the fraction of the action lost over\n",
        "the long run.  Thus it is the negative of the expected reward.\n",
        "\n",
        "Wikipedia: \"Most blackjack games have a house edge of between 0.5% and 1%\"."
      ],
      "metadata": {
        "id": "wMz7akm0dXxb"
      }
    },
    {
      "cell_type": "code",
      "source": [
        "def house_edge(rules: Rules, *, strategy: Strategy = Strategy()) -> float:\n",
        "  \"\"\"Returns the 'house edge', which is the expected player loss (as a fraction\n",
        "  of the initial bet).  It is the negative of the average reward.\"\"\"\n",
        "  sum_reward = 0.0\n",
        "  recent_cards0 = ()\n",
        "  # Compute the expected reward over all possible 3 dealt cards.\n",
        "  for card1, prob1 in card_probabilities(recent_cards0, rules).items():\n",
        "    recent_cards1 = () if rules.num_decks == math.inf else (card1,)\n",
        "    for card2, prob2 in card_probabilities(recent_cards1, rules).items():\n",
        "      recent_cards2 = (() if rules.num_decks == math.inf\n",
        "                       else tuple(sorted([card1, card2])))\n",
        "      for dealer_upcard, prob3 in card_probabilities(\n",
        "          recent_cards2, rules).items():\n",
        "        prob = prob1 * prob2 * prob3\n",
        "        best_action = best_reward_and_action(\n",
        "            card1, card2, None, None, dealer_upcard, rules, strategy)[1]\n",
        "        reward = reward_for_initial_action(\n",
        "            card1, card2, dealer_upcard, rules, strategy, best_action)\n",
        "        sum_reward += prob * reward\n",
        "\n",
        "  return -sum_reward"
      ],
      "metadata": {
        "id": "A4IqbKniQdBV"
      },
      "execution_count": 36,
      "outputs": []
    },
    {
      "cell_type": "code",
      "source": [
        "def report_house_edge(rules: Rules, strategy: Strategy = Strategy(),\n",
        "                      expected: Optional[float] = None):\n",
        "  \"\"\"Prints the house edge and optionally compares it with an expected value.\"\"\"\n",
        "  print(rules, strategy)\n",
        "  house_edge_percent = house_edge(rules, strategy=strategy) * 100\n",
        "  print(f'House edge: {house_edge_percent:.3f}%')\n",
        "  if expected is not None:\n",
        "    assert abs(house_edge_percent - expected) < 0.02, house_edge_percent"
      ],
      "metadata": {
        "id": "pUgGo1RPncTS"
      },
      "execution_count": 37,
      "outputs": []
    },
    {
      "cell_type": "markdown",
      "source": [
        "### Common casino rules\n",
        "\n",
        "The default in `Rules` is that the dealer hits on a soft 17."
      ],
      "metadata": {
        "id": "nfzuxTL64BE5"
      }
    },
    {
      "cell_type": "code",
      "source": [
        "report_house_edge(Rules(), expected=0.528)"
      ],
      "metadata": {
        "colab": {
          "base_uri": "https://localhost:8080/"
        },
        "id": "I3Sd0pcujqrt",
        "outputId": "e87507bd-2919-4a5d-b897-f436c726c097"
      },
      "execution_count": 38,
      "outputs": [
        {
          "output_type": "stream",
          "name": "stdout",
          "text": [
            "Rules() Strategy()\n",
            "House edge: 0.528%\n"
          ]
        }
      ]
    },
    {
      "cell_type": "markdown",
      "source": [
        "Some low house edges from https://wizardofvegas.com/guides/blackjack-survey/\n",
        "include:\n",
        "\n",
        "- Caesars Palace Casino; 0.26%; 6 decks; \"s17,ds,ls,rsa\"\n",
        "- Cosmopolitan Casino;   0.28%; 8 decks; \"s17,ds,ls,rsa\":\n",
        "\n",
        "The results computed here (0.260% and 0.281%) are a precise match:"
      ],
      "metadata": {
        "id": "PwpMZIlzuYqv"
      }
    },
    {
      "cell_type": "code",
      "source": [
        "report_house_edge(Rules(num_decks=6, stand_soft17=True, resplit_aces=True),\n",
        "                  expected=0.26)\n",
        "report_house_edge(Rules(num_decks=8, stand_soft17=True, resplit_aces=True),\n",
        "                  expected=0.28)"
      ],
      "metadata": {
        "colab": {
          "base_uri": "https://localhost:8080/"
        },
        "id": "ci0WKqCqj4Xk",
        "outputId": "758006e4-cd3f-4711-e36c-5c56bb3860e9"
      },
      "execution_count": 39,
      "outputs": [
        {
          "output_type": "stream",
          "name": "stdout",
          "text": [
            "Rules(stand_soft17=True, resplit_aces=True) Strategy()\n",
            "House edge: 0.260%\n",
            "Rules(num_decks=8, stand_soft17=True, resplit_aces=True) Strategy()\n",
            "House edge: 0.281%\n"
          ]
        }
      ]
    },
    {
      "cell_type": "markdown",
      "source": [
        "A larger house edge is:\n",
        "- Mirage Casino; 0.49%; 8 decks; \"h17,ds,ls,rsa\":\n",
        "\n",
        "The result computed here (0.481%) is a close match:"
      ],
      "metadata": {
        "id": "LFIAnX8yuqZY"
      }
    },
    {
      "cell_type": "code",
      "source": [
        "report_house_edge(Rules(num_decks=8, stand_soft17=False, resplit_aces=True),\n",
        "                  expected=0.48)"
      ],
      "metadata": {
        "colab": {
          "base_uri": "https://localhost:8080/"
        },
        "id": "5oDGDgLEe7ym",
        "outputId": "c2d6706a-3845-40bc-b25d-1c160a98f0bf"
      },
      "execution_count": 40,
      "outputs": [
        {
          "output_type": "stream",
          "name": "stdout",
          "text": [
            "Rules(num_decks=8, resplit_aces=True) Strategy()\n",
            "House edge: 0.481%\n"
          ]
        }
      ]
    },
    {
      "cell_type": "markdown",
      "source": [
        "### Extreme rules and strategies\n",
        "\n",
        "Here we consider the best rules and strategies (i.e., most favorable to the player), as well as the worst ones.\n",
        "\n",
        "In the rosiest scenario (not offered in any casino), the player would only gain 0.4% of the initial bet,\n",
        "on average.\n",
        "\n",
        "With the most house-friendly rules and restricting the player actions to just `{'hit', 'stand'}`, the house edge increases to about 5%.\n",
        "Realistically, an average player may not carefully follow the basic strategy and therefore might do even worse."
      ],
      "metadata": {
        "id": "Z_RXYqwbJl06"
      }
    },
    {
      "cell_type": "code",
      "source": [
        "BEST_RULES = Rules(\n",
        "    num_decks=1, split_to_num_hands=math.inf, resplit_aces=True,\n",
        "    hit_split_aces=True, double_split_aces=True, double_after_hit=True)\n",
        "WORST_RULES = Rules(\n",
        "    num_decks=math.inf, blackjack_payout=1, stand_soft17=True, obo=False,\n",
        "    double_min_total=10, double_after_split=False, late_surrender=False,\n",
        "    split_to_num_hands=2)"
      ],
      "metadata": {
        "id": "K1Bfw7SRIuXX"
      },
      "execution_count": 41,
      "outputs": []
    },
    {
      "cell_type": "code",
      "source": [
        "BEST_STRATEGY = Strategy(composition_dependent=True)\n",
        "WORST_STRATEGY = Strategy(actions=frozenset({'stand', 'hit'}))"
      ],
      "metadata": {
        "id": "Yn3f15BCJRkf"
      },
      "execution_count": 42,
      "outputs": []
    },
    {
      "cell_type": "code",
      "source": [
        "report_house_edge(BEST_RULES, strategy=BEST_STRATEGY, expected=-0.42)\n",
        "report_house_edge(WORST_RULES, strategy=WORST_STRATEGY, expected=4.68)"
      ],
      "metadata": {
        "colab": {
          "base_uri": "https://localhost:8080/"
        },
        "id": "mu_vqrNnJuy3",
        "outputId": "fc5a2f35-0d9d-4223-d88a-9c8d5668a04d"
      },
      "execution_count": 43,
      "outputs": [
        {
          "output_type": "stream",
          "name": "stdout",
          "text": [
            "Rules(num_decks=1, split_to_num_hands=inf, resplit_aces=True, hit_split_aces=True, double_split_aces=True, double_after_hit=True) Strategy(composition_dependent=True)\n",
            "House edge: -0.419%\n",
            "Rules(num_decks=inf, blackjack_payout=1, stand_soft17=True, obo=False, double_min_total=10, double_after_split=False, late_surrender=False, split_to_num_hands=2) Strategy(actions=frozenset({'hit', 'stand'}))\n",
            "House edge: 4.676%\n"
          ]
        }
      ]
    },
    {
      "cell_type": "markdown",
      "source": [
        "### Dependence on number of decks"
      ],
      "metadata": {
        "id": "a_cu_Nre47-W"
      }
    },
    {
      "cell_type": "code",
      "source": [
        "def analyze_number_of_decks(rules: Rules, **kwargs: Any):\n",
        "  \"\"\"Tabulates the house edge as a function of the number of decks.\"\"\"\n",
        "  print(rules)\n",
        "  print('Number of decks     House edge %')\n",
        "  for num_decks in [1, 2, 4, 6, 8, 20, math.inf]:\n",
        "    new_rules = dataclasses.replace(rules, num_decks=num_decks)\n",
        "    edge = house_edge(new_rules, **kwargs)\n",
        "    print(f'{num_decks:8}{edge*100: 20.3f}')"
      ],
      "metadata": {
        "id": "_Hxvili24_d4"
      },
      "execution_count": 44,
      "outputs": []
    },
    {
      "cell_type": "markdown",
      "source": [
        "Wikipedia gives house edge results for various numbers of decks (given the rules\n",
        "\"double after split allowed, resplit to four hands allowed, no hitting split aces, no surrender,\n",
        "double on any two cards, original bets only lost on dealer blackjack, dealer hits soft 17, and cut-card used\"):\n",
        "\n",
        "| Number of decks | House edge % |\n",
        "|:---:|:---:|\n",
        "| 1 | 0.17% |\n",
        "| 2 | 0.46% |\n",
        "| 4 | 0.60% |\n",
        "| 6 | 0.64% |\n",
        "| 8 | 0.66% |\n",
        "\n",
        "We obtain results with a similar pattern showing that the house edge is much diminished when the number of decks is reduced to 1.\n",
        "The numbers are slightly off (why?).\n",
        "\n",
        "It is surprising that 8 decks is still quite different from an infinite shoe:"
      ],
      "metadata": {
        "id": "xjsM4NdJvKe_"
      }
    },
    {
      "cell_type": "code",
      "source": [
        "print(repr(Rules(late_surrender=False)))\n",
        "analyze_number_of_decks(Rules(late_surrender=False))"
      ],
      "metadata": {
        "colab": {
          "base_uri": "https://localhost:8080/"
        },
        "id": "mrEY0uO6DYR1",
        "outputId": "f617111a-6156-425b-90ea-8524d64a2c2b"
      },
      "execution_count": 45,
      "outputs": [
        {
          "output_type": "stream",
          "name": "stdout",
          "text": [
            "Rules(num_decks=6, blackjack_payout=1.5, stand_soft17=False, obo=True, double_min_total=0, double_after_split=True, late_surrender=False, split_to_num_hands=4, resplit_aces=False, hit_split_aces=False, double_split_aces=False, double_after_hit=False)\n",
            "Rules(late_surrender=False)\n",
            "Number of decks     House edge %\n",
            "       1               0.025\n",
            "       2               0.383\n",
            "       4               0.557\n",
            "       6               0.615\n",
            "       8               0.644\n",
            "      20               0.695\n",
            "     inf               0.729\n"
          ]
        }
      ]
    },
    {
      "cell_type": "markdown",
      "source": [
        "With a single deck (and the default `late_surrender=True`), \n",
        "the house edge happens to lie very close to zero:"
      ],
      "metadata": {
        "id": "LqLkbq7dwdpP"
      }
    },
    {
      "cell_type": "code",
      "source": [
        "report_house_edge(Rules(num_decks=1), expected=0.0)"
      ],
      "metadata": {
        "colab": {
          "base_uri": "https://localhost:8080/"
        },
        "id": "gJp4KZAvsMzi",
        "outputId": "6b320ee6-93eb-497c-b1a0-a94fc39296b8"
      },
      "execution_count": 46,
      "outputs": [
        {
          "output_type": "stream",
          "name": "stdout",
          "text": [
            "Rules(num_decks=1) Strategy()\n",
            "House edge: 0.002%\n"
          ]
        }
      ]
    },
    {
      "cell_type": "markdown",
      "source": [
        "With a single deck and the rule \"dealer stands on soft17\", the house edge is negative:"
      ],
      "metadata": {
        "id": "3apm86eSr-XU"
      }
    },
    {
      "cell_type": "code",
      "source": [
        "report_house_edge(Rules(num_decks=1, stand_soft17=True), expected=-0.18)"
      ],
      "metadata": {
        "colab": {
          "base_uri": "https://localhost:8080/"
        },
        "id": "4JN7RWl0b8ZV",
        "outputId": "894fa0d9-fc03-491c-a8a8-18b2ed254ff0"
      },
      "execution_count": 47,
      "outputs": [
        {
          "output_type": "stream",
          "name": "stdout",
          "text": [
            "Rules(num_decks=1, stand_soft17=True) Strategy()\n",
            "House edge: -0.177%\n"
          ]
        }
      ]
    },
    {
      "cell_type": "markdown",
      "source": [
        "### Subset of player actions"
      ],
      "metadata": {
        "id": "Un_hdzQG4brC"
      }
    },
    {
      "cell_type": "code",
      "source": [
        "def analyze_subset_of_player_actions(rules: Rules):\n",
        "  \"\"\"Tabulates the house edge as a function of the subset of player actions.\"\"\"\n",
        "  print(rules)\n",
        "  print('Subset of player actions        House edge %')\n",
        "  for actions in [ACTIONS,\n",
        "                  {'stand', 'hit', 'double', 'split'},\n",
        "                  {'stand', 'hit', 'double'},\n",
        "                  {'stand', 'hit', 'split'},\n",
        "                  {'stand', 'hit'}]:\n",
        "    edge = house_edge(rules, strategy=Strategy(actions=frozenset(actions)))\n",
        "    name = ('default' if actions == ACTIONS\n",
        "            else f'only {\"/\".join(sorted(actions))}')\n",
        "    print(f' {name:32} {edge*100: .3f}')"
      ],
      "metadata": {
        "id": "SHUGKZNv4alZ"
      },
      "execution_count": 48,
      "outputs": []
    },
    {
      "cell_type": "markdown",
      "source": [
        "We see that omitting the \"surrender\" action only increases the house edge by about 0.09%.\n",
        "\n",
        "In contrast, omitting either the \"double\" or \"split\" actions significantly increases the house edge.\n",
        "\n",
        "Restricting the strategy to only making the binary \"stand or hit\" decision boosts the house edge to more than 2.5% :"
      ],
      "metadata": {
        "id": "RGvaSHxPwrSF"
      }
    },
    {
      "cell_type": "code",
      "source": [
        "analyze_subset_of_player_actions(Rules())"
      ],
      "metadata": {
        "colab": {
          "base_uri": "https://localhost:8080/"
        },
        "id": "Bpad4cS_4trI",
        "outputId": "4a5f7f52-5e90-43bb-c837-88f52ae04e6a"
      },
      "execution_count": 49,
      "outputs": [
        {
          "output_type": "stream",
          "name": "stdout",
          "text": [
            "Rules()\n",
            "Subset of player actions        House edge %\n",
            " default                           0.528\n",
            " only double/hit/split/stand       0.615\n",
            " only double/hit/stand             1.177\n",
            " only hit/split/stand              2.137\n",
            " only hit/stand                    2.557\n"
          ]
        }
      ]
    },
    {
      "cell_type": "markdown",
      "source": [
        "### Rule variations"
      ],
      "metadata": {
        "id": "usYnJbhhkfQ8"
      }
    },
    {
      "cell_type": "code",
      "source": [
        "def analyze_rule_variations(rules: Rules):\n",
        "  \"\"\"Computes the effect of rule variations on the house edge.\"\"\"\n",
        "  print(rules)\n",
        "  print(f'Default house edge: {house_edge(rules)*100:.3f}%')\n",
        "  print('Rule variation                  Edge change   Wikipedia')\n",
        "  edge0 = house_edge(rules)\n",
        "\n",
        "  def f(name: str, expected: str = '', **variation: Any):\n",
        "    \"\"\"Considers a particular rule variation.\"\"\"\n",
        "    modified_rules = dataclasses.replace(rules, **variation)\n",
        "    edge = house_edge(modified_rules)\n",
        "    edge_change_in_percent = (edge - edge0) * 100\n",
        "    s_expected = f'      {expected}' if expected else ''\n",
        "    print(f' {name:32} {edge_change_in_percent:+.3f}  {s_expected}')\n",
        "\n",
        "  # Casino promotions such as 2:1 bj allow the player to acquire an advantage.\n",
        "  f('blackjack payout 2/1', blackjack_payout=2/1)\n",
        "\n",
        "  # \"the 6:5 game adds 1.4% to the house edge\"\n",
        "  f('blackjack payout 6/5', blackjack_payout=6/5, expected='+1.4')\n",
        "\n",
        "  # \"the 1:1 game increases the house edge by 2.3%\"\n",
        "  f('blackjack payout 1/1', blackjack_payout=1/1, expected='+2.3')\n",
        "\n",
        "  # \"decreases the house edge by about 0.2%\"\n",
        "  f('dealer stands soft 17', stand_soft17=True, expected='-0.2')\n",
        "\n",
        "  # \"The no hole card rule adds approximately 0.11% to the house edge.\"\n",
        "  f('no hole card (no OBO)', obo=False, expected='+0.11')\n",
        "\n",
        "  # \"Reno rule increases the house edge by around 0.1%\"\n",
        "  f('min 9 for double (Reno)', double_min_total=9, expected='+0.1')\n",
        "\n",
        "  # \"European version increases the house edge by around 0.2%\"\n",
        "  f('min 10 for double (European)', double_min_total=10, expected='+0.2')\n",
        "\n",
        "  # \"Disallowing doubling after a split increases the house edge by about 0.12%\"\n",
        "  f('no double after split', double_after_split=False, expected='+0.12')\n",
        "\n",
        "  # Surrender disallowed.  (We never allow \"early surrender\".)\n",
        "  f('no surrender', late_surrender=False)\n",
        "\n",
        "  # Splits are never allowed.\n",
        "  f('no splitting', split_to_num_hands=0)\n",
        "\n",
        "  # No more than one split allowed.\n",
        "  f('no resplitting', split_to_num_hands=2)\n",
        "\n",
        "  # No more than two splits allowed.\n",
        "  f('resplit only to 3 hands', split_to_num_hands=3)\n",
        "\n",
        "  # Any number of splits allowed.\n",
        "  f('unlimited resplit', split_to_num_hands=math.inf)\n",
        "\n",
        "  # \"allowing resplitting of aces reduces house edge by about 0.03%\"\n",
        "  f('resplit aces', resplit_aces=True, expected='-0.03')\n",
        "\n",
        "  # \"hit hands resulting from split aces reduces the house edge by about 0.13%\"\n",
        "  f('hit after split aces', hit_split_aces=True, expected='-0.13')\n",
        "\n",
        "  #\n",
        "  f('double after split aces', double_split_aces=True)\n",
        "\n",
        "  # Doubles are usually allowed only as initial action or sometimes after split.\n",
        "  f('double after hit', double_after_hit=True)"
      ],
      "metadata": {
        "id": "kDFKJlpQTyoO"
      },
      "execution_count": 50,
      "outputs": []
    },
    {
      "cell_type": "markdown",
      "source": [
        "The effects for most rule variations agree well with those in Wikipedia,\n",
        "except for two (`resplit_aces=True` and `hit_split_aces=True`) (why?)."
      ],
      "metadata": {
        "id": "kae4i-VKRjUe"
      }
    },
    {
      "cell_type": "code",
      "source": [
        "analyze_rule_variations(Rules())"
      ],
      "metadata": {
        "colab": {
          "base_uri": "https://localhost:8080/"
        },
        "id": "bMdt3ubhhprK",
        "outputId": "d234b614-b3ca-44c6-b2cb-00298be5947a"
      },
      "execution_count": 51,
      "outputs": [
        {
          "output_type": "stream",
          "name": "stdout",
          "text": [
            "Rules()\n",
            "Default house edge: 0.528%\n",
            "Rule variation                  Edge change   Wikipedia\n",
            " blackjack payout 2/1             -2.266  \n",
            " blackjack payout 6/5             +1.360        +1.4\n",
            " blackjack payout 1/1             +2.266        +2.3\n",
            " dealer stands soft 17            -0.198        -0.2\n",
            " no hole card (no OBO)            +0.105        +0.11\n",
            " min 9 for double (Reno)          +0.105        +0.1\n",
            " min 10 for double (European)     +0.199        +0.2\n",
            " no double after split            +0.142        +0.12\n",
            " no surrender                     +0.087  \n",
            " no splitting                     +0.555  \n",
            " no resplitting                   +0.054  \n",
            " resplit only to 3 hands          +0.001  \n",
            " unlimited resplit                -0.000  \n",
            " resplit aces                     -0.070        -0.03\n",
            " hit after split aces             -0.178        -0.13\n",
            " double after split aces          -0.079  \n",
            " double after hit                 -0.226  \n"
          ]
        }
      ]
    },
    {
      "cell_type": "markdown",
      "source": [
        "When disallowing resplitting, the effect of \"no double after split\" (0.12%) exactly matches that reported in Wikipedia, so perhaps this was the context of that reported number:"
      ],
      "metadata": {
        "id": "HPNq7mNTUctb"
      }
    },
    {
      "cell_type": "code",
      "source": [
        "analyze_rule_variations(Rules(split_to_num_hands=2))"
      ],
      "metadata": {
        "colab": {
          "base_uri": "https://localhost:8080/"
        },
        "id": "biGk17Lnxa9S",
        "outputId": "501b7b02-1242-4a0c-f879-ef9538af5121"
      },
      "execution_count": 52,
      "outputs": [
        {
          "output_type": "stream",
          "name": "stdout",
          "text": [
            "Rules(split_to_num_hands=2)\n",
            "Default house edge: 0.582%\n",
            "Rule variation                  Edge change   Wikipedia\n",
            " blackjack payout 2/1             -2.266  \n",
            " blackjack payout 6/5             +1.360        +1.4\n",
            " blackjack payout 1/1             +2.266        +2.3\n",
            " dealer stands soft 17            -0.197        -0.2\n",
            " no hole card (no OBO)            +0.103        +0.11\n",
            " min 9 for double (Reno)          +0.104        +0.1\n",
            " min 10 for double (European)     +0.197        +0.2\n",
            " no double after split            +0.122        +0.12\n",
            " no surrender                     +0.087  \n",
            " no splitting                     +0.501  \n",
            " no resplitting                   +0.000  \n",
            " resplit only to 3 hands          -0.053  \n",
            " unlimited resplit                -0.054  \n",
            " resplit aces                     +0.000        -0.03\n",
            " hit after split aces             -0.178        -0.13\n",
            " double after split aces          -0.079  \n",
            " double after hit                 -0.227  \n"
          ]
        }
      ]
    },
    {
      "cell_type": "markdown",
      "source": [
        "### Composition-dependent strategy"
      ],
      "metadata": {
        "id": "DsZSK-PD2zNy"
      }
    },
    {
      "cell_type": "code",
      "source": [
        "def analyze_composition_dependent_strategy_with_number_of_decks(rules: Rules):\n",
        "  \"\"\"Shows it reduces the house edge slightly with a small number of decks.\"\"\"\n",
        "  print(f'House edge % using {rules}:')\n",
        "  print(' Number of decks   Basic strategy   Composition-dependent   Change')\n",
        "  for num_decks in [1, 2, 4, 6, math.inf]:\n",
        "    modified_rules = dataclasses.replace(rules, num_decks=num_decks)\n",
        "    basic_strategy_house_edge = house_edge(modified_rules, strategy=Strategy())\n",
        "    composition_dependent_house_edge = house_edge(\n",
        "        modified_rules, strategy=Strategy(composition_dependent=True))\n",
        "    change = composition_dependent_house_edge - basic_strategy_house_edge\n",
        "    print(f'{num_decks:8} {basic_strategy_house_edge*100:20.3f}'\n",
        "          f' {composition_dependent_house_edge*100:18.3f} {change*100:17.4f}')"
      ],
      "metadata": {
        "id": "E19oJ7o392YG"
      },
      "execution_count": 53,
      "outputs": []
    },
    {
      "cell_type": "markdown",
      "source": [
        "From Wikipedia,\n",
        "\"Using a composition-dependent strategy rather than basic strategy in a single deck game reduces the house edge by 4 in 10,000 (0.04%), which falls to 3 in 100,000 (0.003%) for a six-deck game.\"\n",
        "\n",
        "In our results, the single deck game increases the house edge by 0.03% (rather than 0.04%), and the six-deck game increases it by 0.002% rather than 0.003%.\n",
        "It does not match exactly but is very close:"
      ],
      "metadata": {
        "id": "6-c3o8mcx-0j"
      }
    },
    {
      "cell_type": "code",
      "source": [
        "analyze_composition_dependent_strategy_with_number_of_decks(Rules())"
      ],
      "metadata": {
        "colab": {
          "base_uri": "https://localhost:8080/"
        },
        "id": "ykZJG7Wsx6Lk",
        "outputId": "a91fb410-7e32-46c4-a9d5-f51fe0b403b5"
      },
      "execution_count": 54,
      "outputs": [
        {
          "output_type": "stream",
          "name": "stdout",
          "text": [
            "House edge % using Rules():\n",
            " Number of decks   Basic strategy   Composition-dependent   Change\n",
            "       1                0.002             -0.027           -0.0285\n",
            "       2                0.325              0.314           -0.0105\n",
            "       4                0.478              0.475           -0.0033\n",
            "       6                0.528              0.526           -0.0015\n",
            "     inf                0.627              0.627            0.0000\n"
          ]
        }
      ]
    },
    {
      "cell_type": "markdown",
      "source": [
        "Here is a similar comparison when the dealer stands on a soft total of 17:"
      ],
      "metadata": {
        "id": "654bkRYFqMze"
      }
    },
    {
      "cell_type": "code",
      "source": [
        "analyze_composition_dependent_strategy_with_number_of_decks(\n",
        "    Rules(stand_soft17=True))"
      ],
      "metadata": {
        "colab": {
          "base_uri": "https://localhost:8080/"
        },
        "id": "jtME-xoYbvvp",
        "outputId": "c3463c2d-5784-442e-d3ae-67bfea02d9d5"
      },
      "execution_count": 55,
      "outputs": [
        {
          "output_type": "stream",
          "name": "stdout",
          "text": [
            "House edge % using Rules(stand_soft17=True):\n",
            " Number of decks   Basic strategy   Composition-dependent   Change\n",
            "       1               -0.177             -0.208           -0.0307\n",
            "       2                0.137              0.126           -0.0112\n",
            "       4                0.283              0.279           -0.0034\n",
            "       6                0.330              0.328           -0.0015\n",
            "     inf                0.424              0.424            0.0000\n"
          ]
        }
      ]
    },
    {
      "cell_type": "markdown",
      "source": [
        "## Effect of cut-card\n",
        "\n",
        "A cut-card is often added to the shoe (e.g. 0.5 to 2.0 decks from the back), and the shoe is reshuffled after the cut-card is reached.\n",
        "There are\n",
        "[claims](https://www.blackjackincolor.com/blackjackeffects1.htm)\n",
        "that the presence of the cut-card increases the house edge.\n",
        "However, those claims seem unconvincing to me.\n",
        "\n",
        "My reasoning, which closely matches\n",
        "[this discussion](https://wizardofvegas.com/forum/gambling/blackjack/31457-cut-card-effect/),\n",
        "is that if the subset of cards in front of the cut-card has more tens than average, then the dealt hands involve fewer cards and more hands are played\n",
        "using those cards (relative to the case that the cards have fewer tens than average).\n",
        "Because hands with tens are favorable to the player, this should *reduce* the house edge.  This is a mild effect related to \"card counting\" but done implicitly."
      ],
      "metadata": {
        "id": "mXall2WbygjJ"
      }
    },
    {
      "cell_type": "markdown",
      "source": [
        "## End"
      ],
      "metadata": {
        "id": "WHZohFaaGO2c"
      }
    },
    {
      "cell_type": "code",
      "source": [
        "TEST_RULES = Rules(\n",
        "    num_decks=1, blackjack_payout=1, stand_soft17=True, obo=False,\n",
        "    double_min_total=9, double_after_split=False, late_surrender=False,\n",
        "    split_to_num_hands=3, resplit_aces=True, hit_split_aces=True,\n",
        "    double_split_aces=True, double_after_hit=True)"
      ],
      "metadata": {
        "id": "ZteIaBPZJqx2"
      },
      "execution_count": 56,
      "outputs": []
    },
    {
      "cell_type": "code",
      "source": [
        "import IPython\n",
        "import pandas"
      ],
      "metadata": {
        "id": "2tRxyVvPSjyr"
      },
      "execution_count": 57,
      "outputs": []
    },
    {
      "cell_type": "code",
      "source": [
        "def pandas_analyze_number_of_decks(rules: Rules, **kwargs: Any):\n",
        "  \"\"\"Try using pandas to output a table.\"\"\"\n",
        "  print(rules)\n",
        "  table = []\n",
        "  for num_decks in [1, 2, 4, 6, 8, 20, math.inf]:\n",
        "    new_rules = dataclasses.replace(rules, num_decks=num_decks)\n",
        "    edge = house_edge(new_rules, **kwargs)\n",
        "    table.append([num_decks, edge * 100])\n",
        "  df = pandas.DataFrame(table, columns=['Number of decks', 'House edge %'])\n",
        "  if 0:\n",
        "    formatters = {'Number of decks': '{:.0f}'.format,\n",
        "                  'House edge %': '{:.3f}%'.format}\n",
        "    html = df.to_html(index=False, formatters=formatters, justify='center')\n",
        "    # Problem: it only centers the column headers, not the data cells.\n",
        "    IPython.display.display(IPython.display.HTML(html))\n",
        "  else:\n",
        "    styler = df.style.set_properties(**{'text-align': 'center'})\n",
        "    styler.hide_index()  # https://stackoverflow.com/a/40993135\n",
        "    styler.format({'Number of decks': '{:.0f}', 'House edge %': '{:.3f}%'})\n",
        "    IPython.display.display(styler)\n",
        "\n",
        "\n",
        "pandas_analyze_number_of_decks(Rules())"
      ],
      "metadata": {
        "id": "v58Li-AS67g6",
        "colab": {
          "base_uri": "https://localhost:8080/",
          "height": 286
        },
        "outputId": "2e14b79a-84da-478c-e166-0336d800296f"
      },
      "execution_count": 58,
      "outputs": [
        {
          "output_type": "stream",
          "name": "stdout",
          "text": [
            "Rules()\n"
          ]
        },
        {
          "output_type": "display_data",
          "data": {
            "text/html": [
              "<style type=\"text/css\">\n",
              "#T_75071_row0_col0, #T_75071_row0_col1, #T_75071_row1_col0, #T_75071_row1_col1, #T_75071_row2_col0, #T_75071_row2_col1, #T_75071_row3_col0, #T_75071_row3_col1, #T_75071_row4_col0, #T_75071_row4_col1, #T_75071_row5_col0, #T_75071_row5_col1, #T_75071_row6_col0, #T_75071_row6_col1 {\n",
              "  text-align: center;\n",
              "}\n",
              "</style>\n",
              "<table id=\"T_75071_\" class=\"dataframe\">\n",
              "  <thead>\n",
              "    <tr>\n",
              "      <th class=\"col_heading level0 col0\" >Number of decks</th>\n",
              "      <th class=\"col_heading level0 col1\" >House edge %</th>\n",
              "    </tr>\n",
              "  </thead>\n",
              "  <tbody>\n",
              "    <tr>\n",
              "      <td id=\"T_75071_row0_col0\" class=\"data row0 col0\" >1</td>\n",
              "      <td id=\"T_75071_row0_col1\" class=\"data row0 col1\" >0.002%</td>\n",
              "    </tr>\n",
              "    <tr>\n",
              "      <td id=\"T_75071_row1_col0\" class=\"data row1 col0\" >2</td>\n",
              "      <td id=\"T_75071_row1_col1\" class=\"data row1 col1\" >0.325%</td>\n",
              "    </tr>\n",
              "    <tr>\n",
              "      <td id=\"T_75071_row2_col0\" class=\"data row2 col0\" >4</td>\n",
              "      <td id=\"T_75071_row2_col1\" class=\"data row2 col1\" >0.478%</td>\n",
              "    </tr>\n",
              "    <tr>\n",
              "      <td id=\"T_75071_row3_col0\" class=\"data row3 col0\" >6</td>\n",
              "      <td id=\"T_75071_row3_col1\" class=\"data row3 col1\" >0.528%</td>\n",
              "    </tr>\n",
              "    <tr>\n",
              "      <td id=\"T_75071_row4_col0\" class=\"data row4 col0\" >8</td>\n",
              "      <td id=\"T_75071_row4_col1\" class=\"data row4 col1\" >0.553%</td>\n",
              "    </tr>\n",
              "    <tr>\n",
              "      <td id=\"T_75071_row5_col0\" class=\"data row5 col0\" >20</td>\n",
              "      <td id=\"T_75071_row5_col1\" class=\"data row5 col1\" >0.598%</td>\n",
              "    </tr>\n",
              "    <tr>\n",
              "      <td id=\"T_75071_row6_col0\" class=\"data row6 col0\" >inf</td>\n",
              "      <td id=\"T_75071_row6_col1\" class=\"data row6 col1\" >0.627%</td>\n",
              "    </tr>\n",
              "  </tbody>\n",
              "</table>\n"
            ],
            "text/plain": [
              "<pandas.io.formats.style.Styler at 0x7f45c584e5d0>"
            ]
          },
          "metadata": {}
        }
      ]
    }
  ]
}